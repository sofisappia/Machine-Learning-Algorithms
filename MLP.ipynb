{
 "cells": [
  {
   "cell_type": "code",
   "execution_count": 1,
   "metadata": {},
   "outputs": [
    {
     "name": "stderr",
     "output_type": "stream",
     "text": [
      "DEBUG:matplotlib.backends:backend module://ipykernel.pylab.backend_inline version unknown\n"
     ]
    }
   ],
   "source": [
    "import scipy.io as spio\n",
    "\n",
    "from __future__ import division\n",
    "\n",
    "import numpy as np\n",
    "import scipy as sp\n",
    "from matplotlib import pyplot as plt\n",
    "from matplotlib import ticker\n",
    "import matplotlib as mpl\n",
    "from os import path\n",
    "\n",
    "from scipy.io import loadmat\n",
    "\n",
    "from wyrm.types import Data\n",
    "\n",
    "from wyrm import plot\n",
    "#plot.beautify()\n",
    "from wyrm.types import Data\n",
    "from wyrm import processing as proc"
   ]
  },
  {
   "cell_type": "code",
   "execution_count": 67,
   "metadata": {},
   "outputs": [],
   "source": [
    "import pandas as pd\n",
    "from sklearn.preprocessing import normalize"
   ]
  },
  {
   "cell_type": "code",
   "execution_count": 2,
   "metadata": {},
   "outputs": [],
   "source": [
    "TRAIN_A = '../BCI_Comp_III_Wads_2004/data/Subject_A_Train.mat'\n",
    "TRAIN_B = '../BCI_Comp_III_Wads_2004/data/Subject_B_Train.mat'\n",
    "\n",
    "TEST_A = '../BCI_Comp_III_Wads_2004/data/Subject_A_Test.mat'\n",
    "TEST_B = '../BCI_Comp_III_Wads_2004/data/Subject_B_Test.mat'\n",
    "\n",
    "TRUE_LABELS_A = 'WQXPLZCOMRKO97YFZDEZ1DPI9NNVGRQDJCUVRMEUOOOJD2UFYPOO6J7LDGYEGOA5VHNEHBTXOO1TDOILUEE5BFAEEXAW_K4R3MRU'\n",
    "TRUE_LABELS_B = 'MERMIROOMUHJPXJOHUVLEORZP3GLOO7AUFDKEFTWEOOALZOP9ROCGZET1Y19EWX65QUYU7NAK_4YCJDVDNGQXODBEV2B5EFDIDNR'\n",
    "\n",
    "MATRIX = ['abcdef',\n",
    "          'ghijkl',\n",
    "          'mnopqr',\n",
    "          'stuvwx',\n",
    "          'yz1234',\n",
    "          '56789_']\n",
    "\n",
    "MARKER_DEF_TRAIN = {'target': ['target'], 'nontarget': ['nontarget']}\n",
    "MARKER_DEF_TEST = {'flashing': ['flashing']}\n",
    "\n",
    "SEG_IVAL = [0, 700]"
   ]
  },
  {
   "cell_type": "code",
   "execution_count": 3,
   "metadata": {},
   "outputs": [],
   "source": [
    "def load_bci_data(filename):\n",
    "    \"\"\"Load the BCI Competition III Data Set 2.\n",
    "    This method loads the data set and converts it into Wyrm's ``Data``\n",
    "    format. Before you use it, you have to download the data set in\n",
    "    Matlab format and unpack it. The directory with the extracted files\n",
    "    must contain the ``Subject_*.mat``- and the ``eloc64.txt`` files.\n",
    "    .. note::\n",
    "        If you need the true labels of the test sets, you'll have to\n",
    "        download them separately from\n",
    "        http://bbci.de/competition/iii/results/index.html#labels\n",
    "    Parameters\n",
    "    ----------\n",
    "    filename : str\n",
    "        The path to the matlab file to load\n",
    "    Returns\n",
    "    -------\n",
    "    cnt : continuous `Data` object\n",
    "    Examples\n",
    "    --------\n",
    "    >>> dat = load_bcicomp3_ds2('/home/foo/data/Subject_A_Train.mat')\n",
    "    \"\"\"\n",
    "    STIMULUS_CODE = {\n",
    "        0 : \"blankMatrix\",\n",
    "        # cols from left to right\n",
    "        1 : \"agmsy5\",\n",
    "        2 : \"bhntz6\",\n",
    "        3 : \"ciou17\",\n",
    "        4 : \"djpv28\",\n",
    "        5 : \"ekqw39\",\n",
    "        6 : \"flrx4_\",\n",
    "        # rows from top to bottom\n",
    "        7 : \"abcdef\",\n",
    "        8 : \"ghijkl\",\n",
    "        9 : \"mnopqr\",\n",
    "        10: \"stuvwx\",\n",
    "        11: \"yz1234\",\n",
    "        12: \"56789_\"\n",
    "        }\n",
    "\n",
    "    # load the matlab data\n",
    "    data_mat = loadmat(filename)\n",
    "    # load the channel names (the same for all datasets\n",
    "    eloc_file = path.sep.join([path.dirname(filename), 'eloc64.txt'])\n",
    "    with open(eloc_file) as fh:\n",
    "        data = fh.read()\n",
    "    channels = []\n",
    "    for line in data.splitlines():\n",
    "        if line:\n",
    "            chan = line.split()[-1]\n",
    "            chan = chan.replace('.', '')\n",
    "            channels.append(chan)\n",
    "    # fix the channel names, some letters have the wrong capitalization\n",
    "    for i, s in enumerate(channels):\n",
    "        s2 = s.upper()\n",
    "        s2 = s2.replace('Z', 'z')\n",
    "        s2 = s2.replace('FP', 'Fp')\n",
    "        channels[i] = s2\n",
    "    # The signal is recorded with 64 channels, bandpass filtered\n",
    "    # 0.1-60Hz and digitized at 240Hz. The format is Character Epoch x\n",
    "    # Samples x Channels\n",
    "    data = data_mat['Signal']\n",
    "    data = data.astype('double')\n",
    "    # For each sample: 1 if a row/colum was flashed, 0 otherwise\n",
    "    flashing = data_mat['Flashing'].reshape(-1)\n",
    "    #flashing = np.flatnonzero((np.diff(a) == 1)) + 1\n",
    "    ##Creates an array where only the initial intensifications of each series appear\n",
    "    tmp = []\n",
    "    for i, _ in enumerate(flashing):\n",
    "        if i == 0:\n",
    "            tmp.append(flashing[i])\n",
    "            continue\n",
    "        if flashing[i] == flashing[i-1] == 1:\n",
    "            tmp.append(0)\n",
    "            continue\n",
    "        tmp.append(flashing[i])\n",
    "    flashing = np.array(tmp)\n",
    "    # For each sample: 0 when no row/colum was intensified,\n",
    "    # 1..6 for intensified columns, 7..12 for intensified rows\n",
    "    stimulus_code = data_mat['StimulusCode'].reshape(-1)\n",
    "    stimulus_code = stimulus_code[flashing == 1]\n",
    "    # 0 if no row/col was intensified or the intensified did not contain\n",
    "    # the target character, 1 otherwise\n",
    "    stimulus_type = data_mat.get('StimulusType', np.array([])).reshape(-1)\n",
    "    # The target characters\n",
    "    target_chars = data_mat.get('TargetChar', np.array([])).reshape(-1)\n",
    "    fs = 240\n",
    "    data = data.reshape(-1, 64)\n",
    "    timeaxis = np.linspace(0, data.shape[0] / fs * 1000, data.shape[0], endpoint=False)\n",
    "    dat = Data(data=data, axes=[timeaxis, channels], names=['time', 'channel'], units=['ms', '#'])\n",
    "    dat.fs = fs\n",
    "    # preparing the markers\n",
    "    target_mask = np.logical_and((flashing == 1), (stimulus_type == 1)) if len(stimulus_type) > 0 else []\n",
    "    nontarget_mask = np.logical_and((flashing == 1), (stimulus_type == 0)) if len(stimulus_type) > 0 else []\n",
    "    flashing = (flashing == 1)\n",
    "    flashing = [[i, 'flashing'] for i in timeaxis[flashing]]\n",
    "    targets = [[i, 'target'] for i in timeaxis[target_mask]]\n",
    "    nontargets = [[i, 'nontarget'] for i in timeaxis[nontarget_mask]]\n",
    "    dat.stimulus_code = stimulus_code[:]\n",
    "    stim = []\n",
    "    for i,_ in enumerate(flashing):\n",
    "        stim.append([flashing[i][0], STIMULUS_CODE[stimulus_code[i]]])\n",
    "    stimulus_code = stim\n",
    "    #stimulus_code = zip([t for t, _ in flashing], [STIMULUS_CODE[i] for i in stimulus_code])\n",
    "    #Raises error \"TypeError: '<' not supported between instances of 'tuple' and 'list'\" when calling sort() \n",
    "    #stimulus_code =[[t for t,_ in flashing], [STIMULUS_CODE[i] for i in stimulus_code]]\n",
    "    #print(type(stimulus_code), type(flashing), type(targets), type(nontargets))\n",
    "    markers = flashing[:]\n",
    "    markers.extend(targets)\n",
    "    markers.extend(nontargets)\n",
    "    markers.extend(stimulus_code)\n",
    "    markers.sort()\n",
    "    dat.markers = markers[:]\n",
    "    return dat\n"
   ]
  },
  {
   "cell_type": "code",
   "execution_count": 4,
   "metadata": {},
   "outputs": [],
   "source": [
    "def preprocessing_simple(dat, MRK_DEF, *args, **kwargs):\n",
    "    \"\"\"Simple preprocessing that reaches 97% accuracy.\n",
    "    \"\"\"\n",
    "    fs_n = dat.fs / 2\n",
    "    b, a = proc.signal.butter(5, [10 / fs_n], btype='low')\n",
    "    dat = proc.filtfilt(dat, b, a)\n",
    "   \n",
    "    dat = proc.subsample(dat, 20)\n",
    "    epo = proc.segment_dat(dat, MRK_DEF, SEG_IVAL)\n",
    "    fv = proc.create_feature_vectors(epo)\n",
    "    return fv, epo"
   ]
  },
  {
   "cell_type": "code",
   "execution_count": 5,
   "metadata": {},
   "outputs": [],
   "source": [
    "dat_train = load_bci_data(TRAIN_A)\n",
    "dat_test = load_bci_data(TEST_A)"
   ]
  },
  {
   "cell_type": "code",
   "execution_count": 6,
   "metadata": {
    "scrolled": false
   },
   "outputs": [
    {
     "name": "stderr",
     "output_type": "stream",
     "text": [
      "WARNING:wyrm.processing:Subsampling led to loss of 6 samples, in an online setting consider using a BlockBuffer with a buffer size of a multiple of 12 samples.\n"
     ]
    }
   ],
   "source": [
    "fv_train, epo_train = preprocessing_simple(dat_train, MARKER_DEF_TRAIN, SEG_IVAL)\n",
    "fv_test, _ = preprocessing_simple(dat_test, MARKER_DEF_TEST, SEG_IVAL)"
   ]
  },
  {
   "cell_type": "code",
   "execution_count": 7,
   "metadata": {},
   "outputs": [],
   "source": [
    "def predict_character(pred, n_characters, labels):\n",
    "    pred_target = pred\n",
    "    #unscramble_idx = fv_test.stimulus_code.reshape(100, 15, 12).argsort()\n",
    "    unscramble_idx = fv_test.stimulus_code.reshape(n_characters, -1, 12).argsort()\n",
    "    static_idx = np.indices(unscramble_idx.shape)\n",
    "    #lda_out_prob = pred.reshape(100, 15, 12)\n",
    "    lda_out_prob = pred.reshape(n_characters, -1, 12)\n",
    "    lda_out_prob = lda_out_prob[static_idx[0], static_idx[1], unscramble_idx]\n",
    "\n",
    "    # destil the result of the 15 runs\n",
    "    lda_out_prob = lda_out_prob.sum(axis=1)\n",
    "    lda_out_prob = lda_out_prob.argsort()\n",
    "\n",
    "\n",
    "    cols = lda_out_prob[lda_out_prob <= 5].reshape(n_characters, -1)\n",
    "    rows = lda_out_prob[lda_out_prob > 5].reshape(n_characters, -1)\n",
    "    text = ''\n",
    "    for i in range(n_characters):\n",
    "        row = rows[i][-1]-6\n",
    "        col = cols[i][-1]\n",
    "        letter = MATRIX[row][col]\n",
    "        text += letter\n",
    "    print()\n",
    "    print('Constructed labels: %s' % text.upper())\n",
    "    print('True labels       : %s' % labels)\n",
    "    a = np.array(list(text.upper()))\n",
    "    b = np.array(list(TRUE_LABELS_A))\n",
    "    accuracy = np.count_nonzero(a == b) / len(a)\n",
    "    print('Accuracy: %.1f%%' % (accuracy * 100))\n",
    "    return accuracy"
   ]
  },
  {
   "cell_type": "code",
   "execution_count": 8,
   "metadata": {},
   "outputs": [],
   "source": [
    "from sklearn.neural_network import MLPClassifier"
   ]
  },
  {
   "cell_type": "markdown",
   "metadata": {},
   "source": [
    "#### Rectified linear unit function"
   ]
  },
  {
   "cell_type": "code",
   "execution_count": 55,
   "metadata": {},
   "outputs": [],
   "source": [
    "x = fv_train.data\n",
    "y = fv_train.axes[0]\n",
    "x_test = fv_test.data"
   ]
  },
  {
   "cell_type": "code",
   "execution_count": 23,
   "metadata": {},
   "outputs": [
    {
     "data": {
      "text/plain": [
       "MLPClassifier(activation='relu', alpha=0.0001, batch_size='auto', beta_1=0.9,\n",
       "       beta_2=0.999, early_stopping=False, epsilon=1e-08,\n",
       "       hidden_layer_sizes=(100,), learning_rate='constant',\n",
       "       learning_rate_init=0.001, max_iter=200, momentum=0.9,\n",
       "       nesterovs_momentum=True, power_t=0.5, random_state=None,\n",
       "       shuffle=True, solver='adam', tol=0.0001, validation_fraction=0.1,\n",
       "       verbose=False, warm_start=False)"
      ]
     },
     "execution_count": 23,
     "metadata": {},
     "output_type": "execute_result"
    }
   ],
   "source": [
    "clf = MLPClassifier(hidden_layer_sizes=(100, ), activation='relu', solver='adam')\n",
    "clf.fit(x, y)"
   ]
  },
  {
   "cell_type": "code",
   "execution_count": 19,
   "metadata": {},
   "outputs": [
    {
     "name": "stdout",
     "output_type": "stream",
     "text": [
      "\n",
      "Constructed labels: WEX8LZCUMRWC97YFNDEZ1DQI9NN2GX8DJCO2RMEUO1OJTPUFYPOOHJ7LDAYKGOA5VHNEBBTXOO3TEOILUEE5MFGCEXAX7KFR3MRU\n",
      "True labels       : WQXPLZCOMRKO97YFZDEZ1DPI9NNVGRQDJCUVRMEUOOOJD2UFYPOO6J7LDGYEGOA5VHNEHBTXOO1TDOILUEE5BFAEEXAW_K4R3MRU\n",
      "Accuracy: 73.0%\n"
     ]
    }
   ],
   "source": [
    "pred = clf.predict_proba(x_test)\n",
    "predict_character(pred[:,1], 100, TRUE_LABELS_A)"
   ]
  },
  {
   "cell_type": "markdown",
   "metadata": {},
   "source": [
    "#### Sigma function"
   ]
  },
  {
   "cell_type": "code",
   "execution_count": 26,
   "metadata": {},
   "outputs": [],
   "source": [
    "clf = MLPClassifier(hidden_layer_sizes=(100, ), activation='logistic', solver='adam')\n",
    "clf.fit(x, y)\n",
    "pred = clf.predict_proba(x_test)"
   ]
  },
  {
   "cell_type": "code",
   "execution_count": 27,
   "metadata": {},
   "outputs": [
    {
     "name": "stdout",
     "output_type": "stream",
     "text": [
      "\n",
      "Constructed labels: WQWPLZCIMRWOE7YFZDEZ1DPI9NNVGR9DJCOVRMEUOOOJBPUFYPOO6J7LDGYEGOG5VHNEGBUCOO1TDOILUEE5BFAEAXAEOK9RYMRU\n",
      "True labels       : WQXPLZCOMRKO97YFZDEZ1DPI9NNVGRQDJCUVRMEUOOOJD2UFYPOO6J7LDGYEGOA5VHNEHBTXOO1TDOILUEE5BFAEEXAW_K4R3MRU\n",
      "Accuracy: 83.0%\n"
     ]
    }
   ],
   "source": [
    "predict_character(pred[:,1], 100, TRUE_LABELS_A)"
   ]
  },
  {
   "cell_type": "markdown",
   "metadata": {},
   "source": [
    "#### Hyperbolic tan function"
   ]
  },
  {
   "cell_type": "code",
   "execution_count": 28,
   "metadata": {},
   "outputs": [],
   "source": [
    "clf = MLPClassifier(hidden_layer_sizes=(100, ), activation='tanh', solver='adam')\n",
    "clf.fit(x, y)\n",
    "pred = clf.predict_proba(x_test)"
   ]
  },
  {
   "cell_type": "code",
   "execution_count": 29,
   "metadata": {},
   "outputs": [
    {
     "name": "stdout",
     "output_type": "stream",
     "text": [
      "\n",
      "Constructed labels: WK_PLZCIM4WOK7YFMDEZ1DP79NRVGR9DICUJRMEUOUOJGPUFYPOOH87LDG3EGOG52ZNEUBS_OO1TDOILUEE5BFAEDXMWRKFR3MRU\n",
      "True labels       : WQXPLZCOMRKO97YFZDEZ1DPI9NNVGRQDJCUVRMEUOOOJD2UFYPOO6J7LDGYEGOA5VHNEHBTXOO1TDOILUEE5BFAEEXAW_K4R3MRU\n",
      "Accuracy: 72.0%\n"
     ]
    }
   ],
   "source": [
    "predict_character(pred[:,1], 100, TRUE_LABELS_A)"
   ]
  },
  {
   "cell_type": "markdown",
   "metadata": {},
   "source": [
    "#### Identity function"
   ]
  },
  {
   "cell_type": "code",
   "execution_count": 36,
   "metadata": {},
   "outputs": [],
   "source": [
    "from sklearn.preprocessing import normalize"
   ]
  },
  {
   "cell_type": "code",
   "execution_count": 42,
   "metadata": {},
   "outputs": [
    {
     "name": "stdout",
     "output_type": "stream",
     "text": [
      "time: 23.970288614646282 seconds\n"
     ]
    }
   ],
   "source": [
    "clf = MLPClassifier(hidden_layer_sizes=(100, ), activation='identity', solver='adam')\n",
    "import time\n",
    "t_start = time.clock()\n",
    "clf.fit(normalize(x, axis = 1), y)\n",
    "t_end = time.clock()\n",
    "pred = clf.predict_proba(normalize(x_test, axis = 1))\n",
    "\n",
    "print('time: {} seconds'.format(t_end - t_start))"
   ]
  },
  {
   "cell_type": "code",
   "execution_count": 43,
   "metadata": {},
   "outputs": [
    {
     "name": "stdout",
     "output_type": "stream",
     "text": [
      "\n",
      "Constructed labels: WQXPLZCIMRWO97YFZDEZ1DPI9NNVGRQDJCUVRMEUOOOJD2UFYPOO6J7LDAYEGOA5VHNEHBTXOO1TDOILUEE5HFAEEXAW_K4R3MRU\n",
      "True labels       : WQXPLZCOMRKO97YFZDEZ1DPI9NNVGRQDJCUVRMEUOOOJD2UFYPOO6J7LDGYEGOA5VHNEHBTXOO1TDOILUEE5BFAEEXAW_K4R3MRU\n",
      "Accuracy: 96.0%\n"
     ]
    }
   ],
   "source": [
    "predict_character(pred[:,1], 100, TRUE_LABELS_A)"
   ]
  },
  {
   "cell_type": "code",
   "execution_count": 57,
   "metadata": {},
   "outputs": [],
   "source": [
    "list_fcns = ['identity', 'tanh', 'logistic', 'relu']"
   ]
  },
  {
   "cell_type": "code",
   "execution_count": 82,
   "metadata": {},
   "outputs": [
    {
     "ename": "SyntaxError",
     "evalue": "invalid syntax (<ipython-input-82-39ad0d720968>, line 1)",
     "output_type": "error",
     "traceback": [
      "\u001b[1;36m  File \u001b[1;32m\"<ipython-input-82-39ad0d720968>\"\u001b[1;36m, line \u001b[1;32m1\u001b[0m\n\u001b[1;33m    def MLP_test(X_train, Y_train, X_test, fcns, hidden_layer_sizes = (100,) verbose = True):\u001b[0m\n\u001b[1;37m                                                                                   ^\u001b[0m\n\u001b[1;31mSyntaxError\u001b[0m\u001b[1;31m:\u001b[0m invalid syntax\n"
     ]
    }
   ],
   "source": [
    "def MLP_test(X_train, Y_train, X_test, fcns, hidden_layer_sizes = (100,) verbose = True):\n",
    "    predictions = {}\n",
    "    models_perf = {}\n",
    "    for i, fcn in enumerate(fcns):\n",
    "        t_start = time.clock()\n",
    "        classifier = MLPClassifier(activation = fcn, hidden_layer_sizes)\n",
    "        classifier.fit(X_train, Y_train)\n",
    "        t_end = time.clock()\n",
    "        \n",
    "        t_diff = t_end - t_start\n",
    "       # test_score = classifier.score(X_test, Y_test)\n",
    "        pred = classifier.predict_proba(X_test)\n",
    "        acc = predict_character(pred[:,1], 100, TRUE_LABELS_A)\n",
    "        \n",
    "        #dict_models[classifier_name] = {'model': fcn, 'test_score': test_score, 'train_time': t_diff}\n",
    "        models_perf[fcn] = {'time': t_diff, 'accuracy': acc}\n",
    "        if verbose:\n",
    "            print(\"trained {fn} in {f:.2f} s\".format(fn = fcn,f = t_diff))\n",
    "    return pred, models_perf"
   ]
  },
  {
   "cell_type": "code",
   "execution_count": 72,
   "metadata": {},
   "outputs": [
    {
     "name": "stdout",
     "output_type": "stream",
     "text": [
      "\n",
      "Constructed labels: WQWPLZCCM_WO97YFZDDZ1DPI9NNVGR9DJCUVRMEUO1OJD8UFYPOO6H7LDGYEGOA5VTNEHBTXOO1TDOILUEE5AFAFEXATOK4R9MRU\n",
      "True labels       : WQXPLZCOMRKO97YFZDEZ1DPI9NNVGRQDJCUVRMEUOOOJD2UFYPOO6J7LDGYEGOA5VHNEHBTXOO1TDOILUEE5BFAEEXAW_K4R3MRU\n",
      "Accuracy: 85.0%\n",
      "trained identity in 7.16 s\n",
      "\n",
      "Constructed labels: WQ_PLNCOMRWO_7YFYDEZ1DPJ9NHVGQJDJUOVLMEUOOOJA4UFYPOO6H7LDAYEGOG5VHNE_BJXOOZTDOILUED5AFAFAXAW_K4R3MRU\n",
      "True labels       : WQXPLZCOMRKO97YFZDEZ1DPI9NNVGRQDJCUVRMEUOOOJD2UFYPOO6J7LDGYEGOA5VHNEHBTXOO1TDOILUEE5BFAEEXAW_K4R3MRU\n",
      "Accuracy: 76.0%\n",
      "trained tanh in 17.44 s\n",
      "\n",
      "Constructed labels: WPXPLNCIMRWO97YFZDEZ1DPR9MNVGR8DJUUV_MEUO7CJD2UFYPOO6H7RDGYEGOA5VTNEEDUXOO1TDOILUEEABFAKEXAWOKER3MRU\n",
      "True labels       : WQXPLZCOMRKO97YFZDEZ1DPI9NNVGRQDJCUVRMEUOOOJD2UFYPOO6J7LDGYEGOA5VHNEHBTXOO1TDOILUEE5BFAEEXAW_K4R3MRU\n",
      "Accuracy: 79.0%\n",
      "trained logistic in 25.89 s\n",
      "\n",
      "Constructed labels: WQFPLHOIMXEOQ7YFZDEZ1DQL8NQVGRPDHCMV4REUO1OJBPTFYP7OH87X2GYQGOA5V2NEHBUXOOZTDQIKUEE5HASEDXAW_K3X1MRU\n",
      "True labels       : WQXPLZCOMRKO97YFZDEZ1DPI9NNVGRQDJCUVRMEUOOOJD2UFYPOO6J7LDGYEGOA5VHNEHBTXOO1TDOILUEE5BFAEEXAW_K4R3MRU\n",
      "Accuracy: 62.0%\n",
      "trained relu in 10.28 s\n"
     ]
    }
   ],
   "source": [
    "pred, models = MLP_test(x, y, x_test, list_fcns)"
   ]
  },
  {
   "cell_type": "code",
   "execution_count": 63,
   "metadata": {},
   "outputs": [],
   "source": [
    "import pandas as pd"
   ]
  },
  {
   "cell_type": "code",
   "execution_count": 74,
   "metadata": {},
   "outputs": [
    {
     "data": {
      "text/html": [
       "<div>\n",
       "<style scoped>\n",
       "    .dataframe tbody tr th:only-of-type {\n",
       "        vertical-align: middle;\n",
       "    }\n",
       "\n",
       "    .dataframe tbody tr th {\n",
       "        vertical-align: top;\n",
       "    }\n",
       "\n",
       "    .dataframe thead th {\n",
       "        text-align: right;\n",
       "    }\n",
       "</style>\n",
       "<table border=\"1\" class=\"dataframe\">\n",
       "  <thead>\n",
       "    <tr style=\"text-align: right;\">\n",
       "      <th></th>\n",
       "      <th>identity</th>\n",
       "      <th>tanh</th>\n",
       "      <th>logistic</th>\n",
       "      <th>relu</th>\n",
       "    </tr>\n",
       "  </thead>\n",
       "  <tbody>\n",
       "    <tr>\n",
       "      <th>accuracy</th>\n",
       "      <td>0.850000</td>\n",
       "      <td>0.760000</td>\n",
       "      <td>0.790000</td>\n",
       "      <td>0.620000</td>\n",
       "    </tr>\n",
       "    <tr>\n",
       "      <th>time</th>\n",
       "      <td>7.158911</td>\n",
       "      <td>17.436235</td>\n",
       "      <td>25.894318</td>\n",
       "      <td>10.276268</td>\n",
       "    </tr>\n",
       "  </tbody>\n",
       "</table>\n",
       "</div>"
      ],
      "text/plain": [
       "          identity       tanh   logistic       relu\n",
       "accuracy  0.850000   0.760000   0.790000   0.620000\n",
       "time      7.158911  17.436235  25.894318  10.276268"
      ]
     },
     "execution_count": 74,
     "metadata": {},
     "output_type": "execute_result"
    }
   ],
   "source": [
    "df = pd.DataFrame(models)\n",
    "df"
   ]
  },
  {
   "cell_type": "markdown",
   "metadata": {},
   "source": [
    "### Normalized data"
   ]
  },
  {
   "cell_type": "code",
   "execution_count": 75,
   "metadata": {
    "scrolled": false
   },
   "outputs": [
    {
     "name": "stdout",
     "output_type": "stream",
     "text": [
      "\n",
      "Constructed labels: WQXPLZCIMRWO97YFZDEZ1DPI9NNVGRQDJCUVRMEUOOOJD2UFYPOO6J7LDAYEGOA5VHNEHBTXOO1TDOILUEE5NFAEEXAWRK4R3MRU\n",
      "True labels       : WQXPLZCOMRKO97YFZDEZ1DPI9NNVGRQDJCUVRMEUOOOJD2UFYPOO6J7LDGYEGOA5VHNEHBTXOO1TDOILUEE5BFAEEXAW_K4R3MRU\n",
      "Accuracy: 95.0%\n",
      "trained identity in 13.68 s\n",
      "\n",
      "Constructed labels: WQXPLZCIMRWO97YFZDEZ1DPI9NNVGRQDJCUVRMEUOOOJD2UFYPOO6J7LDAYEGOA5VHNEHBTXOO1TDOILUEE5HFAEEXAW_K4R3MRU\n",
      "True labels       : WQXPLZCOMRKO97YFZDEZ1DPI9NNVGRQDJCUVRMEUOOOJD2UFYPOO6J7LDGYEGOA5VHNEHBTXOO1TDOILUEE5BFAEEXAW_K4R3MRU\n",
      "Accuracy: 96.0%\n",
      "trained tanh in 14.54 s\n",
      "\n",
      "Constructed labels: WQXPLZCIMRWO97YFZDEZ1DPI9NNVGRQDJCUVRMEUOOOJD2UFYPOO6J7LDAYEGOA5VHNEHBTXOO1TDOILUEE5HFAEEXAW_K4R3MRU\n",
      "True labels       : WQXPLZCOMRKO97YFZDEZ1DPI9NNVGRQDJCUVRMEUOOOJD2UFYPOO6J7LDGYEGOA5VHNEHBTXOO1TDOILUEE5BFAEEXAW_K4R3MRU\n",
      "Accuracy: 96.0%\n",
      "trained logistic in 50.03 s\n",
      "\n",
      "Constructed labels: WQSPLZCIMRKO97YFZDEZ1DPA9MN2GRQDJUUJRMEUOUOJAPUFYPOO6KOLDGYEGOG5VHNEHBTXOO1TCOILUEEANFAFEXAW7K4R3MXU\n",
      "True labels       : WQXPLZCOMRKO97YFZDEZ1DPI9NNVGRQDJCUVRMEUOOOJD2UFYPOO6J7LDGYEGOA5VHNEHBTXOO1TDOILUEE5BFAEEXAW_K4R3MRU\n",
      "Accuracy: 81.0%\n",
      "trained relu in 74.28 s\n"
     ]
    }
   ],
   "source": [
    "x_norm = normalize(x, axis = 1)\n",
    "x_test_norm = normalize(x_test, axis = 1)\n",
    "pred, models = MLP_test(x_norm, y, x_test_norm, list_fcns)"
   ]
  },
  {
   "cell_type": "code",
   "execution_count": 76,
   "metadata": {},
   "outputs": [
    {
     "data": {
      "text/html": [
       "<div>\n",
       "<style scoped>\n",
       "    .dataframe tbody tr th:only-of-type {\n",
       "        vertical-align: middle;\n",
       "    }\n",
       "\n",
       "    .dataframe tbody tr th {\n",
       "        vertical-align: top;\n",
       "    }\n",
       "\n",
       "    .dataframe thead th {\n",
       "        text-align: right;\n",
       "    }\n",
       "</style>\n",
       "<table border=\"1\" class=\"dataframe\">\n",
       "  <thead>\n",
       "    <tr style=\"text-align: right;\">\n",
       "      <th></th>\n",
       "      <th>identity</th>\n",
       "      <th>tanh</th>\n",
       "      <th>logistic</th>\n",
       "      <th>relu</th>\n",
       "    </tr>\n",
       "  </thead>\n",
       "  <tbody>\n",
       "    <tr>\n",
       "      <th>accuracy</th>\n",
       "      <td>0.950000</td>\n",
       "      <td>0.960000</td>\n",
       "      <td>0.96000</td>\n",
       "      <td>0.810000</td>\n",
       "    </tr>\n",
       "    <tr>\n",
       "      <th>time</th>\n",
       "      <td>13.676181</td>\n",
       "      <td>14.544991</td>\n",
       "      <td>50.02758</td>\n",
       "      <td>74.283147</td>\n",
       "    </tr>\n",
       "  </tbody>\n",
       "</table>\n",
       "</div>"
      ],
      "text/plain": [
       "           identity       tanh  logistic       relu\n",
       "accuracy   0.950000   0.960000   0.96000   0.810000\n",
       "time      13.676181  14.544991  50.02758  74.283147"
      ]
     },
     "execution_count": 76,
     "metadata": {},
     "output_type": "execute_result"
    }
   ],
   "source": [
    "df = pd.DataFrame(models)\n",
    "df"
   ]
  },
  {
   "cell_type": "markdown",
   "metadata": {},
   "source": [
    "### Hidden layers size"
   ]
  },
  {
   "cell_type": "code",
   "execution_count": 84,
   "metadata": {},
   "outputs": [
    {
     "name": "stdout",
     "output_type": "stream",
     "text": [
      "\n",
      "Constructed labels: WQXPLZCOMRWO97YFZDEZ1DPI9NNVGRPDJCUVRMEUOOOJD2UFYPOO6J7LDAYEGOA5VHNEHBTXOO1TDOILUEE5NFAEEXAW_K4R3MRU\n",
      "True labels       : WQXPLZCOMRKO97YFZDEZ1DPI9NNVGRQDJCUVRMEUOOOJD2UFYPOO6J7LDGYEGOA5VHNEHBTXOO1TDOILUEE5BFAEEXAW_K4R3MRU\n",
      "Accuracy: 96.0%\n",
      "trained identity in 16.45 s\n",
      "\n",
      "Constructed labels: WQXPLZCIMRWO97YFZDEZ1DPI9NNVGRQDJCUVRMEUOOOJD2UFYPOO6J7LDAYEGOA5VHNEKBTXOO1TDOILUEE5HFAEEXAWRK4R3MRU\n",
      "True labels       : WQXPLZCOMRKO97YFZDEZ1DPI9NNVGRQDJCUVRMEUOOOJD2UFYPOO6J7LDGYEGOA5VHNEHBTXOO1TDOILUEE5BFAEEXAW_K4R3MRU\n",
      "Accuracy: 94.0%\n",
      "trained tanh in 20.22 s\n",
      "\n",
      "Constructed labels: WQXPLZCIMRWO97YFZDEZ1DPI9NNVGRQDJCUVRMEUOOOJD2UFYPOO6J7LDAYEGOA5VHNEHBTXOO1TDOILUEE5HFAEEXAW_K4R3MRU\n",
      "True labels       : WQXPLZCOMRKO97YFZDEZ1DPI9NNVGRQDJCUVRMEUOOOJD2UFYPOO6J7LDGYEGOA5VHNEHBTXOO1TDOILUEE5BFAEEXAW_K4R3MRU\n",
      "Accuracy: 96.0%\n",
      "trained logistic in 52.40 s\n",
      "\n",
      "Constructed labels: WWXPLZFIMREO97YFZDEZ1DPC9NN2GRQDJUOJ4MEUOUOJDPUFYPOO6K7LDAYEGOA5VHNEZBTXO1ZBDOILUEEAHF5FEXAWUK4R3MXU\n",
      "True labels       : WQXPLZCOMRKO97YFZDEZ1DPI9NNVGRQDJCUVRMEUOOOJD2UFYPOO6J7LDGYEGOA5VHNEHBTXOO1TDOILUEE5BFAEEXAW_K4R3MRU\n",
      "Accuracy: 76.0%\n",
      "trained relu in 92.07 s\n"
     ]
    }
   ],
   "source": [
    "x_norm = normalize(x, axis = 1)\n",
    "x_test_norm = normalize(x_test, axis = 1)\n",
    "pred, models = MLP_test(x_norm, y, x_test_norm, list_fcns, (200,))"
   ]
  },
  {
   "cell_type": "code",
   "execution_count": 85,
   "metadata": {
    "scrolled": true
   },
   "outputs": [
    {
     "data": {
      "text/html": [
       "<div>\n",
       "<style scoped>\n",
       "    .dataframe tbody tr th:only-of-type {\n",
       "        vertical-align: middle;\n",
       "    }\n",
       "\n",
       "    .dataframe tbody tr th {\n",
       "        vertical-align: top;\n",
       "    }\n",
       "\n",
       "    .dataframe thead th {\n",
       "        text-align: right;\n",
       "    }\n",
       "</style>\n",
       "<table border=\"1\" class=\"dataframe\">\n",
       "  <thead>\n",
       "    <tr style=\"text-align: right;\">\n",
       "      <th></th>\n",
       "      <th>identity</th>\n",
       "      <th>tanh</th>\n",
       "      <th>logistic</th>\n",
       "      <th>relu</th>\n",
       "    </tr>\n",
       "  </thead>\n",
       "  <tbody>\n",
       "    <tr>\n",
       "      <th>accuracy</th>\n",
       "      <td>0.960000</td>\n",
       "      <td>0.940000</td>\n",
       "      <td>0.960000</td>\n",
       "      <td>0.76000</td>\n",
       "    </tr>\n",
       "    <tr>\n",
       "      <th>time</th>\n",
       "      <td>16.448045</td>\n",
       "      <td>20.220809</td>\n",
       "      <td>52.403316</td>\n",
       "      <td>92.07403</td>\n",
       "    </tr>\n",
       "  </tbody>\n",
       "</table>\n",
       "</div>"
      ],
      "text/plain": [
       "           identity       tanh   logistic      relu\n",
       "accuracy   0.960000   0.940000   0.960000   0.76000\n",
       "time      16.448045  20.220809  52.403316  92.07403"
      ]
     },
     "execution_count": 85,
     "metadata": {},
     "output_type": "execute_result"
    }
   ],
   "source": [
    "df = pd.DataFrame(models)\n",
    "df"
   ]
  },
  {
   "cell_type": "code",
   "execution_count": 86,
   "metadata": {},
   "outputs": [
    {
     "name": "stdout",
     "output_type": "stream",
     "text": [
      "\n",
      "Constructed labels: WQXPLZCIMRWO97YFZDEZ1DPI9NNVGRQDJCUVRMEUOOOJD2UFYPOO6J7LDAYEGOA5VTNEHBTXOO1TDOILUEE5HFAEEXAW_K4R3MRU\n",
      "True labels       : WQXPLZCOMRKO97YFZDEZ1DPI9NNVGRQDJCUVRMEUOOOJD2UFYPOO6J7LDGYEGOA5VHNEHBTXOO1TDOILUEE5BFAEEXAW_K4R3MRU\n",
      "Accuracy: 95.0%\n",
      "trained identity in 9.45 s\n",
      "\n",
      "Constructed labels: WQXPLZCIMRWO97YFZDEZ1DPI9NNVGRPDJCUVRMEUOOOJD2UFYPOO6J7LDAYEGOA5VTNEHBTXOO1TDOILUEE5BFAEEXAW_K4R3MRU\n",
      "True labels       : WQXPLZCOMRKO97YFZDEZ1DPI9NNVGRQDJCUVRMEUOOOJD2UFYPOO6J7LDGYEGOA5VHNEHBTXOO1TDOILUEE5BFAEEXAW_K4R3MRU\n",
      "Accuracy: 95.0%\n",
      "trained tanh in 21.66 s\n",
      "\n",
      "Constructed labels: WQXPLZCIMRWO97YFZDEZ1DPI9NNVGRQDJCUVRMEUOOOJD2UFYPOO6J7LDAYEGOA5VHNEHBTXOO1TDOILUEE5NFAEEXAW_K4R3MRU\n",
      "True labels       : WQXPLZCOMRKO97YFZDEZ1DPI9NNVGRQDJCUVRMEUOOOJD2UFYPOO6J7LDGYEGOA5VHNEHBTXOO1TDOILUEE5BFAEEXAW_K4R3MRU\n",
      "Accuracy: 96.0%\n",
      "trained logistic in 51.22 s\n",
      "\n",
      "Constructed labels: WQXPLZCIM4ECW7YIZDEZ1DQL9NNVGR8DJUIVRMEUOUOJA2UFYPOO687LDGYEGOA5VHNEHATXOO1TDOILUEE5BFAFEXAE_KFR3MXU\n",
      "True labels       : WQXPLZCOMRKO97YFZDEZ1DPI9NNVGRQDJCUVRMEUOOOJD2UFYPOO6J7LDGYEGOA5VHNEHBTXOO1TDOILUEE5BFAEEXAW_K4R3MRU\n",
      "Accuracy: 81.0%\n",
      "trained relu in 64.42 s\n"
     ]
    }
   ],
   "source": [
    "x_norm = normalize(x, axis = 1)\n",
    "x_test_norm = normalize(x_test, axis = 1)\n",
    "pred, models = MLP_test(x_norm, y, x_test_norm, list_fcns, (50,))"
   ]
  },
  {
   "cell_type": "code",
   "execution_count": 87,
   "metadata": {
    "scrolled": true
   },
   "outputs": [
    {
     "data": {
      "text/html": [
       "<div>\n",
       "<style scoped>\n",
       "    .dataframe tbody tr th:only-of-type {\n",
       "        vertical-align: middle;\n",
       "    }\n",
       "\n",
       "    .dataframe tbody tr th {\n",
       "        vertical-align: top;\n",
       "    }\n",
       "\n",
       "    .dataframe thead th {\n",
       "        text-align: right;\n",
       "    }\n",
       "</style>\n",
       "<table border=\"1\" class=\"dataframe\">\n",
       "  <thead>\n",
       "    <tr style=\"text-align: right;\">\n",
       "      <th></th>\n",
       "      <th>identity</th>\n",
       "      <th>tanh</th>\n",
       "      <th>logistic</th>\n",
       "      <th>relu</th>\n",
       "    </tr>\n",
       "  </thead>\n",
       "  <tbody>\n",
       "    <tr>\n",
       "      <th>accuracy</th>\n",
       "      <td>0.950000</td>\n",
       "      <td>0.950000</td>\n",
       "      <td>0.960000</td>\n",
       "      <td>0.810000</td>\n",
       "    </tr>\n",
       "    <tr>\n",
       "      <th>time</th>\n",
       "      <td>9.451202</td>\n",
       "      <td>21.663958</td>\n",
       "      <td>51.218713</td>\n",
       "      <td>64.421723</td>\n",
       "    </tr>\n",
       "  </tbody>\n",
       "</table>\n",
       "</div>"
      ],
      "text/plain": [
       "          identity       tanh   logistic       relu\n",
       "accuracy  0.950000   0.950000   0.960000   0.810000\n",
       "time      9.451202  21.663958  51.218713  64.421723"
      ]
     },
     "execution_count": 87,
     "metadata": {},
     "output_type": "execute_result"
    }
   ],
   "source": [
    "df = pd.DataFrame(models)\n",
    "df"
   ]
  },
  {
   "cell_type": "code",
   "execution_count": 68,
   "metadata": {},
   "outputs": [],
   "source": [
    "x_norm = normalize(x, axis = 1)\n",
    "x_test_norm = normalize(x_test, axis = 1)"
   ]
  },
  {
   "cell_type": "code",
   "execution_count": 88,
   "metadata": {
    "scrolled": true
   },
   "outputs": [
    {
     "name": "stdout",
     "output_type": "stream",
     "text": [
      "\n",
      "Constructed labels: WQXPLZCOMRWO97YFZDEZ1DPI9NNVGRQDJCUVRMEUOOOJD2UFYPOO6J7LDAYEGOA5VHNEHBTXOO1TDOILUEE5NFAEEXAW_K4R3MRU\n",
      "True labels       : WQXPLZCOMRKO97YFZDEZ1DPI9NNVGRQDJCUVRMEUOOOJD2UFYPOO6J7LDGYEGOA5VHNEHBTXOO1TDOILUEE5BFAEEXAW_K4R3MRU\n",
      "Accuracy: 97.0%\n",
      "trained identity in 15.43 s\n",
      "\n",
      "Constructed labels: WQXPLZCIMRWO97YFZDEZ1DPI9NNVGRQDJCUVRMEUOOOJD2UFYPOO6J7LDAYEGOA5VTNEHBTXOO1TDOILUEE5NFAEEXAW_K4R3MRU\n",
      "True labels       : WQXPLZCOMRKO97YFZDEZ1DPI9NNVGRQDJCUVRMEUOOOJD2UFYPOO6J7LDGYEGOA5VHNEHBTXOO1TDOILUEE5BFAEEXAW_K4R3MRU\n",
      "Accuracy: 95.0%\n",
      "trained tanh in 15.06 s\n",
      "\n",
      "Constructed labels: WQXPLZCIMRWO97YFZDEZ1DPI9NNVGRQDJCUVRMEUOOOJD2UFYPOO6J7LDAYEGOA5VHNEHBTXOO1TDOILUEE5HFAEEXAW_K4R3MRU\n",
      "True labels       : WQXPLZCOMRKO97YFZDEZ1DPI9NNVGRQDJCUVRMEUOOOJD2UFYPOO6J7LDGYEGOA5VHNEHBTXOO1TDOILUEE5BFAEEXAW_K4R3MRU\n",
      "Accuracy: 96.0%\n",
      "trained logistic in 34.34 s\n",
      "\n",
      "Constructed labels: WQXPLZELMREO57YFYDEZ1DPL9NNVGR8DHUUVRMEUOOOJJPUFYPOO6J7LDAYE5OA5VHBE6BTXOO1TDOILUEEAMFAEEXAW_K4R3MXU\n",
      "True labels       : WQXPLZCOMRKO97YFZDEZ1DPI9NNVGRQDJCUVRMEUOOOJD2UFYPOO6J7LDGYEGOA5VHNEHBTXOO1TDOILUEE5BFAEEXAW_K4R3MRU\n",
      "Accuracy: 82.0%\n",
      "trained relu in 81.50 s\n"
     ]
    }
   ],
   "source": [
    "pred, models = MLP_test(x_norm, y, x_test_norm, list_fcns, (20,))"
   ]
  },
  {
   "cell_type": "code",
   "execution_count": 89,
   "metadata": {
    "scrolled": true
   },
   "outputs": [
    {
     "name": "stdout",
     "output_type": "stream",
     "text": [
      "\n",
      "Constructed labels: WQXPLZCIMRWO97YFZDEZ1DPI9NNVGRQDJCUVRMEUOOOJD2UFYPOO6J7LDAYEGOA5VHNEHBTXOO1TDOILUEE5BFAEEXAW_K4R3MRU\n",
      "True labels       : WQXPLZCOMRKO97YFZDEZ1DPI9NNVGRQDJCUVRMEUOOOJD2UFYPOO6J7LDGYEGOA5VHNEHBTXOO1TDOILUEE5BFAEEXAW_K4R3MRU\n",
      "Accuracy: 97.0%\n",
      "trained identity in 19.51 s\n",
      "\n",
      "Constructed labels: WQXPLZCIMRWO97YFZDEZ1DPI9NNVGRQDJCUVRMEUOOOJD2UFYPOO6J7LDAYEGOA5VHNEHBTXOO1TDOILUEE5HFAEEXAW_K4R3MRU\n",
      "True labels       : WQXPLZCOMRKO97YFZDEZ1DPI9NNVGRQDJCUVRMEUOOOJD2UFYPOO6J7LDGYEGOA5VHNEHBTXOO1TDOILUEE5BFAEEXAW_K4R3MRU\n",
      "Accuracy: 96.0%\n",
      "trained tanh in 16.00 s\n",
      "\n",
      "Constructed labels: WQXPLZCIMRWO97YFZDEZ1DPI9NNVGRQDJCUVRMEUOOOJD2UFYPOO6J7LDAYEGOA5VHNEHBTXOO1TDOILUEE5HFAEEXAW_K4R3MRU\n",
      "True labels       : WQXPLZCOMRKO97YFZDEZ1DPI9NNVGRQDJCUVRMEUOOOJD2UFYPOO6J7LDGYEGOA5VHNEHBTXOO1TDOILUEE5BFAEEXAW_K4R3MRU\n",
      "Accuracy: 96.0%\n",
      "trained logistic in 43.60 s\n",
      "\n",
      "Constructed labels: WPYPLZDOMREO97YFZ2EZ1DPC9NN2GRPDHUIV_MEUOCOJDPUFYPOO9J7RDGYEGOG5VLNEHBTXOO1TEOHLUEEABF5FEXAW_K4R3MRU\n",
      "True labels       : WQXPLZCOMRKO97YFZDEZ1DPI9NNVGRQDJCUVRMEUOOOJD2UFYPOO6J7LDGYEGOA5VHNEHBTXOO1TDOILUEE5BFAEEXAW_K4R3MRU\n",
      "Accuracy: 77.0%\n",
      "trained relu in 86.10 s\n"
     ]
    }
   ],
   "source": [
    "x_norm = normalize(x, axis = 1)\n",
    "x_test_norm = normalize(x_test, axis = 1)\n",
    "pred, models = MLP_test(x_norm, y, x_test_norm, list_fcns, (10,))"
   ]
  },
  {
   "cell_type": "code",
   "execution_count": 90,
   "metadata": {
    "scrolled": true
   },
   "outputs": [
    {
     "data": {
      "text/html": [
       "<div>\n",
       "<style scoped>\n",
       "    .dataframe tbody tr th:only-of-type {\n",
       "        vertical-align: middle;\n",
       "    }\n",
       "\n",
       "    .dataframe tbody tr th {\n",
       "        vertical-align: top;\n",
       "    }\n",
       "\n",
       "    .dataframe thead th {\n",
       "        text-align: right;\n",
       "    }\n",
       "</style>\n",
       "<table border=\"1\" class=\"dataframe\">\n",
       "  <thead>\n",
       "    <tr style=\"text-align: right;\">\n",
       "      <th></th>\n",
       "      <th>identity</th>\n",
       "      <th>tanh</th>\n",
       "      <th>logistic</th>\n",
       "      <th>relu</th>\n",
       "    </tr>\n",
       "  </thead>\n",
       "  <tbody>\n",
       "    <tr>\n",
       "      <th>accuracy</th>\n",
       "      <td>0.970000</td>\n",
       "      <td>0.960000</td>\n",
       "      <td>0.960000</td>\n",
       "      <td>0.770000</td>\n",
       "    </tr>\n",
       "    <tr>\n",
       "      <th>time</th>\n",
       "      <td>19.509023</td>\n",
       "      <td>16.000125</td>\n",
       "      <td>43.601013</td>\n",
       "      <td>86.100817</td>\n",
       "    </tr>\n",
       "  </tbody>\n",
       "</table>\n",
       "</div>"
      ],
      "text/plain": [
       "           identity       tanh   logistic       relu\n",
       "accuracy   0.970000   0.960000   0.960000   0.770000\n",
       "time      19.509023  16.000125  43.601013  86.100817"
      ]
     },
     "execution_count": 90,
     "metadata": {},
     "output_type": "execute_result"
    }
   ],
   "source": [
    "df = pd.DataFrame(models)\n",
    "df"
   ]
  },
  {
   "cell_type": "code",
   "execution_count": 91,
   "metadata": {
    "scrolled": true
   },
   "outputs": [
    {
     "name": "stdout",
     "output_type": "stream",
     "text": [
      "\n",
      "Constructed labels: WQXPLZCIMRWO97YFZDEZ1DPI9NNVGRQDJCUVRMEUOOOJD2UFYPOO6J7LDAYEGOA5VTNEHBTXOO1TDOILUEE5NFAEEXAWRK4R3MRU\n",
      "True labels       : WQXPLZCOMRKO97YFZDEZ1DPI9NNVGRQDJCUVRMEUOOOJD2UFYPOO6J7LDGYEGOA5VHNEHBTXOO1TDOILUEE5BFAEEXAW_K4R3MRU\n",
      "Accuracy: 94.0%\n",
      "trained identity in 12.43 s\n",
      "\n",
      "Constructed labels: WQXPLZCIMRWO97YFZDEZ1DPI9NNVGRPDJCUVRMEUOOOJD2UFYPOO6J7LDAYEGOA5VHNEHBTXOO1TDOILUEE5NFAEEXAW_K4R3MRU\n",
      "True labels       : WQXPLZCOMRKO97YFZDEZ1DPI9NNVGRQDJCUVRMEUOOOJD2UFYPOO6J7LDGYEGOA5VHNEHBTXOO1TDOILUEE5BFAEEXAW_K4R3MRU\n",
      "Accuracy: 95.0%\n",
      "trained tanh in 17.66 s\n",
      "\n",
      "Constructed labels: WQXPLZCIMRWO97YFZDEZ1DPI9NNVGRQDJCUVRMEUOOOJD2UFYPOO6J7LDAYEGOA5VHNEHBTXOO1TDOILUEE5HFAEEXAW_K4R3MRU\n",
      "True labels       : WQXPLZCOMRKO97YFZDEZ1DPI9NNVGRQDJCUVRMEUOOOJD2UFYPOO6J7LDGYEGOA5VHNEHBTXOO1TDOILUEE5BFAEEXAW_K4R3MRU\n",
      "Accuracy: 96.0%\n",
      "trained logistic in 37.09 s\n",
      "\n",
      "Constructed labels: WPXPLZCIM4EO97YDZDEZ1DPC9NNVGR8DJC5VLMEUOUOJDPUFYPOO6J7LDAYEGOA5VHNEBBTXUO1TDOHLUEE5BFAEEXEW7K4R3MRU\n",
      "True labels       : WQXPLZCOMRKO97YFZDEZ1DPI9NNVGRQDJCUVRMEUOOOJD2UFYPOO6J7LDGYEGOA5VHNEHBTXOO1TDOILUEE5BFAEEXAW_K4R3MRU\n",
      "Accuracy: 83.0%\n",
      "trained relu in 79.46 s\n"
     ]
    }
   ],
   "source": [
    "x_norm = normalize(x, axis = 1)\n",
    "x_test_norm = normalize(x_test, axis = 1)\n",
    "pred, models = MLP_test(x_norm, y, x_test_norm, list_fcns, (5,))"
   ]
  },
  {
   "cell_type": "markdown",
   "metadata": {},
   "source": [
    "### Tomar una parte del training set para validar"
   ]
  },
  {
   "cell_type": "markdown",
   "metadata": {},
   "source": [
    "Training set: tomo 70% para entrenar y 30% para validar."
   ]
  },
  {
   "cell_type": "code",
   "execution_count": 52,
   "metadata": {},
   "outputs": [],
   "source": [
    "x_train = fv_train.data\n",
    "y_train = fv_train.axes[0]"
   ]
  },
  {
   "cell_type": "code",
   "execution_count": 65,
   "metadata": {},
   "outputs": [],
   "source": [
    "import time\n",
    "def MLP_test(X_train, Y_train, X_test, fcns, hsizes = (100,), verbose = True, valid = False):\n",
    "    predictions = {}\n",
    "    models_perf = {}\n",
    "    for i, fcn in enumerate(fcns):\n",
    "        classifier = MLPClassifier(activation = fcn, hidden_layer_sizes = hsizes)\n",
    "        if valid:\n",
    "            # For validation split training data into\n",
    "            # 70% training and 30% validation\n",
    "            nt = round(X_train.shape[0] * 0.7)\n",
    "            X_valid = X_train[nt:,:]\n",
    "            X_train = X_train[:nt,:]\n",
    "            Y_valid = Y_train[nt:]\n",
    "            Y_train = Y_train[:nt]\n",
    "            \n",
    "        t_start = time.clock()\n",
    "        classifier.fit(X_train, Y_train)\n",
    "        t_end = time.clock()        \n",
    "        t_diff = t_end - t_start\n",
    "        pred = classifier.predict_proba(X_test)\n",
    "        train_score = classifier.score(X_train, Y_train)\n",
    "        acc = predict_character(pred[:,1], 100, TRUE_LABELS_A)\n",
    "        if valid:\n",
    "            test_score = classifier.score(X_valid, Y_valid)\n",
    "            models_perf[fcn] = {'Time [s]': t_diff, 'Train score': train_score, \n",
    "                            'Test score': test_score, 'Accuracy [%]': acc*100}\n",
    "        else: \n",
    "            models_perf[fcn] = {'Time [s]': t_diff, 'Train score': train_score, \n",
    "                                'Accuracy [%]': acc*100}\n",
    "        if verbose:\n",
    "            print(\"trained {fn} in {f:.2f} s\".format(fn = fcn,f = t_diff))\n",
    "\n",
    "    return pred, models_perf"
   ]
  },
  {
   "cell_type": "code",
   "execution_count": 61,
   "metadata": {},
   "outputs": [
    {
     "name": "stdout",
     "output_type": "stream",
     "text": [
      "\n",
      "Constructed labels: WPXPLZCCM43597YFZDEZ1CP79NQ2G4PDKBOVLMEUOOOJB2UBYPOO681R2AYEAOG5VHNWKBW7OO1TDOILUEE5MFAREXAW_K4RYMFU\n",
      "True labels       : WQXPLZCOMRKO97YFZDEZ1DPI9NNVGRQDJCUVRMEUOOOJD2UFYPOO6J7LDGYEGOA5VHNEHBTXOO1TDOILUEE5BFAEEXAW_K4R3MRU\n",
      "Accuracy: 68.0%\n",
      "trained identity in 2.29 s\n",
      "\n",
      "Constructed labels: WPXQLZFLMRHOA7Y_1EEH1DPB9QN2GRQDJCUVRMEUOUOJDPUF1POO687RJGYEG7G8VNNELEEXOOZTDOILUEE8YFCCDXAW7KER3MHU\n",
      "True labels       : WQXPLZCOMRKO97YFZDEZ1DPI9NNVGRQDJCUVRMEUOOOJD2UFYPOO6J7LDGYEGOA5VHNEHBTXOO1TDOILUEE5BFAEEXAW_K4R3MRU\n",
      "Accuracy: 65.0%\n",
      "trained tanh in 4.68 s\n",
      "\n",
      "Constructed labels: WQXVLHCIM_WOK7YDZDEZ1DPN9NNVGRQDJCULRMEUOUOJDPUFYPOO897LDAYEGOA5VZNELBUXOO1TDOILUEE5MFAEEXAW7K3R9MRU\n",
      "True labels       : WQXPLZCOMRKO97YFZDEZ1DPI9NNVGRQDJCUVRMEUOOOJD2UFYPOO6J7LDGYEGOA5VHNEHBTXOO1TDOILUEE5BFAEEXAW_K4R3MRU\n",
      "Accuracy: 79.0%\n",
      "trained logistic in 3.66 s\n",
      "\n",
      "Constructed labels: WK_QL1ELM4FOS7YFWDDZ1DP29NL2GREDIBVGNMEWPCCJD4ULYP1U5J1LDGY_GOB8VSNEBHVXNI9TDQCBUEW7MFD9FXETUKAQ9ZQU\n",
      "True labels       : WQXPLZCOMRKO97YFZDEZ1DPI9NNVGRQDJCUVRMEUOOOJD2UFYPOO6J7LDGYEGOA5VHNEHBTXOO1TDOILUEE5BFAEEXAW_K4R3MRU\n",
      "Accuracy: 43.0%\n",
      "trained relu in 1.88 s\n"
     ]
    }
   ],
   "source": [
    "pred, models = MLP_test(x, y, x_test, list_fcns, valid = True)"
   ]
  },
  {
   "cell_type": "code",
   "execution_count": 64,
   "metadata": {
    "scrolled": false
   },
   "outputs": [
    {
     "data": {
      "text/html": [
       "<div>\n",
       "<style scoped>\n",
       "    .dataframe tbody tr th:only-of-type {\n",
       "        vertical-align: middle;\n",
       "    }\n",
       "\n",
       "    .dataframe tbody tr th {\n",
       "        vertical-align: top;\n",
       "    }\n",
       "\n",
       "    .dataframe thead th {\n",
       "        text-align: right;\n",
       "    }\n",
       "</style>\n",
       "<table border=\"1\" class=\"dataframe\">\n",
       "  <thead>\n",
       "    <tr style=\"text-align: right;\">\n",
       "      <th></th>\n",
       "      <th>identity</th>\n",
       "      <th>tanh</th>\n",
       "      <th>logistic</th>\n",
       "      <th>relu</th>\n",
       "    </tr>\n",
       "  </thead>\n",
       "  <tbody>\n",
       "    <tr>\n",
       "      <th>Accuracy [%]</th>\n",
       "      <td>68.000000</td>\n",
       "      <td>65.000000</td>\n",
       "      <td>79.000000</td>\n",
       "      <td>43.000000</td>\n",
       "    </tr>\n",
       "    <tr>\n",
       "      <th>Test score</th>\n",
       "      <td>0.791721</td>\n",
       "      <td>0.793340</td>\n",
       "      <td>0.813695</td>\n",
       "      <td>0.754765</td>\n",
       "    </tr>\n",
       "    <tr>\n",
       "      <th>Time [s]</th>\n",
       "      <td>2.286131</td>\n",
       "      <td>4.683003</td>\n",
       "      <td>3.664879</td>\n",
       "      <td>1.882201</td>\n",
       "    </tr>\n",
       "    <tr>\n",
       "      <th>Train score</th>\n",
       "      <td>0.820915</td>\n",
       "      <td>0.912498</td>\n",
       "      <td>0.944931</td>\n",
       "      <td>0.965161</td>\n",
       "    </tr>\n",
       "  </tbody>\n",
       "</table>\n",
       "</div>"
      ],
      "text/plain": [
       "               identity       tanh   logistic       relu\n",
       "Accuracy [%]  68.000000  65.000000  79.000000  43.000000\n",
       "Test score     0.791721   0.793340   0.813695   0.754765\n",
       "Time [s]       2.286131   4.683003   3.664879   1.882201\n",
       "Train score    0.820915   0.912498   0.944931   0.965161"
      ]
     },
     "execution_count": 64,
     "metadata": {},
     "output_type": "execute_result"
    }
   ],
   "source": [
    "df = pd.DataFrame(models)\n",
    "df"
   ]
  },
  {
   "cell_type": "code",
   "execution_count": 69,
   "metadata": {},
   "outputs": [
    {
     "name": "stdout",
     "output_type": "stream",
     "text": [
      "\n",
      "Constructed labels: WQXPLZCIMRWO97YFZDEZ1DPI9NNVGRQDJCUVRMEUOOOJD2UFYPOO6J7LDGYEGOA5VHNEHBTXOO1TDOILUEE5NFAEEXAW_K4R3MRU\n",
      "True labels       : WQXPLZCOMRKO97YFZDEZ1DPI9NNVGRQDJCUVRMEUOOOJD2UFYPOO6J7LDGYEGOA5VHNEHBTXOO1TDOILUEE5BFAEEXAW_K4R3MRU\n",
      "Accuracy: 97.0%\n",
      "trained identity in 9.40 s\n",
      "\n",
      "Constructed labels: WQXPLZCIMRWO97YFZDEZ1DPI9NNVGRQDJCUVRMEUOUOJD2UFYPOO6J7LDAYEGOA5VZNEHBTXOO1TDOILUEE5NFAEEXAWOK4R3MXU\n",
      "True labels       : WQXPLZCOMRKO97YFZDEZ1DPI9NNVGRQDJCUVRMEUOOOJD2UFYPOO6J7LDGYEGOA5VHNEHBTXOO1TDOILUEE5BFAEEXAW_K4R3MRU\n",
      "Accuracy: 92.0%\n",
      "trained tanh in 9.08 s\n",
      "\n",
      "Constructed labels: WQXPLZCIMRQO97YFZDEZ1DPI9NNVGRQDJCUJRMEUOOOJD2UFYPOO6H7LDGYEGOA5VZNEHBTXOO1TDOILUEE5NFAEEXAWOK4R3MXU\n",
      "True labels       : WQXPLZCOMRKO97YFZDEZ1DPI9NNVGRQDJCUVRMEUOOOJD2UFYPOO6J7LDGYEGOA5VHNEHBTXOO1TDOILUEE5BFAEEXAW_K4R3MRU\n",
      "Accuracy: 92.0%\n",
      "trained logistic in 17.84 s\n",
      "\n",
      "Constructed labels: WWXPL9CIM4NCK7YDYDEZ1DPZ9NN3GRQDHBUHRMEUOOOJD2UFYP7O6K1GDAYEGOB5VZNEBBUIOO3TDOHLUEE5BF5RDXAB1KFRYMXU\n",
      "True labels       : WQXPLZCOMRKO97YFZDEZ1DPI9NNVGRQDJCUVRMEUOOOJD2UFYPOO6J7LDGYEGOA5VHNEHBTXOO1TDOILUEE5BFAEEXAW_K4R3MRU\n",
      "Accuracy: 66.0%\n",
      "trained relu in 13.98 s\n"
     ]
    }
   ],
   "source": [
    "pred, models = MLP_test(x_norm, y, x_test_norm, list_fcns, valid = True)"
   ]
  },
  {
   "cell_type": "code",
   "execution_count": 70,
   "metadata": {},
   "outputs": [
    {
     "data": {
      "text/html": [
       "<div>\n",
       "<style scoped>\n",
       "    .dataframe tbody tr th:only-of-type {\n",
       "        vertical-align: middle;\n",
       "    }\n",
       "\n",
       "    .dataframe tbody tr th {\n",
       "        vertical-align: top;\n",
       "    }\n",
       "\n",
       "    .dataframe thead th {\n",
       "        text-align: right;\n",
       "    }\n",
       "</style>\n",
       "<table border=\"1\" class=\"dataframe\">\n",
       "  <thead>\n",
       "    <tr style=\"text-align: right;\">\n",
       "      <th></th>\n",
       "      <th>identity</th>\n",
       "      <th>tanh</th>\n",
       "      <th>logistic</th>\n",
       "      <th>relu</th>\n",
       "    </tr>\n",
       "  </thead>\n",
       "  <tbody>\n",
       "    <tr>\n",
       "      <th>Accuracy [%]</th>\n",
       "      <td>97.000000</td>\n",
       "      <td>92.000000</td>\n",
       "      <td>92.000000</td>\n",
       "      <td>66.000000</td>\n",
       "    </tr>\n",
       "    <tr>\n",
       "      <th>Test score</th>\n",
       "      <td>0.839434</td>\n",
       "      <td>0.841892</td>\n",
       "      <td>0.835038</td>\n",
       "      <td>0.824651</td>\n",
       "    </tr>\n",
       "    <tr>\n",
       "      <th>Time [s]</th>\n",
       "      <td>9.396146</td>\n",
       "      <td>9.082205</td>\n",
       "      <td>17.837402</td>\n",
       "      <td>13.983796</td>\n",
       "    </tr>\n",
       "    <tr>\n",
       "      <th>Train score</th>\n",
       "      <td>0.869748</td>\n",
       "      <td>0.878351</td>\n",
       "      <td>0.873666</td>\n",
       "      <td>0.997006</td>\n",
       "    </tr>\n",
       "  </tbody>\n",
       "</table>\n",
       "</div>"
      ],
      "text/plain": [
       "               identity       tanh   logistic       relu\n",
       "Accuracy [%]  97.000000  92.000000  92.000000  66.000000\n",
       "Test score     0.839434   0.841892   0.835038   0.824651\n",
       "Time [s]       9.396146   9.082205  17.837402  13.983796\n",
       "Train score    0.869748   0.878351   0.873666   0.997006"
      ]
     },
     "execution_count": 70,
     "metadata": {},
     "output_type": "execute_result"
    }
   ],
   "source": [
    "df = pd.DataFrame(models)\n",
    "df"
   ]
  },
  {
   "cell_type": "code",
   "execution_count": null,
   "metadata": {},
   "outputs": [],
   "source": []
  }
 ],
 "metadata": {
  "kernelspec": {
   "display_name": "Python 3",
   "language": "python",
   "name": "python3"
  },
  "language_info": {
   "codemirror_mode": {
    "name": "ipython",
    "version": 3
   },
   "file_extension": ".py",
   "mimetype": "text/x-python",
   "name": "python",
   "nbconvert_exporter": "python",
   "pygments_lexer": "ipython3",
   "version": "3.6.5"
  }
 },
 "nbformat": 4,
 "nbformat_minor": 2
}
