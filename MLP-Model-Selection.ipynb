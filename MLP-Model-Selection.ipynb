{
 "cells": [
  {
   "cell_type": "code",
   "execution_count": 1,
   "metadata": {},
   "outputs": [
    {
     "name": "stderr",
     "output_type": "stream",
     "text": [
      "DEBUG:matplotlib.backends:backend module://ipykernel.pylab.backend_inline version unknown\n"
     ]
    }
   ],
   "source": [
    "import scipy.io as spio\n",
    "\n",
    "from __future__ import division\n",
    "\n",
    "import numpy as np\n",
    "import scipy as sp\n",
    "from matplotlib import pyplot as plt\n",
    "from matplotlib import ticker\n",
    "import matplotlib as mpl\n",
    "from os import path\n",
    "\n",
    "from scipy.io import loadmat\n",
    "\n",
    "from wyrm.types import Data\n",
    "\n",
    "from wyrm import plot\n",
    "#plot.beautify()\n",
    "from wyrm.types import Data\n",
    "from wyrm import processing as proc\n",
    "\n",
    "import pandas as pd\n",
    "from sklearn.preprocessing import normalize\n",
    "from sklearn.model_selection import train_test_split\n",
    "import seaborn as sns"
   ]
  },
  {
   "cell_type": "code",
   "execution_count": 98,
   "metadata": {},
   "outputs": [],
   "source": [
    "from sklearn.neural_network import MLPClassifier\n",
    "from sklearn.grid_search import GridSearchCV\n",
    "from sklearn import metrics\n",
    "from sklearn.preprocessing import StandardScaler\n",
    "from sklearn.model_selection import StratifiedShuffleSplit, cross_val_score, RandomizedSearchCV"
   ]
  },
  {
   "cell_type": "code",
   "execution_count": 3,
   "metadata": {},
   "outputs": [],
   "source": [
    "import time\n",
    "def MLP_test(X_train, Y_train, X_test, fcns, hsizes = (100,), verbose = True, valid = False):\n",
    "    predictions = {}\n",
    "    models_perf = {}\n",
    "    for i, fcn in enumerate(fcns):\n",
    "        classifier = MLPClassifier(activation = fcn, hidden_layer_sizes = hsizes)\n",
    "        if valid:\n",
    "            # For validation split training data into\n",
    "            # 70% training and 30% validation\n",
    "            nt = round(X_train.shape[0] * 0.7)\n",
    "            X_valid = X_train[nt:,:]\n",
    "            X_train = X_train[:nt,:]\n",
    "            Y_valid = Y_train[nt:]\n",
    "            Y_train = Y_train[:nt]\n",
    "            \n",
    "        t_start = time.clock()\n",
    "        classifier.fit(X_train, Y_train)\n",
    "        t_end = time.clock()        \n",
    "        t_diff = t_end - t_start\n",
    "        pred = classifier.predict_proba(X_test)\n",
    "        train_score = classifier.score(X_train, Y_train)\n",
    "        acc = predict_character(pred[:,1], 100, TRUE_LABELS_A, verbose = verbose)\n",
    "        if valid:\n",
    "            val_score = classifier.score(X_valid, Y_valid)\n",
    "            models_perf[fcn] = {'Time [s]': t_diff, 'Train score': train_score, \n",
    "                            'Validation score': val_score, 'Accuracy [%]': acc*100}\n",
    "        else: \n",
    "            models_perf[fcn] = {'Time [s]': t_diff, 'Train score': train_score, \n",
    "                                'Accuracy [%]': acc*100}\n",
    "        if verbose:\n",
    "            print(\"trained {fn} in {f:.2f} s\".format(fn = fcn,f = t_diff))\n",
    "\n",
    "    return pred, models_perf"
   ]
  },
  {
   "cell_type": "code",
   "execution_count": 4,
   "metadata": {},
   "outputs": [],
   "source": [
    "import time\n",
    "def MLP_test2(X_train, y_train, fcns, hsizes = (100,), verbose = True, valid = False):\n",
    "    predictions = {}\n",
    "    models_perf = {}\n",
    "    for i, fcn in enumerate(fcns):\n",
    "        classifier = MLPClassifier(activation = fcn, hidden_layer_sizes = hsizes)\n",
    "        if valid:\n",
    "            # For validation split training data into\n",
    "            # 70% training and 30% validation\n",
    "            X_train, X_test, y_train, y_test = train_test_split(x, y, test_size = 0.3, train_size = 0.7)\n",
    "            \n",
    "        t_start = time.clock()\n",
    "        classifier.fit(X_train, y_train)\n",
    "        t_end = time.clock()        \n",
    "        t_diff = t_end - t_start\n",
    "        pred = classifier.predict_proba(X_test)\n",
    "        train_score = classifier.score(X_train, y_train)\n",
    "        #acc = predict_character(pred[:,1], 100, TRUE_LABELS_A, verbose = verbose)\n",
    "        if valid:\n",
    "            val_score = classifier.score(X_test, y_test)\n",
    "            models_perf[fcn] = {'Time [s]': t_diff, 'Train score': train_score, \n",
    "                            'Validation score': val_score}#, 'Accuracy [%]': acc*100}\n",
    "        else: \n",
    "            models_perf[fcn] = {'Time [s]': t_diff, 'Train score': train_score}#, \n",
    "                                #'Accuracy [%]': acc*100}\n",
    "        if verbose:\n",
    "            print(\"trained {fn} in {f:.2f} s\".format(fn = fcn,f = t_diff))\n",
    "\n",
    "    return pred, models_perf"
   ]
  },
  {
   "cell_type": "code",
   "execution_count": 5,
   "metadata": {},
   "outputs": [],
   "source": [
    "TRAIN_A = '../BCI_Comp_III_Wads_2004/data/Subject_A_Train.mat'\n",
    "TRAIN_B = '../BCI_Comp_III_Wads_2004/data/Subject_B_Train.mat'\n",
    "\n",
    "TEST_A = '../BCI_Comp_III_Wads_2004/data/Subject_A_Test.mat'\n",
    "TEST_B = '../BCI_Comp_III_Wads_2004/data/Subject_B_Test.mat'\n",
    "\n",
    "TRUE_LABELS_A = 'WQXPLZCOMRKO97YFZDEZ1DPI9NNVGRQDJCUVRMEUOOOJD2UFYPOO6J7LDGYEGOA5VHNEHBTXOO1TDOILUEE5BFAEEXAW_K4R3MRU'\n",
    "TRUE_LABELS_B = 'MERMIROOMUHJPXJOHUVLEORZP3GLOO7AUFDKEFTWEOOALZOP9ROCGZET1Y19EWX65QUYU7NAK_4YCJDVDNGQXODBEV2B5EFDIDNR'\n",
    "\n",
    "MATRIX = ['abcdef',\n",
    "          'ghijkl',\n",
    "          'mnopqr',\n",
    "          'stuvwx',\n",
    "          'yz1234',\n",
    "          '56789_']\n",
    "\n",
    "MARKER_DEF_TRAIN = {'target': ['target'], 'nontarget': ['nontarget']}\n",
    "MARKER_DEF_TEST = {'flashing': ['flashing']}\n",
    "\n",
    "SEG_IVAL = [0, 700]"
   ]
  },
  {
   "cell_type": "code",
   "execution_count": 6,
   "metadata": {},
   "outputs": [],
   "source": [
    "def load_bci_data(filename):\n",
    "    \"\"\"Load the BCI Competition III Data Set 2.\n",
    "    This method loads the data set and converts it into Wyrm's ``Data``\n",
    "    format. Before you use it, you have to download the data set in\n",
    "    Matlab format and unpack it. The directory with the extracted files\n",
    "    must contain the ``Subject_*.mat``- and the ``eloc64.txt`` files.\n",
    "    .. note::\n",
    "        If you need the true labels of the test sets, you'll have to\n",
    "        download them separately from\n",
    "        http://bbci.de/competition/iii/results/index.html#labels\n",
    "    Parameters\n",
    "    ----------\n",
    "    filename : str\n",
    "        The path to the matlab file to load\n",
    "    Returns\n",
    "    -------\n",
    "    cnt : continuous `Data` object\n",
    "    Examples\n",
    "    --------\n",
    "    >>> dat = load_bcicomp3_ds2('/home/foo/data/Subject_A_Train.mat')\n",
    "    \"\"\"\n",
    "    STIMULUS_CODE = {\n",
    "        0 : \"blankMatrix\",\n",
    "        # cols from left to right\n",
    "        1 : \"agmsy5\",\n",
    "        2 : \"bhntz6\",\n",
    "        3 : \"ciou17\",\n",
    "        4 : \"djpv28\",\n",
    "        5 : \"ekqw39\",\n",
    "        6 : \"flrx4_\",\n",
    "        # rows from top to bottom\n",
    "        7 : \"abcdef\",\n",
    "        8 : \"ghijkl\",\n",
    "        9 : \"mnopqr\",\n",
    "        10: \"stuvwx\",\n",
    "        11: \"yz1234\",\n",
    "        12: \"56789_\"\n",
    "        }\n",
    "\n",
    "    # load the matlab data\n",
    "    data_mat = loadmat(filename)\n",
    "    # load the channel names (the same for all datasets\n",
    "    eloc_file = path.sep.join([path.dirname(filename), 'eloc64.txt'])\n",
    "    with open(eloc_file) as fh:\n",
    "        data = fh.read()\n",
    "    channels = []\n",
    "    for line in data.splitlines():\n",
    "        if line:\n",
    "            chan = line.split()[-1]\n",
    "            chan = chan.replace('.', '')\n",
    "            channels.append(chan)\n",
    "    # fix the channel names, some letters have the wrong capitalization\n",
    "    for i, s in enumerate(channels):\n",
    "        s2 = s.upper()\n",
    "        s2 = s2.replace('Z', 'z')\n",
    "        s2 = s2.replace('FP', 'Fp')\n",
    "        channels[i] = s2\n",
    "    # The signal is recorded with 64 channels, bandpass filtered\n",
    "    # 0.1-60Hz and digitized at 240Hz. The format is Character Epoch x\n",
    "    # Samples x Channels\n",
    "    data = data_mat['Signal']\n",
    "    data = data.astype('double')\n",
    "    # For each sample: 1 if a row/colum was flashed, 0 otherwise\n",
    "    flashing = data_mat['Flashing'].reshape(-1)\n",
    "    #flashing = np.flatnonzero((np.diff(a) == 1)) + 1\n",
    "    ##Creates an array where only the initial intensifications of each series appear\n",
    "    tmp = []\n",
    "    for i, _ in enumerate(flashing):\n",
    "        if i == 0:\n",
    "            tmp.append(flashing[i])\n",
    "            continue\n",
    "        if flashing[i] == flashing[i-1] == 1:\n",
    "            tmp.append(0)\n",
    "            continue\n",
    "        tmp.append(flashing[i])\n",
    "    flashing = np.array(tmp)\n",
    "    # For each sample: 0 when no row/colum was intensified,\n",
    "    # 1..6 for intensified columns, 7..12 for intensified rows\n",
    "    stimulus_code = data_mat['StimulusCode'].reshape(-1)\n",
    "    stimulus_code = stimulus_code[flashing == 1]\n",
    "    # 0 if no row/col was intensified or the intensified did not contain\n",
    "    # the target character, 1 otherwise\n",
    "    stimulus_type = data_mat.get('StimulusType', np.array([])).reshape(-1)\n",
    "    # The target characters\n",
    "    target_chars = data_mat.get('TargetChar', np.array([])).reshape(-1)\n",
    "    fs = 240\n",
    "    data = data.reshape(-1, 64)\n",
    "    timeaxis = np.linspace(0, data.shape[0] / fs * 1000, data.shape[0], endpoint=False)\n",
    "    dat = Data(data=data, axes=[timeaxis, channels], names=['time', 'channel'], units=['ms', '#'])\n",
    "    dat.fs = fs\n",
    "    # preparing the markers\n",
    "    target_mask = np.logical_and((flashing == 1), (stimulus_type == 1)) if len(stimulus_type) > 0 else []\n",
    "    nontarget_mask = np.logical_and((flashing == 1), (stimulus_type == 0)) if len(stimulus_type) > 0 else []\n",
    "    flashing = (flashing == 1)\n",
    "    flashing = [[i, 'flashing'] for i in timeaxis[flashing]]\n",
    "    targets = [[i, 'target'] for i in timeaxis[target_mask]]\n",
    "    nontargets = [[i, 'nontarget'] for i in timeaxis[nontarget_mask]]\n",
    "    dat.stimulus_code = stimulus_code[:]\n",
    "    stim = []\n",
    "    for i,_ in enumerate(flashing):\n",
    "        stim.append([flashing[i][0], STIMULUS_CODE[stimulus_code[i]]])\n",
    "    stimulus_code = stim\n",
    "    #stimulus_code = zip([t for t, _ in flashing], [STIMULUS_CODE[i] for i in stimulus_code])\n",
    "    #Raises error \"TypeError: '<' not supported between instances of 'tuple' and 'list'\" when calling sort() \n",
    "    #stimulus_code =[[t for t,_ in flashing], [STIMULUS_CODE[i] for i in stimulus_code]]\n",
    "    #print(type(stimulus_code), type(flashing), type(targets), type(nontargets))\n",
    "    markers = flashing[:]\n",
    "    markers.extend(targets)\n",
    "    markers.extend(nontargets)\n",
    "    markers.extend(stimulus_code)\n",
    "    markers.sort()\n",
    "    dat.markers = markers[:]\n",
    "    return dat\n"
   ]
  },
  {
   "cell_type": "code",
   "execution_count": 7,
   "metadata": {},
   "outputs": [],
   "source": [
    "def preprocessing_simple(dat, MRK_DEF, *args, **kwargs):\n",
    "    \"\"\"Simple preprocessing that reaches 97% accuracy.\n",
    "    \"\"\"\n",
    "    fs_n = dat.fs / 2\n",
    "    b, a = proc.signal.butter(5, [10 / fs_n], btype='low')\n",
    "    dat = proc.filtfilt(dat, b, a)\n",
    "   \n",
    "    dat = proc.subsample(dat, 20)\n",
    "    epo = proc.segment_dat(dat, MRK_DEF, SEG_IVAL)\n",
    "    fv = proc.create_feature_vectors(epo)\n",
    "    return fv, epo"
   ]
  },
  {
   "cell_type": "code",
   "execution_count": 8,
   "metadata": {},
   "outputs": [],
   "source": [
    "dat_train = load_bci_data(TRAIN_A)\n",
    "dat_test = load_bci_data(TEST_A)"
   ]
  },
  {
   "cell_type": "code",
   "execution_count": 9,
   "metadata": {
    "scrolled": false
   },
   "outputs": [
    {
     "name": "stderr",
     "output_type": "stream",
     "text": [
      "WARNING:wyrm.processing:Subsampling led to loss of 6 samples, in an online setting consider using a BlockBuffer with a buffer size of a multiple of 12 samples.\n"
     ]
    }
   ],
   "source": [
    "fv_train, epo_train = preprocessing_simple(dat_train, MARKER_DEF_TRAIN, SEG_IVAL)\n",
    "fv_test, _ = preprocessing_simple(dat_test, MARKER_DEF_TEST, SEG_IVAL)"
   ]
  },
  {
   "cell_type": "code",
   "execution_count": 10,
   "metadata": {
    "scrolled": true
   },
   "outputs": [],
   "source": [
    "x = fv_train.data #traininig samples\n",
    "y = fv_train.axes[0] #class labels"
   ]
  },
  {
   "cell_type": "code",
   "execution_count": 11,
   "metadata": {
    "scrolled": true
   },
   "outputs": [],
   "source": [
    "x_test = fv_test.data #traininig samples\n",
    "y_test = fv_test.axes[0] #class labels"
   ]
  },
  {
   "cell_type": "code",
   "execution_count": 12,
   "metadata": {},
   "outputs": [],
   "source": [
    "# scaler = StandardScaler()\n",
    "# X = scaler.fit_transform(x)\n",
    "X_train, X_valid, y_train, y_valid = train_test_split(x, y, test_size = 0.3, train_size = 0.7)\n"
   ]
  },
  {
   "cell_type": "code",
   "execution_count": 13,
   "metadata": {},
   "outputs": [
    {
     "name": "stderr",
     "output_type": "stream",
     "text": [
      "WARNING:wyrm.processing:Subsampling led to loss of 6 samples, in an online setting consider using a BlockBuffer with a buffer size of a multiple of 12 samples.\n"
     ]
    }
   ],
   "source": [
    "# Subject B\n",
    "dat_train_B = load_bci_data(TRAIN_B)\n",
    "fv_train_B, epo_train = preprocessing_simple(dat_train_B, MARKER_DEF_TRAIN, SEG_IVAL)\n",
    "x_B = normalize(fv_train.data) #traininig samples\n",
    "y_B = fv_train.axes[0] #class labels\n",
    "X_train_B, X_valid_B, y_train_B, y_valid_B = train_test_split(x_B, y_B, test_size = 0.3, train_size = 0.7)"
   ]
  },
  {
   "cell_type": "markdown",
   "metadata": {},
   "source": [
    "## Optimization Algorithm"
   ]
  },
  {
   "cell_type": "markdown",
   "metadata": {},
   "source": [
    "## SDG vs Adam\n",
    "\n",
    "First, a search was conducted in order to assess the convenience of using one of either optimization algorithms for the backpropagation."
   ]
  },
  {
   "cell_type": "code",
   "execution_count": 79,
   "metadata": {
    "scrolled": true
   },
   "outputs": [
    {
     "name": "stdout",
     "output_type": "stream",
     "text": [
      "\n",
      "Solving for relu activation function...\n"
     ]
    },
    {
     "name": "stderr",
     "output_type": "stream",
     "text": [
      "[Parallel(n_jobs=-1)]: Done   3 out of  10 | elapsed:   41.3s remaining:  1.6min\n",
      "[Parallel(n_jobs=-1)]: Done   7 out of  10 | elapsed:   51.1s remaining:   21.9s\n",
      "[Parallel(n_jobs=-1)]: Done  10 out of  10 | elapsed:  1.0min finished\n"
     ]
    },
    {
     "name": "stdout",
     "output_type": "stream",
     "text": [
      "\n",
      "Solving for tanh activation function...\n"
     ]
    },
    {
     "name": "stderr",
     "output_type": "stream",
     "text": [
      "[Parallel(n_jobs=-1)]: Done   3 out of  10 | elapsed:  2.2min remaining:  5.1min\n",
      "[Parallel(n_jobs=-1)]: Done   7 out of  10 | elapsed:  2.4min remaining:  1.0min\n",
      "[Parallel(n_jobs=-1)]: Done  10 out of  10 | elapsed:  2.6min finished\n"
     ]
    },
    {
     "name": "stdout",
     "output_type": "stream",
     "text": [
      "\n",
      "Solving for logistic activation function...\n"
     ]
    },
    {
     "name": "stderr",
     "output_type": "stream",
     "text": [
      "[Parallel(n_jobs=-1)]: Done   3 out of  10 | elapsed:  3.7min remaining:  8.7min\n",
      "[Parallel(n_jobs=-1)]: Done   7 out of  10 | elapsed:  3.9min remaining:  1.7min\n",
      "[Parallel(n_jobs=-1)]: Done  10 out of  10 | elapsed:  4.4min finished\n"
     ]
    },
    {
     "name": "stdout",
     "output_type": "stream",
     "text": [
      "\n",
      "Solving for identity activation function...\n"
     ]
    },
    {
     "name": "stderr",
     "output_type": "stream",
     "text": [
      "[Parallel(n_jobs=-1)]: Done   3 out of  10 | elapsed:   20.4s remaining:   47.8s\n",
      "[Parallel(n_jobs=-1)]: Done   7 out of  10 | elapsed:   27.7s remaining:   11.8s\n",
      "[Parallel(n_jobs=-1)]: Done  10 out of  10 | elapsed:   32.9s finished\n"
     ]
    },
    {
     "name": "stdout",
     "output_type": "stream",
     "text": [
      "\n",
      "Solving for relu activation function...\n"
     ]
    },
    {
     "name": "stderr",
     "output_type": "stream",
     "text": [
      "[Parallel(n_jobs=-1)]: Done   3 out of  10 | elapsed:   37.7s remaining:  1.5min\n",
      "[Parallel(n_jobs=-1)]: Done   7 out of  10 | elapsed:   49.4s remaining:   21.1s\n",
      "[Parallel(n_jobs=-1)]: Done  10 out of  10 | elapsed:   57.1s finished\n"
     ]
    },
    {
     "name": "stdout",
     "output_type": "stream",
     "text": [
      "\n",
      "Solving for tanh activation function...\n"
     ]
    },
    {
     "name": "stderr",
     "output_type": "stream",
     "text": [
      "[Parallel(n_jobs=-1)]: Done   3 out of  10 | elapsed:  1.8min remaining:  4.1min\n",
      "[Parallel(n_jobs=-1)]: Done   7 out of  10 | elapsed:  2.0min remaining:   51.1s\n",
      "[Parallel(n_jobs=-1)]: Done  10 out of  10 | elapsed:  2.4min finished\n"
     ]
    },
    {
     "name": "stdout",
     "output_type": "stream",
     "text": [
      "\n",
      "Solving for logistic activation function...\n"
     ]
    },
    {
     "name": "stderr",
     "output_type": "stream",
     "text": [
      "[Parallel(n_jobs=-1)]: Done   3 out of  10 | elapsed:  3.7min remaining:  8.6min\n",
      "[Parallel(n_jobs=-1)]: Done   7 out of  10 | elapsed:  3.9min remaining:  1.6min\n",
      "[Parallel(n_jobs=-1)]: Done  10 out of  10 | elapsed:  4.6min finished\n"
     ]
    },
    {
     "name": "stdout",
     "output_type": "stream",
     "text": [
      "\n",
      "Solving for identity activation function...\n"
     ]
    },
    {
     "name": "stderr",
     "output_type": "stream",
     "text": [
      "[Parallel(n_jobs=-1)]: Done   3 out of  10 | elapsed:   21.8s remaining:   50.9s\n",
      "[Parallel(n_jobs=-1)]: Done   7 out of  10 | elapsed:   30.2s remaining:   12.9s\n",
      "[Parallel(n_jobs=-1)]: Done  10 out of  10 | elapsed:   32.7s finished\n"
     ]
    }
   ],
   "source": [
    "import time\n",
    "results = {'sgd': {}, 'adam': {}}\n",
    "cv = StratifiedShuffleSplit(n_splits=10, test_size=0.25)\n",
    "for sv in ['sgd', 'adam']:\n",
    "    auc = []\n",
    "    times = []\n",
    "    for act in activation_fcn:\n",
    "        print('\\nSolving for {} activation function...'.format((act)))\n",
    "        cf = MLPClassifier(solver = 'sgd', activation = act)\n",
    "        t_start = time.clock()\n",
    "        res = cross_val_score(cf, X_train, y_train, scoring='roc_auc', cv=cv, n_jobs=-1, verbose = 3)\n",
    "        t_end = time.clock()\n",
    "        auc.append(res)\n",
    "        times.append(t_end - t_start)\n",
    "    r = results[sv]\n",
    "#     r['pred_proba'] = pred_proba\n",
    "#     r['pred_classes'] = pred_classes\n",
    "    r['auc'] = auc\n",
    "    r['times'] = times"
   ]
  },
  {
   "cell_type": "code",
   "execution_count": 33,
   "metadata": {},
   "outputs": [
    {
     "data": {
      "text/plain": [
       "[array([ 0.64464415,  0.66792029,  0.64401833,  0.66999501,  0.64281315,\n",
       "         0.66227403,  0.67768534,  0.66129624,  0.65386148,  0.64680043]),\n",
       " array([ 0.64146955,  0.6807413 ,  0.68220354,  0.66627318,  0.65528219,\n",
       "         0.64383246,  0.66846406,  0.65388718,  0.66815164,  0.65043477]),\n",
       " array([ 0.72326477,  0.74772039,  0.74417404,  0.74532979,  0.70916146,\n",
       "         0.7294894 ,  0.74442517,  0.75190244,  0.72301958,  0.73295467]),\n",
       " array([ 0.69253509,  0.68177446,  0.66681101,  0.66147123,  0.68866644,\n",
       "         0.68955129,  0.6638905 ,  0.61494861,  0.67431399,  0.6890273 ])]"
      ]
     },
     "execution_count": 33,
     "metadata": {},
     "output_type": "execute_result"
    }
   ],
   "source": [
    "results['sgd']['auc']"
   ]
  },
  {
   "cell_type": "code",
   "execution_count": 30,
   "metadata": {},
   "outputs": [],
   "source": [
    "methods = []\n",
    "for act in activation_fcn:\n",
    "    methods.extend([act]*10)\n",
    "    "
   ]
  },
  {
   "cell_type": "code",
   "execution_count": 85,
   "metadata": {},
   "outputs": [],
   "source": [
    "sgd_auc = np.array(results['sgd']['auc']).reshape(-1)\n",
    "sgd_mean_auc = np.array(results['sgd']['auc']).mean(axis = 0)\n",
    "adam_auc = np.array(results['adam']['auc']).reshape(-1)\n",
    "adam_mean_auc = np.array(results['adam']['auc']).mean(axis = 0)"
   ]
  },
  {
   "cell_type": "code",
   "execution_count": 53,
   "metadata": {
    "scrolled": true
   },
   "outputs": [
    {
     "data": {
      "image/png": "[encoded data removed]",
      "text/plain": [
       "<Figure size 576x288 with 1 Axes>"
      ]
     },
     "metadata": {},
     "output_type": "display_data"
    }
   ],
   "source": [
    "res = pd.DataFrame(data=sgd_auc, columns=['AUC'])\n",
    "res['Functions'] = methods\n",
    "\n",
    "plt.figure(figsize=[8,4])\n",
    "sns.barplot(data=res, x='AUC', y = 'Functions')\n",
    "plt.xlim(0.2, 0.85)\n",
    "sns.despine()"
   ]
  },
  {
   "cell_type": "code",
   "execution_count": 59,
   "metadata": {
    "scrolled": true
   },
   "outputs": [
    {
     "data": {
      "image/png": "[encoded data removed]",
      "text/plain": [
       "<Figure size 576x288 with 1 Axes>"
      ]
     },
     "metadata": {},
     "output_type": "display_data"
    }
   ],
   "source": [
    "res = pd.DataFrame(data=adam_auc, columns=['AUC'])\n",
    "res['Functions'] = methods\n",
    "\n",
    "plt.figure(figsize=[8,4])\n",
    "sns.barplot(data=res, x='AUC', y = 'Functions')\n",
    "plt.xlim(0.2, 0.85)\n",
    "sns.despine()"
   ]
  },
  {
   "cell_type": "code",
   "execution_count": 97,
   "metadata": {
    "scrolled": true
   },
   "outputs": [
    {
     "data": {
      "image/png": "[encoded data removed]",
      "text/plain": [
       "<Figure size 432x144 with 1 Axes>"
      ]
     },
     "metadata": {},
     "output_type": "display_data"
    }
   ],
   "source": [
    "sgd_mean_time = np.array(results['sgd']['times']).mean(axis = 0)\n",
    "adam_mean_time = np.array(results['adam']['times']).mean(axis = 0)\n",
    "mean = []\n",
    "solv = []\n",
    "mean.append(sgd_mean_time)\n",
    "solv.extend(['sgd'])\n",
    "mean.append(adam_mean_time)\n",
    "solv.extend(['adam'])\n",
    "res = pd.DataFrame(data=mean, columns=['Time [s]'])\n",
    "res['Solver'] = solv\n",
    "\n",
    "plt.figure(figsize=[6,2])\n",
    "sns.barplot(data=res, x='Time [s]', y = 'Solver')\n",
    "plt.xlim(0.2, 0.75)\n",
    "sns.despine()"
   ]
  },
  {
   "cell_type": "markdown",
   "metadata": {},
   "source": [
    "### Adam\n",
    "As both solvers showed the same performances for the given problem, and because Adam is recommended in (cite papers), we chose to train our model with this algorithm. As a consequence, we will tune its hyperparameters by carrying out a randomized search, rather than a gridsearch, due to the many parameters there are to tune. Their values where chosen according to the recommended values."
   ]
  },
  {
   "cell_type": "code",
   "execution_count": 99,
   "metadata": {},
   "outputs": [],
   "source": [
    "activation_fcn = ['relu', 'tanh', 'logistic', 'identity']\n",
    "param = {'learning_rate_init': [0.001, 0.005, 0.01], 'beta_1': [0.85, 0.9, 0.95],\n",
    "         'beta_2': [0.998, 0.999, 0.9999], 'epsilon': [1e-5, 1e-8, 1e-9]}\n"
   ]
  },
  {
   "cell_type": "code",
   "execution_count": 105,
   "metadata": {},
   "outputs": [
    {
     "data": {
      "text/plain": [
       "4087.0034338162636"
      ]
     },
     "execution_count": 105,
     "metadata": {},
     "output_type": "execute_result"
    }
   ],
   "source": []
  },
  {
   "cell_type": "code",
   "execution_count": 109,
   "metadata": {
    "scrolled": true
   },
   "outputs": [
    {
     "name": "stdout",
     "output_type": "stream",
     "text": [
      "\n",
      "Solving for relu activation function...\n",
      "Fitting 10 folds for each of 40 candidates, totalling 400 fits\n"
     ]
    },
    {
     "name": "stderr",
     "output_type": "stream",
     "text": [
      "[Parallel(n_jobs=-1)]: Done  16 tasks      | elapsed:   49.1s\n",
      "[Parallel(n_jobs=-1)]: Done 112 tasks      | elapsed:  5.7min\n",
      "[Parallel(n_jobs=-1)]: Done 272 tasks      | elapsed: 13.0min\n",
      "[Parallel(n_jobs=-1)]: Done 400 out of 400 | elapsed: 18.9min finished\n"
     ]
    },
    {
     "name": "stdout",
     "output_type": "stream",
     "text": [
      "RandomizedSearchCV took 1137.13 seconds for 40 candidates parameter settings.\n",
      "\n",
      "Solving for tanh activation function...\n",
      "Fitting 10 folds for each of 40 candidates, totalling 400 fits\n"
     ]
    },
    {
     "name": "stderr",
     "output_type": "stream",
     "text": [
      "[Parallel(n_jobs=-1)]: Done  16 tasks      | elapsed:  1.7min\n",
      "[Parallel(n_jobs=-1)]: Done 112 tasks      | elapsed:  8.7min\n",
      "[Parallel(n_jobs=-1)]: Done 272 tasks      | elapsed: 21.4min\n",
      "[Parallel(n_jobs=-1)]: Done 400 out of 400 | elapsed: 30.6min finished\n"
     ]
    },
    {
     "name": "stdout",
     "output_type": "stream",
     "text": [
      "RandomizedSearchCV took 1847.44 seconds for 40 candidates parameter settings.\n",
      "\n",
      "Solving for logistic activation function...\n",
      "Fitting 10 folds for each of 40 candidates, totalling 400 fits\n"
     ]
    },
    {
     "name": "stderr",
     "output_type": "stream",
     "text": [
      "[Parallel(n_jobs=-1)]: Done  16 tasks      | elapsed:  1.9min\n",
      "[Parallel(n_jobs=-1)]: Done 112 tasks      | elapsed: 12.0min\n",
      "[Parallel(n_jobs=-1)]: Done 272 tasks      | elapsed: 30.1min\n",
      "[Parallel(n_jobs=-1)]: Done 400 out of 400 | elapsed: 42.6min finished\n"
     ]
    },
    {
     "name": "stdout",
     "output_type": "stream",
     "text": [
      "RandomizedSearchCV took 2574.00 seconds for 40 candidates parameter settings.\n",
      "\n",
      "Solving for identity activation function...\n",
      "Fitting 10 folds for each of 40 candidates, totalling 400 fits\n"
     ]
    },
    {
     "name": "stderr",
     "output_type": "stream",
     "text": [
      "[Parallel(n_jobs=-1)]: Done  16 tasks      | elapsed:   45.7s\n",
      "[Parallel(n_jobs=-1)]: Done 112 tasks      | elapsed:  4.4min\n",
      "[Parallel(n_jobs=-1)]: Done 272 tasks      | elapsed: 10.7min\n",
      "[Parallel(n_jobs=-1)]: Done 400 out of 400 | elapsed: 15.2min finished\n"
     ]
    },
    {
     "name": "stdout",
     "output_type": "stream",
     "text": [
      "RandomizedSearchCV took 916.96 seconds for 40 candidates parameter settings.\n"
     ]
    }
   ],
   "source": [
    "cv = StratifiedShuffleSplit(n_splits=10, test_size=0.25)\n",
    "results_adam = {}\n",
    "auc = []\n",
    "times = []\n",
    "for act in activation_fcn:\n",
    "    print('\\nSolving for {} activation function...'.format((act)))\n",
    "    cf = MLPClassifier(solver = 'adam', activation = act)\n",
    "    t_start = time.clock()\n",
    "    random_search = RandomizedSearchCV(cf, param_distributions = param,\n",
    "                                       scoring='roc_auc', n_iter = 40, cv=cv, n_jobs=-1, verbose = 3)\n",
    "    random_search.fit(X_train, y_train)\n",
    "    t_diff = time.clock() - t_start\n",
    "    print(\"RandomizedSearchCV took %.2f seconds for %d candidates\"\n",
    "      \" parameter settings.\" % ((t_diff), 40))\n",
    "    times.append(t_diff)\n",
    "    auc.append(random_search.cv_results_)\n",
    "    \n",
    "    \n",
    "results_adam['auc'] = auc\n",
    "results_adam['times'] = times\n"
   ]
  },
  {
   "cell_type": "code",
   "execution_count": 111,
   "metadata": {},
   "outputs": [],
   "source": [
    "# Utility function to report best scores\n",
    "def report(results, n_top=3):\n",
    "    for i in range(1, n_top + 1):\n",
    "        candidates = np.flatnonzero(results['rank_test_score'] == i)\n",
    "        for candidate in candidates:\n",
    "            print(\"Model with rank: {0}\".format(i))\n",
    "            print(\"Mean validation score: {0:.3f} (std: {1:.3f})\".format(\n",
    "                  results['mean_test_score'][candidate],\n",
    "                  results['std_test_score'][candidate]))\n",
    "            print(\"Parameters: {0}\".format(results['params'][candidate]))\n",
    "            print(\"\")"
   ]
  },
  {
   "cell_type": "code",
   "execution_count": 116,
   "metadata": {},
   "outputs": [
    {
     "name": "stderr",
     "output_type": "stream",
     "text": [
      "C:\\Users\\sofis\\Anaconda3\\lib\\site-packages\\sklearn\\utils\\deprecation.py:122: FutureWarning: You are accessing a training score ('split0_train_score'), which will not be available by default any more in 0.21. If you need training scores, please set return_train_score=True\n",
      "  warnings.warn(*warn_args, **warn_kwargs)\n",
      "C:\\Users\\sofis\\Anaconda3\\lib\\site-packages\\sklearn\\utils\\deprecation.py:122: FutureWarning: You are accessing a training score ('split1_train_score'), which will not be available by default any more in 0.21. If you need training scores, please set return_train_score=True\n",
      "  warnings.warn(*warn_args, **warn_kwargs)\n",
      "C:\\Users\\sofis\\Anaconda3\\lib\\site-packages\\sklearn\\utils\\deprecation.py:122: FutureWarning: You are accessing a training score ('split2_train_score'), which will not be available by default any more in 0.21. If you need training scores, please set return_train_score=True\n",
      "  warnings.warn(*warn_args, **warn_kwargs)\n",
      "C:\\Users\\sofis\\Anaconda3\\lib\\site-packages\\sklearn\\utils\\deprecation.py:122: FutureWarning: You are accessing a training score ('split3_train_score'), which will not be available by default any more in 0.21. If you need training scores, please set return_train_score=True\n",
      "  warnings.warn(*warn_args, **warn_kwargs)\n",
      "C:\\Users\\sofis\\Anaconda3\\lib\\site-packages\\sklearn\\utils\\deprecation.py:122: FutureWarning: You are accessing a training score ('split4_train_score'), which will not be available by default any more in 0.21. If you need training scores, please set return_train_score=True\n",
      "  warnings.warn(*warn_args, **warn_kwargs)\n",
      "C:\\Users\\sofis\\Anaconda3\\lib\\site-packages\\sklearn\\utils\\deprecation.py:122: FutureWarning: You are accessing a training score ('split5_train_score'), which will not be available by default any more in 0.21. If you need training scores, please set return_train_score=True\n",
      "  warnings.warn(*warn_args, **warn_kwargs)\n",
      "C:\\Users\\sofis\\Anaconda3\\lib\\site-packages\\sklearn\\utils\\deprecation.py:122: FutureWarning: You are accessing a training score ('split6_train_score'), which will not be available by default any more in 0.21. If you need training scores, please set return_train_score=True\n",
      "  warnings.warn(*warn_args, **warn_kwargs)\n",
      "C:\\Users\\sofis\\Anaconda3\\lib\\site-packages\\sklearn\\utils\\deprecation.py:122: FutureWarning: You are accessing a training score ('split7_train_score'), which will not be available by default any more in 0.21. If you need training scores, please set return_train_score=True\n",
      "  warnings.warn(*warn_args, **warn_kwargs)\n",
      "C:\\Users\\sofis\\Anaconda3\\lib\\site-packages\\sklearn\\utils\\deprecation.py:122: FutureWarning: You are accessing a training score ('split8_train_score'), which will not be available by default any more in 0.21. If you need training scores, please set return_train_score=True\n",
      "  warnings.warn(*warn_args, **warn_kwargs)\n",
      "C:\\Users\\sofis\\Anaconda3\\lib\\site-packages\\sklearn\\utils\\deprecation.py:122: FutureWarning: You are accessing a training score ('split9_train_score'), which will not be available by default any more in 0.21. If you need training scores, please set return_train_score=True\n",
      "  warnings.warn(*warn_args, **warn_kwargs)\n",
      "C:\\Users\\sofis\\Anaconda3\\lib\\site-packages\\sklearn\\utils\\deprecation.py:122: FutureWarning: You are accessing a training score ('mean_train_score'), which will not be available by default any more in 0.21. If you need training scores, please set return_train_score=True\n",
      "  warnings.warn(*warn_args, **warn_kwargs)\n",
      "C:\\Users\\sofis\\Anaconda3\\lib\\site-packages\\sklearn\\utils\\deprecation.py:122: FutureWarning: You are accessing a training score ('std_train_score'), which will not be available by default any more in 0.21. If you need training scores, please set return_train_score=True\n",
      "  warnings.warn(*warn_args, **warn_kwargs)\n"
     ]
    },
    {
     "data": {
      "text/plain": [
       "[{'mean_fit_time': array([ 17.10975869,  23.11913977,  24.07061675,  22.83943408,\n",
       "          29.00671391,  23.92672489,  25.01187396,  23.52894075,\n",
       "          24.04148984,  26.26487846,  22.5828825 ,  18.26241584,\n",
       "          26.95681112,  25.70982852,  21.4794256 ,  20.73571217,\n",
       "          18.48261604,  25.25040598,  16.61567571,  23.25939808,\n",
       "          23.64281712,  19.49780135,  19.37485802,  20.22460377,\n",
       "          18.49577258,  27.91903529,  18.92074027,  23.22186542,\n",
       "          25.20651422,  21.47584944,  23.20809412,  22.30160294,\n",
       "          26.54822435,  17.02544401,  25.26192598,  16.32846484,\n",
       "          24.13998001,  21.07554133,  22.07082305,  19.564484  ]),\n",
       "  'std_fit_time': array([ 4.26664372,  5.9527357 ,  5.54119813,  4.990117  ,  6.33596607,\n",
       "          6.90650706,  5.83190071,  7.18704079,  5.75084518,  9.36287508,\n",
       "          4.31967998,  4.52647894,  5.5072743 ,  5.50880782,  3.15419035,\n",
       "          3.56583567,  5.71637173,  8.59527099,  3.29237017,  3.65877068,\n",
       "          2.48778611,  5.15613608,  3.91384537,  4.45234937,  4.69954304,\n",
       "          4.43681501,  4.09410844,  5.8266607 ,  6.14840226,  4.28956638,\n",
       "          4.88334387,  6.51729537,  7.7725921 ,  2.75908499,  6.8816095 ,\n",
       "          4.82256096,  6.14404252,  6.2470014 ,  6.60526113,  5.14577099]),\n",
       "  'mean_score_time': array([ 0.03454177,  0.03614604,  0.03724949,  0.04607255,  0.03775127,\n",
       "          0.03710058,  0.03729975,  0.03634698,  0.03619597,  0.03559537,\n",
       "          0.03454223,  0.03664811,  0.03732426,  0.03845246,  0.0380507 ,\n",
       "          0.03694892,  0.0335892 ,  0.03754973,  0.03529439,  0.03760066,\n",
       "          0.03845243,  0.03679817,  0.03564517,  0.03619668,  0.03765054,\n",
       "          0.03679838,  0.03724909,  0.03840282,  0.03890433,  0.0356457 ,\n",
       "          0.03609576,  0.03474288,  0.03669798,  0.03338888,  0.03544455,\n",
       "          0.0348932 ,  0.03599641,  0.03424163,  0.03444269,  0.03007998]),\n",
       "  'std_score_time': array([ 0.00510446,  0.00396929,  0.00530567,  0.01400247,  0.00455621,\n",
       "          0.00229968,  0.00221004,  0.00316481,  0.00368267,  0.00312269,\n",
       "          0.00367297,  0.00580091,  0.00583594,  0.00411609,  0.00385422,\n",
       "          0.00246696,  0.0032879 ,  0.00401956,  0.0041588 ,  0.00419403,\n",
       "          0.00587639,  0.00431953,  0.00188194,  0.00350774,  0.00595948,\n",
       "          0.00346032,  0.00359418,  0.00408591,  0.00424317,  0.00351234,\n",
       "          0.00302488,  0.00385765,  0.00620479,  0.00278411,  0.00378512,\n",
       "          0.00407406,  0.00323939,  0.00446643,  0.00161781,  0.00562292]),\n",
       "  'param_learning_rate_init': masked_array(data = [0.01 0.01 0.001 0.005 0.001 0.001 0.001 0.001 0.001 0.001 0.005 0.01 0.005\n",
       "   0.005 0.001 0.01 0.01 0.001 0.01 0.005 0.005 0.01 0.01 0.01 0.01 0.005\n",
       "   0.01 0.005 0.001 0.005 0.001 0.001 0.001 0.01 0.005 0.01 0.01 0.001 0.005\n",
       "   0.005],\n",
       "               mask = [False False False False False False False False False False False False\n",
       "   False False False False False False False False False False False False\n",
       "   False False False False False False False False False False False False\n",
       "   False False False False],\n",
       "         fill_value = ?),\n",
       "  'param_epsilon': masked_array(data = [1e-05 1e-05 1e-08 1e-08 1e-08 1e-05 1e-08 1e-05 1e-09 1e-08 1e-05 1e-05\n",
       "   1e-09 1e-05 1e-05 1e-09 1e-05 1e-09 1e-09 1e-09 1e-09 1e-08 1e-08 1e-08\n",
       "   1e-08 1e-08 1e-05 1e-08 1e-09 1e-05 1e-05 1e-09 1e-05 1e-08 1e-08 1e-09\n",
       "   1e-08 1e-09 1e-09 1e-08],\n",
       "               mask = [False False False False False False False False False False False False\n",
       "   False False False False False False False False False False False False\n",
       "   False False False False False False False False False False False False\n",
       "   False False False False],\n",
       "         fill_value = ?),\n",
       "  'param_beta_2': masked_array(data = [0.998 0.9999 0.998 0.998 0.999 0.998 0.9999 0.999 0.998 0.999 0.998 0.9999\n",
       "   0.998 0.998 0.9999 0.999 0.999 0.9999 0.998 0.998 0.998 0.999 0.998 0.9999\n",
       "   0.998 0.9999 0.998 0.998 0.9999 0.999 0.999 0.999 0.9999 0.999 0.999\n",
       "   0.9999 0.9999 0.999 0.999 0.9999],\n",
       "               mask = [False False False False False False False False False False False False\n",
       "   False False False False False False False False False False False False\n",
       "   False False False False False False False False False False False False\n",
       "   False False False False],\n",
       "         fill_value = ?),\n",
       "  'param_beta_1': masked_array(data = [0.85 0.95 0.95 0.85 0.9 0.85 0.9 0.9 0.9 0.85 0.9 0.85 0.95 0.85 0.95 0.95\n",
       "   0.9 0.9 0.85 0.85 0.9 0.85 0.95 0.9 0.9 0.85 0.95 0.95 0.95 0.9 0.95 0.9\n",
       "   0.85 0.9 0.9 0.85 0.95 0.85 0.9 0.9],\n",
       "               mask = [False False False False False False False False False False False False\n",
       "   False False False False False False False False False False False False\n",
       "   False False False False False False False False False False False False\n",
       "   False False False False],\n",
       "         fill_value = ?),\n",
       "  'params': [{'learning_rate_init': 0.01,\n",
       "    'epsilon': 1e-05,\n",
       "    'beta_2': 0.998,\n",
       "    'beta_1': 0.85},\n",
       "   {'learning_rate_init': 0.01,\n",
       "    'epsilon': 1e-05,\n",
       "    'beta_2': 0.9999,\n",
       "    'beta_1': 0.95},\n",
       "   {'learning_rate_init': 0.001,\n",
       "    'epsilon': 1e-08,\n",
       "    'beta_2': 0.998,\n",
       "    'beta_1': 0.95},\n",
       "   {'learning_rate_init': 0.005,\n",
       "    'epsilon': 1e-08,\n",
       "    'beta_2': 0.998,\n",
       "    'beta_1': 0.85},\n",
       "   {'learning_rate_init': 0.001,\n",
       "    'epsilon': 1e-08,\n",
       "    'beta_2': 0.999,\n",
       "    'beta_1': 0.9},\n",
       "   {'learning_rate_init': 0.001,\n",
       "    'epsilon': 1e-05,\n",
       "    'beta_2': 0.998,\n",
       "    'beta_1': 0.85},\n",
       "   {'learning_rate_init': 0.001,\n",
       "    'epsilon': 1e-08,\n",
       "    'beta_2': 0.9999,\n",
       "    'beta_1': 0.9},\n",
       "   {'learning_rate_init': 0.001,\n",
       "    'epsilon': 1e-05,\n",
       "    'beta_2': 0.999,\n",
       "    'beta_1': 0.9},\n",
       "   {'learning_rate_init': 0.001,\n",
       "    'epsilon': 1e-09,\n",
       "    'beta_2': 0.998,\n",
       "    'beta_1': 0.9},\n",
       "   {'learning_rate_init': 0.001,\n",
       "    'epsilon': 1e-08,\n",
       "    'beta_2': 0.999,\n",
       "    'beta_1': 0.85},\n",
       "   {'learning_rate_init': 0.005,\n",
       "    'epsilon': 1e-05,\n",
       "    'beta_2': 0.998,\n",
       "    'beta_1': 0.9},\n",
       "   {'learning_rate_init': 0.01,\n",
       "    'epsilon': 1e-05,\n",
       "    'beta_2': 0.9999,\n",
       "    'beta_1': 0.85},\n",
       "   {'learning_rate_init': 0.005,\n",
       "    'epsilon': 1e-09,\n",
       "    'beta_2': 0.998,\n",
       "    'beta_1': 0.95},\n",
       "   {'learning_rate_init': 0.005,\n",
       "    'epsilon': 1e-05,\n",
       "    'beta_2': 0.998,\n",
       "    'beta_1': 0.85},\n",
       "   {'learning_rate_init': 0.001,\n",
       "    'epsilon': 1e-05,\n",
       "    'beta_2': 0.9999,\n",
       "    'beta_1': 0.95},\n",
       "   {'learning_rate_init': 0.01,\n",
       "    'epsilon': 1e-09,\n",
       "    'beta_2': 0.999,\n",
       "    'beta_1': 0.95},\n",
       "   {'learning_rate_init': 0.01,\n",
       "    'epsilon': 1e-05,\n",
       "    'beta_2': 0.999,\n",
       "    'beta_1': 0.9},\n",
       "   {'learning_rate_init': 0.001,\n",
       "    'epsilon': 1e-09,\n",
       "    'beta_2': 0.9999,\n",
       "    'beta_1': 0.9},\n",
       "   {'learning_rate_init': 0.01,\n",
       "    'epsilon': 1e-09,\n",
       "    'beta_2': 0.998,\n",
       "    'beta_1': 0.85},\n",
       "   {'learning_rate_init': 0.005,\n",
       "    'epsilon': 1e-09,\n",
       "    'beta_2': 0.998,\n",
       "    'beta_1': 0.85},\n",
       "   {'learning_rate_init': 0.005,\n",
       "    'epsilon': 1e-09,\n",
       "    'beta_2': 0.998,\n",
       "    'beta_1': 0.9},\n",
       "   {'learning_rate_init': 0.01,\n",
       "    'epsilon': 1e-08,\n",
       "    'beta_2': 0.999,\n",
       "    'beta_1': 0.85},\n",
       "   {'learning_rate_init': 0.01,\n",
       "    'epsilon': 1e-08,\n",
       "    'beta_2': 0.998,\n",
       "    'beta_1': 0.95},\n",
       "   {'learning_rate_init': 0.01,\n",
       "    'epsilon': 1e-08,\n",
       "    'beta_2': 0.9999,\n",
       "    'beta_1': 0.9},\n",
       "   {'learning_rate_init': 0.01,\n",
       "    'epsilon': 1e-08,\n",
       "    'beta_2': 0.998,\n",
       "    'beta_1': 0.9},\n",
       "   {'learning_rate_init': 0.005,\n",
       "    'epsilon': 1e-08,\n",
       "    'beta_2': 0.9999,\n",
       "    'beta_1': 0.85},\n",
       "   {'learning_rate_init': 0.01,\n",
       "    'epsilon': 1e-05,\n",
       "    'beta_2': 0.998,\n",
       "    'beta_1': 0.95},\n",
       "   {'learning_rate_init': 0.005,\n",
       "    'epsilon': 1e-08,\n",
       "    'beta_2': 0.998,\n",
       "    'beta_1': 0.95},\n",
       "   {'learning_rate_init': 0.001,\n",
       "    'epsilon': 1e-09,\n",
       "    'beta_2': 0.9999,\n",
       "    'beta_1': 0.95},\n",
       "   {'learning_rate_init': 0.005,\n",
       "    'epsilon': 1e-05,\n",
       "    'beta_2': 0.999,\n",
       "    'beta_1': 0.9},\n",
       "   {'learning_rate_init': 0.001,\n",
       "    'epsilon': 1e-05,\n",
       "    'beta_2': 0.999,\n",
       "    'beta_1': 0.95},\n",
       "   {'learning_rate_init': 0.001,\n",
       "    'epsilon': 1e-09,\n",
       "    'beta_2': 0.999,\n",
       "    'beta_1': 0.9},\n",
       "   {'learning_rate_init': 0.001,\n",
       "    'epsilon': 1e-05,\n",
       "    'beta_2': 0.9999,\n",
       "    'beta_1': 0.85},\n",
       "   {'learning_rate_init': 0.01,\n",
       "    'epsilon': 1e-08,\n",
       "    'beta_2': 0.999,\n",
       "    'beta_1': 0.9},\n",
       "   {'learning_rate_init': 0.005,\n",
       "    'epsilon': 1e-08,\n",
       "    'beta_2': 0.999,\n",
       "    'beta_1': 0.9},\n",
       "   {'learning_rate_init': 0.01,\n",
       "    'epsilon': 1e-09,\n",
       "    'beta_2': 0.9999,\n",
       "    'beta_1': 0.85},\n",
       "   {'learning_rate_init': 0.01,\n",
       "    'epsilon': 1e-08,\n",
       "    'beta_2': 0.9999,\n",
       "    'beta_1': 0.95},\n",
       "   {'learning_rate_init': 0.001,\n",
       "    'epsilon': 1e-09,\n",
       "    'beta_2': 0.999,\n",
       "    'beta_1': 0.85},\n",
       "   {'learning_rate_init': 0.005,\n",
       "    'epsilon': 1e-09,\n",
       "    'beta_2': 0.999,\n",
       "    'beta_1': 0.9},\n",
       "   {'learning_rate_init': 0.005,\n",
       "    'epsilon': 1e-08,\n",
       "    'beta_2': 0.9999,\n",
       "    'beta_1': 0.9}],\n",
       "  'split0_test_score': array([ 0.6264112 ,  0.65264048,  0.63874281,  0.67729185,  0.63944279,\n",
       "          0.62098491,  0.64328622,  0.60907001,  0.64772434,  0.64235787,\n",
       "          0.63571008,  0.60495074,  0.66772454,  0.64632093,  0.64084175,\n",
       "          0.61742868,  0.65555407,  0.61696252,  0.63448068,  0.57198914,\n",
       "          0.66904045,  0.62655455,  0.62901979,  0.6556821 ,  0.62285447,\n",
       "          0.63157598,  0.61985635,  0.6376889 ,  0.6358223 ,  0.63802208,\n",
       "          0.64976099,  0.61864622,  0.6199127 ,  0.65570039,  0.63070793,\n",
       "          0.63028478,  0.61715779,  0.64111264,  0.64755874,  0.63482869]),\n",
       "  'split1_test_score': array([ 0.62213917,  0.6438725 ,  0.65546707,  0.65075608,  0.6583342 ,\n",
       "          0.63751885,  0.64578013,  0.64823301,  0.64335691,  0.65463659,\n",
       "          0.648583  ,  0.66741014,  0.64720776,  0.644832  ,  0.62775677,\n",
       "          0.63801367,  0.64363226,  0.64191544,  0.67155561,  0.66046774,\n",
       "          0.66339715,  0.630833  ,  0.65563613,  0.64368466,  0.61032759,\n",
       "          0.65882458,  0.66125471,  0.64539653,  0.64367427,  0.63208613,\n",
       "          0.65418428,  0.65469393,  0.66912647,  0.65432417,  0.65499894,\n",
       "          0.56165315,  0.66901672,  0.63256563,  0.6690711 ,  0.66919765]),\n",
       "  'split2_test_score': array([ 0.64534611,  0.65871335,  0.62709634,  0.65212538,  0.62024094,\n",
       "          0.62798416,  0.65835101,  0.59862674,  0.6391363 ,  0.63509662,\n",
       "          0.64203012,  0.64221847,  0.63165705,  0.63826232,  0.58790566,\n",
       "          0.61610782,  0.62576757,  0.63343269,  0.59094877,  0.62722289,\n",
       "          0.6306239 ,  0.65099336,  0.60977493,  0.62750318,  0.59714474,\n",
       "          0.63857968,  0.62904253,  0.63993465,  0.64554285,  0.65047036,\n",
       "          0.62605626,  0.64530804,  0.6265763 ,  0.62232109,  0.64515529,\n",
       "          0.6783517 ,  0.66750209,  0.61429708,  0.64774263,  0.64524427]),\n",
       "  'split3_test_score': array([ 0.64452551,  0.6499958 ,  0.6209854 ,  0.65603358,  0.63929647,\n",
       "          0.60597747,  0.62952895,  0.60882433,  0.63125467,  0.64672925,\n",
       "          0.6573742 ,  0.64473017,  0.65747455,  0.62828966,  0.6198514 ,\n",
       "          0.61267271,  0.66379657,  0.64654832,  0.66121912,  0.63863703,\n",
       "          0.61360848,  0.64746284,  0.6279723 ,  0.65662875,  0.64751128,\n",
       "          0.64000138,  0.66782143,  0.64265199,  0.63527853,  0.6383345 ,\n",
       "          0.61953503,  0.65137103,  0.63880411,  0.63354936,  0.6625988 ,\n",
       "          0.66275699,  0.6528219 ,  0.6292719 ,  0.64760817,  0.65859125]),\n",
       "  'split4_test_score': array([ 0.62763368,  0.65414918,  0.63369172,  0.61175275,  0.65092465,\n",
       "          0.63137331,  0.64240681,  0.64378896,  0.65330091,  0.61402916,\n",
       "          0.61613501,  0.63585937,  0.64841047,  0.64060744,  0.61351802,\n",
       "          0.61224264,  0.63764144,  0.63539421,  0.61137904,  0.64266386,\n",
       "          0.65497027,  0.57688798,  0.6230092 ,  0.64374941,  0.62972965,\n",
       "          0.60355227,  0.64466591,  0.65131468,  0.59644278,  0.64552407,\n",
       "          0.65271809,  0.57000391,  0.60301246,  0.60667349,  0.651374  ,\n",
       "          0.60987973,  0.66739828,  0.64191742,  0.65550563,  0.67308409]),\n",
       "  'split5_test_score': array([ 0.65501327,  0.66584113,  0.62502509,  0.67585038,  0.61978319,\n",
       "          0.65265827,  0.64451167,  0.6719931 ,  0.6368772 ,  0.65332167,\n",
       "          0.68610876,  0.64531101,  0.65948945,  0.65133148,  0.63637002,\n",
       "          0.63697508,  0.62406114,  0.61999921,  0.63142818,  0.6541561 ,\n",
       "          0.67950152,  0.60378164,  0.62705284,  0.61451162,  0.60745849,\n",
       "          0.66294187,  0.64128072,  0.67737786,  0.6544962 ,  0.66270657,\n",
       "          0.65253172,  0.64887712,  0.61833479,  0.62147084,  0.65745132,\n",
       "          0.65336418,  0.6500917 ,  0.67027826,  0.64515628,  0.63435512]),\n",
       "  'split6_test_score': array([ 0.61417548,  0.62436515,  0.62406015,  0.63133079,  0.62764406,\n",
       "          0.64273504,  0.63268625,  0.64204051,  0.64272763,  0.64545832,\n",
       "          0.6312428 ,  0.63887282,  0.64874217,  0.64077452,  0.64126144,\n",
       "          0.65701334,  0.6483037 ,  0.64440688,  0.61147148,  0.63853816,\n",
       "          0.62685511,  0.67110874,  0.6161711 ,  0.63430173,  0.60040832,\n",
       "          0.64937195,  0.6025814 ,  0.63669974,  0.63288399,  0.64160006,\n",
       "          0.61080413,  0.61620323,  0.62119895,  0.63462453,  0.65454168,\n",
       "          0.62334831,  0.66245001,  0.6400701 ,  0.65901539,  0.65132654]),\n",
       "  'split7_test_score': array([ 0.59755256,  0.6463407 ,  0.60508619,  0.61173249,  0.61336972,\n",
       "          0.61022576,  0.62923087,  0.61247695,  0.62203932,  0.64686865,\n",
       "          0.57577771,  0.62788876,  0.64523884,  0.6170169 ,  0.62780225,\n",
       "          0.6169556 ,  0.59646503,  0.62425986,  0.58301128,  0.62755706,\n",
       "          0.6494283 ,  0.59724261,  0.64181954,  0.60331203,  0.62413825,\n",
       "          0.63065998,  0.62808303,  0.64905953,  0.62013614,  0.635063  ,\n",
       "          0.6255125 ,  0.63333778,  0.64784842,  0.62569046,  0.62773502,\n",
       "          0.59062943,  0.67933937,  0.63653809,  0.64193126,  0.63063082]),\n",
       "  'split8_test_score': array([ 0.62904302,  0.61289911,  0.64533622,  0.64608464,  0.60513513,\n",
       "          0.62074911,  0.63296604,  0.63689796,  0.60662109,  0.62949484,\n",
       "          0.62780225,  0.60075386,  0.65560647,  0.62807413,  0.60283846,\n",
       "          0.64992906,  0.63621974,  0.62212978,  0.61384082,  0.65043081,\n",
       "          0.64473363,  0.65040115,  0.63238421,  0.64640497,  0.63962273,\n",
       "          0.65283327,  0.67609062,  0.64432482,  0.65585265,  0.6461924 ,\n",
       "          0.64224763,  0.63570761,  0.64994735,  0.64985046,  0.62794165,\n",
       "          0.59356873,  0.65865551,  0.62029235,  0.65814487,  0.65772914]),\n",
       "  'split9_test_score': array([ 0.65997934,  0.66257063,  0.62824912,  0.6565635 ,  0.6531358 ,\n",
       "          0.65564108,  0.66599437,  0.63962223,  0.65370922,  0.64169793,\n",
       "          0.65790611,  0.65928678,  0.64237616,  0.66829698,  0.63501654,\n",
       "          0.67429422,  0.64873525,  0.6363542 ,  0.64494669,  0.68512208,\n",
       "          0.68765009,  0.60183595,  0.6686613 ,  0.68015997,  0.62672905,\n",
       "          0.66483863,  0.67130993,  0.68054011,  0.65423618,  0.67151014,\n",
       "          0.64303164,  0.64291103,  0.65186339,  0.63648965,  0.67332928,\n",
       "          0.66872704,  0.68707469,  0.65021676,  0.63837009,  0.65431231]),\n",
       "  'mean_test_score': array([ 0.63218193,  0.6471388 ,  0.63037401,  0.64695214,  0.63273069,\n",
       "          0.6305848 ,  0.64247423,  0.63115738,  0.63767476,  0.64096909,\n",
       "          0.637867  ,  0.63672821,  0.65039275,  0.64038064,  0.62331623,\n",
       "          0.63316328,  0.63801768,  0.63214031,  0.62542817,  0.63967849,\n",
       "          0.65198089,  0.62571018,  0.63315013,  0.64059384,  0.62059246,\n",
       "          0.64331796,  0.64419866,  0.65049888,  0.63743659,  0.64615093,\n",
       "          0.63763823,  0.63170599,  0.63466249,  0.63406944,  0.64858339,\n",
       "          0.62725641,  0.66115081,  0.63765602,  0.65101042,  0.65092999]),\n",
       "  'std_test_score': array([ 0.01818722,  0.01584855,  0.01321336,  0.02167   ,  0.01725386,\n",
       "          0.01589673,  0.01161977,  0.02176134,  0.01383069,  0.01149734,\n",
       "          0.02778258,  0.0200139 ,  0.00958712,  0.01342589,  0.01660594,\n",
       "          0.02058742,  0.01816347,  0.01011786,  0.02724355,  0.02778082,\n",
       "          0.02253637,  0.02838115,  0.01691444,  0.02093968,  0.01568653,\n",
       "          0.01768825,  0.02328897,  0.0148981 ,  0.017392  ,  0.01185275,\n",
       "          0.01499752,  0.02399436,  0.01908091,  0.01500374,  0.0147102 ,\n",
       "          0.03657735,  0.01810825,  0.01484086,  0.00878648,  0.01385422]),\n",
       "  'rank_test_score': array([30,  8, 35,  9, 29, 34, 13, 33, 20, 14, 19, 24,  6, 16, 39, 27, 18,\n",
       "         31, 38, 17,  2, 37, 28, 15, 40, 12, 11,  5, 23, 10, 22, 32, 25, 26,\n",
       "          7, 36,  1, 21,  3,  4]),\n",
       "  'split0_train_score': array([ 0.8628037 ,  0.91410796,  0.95462112,  0.93015143,  0.96828061,\n",
       "          0.96563086,  0.96888644,  0.87651465,  0.96503871,  0.98431607,\n",
       "          0.85195057,  0.72532627,  0.90134383,  0.89778559,  0.91349461,\n",
       "          0.80240553,  0.79381492,  0.95383118,  0.79900384,  0.72512024,\n",
       "          0.88323012,  0.81977219,  0.77074902,  0.79126785,  0.76761726,\n",
       "          0.83963671,  0.80553169,  0.77493725,  0.97648114,  0.89586609,\n",
       "          0.94718615,  0.96512876,  0.8847132 ,  0.84515284,  0.77974668,\n",
       "          0.8148201 ,  0.81717075,  0.94166536,  0.90511903,  0.86137521]),\n",
       "  'split1_train_score': array([ 0.68177568,  0.82084134,  0.94221556,  0.87281704,  0.96385748,\n",
       "          0.94562406,  0.96110504,  0.95019063,  0.94048029,  0.91477149,\n",
       "          0.88718608,  0.77473858,  0.82746671,  0.92808944,  0.98200918,\n",
       "          0.75240139,  0.80905204,  0.90620878,  0.80359698,  0.87201936,\n",
       "          0.93353029,  0.78964333,  0.78097953,  0.82133054,  0.66266211,\n",
       "          0.96679419,  0.79771125,  0.86101033,  0.90762469,  0.84074963,\n",
       "          0.94766278,  0.94737966,  0.96719701,  0.79218244,  0.93550299,\n",
       "          0.6369637 ,  0.86236168,  0.97220692,  0.90892728,  0.89405921]),\n",
       "  'split2_train_score': array([ 0.82878226,  0.87885871,  0.97779251,  0.85126035,  0.89631976,\n",
       "          0.93394091,  0.93952243,  0.94523332,  0.9675245 ,  0.9240822 ,\n",
       "          0.84718567,  0.84467846,  0.85109803,  0.88794352,  0.89591106,\n",
       "          0.75807896,  0.80913957,  0.89667426,  0.74747676,  0.86898144,\n",
       "          0.870551  ,  0.78959759,  0.74020378,  0.75976525,  0.6745284 ,\n",
       "          0.93221754,  0.76082326,  0.91674574,  0.95667356,  0.86528329,\n",
       "          0.93605797,  0.8747473 ,  0.9290943 ,  0.80109471,  0.90464581,\n",
       "          0.8300844 ,  0.88227941,  0.96008206,  0.87915084,  0.85395776]),\n",
       "  'split3_train_score': array([ 0.7486939 ,  0.83133899,  0.95149991,  0.83012372,  0.95549112,\n",
       "          0.81890296,  0.95775145,  0.91026917,  0.97293767,  0.92719737,\n",
       "          0.94300495,  0.80603857,  0.90670187,  0.82684952,  0.97484284,\n",
       "          0.71835079,  0.85179133,  0.98976021,  0.89481719,  0.80835144,\n",
       "          0.81306324,  0.82362997,  0.73879978,  0.79875976,  0.82742674,\n",
       "          0.88543807,  0.80521035,  0.86512323,  0.98289642,  0.82490998,\n",
       "          0.94864001,  0.94624153,  0.9702363 ,  0.78859756,  0.92949976,\n",
       "          0.83874167,  0.77953994,  0.92876242,  0.89220225,  0.8895391 ]),\n",
       "  'split4_train_score': array([ 0.70141946,  0.80723643,  0.93012376,  0.83092497,  0.99174248,\n",
       "          0.98078962,  0.94743402,  0.96287908,  0.96162191,  0.82408435,\n",
       "          0.80515105,  0.81540006,  0.88308867,  0.94386122,  0.89818451,\n",
       "          0.74190441,  0.83506158,  0.9856303 ,  0.70702542,  0.8791683 ,\n",
       "          0.90888159,  0.72747491,  0.77499743,  0.82977635,  0.77404896,\n",
       "          0.78540365,  0.76160996,  0.89030433,  0.90688357,  0.87563196,\n",
       "          0.93840424,  0.82219856,  0.93658198,  0.79109516,  0.90562815,\n",
       "          0.74161344,  0.88916758,  0.90348709,  0.88924522,  0.93935364]),\n",
       "  'split5_train_score': array([ 0.78821962,  0.84814896,  0.83687593,  0.87787137,  0.94705173,\n",
       "          0.97189701,  0.9466712 ,  0.96629302,  0.95086866,  0.98635116,\n",
       "          0.88344548,  0.80292916,  0.84072591,  0.84521922,  0.90565632,\n",
       "          0.82058063,  0.72200348,  0.94521652,  0.76405803,  0.89932972,\n",
       "          0.93238101,  0.72124561,  0.77184937,  0.72853693,  0.71394001,\n",
       "          0.89306357,  0.81209051,  0.87560928,  0.98063818,  0.8576306 ,\n",
       "          0.94718407,  0.97478858,  0.94130844,  0.76571522,  0.81127844,\n",
       "          0.77278789,  0.8501086 ,  0.97784193,  0.83269209,  0.83113813]),\n",
       "  'split6_train_score': array([ 0.74366379,  0.79287052,  0.95798152,  0.84342459,  0.93012079,\n",
       "          0.95872073,  0.92142124,  0.96242223,  0.94515634,  0.96235573,\n",
       "          0.85959398,  0.83839255,  0.88961751,  0.90758768,  0.97584067,\n",
       "          0.87484307,  0.77770012,  0.9193481 ,  0.7495342 ,  0.87470013,\n",
       "          0.86929081,  0.9164848 ,  0.72315863,  0.80503684,  0.70412221,\n",
       "          0.93828343,  0.75538297,  0.8534829 ,  0.96321365,  0.87013549,\n",
       "          0.94198615,  0.91991659,  0.97262836,  0.77698809,  0.83208072,\n",
       "          0.7142402 ,  0.8299178 ,  0.93265919,  0.94908649,  0.9467573 ]),\n",
       "  'split7_train_score': array([ 0.75921626,  0.82496797,  0.91098982,  0.8773567 ,  0.94995385,\n",
       "          0.95534901,  0.97599178,  0.92840034,  0.88170713,  0.97987086,\n",
       "          0.74869226,  0.81065197,  0.93125019,  0.87217294,  0.95392321,\n",
       "          0.80421225,  0.71024262,  0.96957348,  0.72164914,  0.88072874,\n",
       "          0.87797982,  0.71760791,  0.83488817,  0.78889144,  0.78595303,\n",
       "          0.835007  ,  0.75973264,  0.88842848,  0.94553357,  0.88305112,\n",
       "          0.96597636,  0.97472566,  0.9456971 ,  0.85421562,  0.91369174,\n",
       "          0.71166655,  0.78428881,  0.967784  ,  0.93503241,  0.90231047]),\n",
       "  'split8_train_score': array([ 0.79423334,  0.81551669,  0.88979224,  0.86888733,  0.9540148 ,\n",
       "          0.82800396,  0.97298983,  0.99041013,  0.92134404,  0.97136679,\n",
       "          0.94404583,  0.80064659,  0.92266167,  0.89823953,  0.94531448,\n",
       "          0.79675702,  0.76756801,  0.91050068,  0.74083157,  0.92998747,\n",
       "          0.80547233,  0.80318224,  0.78162747,  0.82462686,  0.75339543,\n",
       "          0.93372774,  0.81240547,  0.86328933,  0.97769576,  0.91716635,\n",
       "          0.94731245,  0.95317028,  0.96431521,  0.7286524 ,  0.8879131 ,\n",
       "          0.69268115,  0.85595079,  0.85986534,  0.93827778,  0.91032881]),\n",
       "  'split9_train_score': array([ 0.71589723,  0.83043846,  0.92261669,  0.90606239,  0.94556498,\n",
       "          0.96076284,  0.98641804,  0.90963979,  0.92821727,  0.91854987,\n",
       "          0.81478001,  0.77447002,  0.85160244,  0.94981812,  0.86086998,\n",
       "          0.8101111 ,  0.74568031,  0.95660657,  0.73946095,  0.86485856,\n",
       "          0.89660452,  0.69053031,  0.83052412,  0.85750299,  0.77719868,\n",
       "          0.87924166,  0.76346632,  0.825594  ,  0.93592207,  0.87259992,\n",
       "          0.96179296,  0.92363929,  0.92626872,  0.74834039,  0.92646058,\n",
       "          0.76069049,  0.81165144,  0.93131026,  0.80788086,  0.91551542]),\n",
       "  'mean_train_score': array([ 0.76247052,  0.8364326 ,  0.92745091,  0.86888799,  0.95023976,\n",
       "          0.9319622 ,  0.95781915,  0.94022524,  0.94348965,  0.93929459,\n",
       "          0.85850359,  0.79932722,  0.88055568,  0.89575668,  0.93060469,\n",
       "          0.78796451,  0.7822054 ,  0.94333501,  0.76674541,  0.86032454,\n",
       "          0.87909847,  0.77991688,  0.77477773,  0.80054948,  0.74408928,\n",
       "          0.88888136,  0.78339644,  0.86145249,  0.95335626,  0.87030244,\n",
       "          0.94822031,  0.93019362,  0.94380406,  0.78920344,  0.8826448 ,\n",
       "          0.75142896,  0.83624368,  0.93756646,  0.89376142,  0.8944335 ]),\n",
       "  'std_train_score': array([ 0.05394249,  0.03405092,  0.03863217,  0.03034136,  0.02370539,\n",
       "          0.05566435,  0.01844799,  0.03218703,  0.02616302,  0.04704361,\n",
       "          0.05735132,  0.03275332,  0.03414388,  0.03788379,  0.03929209,\n",
       "          0.043333  ,  0.04425889,  0.03183008,  0.05147026,  0.05344724,\n",
       "          0.04118784,  0.06398791,  0.03462003,  0.03493429,  0.0503062 ,\n",
       "          0.0534393 ,  0.02358335,  0.03697184,  0.02732856,  0.02483058,\n",
       "          0.00886618,  0.04599881,  0.02564177,  0.03680797,  0.05210667,\n",
       "          0.06163165,  0.03620245,  0.03405661,  0.04294891,  0.03503754])},\n",
       " {'mean_fit_time': array([ 37.66418574,  49.75565112,  30.76882014,  24.84358513,\n",
       "          35.40724742,  24.10309644,  27.43948874,  45.67388227,\n",
       "          42.17031007,  30.87991805,  28.87882981,  52.37112687,\n",
       "          52.19204533,  33.87286859,  34.11491632,  46.91254284,\n",
       "          49.84941187,  22.26329904,  37.37031543,  26.02749095,\n",
       "          37.6220911 ,  37.83236945,  37.07201817,  49.8390372 ,\n",
       "          33.64867523,  33.47368305,  43.05946896,  25.87059712,\n",
       "          23.34669015,  42.79340498,  50.92574065,  23.46506641,\n",
       "          24.35119987,  39.20772202,  34.9489923 ,  24.69275224,\n",
       "          55.11702299,  28.59678056,  25.36913648,  48.24790199]),\n",
       "  'std_fit_time': array([ 10.67221421,  11.25030003,   7.84098706,   4.84881922,\n",
       "          11.08035036,   5.88868074,   5.77425401,   8.64062193,\n",
       "           8.92641447,   8.44497068,   6.31218094,  10.95353901,\n",
       "          10.51581827,  12.21291067,  12.35973919,  11.60026249,\n",
       "          14.24465893,   5.03278443,   8.10634005,   6.33657524,\n",
       "          12.76448019,   6.42199607,   7.73042007,  10.57902231,\n",
       "           6.870319  ,   9.58241177,  13.13934569,   8.54066581,\n",
       "           8.21236933,  14.11087161,   9.0038907 ,   4.33097553,\n",
       "           7.54420614,   8.98466637,   8.05225343,   5.54730748,\n",
       "          17.13388362,  10.04355894,   6.8237024 ,  15.91776021]),\n",
       "  'mean_score_time': array([ 0.04236305,  0.04557188,  0.04105985,  0.03985648,  0.04261367,\n",
       "          0.03940494,  0.0390543 ,  0.04221258,  0.04251308,  0.03830221,\n",
       "          0.03785207,  0.04582257,  0.04186199,  0.04072752,  0.04115987,\n",
       "          0.03965604,  0.03820219,  0.0387028 ,  0.04035835,  0.03760016,\n",
       "          0.0394567 ,  0.03900442,  0.03865316,  0.03970566,  0.03960552,\n",
       "          0.0414104 ,  0.04005642,  0.04161079,  0.03724923,  0.04301503,\n",
       "          0.04186199,  0.03805206,  0.03755031,  0.03990648,  0.04171097,\n",
       "          0.03860302,  0.0411597 ,  0.03860338,  0.03920457,  0.03529396]),\n",
       "  'std_score_time': array([ 0.00302704,  0.00419673,  0.00309427,  0.00274805,  0.00908785,\n",
       "          0.00459015,  0.00292682,  0.00428266,  0.00296434,  0.00319662,\n",
       "          0.00320578,  0.00703402,  0.00329047,  0.00287242,  0.00502076,\n",
       "          0.00341102,  0.00327883,  0.00419948,  0.00334972,  0.00372526,\n",
       "          0.00313287,  0.00243353,  0.00188162,  0.00317703,  0.00345856,\n",
       "          0.00513825,  0.00327564,  0.00575948,  0.00397947,  0.00345698,\n",
       "          0.00189225,  0.00403138,  0.00304458,  0.00484053,  0.00800785,\n",
       "          0.0029405 ,  0.00328355,  0.00296644,  0.00393317,  0.00792708]),\n",
       "  'param_learning_rate_init': masked_array(data = [0.005 0.001 0.005 0.01 0.005 0.01 0.01 0.001 0.001 0.005 0.005 0.001 0.001\n",
       "   0.005 0.005 0.001 0.001 0.01 0.005 0.01 0.005 0.005 0.005 0.001 0.005\n",
       "   0.005 0.001 0.01 0.01 0.001 0.001 0.01 0.01 0.005 0.005 0.01 0.001 0.005\n",
       "   0.01 0.001],\n",
       "               mask = [False False False False False False False False False False False False\n",
       "   False False False False False False False False False False False False\n",
       "   False False False False False False False False False False False False\n",
       "   False False False False],\n",
       "         fill_value = ?),\n",
       "  'param_epsilon': masked_array(data = [1e-08 1e-09 1e-09 1e-05 1e-09 1e-08 1e-05 1e-08 1e-09 1e-09 1e-05 1e-05\n",
       "   1e-08 1e-05 1e-09 1e-05 1e-09 1e-08 1e-08 1e-05 1e-05 1e-08 1e-08 1e-05\n",
       "   1e-08 1e-08 1e-09 1e-05 1e-08 1e-08 1e-05 1e-09 1e-09 1e-09 1e-08 1e-09\n",
       "   1e-09 1e-05 1e-05 1e-09],\n",
       "               mask = [False False False False False False False False False False False False\n",
       "   False False False False False False False False False False False False\n",
       "   False False False False False False False False False False False False\n",
       "   False False False False],\n",
       "         fill_value = ?),\n",
       "  'param_beta_2': masked_array(data = [0.9999 0.999 0.9999 0.9999 0.998 0.998 0.9999 0.9999 0.9999 0.999 0.998\n",
       "   0.998 0.998 0.999 0.999 0.999 0.998 0.9999 0.998 0.999 0.999 0.999 0.999\n",
       "   0.999 0.9999 0.998 0.999 0.998 0.999 0.999 0.999 0.9999 0.998 0.999 0.9999\n",
       "   0.999 0.999 0.9999 0.999 0.998],\n",
       "               mask = [False False False False False False False False False False False False\n",
       "   False False False False False False False False False False False False\n",
       "   False False False False False False False False False False False False\n",
       "   False False False False],\n",
       "         fill_value = ?),\n",
       "  'param_beta_1': masked_array(data = [0.85 0.9 0.85 0.9 0.95 0.9 0.85 0.9 0.85 0.85 0.9 0.9 0.95 0.95 0.95 0.95\n",
       "   0.95 0.95 0.9 0.85 0.85 0.85 0.9 0.85 0.9 0.95 0.85 0.95 0.95 0.9 0.9 0.9\n",
       "   0.85 0.9 0.95 0.9 0.95 0.95 0.9 0.85],\n",
       "               mask = [False False False False False False False False False False False False\n",
       "   False False False False False False False False False False False False\n",
       "   False False False False False False False False False False False False\n",
       "   False False False False],\n",
       "         fill_value = ?),\n",
       "  'params': [{'learning_rate_init': 0.005,\n",
       "    'epsilon': 1e-08,\n",
       "    'beta_2': 0.9999,\n",
       "    'beta_1': 0.85},\n",
       "   {'learning_rate_init': 0.001,\n",
       "    'epsilon': 1e-09,\n",
       "    'beta_2': 0.999,\n",
       "    'beta_1': 0.9},\n",
       "   {'learning_rate_init': 0.005,\n",
       "    'epsilon': 1e-09,\n",
       "    'beta_2': 0.9999,\n",
       "    'beta_1': 0.85},\n",
       "   {'learning_rate_init': 0.01,\n",
       "    'epsilon': 1e-05,\n",
       "    'beta_2': 0.9999,\n",
       "    'beta_1': 0.9},\n",
       "   {'learning_rate_init': 0.005,\n",
       "    'epsilon': 1e-09,\n",
       "    'beta_2': 0.998,\n",
       "    'beta_1': 0.95},\n",
       "   {'learning_rate_init': 0.01,\n",
       "    'epsilon': 1e-08,\n",
       "    'beta_2': 0.998,\n",
       "    'beta_1': 0.9},\n",
       "   {'learning_rate_init': 0.01,\n",
       "    'epsilon': 1e-05,\n",
       "    'beta_2': 0.9999,\n",
       "    'beta_1': 0.85},\n",
       "   {'learning_rate_init': 0.001,\n",
       "    'epsilon': 1e-08,\n",
       "    'beta_2': 0.9999,\n",
       "    'beta_1': 0.9},\n",
       "   {'learning_rate_init': 0.001,\n",
       "    'epsilon': 1e-09,\n",
       "    'beta_2': 0.9999,\n",
       "    'beta_1': 0.85},\n",
       "   {'learning_rate_init': 0.005,\n",
       "    'epsilon': 1e-09,\n",
       "    'beta_2': 0.999,\n",
       "    'beta_1': 0.85},\n",
       "   {'learning_rate_init': 0.005,\n",
       "    'epsilon': 1e-05,\n",
       "    'beta_2': 0.998,\n",
       "    'beta_1': 0.9},\n",
       "   {'learning_rate_init': 0.001,\n",
       "    'epsilon': 1e-05,\n",
       "    'beta_2': 0.998,\n",
       "    'beta_1': 0.9},\n",
       "   {'learning_rate_init': 0.001,\n",
       "    'epsilon': 1e-08,\n",
       "    'beta_2': 0.998,\n",
       "    'beta_1': 0.95},\n",
       "   {'learning_rate_init': 0.005,\n",
       "    'epsilon': 1e-05,\n",
       "    'beta_2': 0.999,\n",
       "    'beta_1': 0.95},\n",
       "   {'learning_rate_init': 0.005,\n",
       "    'epsilon': 1e-09,\n",
       "    'beta_2': 0.999,\n",
       "    'beta_1': 0.95},\n",
       "   {'learning_rate_init': 0.001,\n",
       "    'epsilon': 1e-05,\n",
       "    'beta_2': 0.999,\n",
       "    'beta_1': 0.95},\n",
       "   {'learning_rate_init': 0.001,\n",
       "    'epsilon': 1e-09,\n",
       "    'beta_2': 0.998,\n",
       "    'beta_1': 0.95},\n",
       "   {'learning_rate_init': 0.01,\n",
       "    'epsilon': 1e-08,\n",
       "    'beta_2': 0.9999,\n",
       "    'beta_1': 0.95},\n",
       "   {'learning_rate_init': 0.005,\n",
       "    'epsilon': 1e-08,\n",
       "    'beta_2': 0.998,\n",
       "    'beta_1': 0.9},\n",
       "   {'learning_rate_init': 0.01,\n",
       "    'epsilon': 1e-05,\n",
       "    'beta_2': 0.999,\n",
       "    'beta_1': 0.85},\n",
       "   {'learning_rate_init': 0.005,\n",
       "    'epsilon': 1e-05,\n",
       "    'beta_2': 0.999,\n",
       "    'beta_1': 0.85},\n",
       "   {'learning_rate_init': 0.005,\n",
       "    'epsilon': 1e-08,\n",
       "    'beta_2': 0.999,\n",
       "    'beta_1': 0.85},\n",
       "   {'learning_rate_init': 0.005,\n",
       "    'epsilon': 1e-08,\n",
       "    'beta_2': 0.999,\n",
       "    'beta_1': 0.9},\n",
       "   {'learning_rate_init': 0.001,\n",
       "    'epsilon': 1e-05,\n",
       "    'beta_2': 0.999,\n",
       "    'beta_1': 0.85},\n",
       "   {'learning_rate_init': 0.005,\n",
       "    'epsilon': 1e-08,\n",
       "    'beta_2': 0.9999,\n",
       "    'beta_1': 0.9},\n",
       "   {'learning_rate_init': 0.005,\n",
       "    'epsilon': 1e-08,\n",
       "    'beta_2': 0.998,\n",
       "    'beta_1': 0.95},\n",
       "   {'learning_rate_init': 0.001,\n",
       "    'epsilon': 1e-09,\n",
       "    'beta_2': 0.999,\n",
       "    'beta_1': 0.85},\n",
       "   {'learning_rate_init': 0.01,\n",
       "    'epsilon': 1e-05,\n",
       "    'beta_2': 0.998,\n",
       "    'beta_1': 0.95},\n",
       "   {'learning_rate_init': 0.01,\n",
       "    'epsilon': 1e-08,\n",
       "    'beta_2': 0.999,\n",
       "    'beta_1': 0.95},\n",
       "   {'learning_rate_init': 0.001,\n",
       "    'epsilon': 1e-08,\n",
       "    'beta_2': 0.999,\n",
       "    'beta_1': 0.9},\n",
       "   {'learning_rate_init': 0.001,\n",
       "    'epsilon': 1e-05,\n",
       "    'beta_2': 0.999,\n",
       "    'beta_1': 0.9},\n",
       "   {'learning_rate_init': 0.01,\n",
       "    'epsilon': 1e-09,\n",
       "    'beta_2': 0.9999,\n",
       "    'beta_1': 0.9},\n",
       "   {'learning_rate_init': 0.01,\n",
       "    'epsilon': 1e-09,\n",
       "    'beta_2': 0.998,\n",
       "    'beta_1': 0.85},\n",
       "   {'learning_rate_init': 0.005,\n",
       "    'epsilon': 1e-09,\n",
       "    'beta_2': 0.999,\n",
       "    'beta_1': 0.9},\n",
       "   {'learning_rate_init': 0.005,\n",
       "    'epsilon': 1e-08,\n",
       "    'beta_2': 0.9999,\n",
       "    'beta_1': 0.95},\n",
       "   {'learning_rate_init': 0.01,\n",
       "    'epsilon': 1e-09,\n",
       "    'beta_2': 0.999,\n",
       "    'beta_1': 0.9},\n",
       "   {'learning_rate_init': 0.001,\n",
       "    'epsilon': 1e-09,\n",
       "    'beta_2': 0.999,\n",
       "    'beta_1': 0.95},\n",
       "   {'learning_rate_init': 0.005,\n",
       "    'epsilon': 1e-05,\n",
       "    'beta_2': 0.9999,\n",
       "    'beta_1': 0.95},\n",
       "   {'learning_rate_init': 0.01,\n",
       "    'epsilon': 1e-05,\n",
       "    'beta_2': 0.999,\n",
       "    'beta_1': 0.9},\n",
       "   {'learning_rate_init': 0.001,\n",
       "    'epsilon': 1e-09,\n",
       "    'beta_2': 0.998,\n",
       "    'beta_1': 0.85}],\n",
       "  'split0_test_score': array([ 0.65122866,  0.67003357,  0.65842862,  0.61585621,  0.64557004,\n",
       "          0.63785153,  0.62465928,  0.68653191,  0.66897915,  0.64857657,\n",
       "          0.63153545,  0.67370992,  0.67223631,  0.64577519,  0.65588972,\n",
       "          0.66321227,  0.6835847 ,  0.64100883,  0.65702817,  0.63086513,\n",
       "          0.65777412,  0.67859639,  0.66315888,  0.67237027,  0.65688383,\n",
       "          0.64609848,  0.6632617 ,  0.64695714,  0.61865413,  0.67489434,\n",
       "          0.66753175,  0.65965011,  0.6618316 ,  0.66433886,  0.66066695,\n",
       "          0.64462438,  0.67113939,  0.65499993,  0.62899013,  0.68766888]),\n",
       "  'split1_test_score': array([ 0.67740011,  0.68884193,  0.64605498,  0.66532109,  0.64854197,\n",
       "          0.65998329,  0.65523177,  0.67558541,  0.67711982,  0.66640319,\n",
       "          0.6621455 ,  0.68697681,  0.6907456 ,  0.65370725,  0.66778831,\n",
       "          0.68504793,  0.68189211,  0.65772666,  0.65270523,  0.6621806 ,\n",
       "          0.65449027,  0.66280099,  0.67358386,  0.69698012,  0.66030065,\n",
       "          0.64400152,  0.66482973,  0.60902008,  0.64588839,  0.67535357,\n",
       "          0.67709214,  0.63397448,  0.65652642,  0.65559016,  0.65693375,\n",
       "          0.63287064,  0.66534136,  0.66720846,  0.65531926,  0.68293317]),\n",
       "  'split2_test_score': array([ 0.65197263,  0.67190362,  0.6650937 ,  0.65990964,  0.64857064,\n",
       "          0.62223359,  0.63925494,  0.66814818,  0.67342271,  0.67335548,\n",
       "          0.6696989 ,  0.67380483,  0.69456729,  0.67203462,  0.6603051 ,\n",
       "          0.6850064 ,  0.66919369,  0.62364936,  0.66662761,  0.65581162,\n",
       "          0.66534186,  0.67281666,  0.63806212,  0.67794635,  0.67139249,\n",
       "          0.65923339,  0.6672134 ,  0.64389178,  0.63825293,  0.67281863,\n",
       "          0.67853757,  0.65309427,  0.64756961,  0.66422763,  0.65172942,\n",
       "          0.65565492,  0.69033629,  0.65019155,  0.66213314,  0.68648248]),\n",
       "  'split3_test_score': array([ 0.65580124,  0.68273742,  0.66137731,  0.65843455,  0.68033793,\n",
       "          0.64861414,  0.64201777,  0.68123366,  0.67923754,  0.65011147,\n",
       "          0.66578379,  0.68692342,  0.67324178,  0.64965866,  0.66668644,\n",
       "          0.67216908,  0.67794635,  0.63457955,  0.6646661 ,  0.63977103,\n",
       "          0.65444331,  0.65950478,  0.64757456,  0.66244902,  0.66870233,\n",
       "          0.67734474,  0.66987241,  0.61586016,  0.64546771,  0.67952425,\n",
       "          0.67722215,  0.66163288,  0.64023273,  0.6666029 ,  0.65590011,\n",
       "          0.64857212,  0.66309067,  0.66022848,  0.64175874,  0.67470748]),\n",
       "  'split4_test_score': array([ 0.66918331,  0.69907065,  0.66206839,  0.64309343,  0.66618667,\n",
       "          0.66662267,  0.64188529,  0.68927397,  0.6978284 ,  0.67525668,\n",
       "          0.67489434,  0.70180481,  0.70263726,  0.6583866 ,  0.62119154,\n",
       "          0.67083389,  0.70705066,  0.65746664,  0.67576832,  0.65874697,\n",
       "          0.67994394,  0.66421231,  0.67423144,  0.6800962 ,  0.63827765,\n",
       "          0.64980449,  0.67879462,  0.64508213,  0.66732017,  0.68530399,\n",
       "          0.69669143,  0.63215188,  0.64769715,  0.67027183,  0.67769819,\n",
       "          0.64957364,  0.68862195,  0.66886793,  0.63633591,  0.68651906]),\n",
       "  'split5_test_score': array([ 0.63598197,  0.6625647 ,  0.64110918,  0.62571468,  0.64918114,\n",
       "          0.63821239,  0.63069063,  0.65847014,  0.66729051,  0.65100523,\n",
       "          0.643088  ,  0.67949558,  0.66294533,  0.62355939,  0.64519781,\n",
       "          0.66062889,  0.66554058,  0.6073354 ,  0.65167851,  0.63424834,\n",
       "          0.64381318,  0.65530691,  0.63310149,  0.67069745,  0.63897713,\n",
       "          0.6470738 ,  0.68428962,  0.61688541,  0.62331371,  0.66250785,\n",
       "          0.66453214,  0.61897841,  0.62618232,  0.64665609,  0.6574963 ,\n",
       "          0.63283851,  0.67190165,  0.65777363,  0.63010633,  0.66320832]),\n",
       "  'split6_test_score': array([ 0.66453313,  0.66921841,  0.64624184,  0.64410533,  0.65420405,\n",
       "          0.62746363,  0.65255298,  0.67527794,  0.68624619,  0.67117201,\n",
       "          0.64116751,  0.66379459,  0.67139644,  0.64796904,  0.66568245,\n",
       "          0.66504971,  0.66952292,  0.64034692,  0.66981359,  0.64723347,\n",
       "          0.6504575 ,  0.62570825,  0.64242361,  0.67211915,  0.67828546,\n",
       "          0.66461074,  0.67297336,  0.64446817,  0.66115585,  0.64903234,\n",
       "          0.67506933,  0.65009318,  0.63141582,  0.68016046,  0.64794234,\n",
       "          0.62795796,  0.66482478,  0.64789489,  0.60234808,  0.68578942]),\n",
       "  'split7_test_score': array([ 0.6474312 ,  0.66989861,  0.65207496,  0.63650448,  0.64926171,\n",
       "          0.63539618,  0.65658426,  0.67197283,  0.65095085,  0.64229509,\n",
       "          0.65163945,  0.67990192,  0.66949721,  0.63412723,  0.63769038,\n",
       "          0.66902167,  0.64500897,  0.63803839,  0.65556693,  0.64026239,\n",
       "          0.65909943,  0.65952949,  0.65541121,  0.66787234,  0.64533128,\n",
       "          0.65377003,  0.67476482,  0.62396277,  0.63953029,  0.66934397,\n",
       "          0.68603659,  0.65341262,  0.61924535,  0.66801026,  0.65219311,\n",
       "          0.64151701,  0.65466526,  0.63772795,  0.6413692 ,  0.65899858]),\n",
       "  'split8_test_score': array([ 0.63163036,  0.68178039,  0.65081095,  0.64024855,  0.64016155,\n",
       "          0.64529124,  0.62930502,  0.6848235 ,  0.65784975,  0.65565244,\n",
       "          0.65086236,  0.66836519,  0.67442571,  0.66565477,  0.64428824,\n",
       "          0.66812841,  0.6650151 ,  0.64320318,  0.63108758,  0.64701398,\n",
       "          0.63468237,  0.66176833,  0.63774921,  0.67414987,  0.6410637 ,\n",
       "          0.66295225,  0.66289491,  0.62109119,  0.62717939,  0.65458419,\n",
       "          0.66168874,  0.62765049,  0.6495069 ,  0.66356473,  0.65311602,\n",
       "          0.65801189,  0.66634584,  0.64858102,  0.61162818,  0.6807324 ]),\n",
       "  'split9_test_score': array([ 0.64178049,  0.67765321,  0.66119638,  0.63152507,  0.62811022,\n",
       "          0.62659706,  0.63894055,  0.68683345,  0.66102534,  0.65041104,\n",
       "          0.66771465,  0.68371867,  0.68146599,  0.63515989,  0.64640348,\n",
       "          0.66059528,  0.68671086,  0.62754915,  0.62713737,  0.62536914,\n",
       "          0.66972955,  0.66377235,  0.65812213,  0.66683375,  0.6631396 ,\n",
       "          0.63605167,  0.66414162,  0.63497995,  0.61053274,  0.6709639 ,\n",
       "          0.67891623,  0.64222637,  0.63257157,  0.65215257,  0.65307549,\n",
       "          0.66523557,  0.67316121,  0.641474  ,  0.62351292,  0.67708868]),\n",
       "  'mean_test_score': array([ 0.65269431,  0.67737025,  0.65444563,  0.6420713 ,  0.65101259,\n",
       "          0.64082657,  0.64111225,  0.6778151 ,  0.67199503,  0.65842392,\n",
       "          0.655853  ,  0.67984957,  0.67931589,  0.64860326,  0.65111235,\n",
       "          0.66996935,  0.67514659,  0.63709041,  0.65520794,  0.64415027,\n",
       "          0.65697755,  0.66040165,  0.65234185,  0.67415145,  0.65623541,\n",
       "          0.65409411,  0.67030362,  0.63021988,  0.63772953,  0.6694327 ,\n",
       "          0.67633181,  0.64328647,  0.64127795,  0.66315755,  0.65667517,\n",
       "          0.64568566,  0.67094284,  0.65349478,  0.63335019,  0.67841285]),\n",
       "  'std_test_score': array([ 0.01380053,  0.01037322,  0.00784455,  0.01493989,  0.01338202,\n",
       "          0.01372923,  0.01047826,  0.00928785,  0.01321258,  0.01133846,\n",
       "          0.01358606,  0.01030463,  0.01204077,  0.01410155,  0.01421051,\n",
       "          0.00841622,  0.01564099,  0.01438274,  0.01499277,  0.01163365,\n",
       "          0.01220927,  0.01322816,  0.01413635,  0.00905563,  0.01380359,\n",
       "          0.01146813,  0.00690566,  0.01367311,  0.01725404,  0.01056904,\n",
       "          0.00976882,  0.01377173,  0.01300363,  0.00910226,  0.00778255,\n",
       "          0.01148485,  0.01054083,  0.00974588,  0.01736175,  0.00959326]),\n",
       "  'rank_test_score': array([25,  5, 22, 33, 28, 36, 35,  4,  9, 16, 20,  1,  2, 29, 27, 12,  7,\n",
       "         38, 21, 31, 17, 15, 26,  8, 19, 23, 11, 40, 37, 13,  6, 32, 34, 14,\n",
       "         18, 30, 10, 24, 39,  3]),\n",
       "  'split0_train_score': array([ 0.7894048 ,  0.94182065,  0.77064974,  0.68222199,  0.79481226,\n",
       "          0.699469  ,  0.71249784,  0.93276769,  0.94296393,  0.76913191,\n",
       "          0.79931057,  0.9447695 ,  0.94526023,  0.78109648,  0.77487454,\n",
       "          0.9276372 ,  0.92753869,  0.73266931,  0.80318279,  0.72722062,\n",
       "          0.79268822,  0.79391244,  0.78400091,  0.9502395 ,  0.77563922,\n",
       "          0.79089787,  0.94982613,  0.72893031,  0.70700527,  0.92565664,\n",
       "          0.95587242,  0.73091833,  0.73936453,  0.79005505,  0.78202354,\n",
       "          0.71598492,  0.9307298 ,  0.76724074,  0.72034453,  0.95797466]),\n",
       "  'split1_train_score': array([ 0.77587309,  0.93729477,  0.75119798,  0.70947992,  0.78836161,\n",
       "          0.72082142,  0.73736464,  0.94929317,  0.92769068,  0.78369495,\n",
       "          0.77087817,  0.96098891,  0.95980279,  0.76043856,  0.79096574,\n",
       "          0.94922591,  0.95708286,  0.71719954,  0.77001371,  0.74221026,\n",
       "          0.77793184,  0.7898784 ,  0.77894257,  0.95041664,  0.78890105,\n",
       "          0.77613215,  0.94364268,  0.70874346,  0.69799377,  0.92733338,\n",
       "          0.93684242,  0.71326082,  0.73607002,  0.80026595,  0.78228194,\n",
       "          0.72362707,  0.95716885,  0.7624921 ,  0.73395378,  0.94563593]),\n",
       "  'split2_train_score': array([ 0.77931904,  0.94293126,  0.80431004,  0.72622092,  0.76171155,\n",
       "          0.69695081,  0.72402956,  0.94156103,  0.91113434,  0.77919379,\n",
       "          0.77437941,  0.94974113,  0.95116122,  0.77969594,  0.81705852,\n",
       "          0.96003693,  0.95116347,  0.69193299,  0.800347  ,  0.73244457,\n",
       "          0.76897086,  0.79910877,  0.7727086 ,  0.92607116,  0.77678449,\n",
       "          0.81058031,  0.91873997,  0.71190152,  0.72058586,  0.94325814,\n",
       "          0.943214  ,  0.71989613,  0.70924117,  0.77962203,  0.777502  ,\n",
       "          0.71431933,  0.97221175,  0.77856655,  0.74414003,  0.96432438]),\n",
       "  'split3_train_score': array([ 0.79131914,  0.92350289,  0.7639447 ,  0.73024211,  0.77576848,\n",
       "          0.71142632,  0.71681604,  0.92473865,  0.93019421,  0.77609009,\n",
       "          0.7895468 ,  0.94653997,  0.9635105 ,  0.79722222,  0.80905803,\n",
       "          0.95201568,  0.96401199,  0.71975007,  0.79242124,  0.7230773 ,\n",
       "          0.77918275,  0.79288128,  0.76813413,  0.92907497,  0.77341848,\n",
       "          0.7639878 ,  0.92415254,  0.69125776,  0.73980354,  0.93201125,\n",
       "          0.92130999,  0.7248956 ,  0.71358677,  0.77946482,  0.78234465,\n",
       "          0.71280237,  0.95613099,  0.78363417,  0.71671715,  0.92365829]),\n",
       "  'split4_train_score': array([ 0.76544397,  0.95972591,  0.77306662,  0.72599925,  0.79735016,\n",
       "          0.71115611,  0.72742137,  0.92803568,  0.92901007,  0.77398011,\n",
       "          0.77677603,  0.94668499,  0.92805825,  0.79293663,  0.74298614,\n",
       "          0.95111411,  0.9590179 ,  0.72519119,  0.78719933,  0.72183737,\n",
       "          0.77769869,  0.78887118,  0.79340804,  0.94276719,  0.7855915 ,\n",
       "          0.74048108,  0.92010702,  0.7125606 ,  0.72607947,  0.92540564,\n",
       "          0.94628431,  0.71194792,  0.70526033,  0.79263298,  0.76757981,\n",
       "          0.71063688,  0.9197523 ,  0.78511257,  0.70138992,  0.92716223]),\n",
       "  'split5_train_score': array([ 0.77194875,  0.94279305,  0.79178275,  0.72247538,  0.78853508,\n",
       "          0.7227328 ,  0.72691845,  0.94116672,  0.9349098 ,  0.79514952,\n",
       "          0.76661888,  0.94174805,  0.96017536,  0.78327631,  0.76628212,\n",
       "          0.9321869 ,  0.95811007,  0.7291606 ,  0.78634465,  0.72504046,\n",
       "          0.77557635,  0.7875714 ,  0.79598465,  0.93540251,  0.77538356,\n",
       "          0.79639922,  0.92633764,  0.71345861,  0.71080699,  0.95370868,\n",
       "          0.94332003,  0.71399157,  0.72442826,  0.78934577,  0.78908819,\n",
       "          0.73407612,  0.93846101,  0.80278754,  0.72855428,  0.95080617]),\n",
       "  'split6_train_score': array([ 0.78538531,  0.92384399,  0.78180527,  0.73121309,  0.77107568,\n",
       "          0.71421445,  0.7300233 ,  0.93046634,  0.92752524,  0.77862722,\n",
       "          0.77268049,  0.94212315,  0.94554697,  0.77525562,  0.79108445,\n",
       "          0.95941067,  0.95312262,  0.71920382,  0.77240758,  0.71586901,\n",
       "          0.799732  ,  0.78018959,  0.76462525,  0.92193125,  0.76627059,\n",
       "          0.78765195,  0.94649577,  0.73019983,  0.72301784,  0.95111098,\n",
       "          0.93222188,  0.70848406,  0.70542353,  0.79813862,  0.78617135,\n",
       "          0.70396763,  0.94317045,  0.77937021,  0.70832674,  0.93725958]),\n",
       "  'split7_train_score': array([ 0.79474252,  0.94642136,  0.7838353 ,  0.71677925,  0.78729196,\n",
       "          0.72322144,  0.7414576 ,  0.95442762,  0.92702841,  0.76268994,\n",
       "          0.77832889,  0.93742573,  0.95589208,  0.78282643,  0.79348326,\n",
       "          0.92506284,  0.91731389,  0.71094624,  0.77126699,  0.72676969,\n",
       "          0.782112  ,  0.77785321,  0.79440554,  0.95509983,  0.79556832,\n",
       "          0.77520192,  0.90938078,  0.72351867,  0.71678903,  0.91801439,\n",
       "          0.93859648,  0.71870134,  0.70390196,  0.80571987,  0.80088232,\n",
       "          0.72170202,  0.92861038,  0.78536109,  0.72832322,  0.96152291]),\n",
       "  'split8_train_score': array([ 0.79366601,  0.9482289 ,  0.77775563,  0.71977428,  0.77311395,\n",
       "          0.73377125,  0.73379778,  0.93026416,  0.91068781,  0.76012837,\n",
       "          0.7758861 ,  0.91574308,  0.93398906,  0.78763499,  0.76843872,\n",
       "          0.94512971,  0.95361676,  0.70741073,  0.77752627,  0.71784419,\n",
       "          0.77835772,  0.7931085 ,  0.77375536,  0.94416707,  0.78150255,\n",
       "          0.76810975,  0.91287857,  0.70623719,  0.70677641,  0.88596213,\n",
       "          0.95109571,  0.70446671,  0.72474806,  0.79562169,  0.78351122,\n",
       "          0.72514792,  0.95483384,  0.76869125,  0.69577611,  0.91998155]),\n",
       "  'split9_train_score': array([ 0.7602338 ,  0.91053955,  0.7655092 ,  0.73347836,  0.79252431,\n",
       "          0.71541402,  0.72380816,  0.92707173,  0.93225752,  0.78044926,\n",
       "          0.76696548,  0.96008635,  0.93754747,  0.74949598,  0.78944999,\n",
       "          0.92288087,  0.92633533,  0.72109641,  0.79539524,  0.72688358,\n",
       "          0.81377691,  0.79216558,  0.78959523,  0.9468395 ,  0.79578176,\n",
       "          0.77929246,  0.90874646,  0.74353019,  0.69730668,  0.93297399,\n",
       "          0.93001685,  0.72408452,  0.72558237,  0.76162133,  0.79479145,\n",
       "          0.72575759,  0.95405813,  0.76068533,  0.7135116 ,  0.95170494]),\n",
       "  'mean_train_score': array([ 0.78073364,  0.93771024,  0.77638572,  0.71978846,  0.7830545 ,\n",
       "          0.71491776,  0.72741347,  0.93597928,  0.9273402 ,  0.77591352,\n",
       "          0.77713708,  0.94458508,  0.94809439,  0.77898792,  0.78436815,\n",
       "          0.94247008,  0.94673136,  0.71745609,  0.78561048,  0.7259197 ,\n",
       "          0.78460273,  0.78955404,  0.78155603,  0.94020096,  0.78148415,\n",
       "          0.77887345,  0.92603075,  0.71703381,  0.71461649,  0.92954352,\n",
       "          0.93987741,  0.7170647 ,  0.7187607 ,  0.78924881,  0.78461765,\n",
       "          0.71880218,  0.94551275,  0.77739416,  0.71910374,  0.94400306]),\n",
       "  'std_train_score': array([ 0.01152906,  0.01368848,  0.01433527,  0.01428617,  0.01122212,\n",
       "          0.01053039,  0.00838636,  0.00958036,  0.00936323,  0.00971115,\n",
       "          0.00964113,  0.01200605,  0.01147636,  0.01366632,  0.02063795,\n",
       "          0.01351532,  0.01563283,  0.01115625,  0.01166108,  0.00709259,\n",
       "          0.01279836,  0.00608209,  0.01094133,  0.01083393,  0.00929861,\n",
       "          0.0183486 ,  0.01461517,  0.01402789,  0.01259594,  0.01823302,\n",
       "          0.00978347,  0.00771785,  0.01239737,  0.01214951,  0.00865992,\n",
       "          0.00839282,  0.01531142,  0.01221546,  0.01426275,  0.01530819])},\n",
       " {'mean_fit_time': array([ 46.89911849,  45.1244576 ,  38.91080132,  30.09891319,\n",
       "          66.2929301 ,  65.45804884,  47.94602034,  39.78617439,\n",
       "          55.57169516,  33.52312112,  67.09349356,  62.31830289,\n",
       "          72.96187859,  72.30654824,  30.0872468 ,  40.72828479,\n",
       "          51.77500801,  40.78991189,  67.35689719,  32.18582497,\n",
       "          42.88643384,  63.02298465,  74.39316576,  65.76111047,\n",
       "          69.93624027,  51.46390464,  37.63069799,  55.08989758,\n",
       "          69.28150933,  30.10250669,  37.80381124,  32.69917974,\n",
       "          39.22873828,  28.49787283,  45.55623839,  67.85351906,\n",
       "          63.21809165,  36.81183119,  53.63594432,  57.45735974]),\n",
       "  'std_fit_time': array([ 11.87812309,   9.72590535,   8.67210591,   7.70626593,\n",
       "          10.34847447,  10.03044122,   9.7663399 ,  15.00453721,\n",
       "          16.91745638,   5.57723986,  12.13530633,  10.35081096,\n",
       "           6.40717258,  12.33820348,   7.7922853 ,  12.93689016,\n",
       "          12.73280092,  10.65317795,  12.31402034,   7.65516018,\n",
       "          18.30479709,  15.66986976,  10.68805549,   8.88971003,\n",
       "          16.38418112,  11.77788707,  15.13863445,  16.18688607,\n",
       "          12.15783718,   7.07030875,   9.14820282,   9.67850484,\n",
       "           9.24242929,   7.23640992,  14.34962346,   8.68046294,\n",
       "           9.94294194,  13.21005249,  12.81762376,  12.84212949]),\n",
       "  'mean_score_time': array([ 0.0408088 ,  0.04391718,  0.04642379,  0.04486969,  0.03950558,\n",
       "          0.04055789,  0.04406767,  0.04286454,  0.04226291,  0.04627311,\n",
       "          0.03925474,  0.03790169,  0.04080899,  0.0422626 ,  0.04883039,\n",
       "          0.0467747 ,  0.04120977,  0.04677501,  0.03925521,  0.05188816,\n",
       "          0.05239096,  0.04777834,  0.04632416,  0.03945546,  0.04467077,\n",
       "          0.04953148,  0.04918096,  0.04461896,  0.04291425,  0.04923098,\n",
       "          0.04802833,  0.04517038,  0.03987799,  0.04411759,  0.04702685,\n",
       "          0.04100957,  0.03925445,  0.04717596,  0.04331615,  0.03399084]),\n",
       "  'std_score_time': array([ 0.00440028,  0.00415979,  0.0043771 ,  0.00429681,  0.00278922,\n",
       "          0.00448658,  0.00883392,  0.00394926,  0.00138256,  0.00538135,\n",
       "          0.00277341,  0.00394869,  0.00501939,  0.0043588 ,  0.00530232,\n",
       "          0.00497348,  0.00364096,  0.00643228,  0.00417606,  0.00618585,\n",
       "          0.00936181,  0.00617687,  0.00641921,  0.00283679,  0.00630845,\n",
       "          0.00827623,  0.00922091,  0.00438774,  0.00587284,  0.00549107,\n",
       "          0.00296428,  0.00326033,  0.0041277 ,  0.00403003,  0.01063185,\n",
       "          0.00497216,  0.00307457,  0.00451463,  0.00349663,  0.00604409]),\n",
       "  'param_learning_rate_init': masked_array(data = [0.005 0.005 0.01 0.01 0.001 0.001 0.005 0.005 0.005 0.01 0.001 0.001 0.001\n",
       "   0.001 0.01 0.01 0.005 0.005 0.001 0.01 0.01 0.005 0.001 0.001 0.001 0.005\n",
       "   0.01 0.005 0.001 0.01 0.01 0.01 0.005 0.01 0.005 0.001 0.001 0.01 0.005\n",
       "   0.001],\n",
       "               mask = [False False False False False False False False False False False False\n",
       "   False False False False False False False False False False False False\n",
       "   False False False False False False False False False False False False\n",
       "   False False False False],\n",
       "         fill_value = ?),\n",
       "  'param_epsilon': masked_array(data = [1e-05 1e-09 1e-05 1e-08 1e-09 1e-09 1e-05 1e-08 1e-05 1e-09 1e-08 1e-09\n",
       "   1e-09 1e-08 1e-09 1e-09 1e-08 1e-08 1e-08 1e-09 1e-08 1e-08 1e-05 1e-08\n",
       "   1e-08 1e-09 1e-08 1e-09 1e-09 1e-05 1e-05 1e-05 1e-08 1e-08 1e-09 1e-05\n",
       "   1e-09 1e-08 1e-05 1e-09],\n",
       "               mask = [False False False False False False False False False False False False\n",
       "   False False False False False False False False False False False False\n",
       "   False False False False False False False False False False False False\n",
       "   False False False False],\n",
       "         fill_value = ?),\n",
       "  'param_beta_2': masked_array(data = [0.999 0.9999 0.998 0.9999 0.999 0.9999 0.998 0.9999 0.998 0.999 0.998\n",
       "   0.9999 0.998 0.998 0.9999 0.998 0.999 0.998 0.999 0.998 0.998 0.998 0.9999\n",
       "   0.9999 0.9999 0.999 0.998 0.998 0.998 0.9999 0.998 0.9999 0.9999 0.999\n",
       "   0.9999 0.9999 0.998 0.9999 0.999 0.999],\n",
       "               mask = [False False False False False False False False False False False False\n",
       "   False False False False False False False False False False False False\n",
       "   False False False False False False False False False False False False\n",
       "   False False False False],\n",
       "         fill_value = ?),\n",
       "  'param_beta_1': masked_array(data = [0.95 0.9 0.85 0.85 0.85 0.95 0.85 0.9 0.95 0.9 0.95 0.85 0.95 0.9 0.9 0.85\n",
       "   0.85 0.95 0.95 0.9 0.85 0.9 0.95 0.95 0.85 0.9 0.95 0.85 0.9 0.95 0.9 0.9\n",
       "   0.85 0.85 0.95 0.85 0.85 0.95 0.85 0.9],\n",
       "               mask = [False False False False False False False False False False False False\n",
       "   False False False False False False False False False False False False\n",
       "   False False False False False False False False False False False False\n",
       "   False False False False],\n",
       "         fill_value = ?),\n",
       "  'params': [{'learning_rate_init': 0.005,\n",
       "    'epsilon': 1e-05,\n",
       "    'beta_2': 0.999,\n",
       "    'beta_1': 0.95},\n",
       "   {'learning_rate_init': 0.005,\n",
       "    'epsilon': 1e-09,\n",
       "    'beta_2': 0.9999,\n",
       "    'beta_1': 0.9},\n",
       "   {'learning_rate_init': 0.01,\n",
       "    'epsilon': 1e-05,\n",
       "    'beta_2': 0.998,\n",
       "    'beta_1': 0.85},\n",
       "   {'learning_rate_init': 0.01,\n",
       "    'epsilon': 1e-08,\n",
       "    'beta_2': 0.9999,\n",
       "    'beta_1': 0.85},\n",
       "   {'learning_rate_init': 0.001,\n",
       "    'epsilon': 1e-09,\n",
       "    'beta_2': 0.999,\n",
       "    'beta_1': 0.85},\n",
       "   {'learning_rate_init': 0.001,\n",
       "    'epsilon': 1e-09,\n",
       "    'beta_2': 0.9999,\n",
       "    'beta_1': 0.95},\n",
       "   {'learning_rate_init': 0.005,\n",
       "    'epsilon': 1e-05,\n",
       "    'beta_2': 0.998,\n",
       "    'beta_1': 0.85},\n",
       "   {'learning_rate_init': 0.005,\n",
       "    'epsilon': 1e-08,\n",
       "    'beta_2': 0.9999,\n",
       "    'beta_1': 0.9},\n",
       "   {'learning_rate_init': 0.005,\n",
       "    'epsilon': 1e-05,\n",
       "    'beta_2': 0.998,\n",
       "    'beta_1': 0.95},\n",
       "   {'learning_rate_init': 0.01,\n",
       "    'epsilon': 1e-09,\n",
       "    'beta_2': 0.999,\n",
       "    'beta_1': 0.9},\n",
       "   {'learning_rate_init': 0.001,\n",
       "    'epsilon': 1e-08,\n",
       "    'beta_2': 0.998,\n",
       "    'beta_1': 0.95},\n",
       "   {'learning_rate_init': 0.001,\n",
       "    'epsilon': 1e-09,\n",
       "    'beta_2': 0.9999,\n",
       "    'beta_1': 0.85},\n",
       "   {'learning_rate_init': 0.001,\n",
       "    'epsilon': 1e-09,\n",
       "    'beta_2': 0.998,\n",
       "    'beta_1': 0.95},\n",
       "   {'learning_rate_init': 0.001,\n",
       "    'epsilon': 1e-08,\n",
       "    'beta_2': 0.998,\n",
       "    'beta_1': 0.9},\n",
       "   {'learning_rate_init': 0.01,\n",
       "    'epsilon': 1e-09,\n",
       "    'beta_2': 0.9999,\n",
       "    'beta_1': 0.9},\n",
       "   {'learning_rate_init': 0.01,\n",
       "    'epsilon': 1e-09,\n",
       "    'beta_2': 0.998,\n",
       "    'beta_1': 0.85},\n",
       "   {'learning_rate_init': 0.005,\n",
       "    'epsilon': 1e-08,\n",
       "    'beta_2': 0.999,\n",
       "    'beta_1': 0.85},\n",
       "   {'learning_rate_init': 0.005,\n",
       "    'epsilon': 1e-08,\n",
       "    'beta_2': 0.998,\n",
       "    'beta_1': 0.95},\n",
       "   {'learning_rate_init': 0.001,\n",
       "    'epsilon': 1e-08,\n",
       "    'beta_2': 0.999,\n",
       "    'beta_1': 0.95},\n",
       "   {'learning_rate_init': 0.01,\n",
       "    'epsilon': 1e-09,\n",
       "    'beta_2': 0.998,\n",
       "    'beta_1': 0.9},\n",
       "   {'learning_rate_init': 0.01,\n",
       "    'epsilon': 1e-08,\n",
       "    'beta_2': 0.998,\n",
       "    'beta_1': 0.85},\n",
       "   {'learning_rate_init': 0.005,\n",
       "    'epsilon': 1e-08,\n",
       "    'beta_2': 0.998,\n",
       "    'beta_1': 0.9},\n",
       "   {'learning_rate_init': 0.001,\n",
       "    'epsilon': 1e-05,\n",
       "    'beta_2': 0.9999,\n",
       "    'beta_1': 0.95},\n",
       "   {'learning_rate_init': 0.001,\n",
       "    'epsilon': 1e-08,\n",
       "    'beta_2': 0.9999,\n",
       "    'beta_1': 0.95},\n",
       "   {'learning_rate_init': 0.001,\n",
       "    'epsilon': 1e-08,\n",
       "    'beta_2': 0.9999,\n",
       "    'beta_1': 0.85},\n",
       "   {'learning_rate_init': 0.005,\n",
       "    'epsilon': 1e-09,\n",
       "    'beta_2': 0.999,\n",
       "    'beta_1': 0.9},\n",
       "   {'learning_rate_init': 0.01,\n",
       "    'epsilon': 1e-08,\n",
       "    'beta_2': 0.998,\n",
       "    'beta_1': 0.95},\n",
       "   {'learning_rate_init': 0.005,\n",
       "    'epsilon': 1e-09,\n",
       "    'beta_2': 0.998,\n",
       "    'beta_1': 0.85},\n",
       "   {'learning_rate_init': 0.001,\n",
       "    'epsilon': 1e-09,\n",
       "    'beta_2': 0.998,\n",
       "    'beta_1': 0.9},\n",
       "   {'learning_rate_init': 0.01,\n",
       "    'epsilon': 1e-05,\n",
       "    'beta_2': 0.9999,\n",
       "    'beta_1': 0.95},\n",
       "   {'learning_rate_init': 0.01,\n",
       "    'epsilon': 1e-05,\n",
       "    'beta_2': 0.998,\n",
       "    'beta_1': 0.9},\n",
       "   {'learning_rate_init': 0.01,\n",
       "    'epsilon': 1e-05,\n",
       "    'beta_2': 0.9999,\n",
       "    'beta_1': 0.9},\n",
       "   {'learning_rate_init': 0.005,\n",
       "    'epsilon': 1e-08,\n",
       "    'beta_2': 0.9999,\n",
       "    'beta_1': 0.85},\n",
       "   {'learning_rate_init': 0.01,\n",
       "    'epsilon': 1e-08,\n",
       "    'beta_2': 0.999,\n",
       "    'beta_1': 0.85},\n",
       "   {'learning_rate_init': 0.005,\n",
       "    'epsilon': 1e-09,\n",
       "    'beta_2': 0.9999,\n",
       "    'beta_1': 0.95},\n",
       "   {'learning_rate_init': 0.001,\n",
       "    'epsilon': 1e-05,\n",
       "    'beta_2': 0.9999,\n",
       "    'beta_1': 0.85},\n",
       "   {'learning_rate_init': 0.001,\n",
       "    'epsilon': 1e-09,\n",
       "    'beta_2': 0.998,\n",
       "    'beta_1': 0.85},\n",
       "   {'learning_rate_init': 0.01,\n",
       "    'epsilon': 1e-08,\n",
       "    'beta_2': 0.9999,\n",
       "    'beta_1': 0.95},\n",
       "   {'learning_rate_init': 0.005,\n",
       "    'epsilon': 1e-05,\n",
       "    'beta_2': 0.999,\n",
       "    'beta_1': 0.85},\n",
       "   {'learning_rate_init': 0.001,\n",
       "    'epsilon': 1e-09,\n",
       "    'beta_2': 0.999,\n",
       "    'beta_1': 0.9}],\n",
       "  'split0_test_score': array([ 0.66127844,  0.68423475,  0.64529816,  0.65148077,  0.70483111,\n",
       "          0.71530602,  0.64336532,  0.66296708,  0.66848235,  0.65386197,\n",
       "          0.69946958,  0.69999259,  0.70218446,  0.69929558,  0.63708581,\n",
       "          0.65802722,  0.66171741,  0.68192869,  0.70573871,  0.64772483,\n",
       "          0.65148473,  0.65258907,  0.7054866 ,  0.71390013,  0.68707568,\n",
       "          0.64898143,  0.63731914,  0.64802341,  0.7047619 ,  0.65336863,\n",
       "          0.65160139,  0.64220561,  0.66773294,  0.6395461 ,  0.67622755,\n",
       "          0.70572684,  0.69020777,  0.64007801,  0.66920408,  0.70031884]),\n",
       "  'split1_test_score': array([ 0.68617105,  0.66364926,  0.67858898,  0.68868572,  0.73205598,\n",
       "          0.72207244,  0.68418482,  0.68270825,  0.6692545 ,  0.66192009,\n",
       "          0.73391763,  0.74963741,  0.71527141,  0.73109005,  0.67891672,\n",
       "          0.69200714,  0.70731365,  0.68800502,  0.69441355,  0.67014578,\n",
       "          0.67972446,  0.7032883 ,  0.72075554,  0.73931673,  0.73390478,\n",
       "          0.69567607,  0.67545689,  0.70566159,  0.72771871,  0.6685738 ,\n",
       "          0.66605271,  0.67569169,  0.68263855,  0.68487441,  0.68495301,\n",
       "          0.72517388,  0.73324831,  0.66891539,  0.70108209,  0.73016961]),\n",
       "  'split2_test_score': array([ 0.67243355,  0.65864958,  0.64574503,  0.6583693 ,  0.71668125,\n",
       "          0.71880292,  0.67754445,  0.66548175,  0.66321524,  0.66139263,\n",
       "          0.71158962,  0.70384937,  0.71117439,  0.71085505,  0.655342  ,\n",
       "          0.66688318,  0.67344298,  0.66876066,  0.70243953,  0.64918658,\n",
       "          0.66124236,  0.67317208,  0.69555842,  0.71422442,  0.7141819 ,\n",
       "          0.66619408,  0.64794679,  0.68157573,  0.70627852,  0.67655579,\n",
       "          0.66766769,  0.64993153,  0.67127286,  0.65981967,  0.6660794 ,\n",
       "          0.7093236 ,  0.71176363,  0.64793987,  0.70182063,  0.7136154 ]),\n",
       "  'split3_test_score': array([ 0.67995185,  0.68329749,  0.64781826,  0.68367714,  0.72148418,\n",
       "          0.7144182 ,  0.69972169,  0.69061213,  0.68142447,  0.6670908 ,\n",
       "          0.72285843,  0.74169546,  0.72924916,  0.72017025,  0.65720069,\n",
       "          0.66956247,  0.68911381,  0.67597791,  0.71660216,  0.67254428,\n",
       "          0.67015715,  0.70302383,  0.72581651,  0.71878167,  0.72044114,\n",
       "          0.6798688 ,  0.67047599,  0.66877944,  0.72304331,  0.68426243,\n",
       "          0.66296906,  0.65348776,  0.68090493,  0.68405827,  0.67454979,\n",
       "          0.72490101,  0.72743694,  0.66307386,  0.68787007,  0.73070843]),\n",
       "  'split4_test_score': array([ 0.68412056,  0.6895419 ,  0.66056957,  0.6969559 ,  0.71320411,\n",
       "          0.72816163,  0.68831546,  0.66681348,  0.67247211,  0.66936226,\n",
       "          0.73636458,  0.72647892,  0.72965253,  0.72803804,  0.6502751 ,\n",
       "          0.66254295,  0.67614796,  0.66718226,  0.71112594,  0.65605928,\n",
       "          0.64834423,  0.68263707,  0.73779716,  0.72153164,  0.72058549,\n",
       "          0.67646879,  0.64856915,  0.6858092 ,  0.72475073,  0.65460397,\n",
       "          0.65944546,  0.66751593,  0.67934185,  0.65324752,  0.68245663,\n",
       "          0.73125071,  0.71804561,  0.65384319,  0.67354234,  0.72677997]),\n",
       "  'split5_test_score': array([ 0.65848892,  0.67344248,  0.6691754 ,  0.65656894,  0.7214219 ,\n",
       "          0.71606729,  0.6775924 ,  0.67086058,  0.6597648 ,  0.65561142,\n",
       "          0.70413608,  0.70522658,  0.71503809,  0.71904317,  0.65927738,\n",
       "          0.66081377,  0.65841922,  0.67778915,  0.70939281,  0.65956311,\n",
       "          0.64820285,  0.6505717 ,  0.70813523,  0.72003085,  0.7144785 ,\n",
       "          0.65584375,  0.65129392,  0.66214254,  0.71334055,  0.6689574 ,\n",
       "          0.67646582,  0.63990647,  0.66731523,  0.64812277,  0.66480946,\n",
       "          0.70241976,  0.70006772,  0.65951022,  0.6487921 ,  0.69983242]),\n",
       "  'split6_test_score': array([ 0.6700914 ,  0.68527581,  0.67733041,  0.67647126,  0.72540226,\n",
       "          0.71482058,  0.66491129,  0.67074145,  0.66434133,  0.65189997,\n",
       "          0.71602873,  0.71957606,  0.70965975,  0.71927353,  0.66235856,\n",
       "          0.66124285,  0.66666518,  0.66992679,  0.71904811,  0.67176768,\n",
       "          0.64994142,  0.69052216,  0.70613219,  0.71399702,  0.70974576,\n",
       "          0.67481771,  0.67886135,  0.70035147,  0.71993   ,  0.65304237,\n",
       "          0.67878671,  0.66760491,  0.68677216,  0.67226202,  0.66284795,\n",
       "          0.70849214,  0.72087418,  0.65351199,  0.68280712,  0.71307065]),\n",
       "  'split7_test_score': array([ 0.66461914,  0.67108649,  0.66167539,  0.66951501,  0.71900758,\n",
       "          0.71137805,  0.65706871,  0.68350759,  0.69394196,  0.65873807,\n",
       "          0.69960997,  0.7086434 ,  0.72952598,  0.717139  ,  0.65723035,\n",
       "          0.65466724,  0.66561226,  0.6643349 ,  0.73332938,  0.640907  ,\n",
       "          0.64913418,  0.68668812,  0.71243592,  0.72372054,  0.71679989,\n",
       "          0.66205652,  0.64468864,  0.65795356,  0.71455859,  0.65866738,\n",
       "          0.66484851,  0.64898588,  0.6565022 ,  0.65845877,  0.63920996,\n",
       "          0.7115916 ,  0.71445675,  0.65683637,  0.66435022,  0.72031262]),\n",
       "  'split8_test_score': array([ 0.67405447,  0.68888197,  0.68115209,  0.67749601,  0.71596644,\n",
       "          0.73671654,  0.68893931,  0.6803488 ,  0.69667364,  0.67802791,\n",
       "          0.72061218,  0.72470328,  0.72633556,  0.74324173,  0.65874894,\n",
       "          0.66285882,  0.70668288,  0.68532376,  0.73436847,  0.65558472,\n",
       "          0.67240092,  0.67104843,  0.72661041,  0.71768178,  0.72003282,\n",
       "          0.69381046,  0.69369776,  0.67459922,  0.72579575,  0.66012269,\n",
       "          0.67990044,  0.66650947,  0.70565022,  0.66548027,  0.68605982,\n",
       "          0.72731138,  0.72762379,  0.68509489,  0.67705506,  0.71439644]),\n",
       "  'split9_test_score': array([ 0.67325414,  0.68460055,  0.66560682,  0.67393879,  0.73325918,\n",
       "          0.72657779,  0.66034811,  0.67561211,  0.68297618,  0.65465983,\n",
       "          0.72868957,  0.74235391,  0.7318276 ,  0.71016595,  0.65874153,\n",
       "          0.66098679,  0.68055494,  0.67092485,  0.72638005,  0.66957828,\n",
       "          0.66556777,  0.66299971,  0.71705892,  0.7191015 ,  0.72056275,\n",
       "          0.68039873,  0.6521936 ,  0.66587326,  0.71738419,  0.65303693,\n",
       "          0.65975985,  0.6622419 ,  0.68990227,  0.65095085,  0.67491856,\n",
       "          0.72356137,  0.71590811,  0.65669944,  0.66104413,  0.72080003]),\n",
       "  'mean_test_score': array([ 0.67244635,  0.67826603,  0.66329601,  0.67331588,  0.7203314 ,\n",
       "          0.72043215,  0.67419916,  0.67496532,  0.67525466,  0.66125649,\n",
       "          0.71732764,  0.7222157 ,  0.71999189,  0.71983123,  0.65751771,\n",
       "          0.66495924,  0.67856703,  0.6750154 ,  0.71528387,  0.65930615,\n",
       "          0.65962001,  0.67765405,  0.71557869,  0.72022863,  0.71578087,\n",
       "          0.67341164,  0.66005032,  0.67507694,  0.71775622,  0.66311914,\n",
       "          0.66674976,  0.65740812,  0.67880332,  0.66168207,  0.67121121,\n",
       "          0.71697523,  0.71596328,  0.65855032,  0.67675678,  0.71700044]),\n",
       "  'std_test_score': array([ 0.0087782 ,  0.01031172,  0.01292736,  0.01387564,  0.00811179,\n",
       "          0.00750336,  0.01647014,  0.00861501,  0.01224446,  0.00778094,\n",
       "          0.01284352,  0.01694791,  0.00999339,  0.01160242,  0.00980967,\n",
       "          0.00983608,  0.01662374,  0.00767194,  0.01254012,  0.01073811,\n",
       "          0.01115296,  0.01792471,  0.01185893,  0.00709274,  0.01131338,\n",
       "          0.0144919 ,  0.01732474,  0.01746034,  0.00758906,  0.01044505,\n",
       "          0.00873586,  0.01151633,  0.0131736 ,  0.0142792 ,  0.01321807,\n",
       "          0.00990919,  0.0123724 ,  0.01158078,  0.01621828,  0.01043591]),\n",
       "  'rank_test_score': array([27, 17, 31, 26,  3,  2, 24, 23, 20, 34,  8,  1,  5,  6, 39, 30, 16,\n",
       "         22, 14, 37, 36, 18, 13,  4, 12, 25, 35, 21,  7, 32, 29, 40, 15, 33,\n",
       "         28, 10, 11, 38, 19,  9]),\n",
       "  'split0_train_score': array([ 0.88600117,  0.8451524 ,  0.78475088,  0.7831    ,  0.9860172 ,\n",
       "          0.98909349,  0.8481125 ,  0.86360067,  0.84606632,  0.77516732,\n",
       "          0.99094013,  0.98706071,  0.99268847,  0.98851677,  0.75844636,\n",
       "          0.81671461,  0.86467159,  0.83440052,  0.98699789,  0.77277202,\n",
       "          0.77427948,  0.8611604 ,  0.98495369,  0.99251199,  0.98654631,\n",
       "          0.87632834,  0.78714881,  0.85603623,  0.99226588,  0.77209333,\n",
       "          0.79004088,  0.77888464,  0.82994262,  0.76333612,  0.82405409,\n",
       "          0.98600698,  0.98901233,  0.74275963,  0.8668987 ,  0.9870024 ]),\n",
       "  'split1_train_score': array([ 0.81735053,  0.83354891,  0.79739722,  0.76616554,  0.98621674,\n",
       "          0.98465806,  0.86380093,  0.82636648,  0.88576561,  0.77462459,\n",
       "          0.99296906,  0.98176802,  0.99507762,  0.99366565,  0.76733629,\n",
       "          0.78508808,  0.82277029,  0.83752749,  0.99238624,  0.77881924,\n",
       "          0.77725232,  0.87437534,  0.98632744,  0.98579206,  0.98631086,\n",
       "          0.81837637,  0.74685803,  0.84685451,  0.98787525,  0.75980319,\n",
       "          0.75967097,  0.7661678 ,  0.83523372,  0.74719848,  0.84095571,\n",
       "          0.97931671,  0.98631541,  0.76373829,  0.85845047,  0.98588574]),\n",
       "  'split2_train_score': array([ 0.84891732,  0.83977755,  0.77320735,  0.75013321,  0.98633963,\n",
       "          0.98971815,  0.86298573,  0.83696356,  0.86823582,  0.75726107,\n",
       "          0.98973243,  0.98923598,  0.99368021,  0.98850441,  0.77051916,\n",
       "          0.78506304,  0.85532975,  0.8694696 ,  0.98874531,  0.75647321,\n",
       "          0.75784377,  0.85985381,  0.9887581 ,  0.98676222,  0.97176588,\n",
       "          0.84998154,  0.80357666,  0.84567937,  0.9881084 ,  0.77836354,\n",
       "          0.78824218,  0.78637913,  0.84534293,  0.76838156,  0.84062542,\n",
       "          0.98086727,  0.99108037,  0.77245684,  0.83967564,  0.99283931]),\n",
       "  'split3_train_score': array([ 0.84410235,  0.83484858,  0.77570303,  0.76031853,  0.98158813,\n",
       "          0.99040651,  0.83333256,  0.81354387,  0.86289458,  0.78517242,\n",
       "          0.99136134,  0.98823305,  0.99142531,  0.98806458,  0.76873551,\n",
       "          0.75886143,  0.86391932,  0.84863228,  0.98356216,  0.7526849 ,\n",
       "          0.79408816,  0.83603712,  0.98770635,  0.99118107,  0.98037692,\n",
       "          0.82153354,  0.74420465,  0.83519397,  0.99154886,  0.77564444,\n",
       "          0.75053598,  0.77576793,  0.83813859,  0.77224357,  0.85380105,\n",
       "          0.98448575,  0.98424381,  0.78371757,  0.84423786,  0.98716405]),\n",
       "  'split4_train_score': array([ 0.84132542,  0.82314236,  0.78873308,  0.76948751,  0.99157917,\n",
       "          0.99092547,  0.83217187,  0.79687024,  0.85815747,  0.78211694,\n",
       "          0.99469039,  0.98265042,  0.99333707,  0.99006826,  0.75404003,\n",
       "          0.77470196,  0.8522719 ,  0.85596265,  0.99234276,  0.77502044,\n",
       "          0.75094956,  0.82937435,  0.99374582,  0.98515115,  0.98979876,\n",
       "          0.82172913,  0.7843553 ,  0.87771905,  0.98616298,  0.77030139,\n",
       "          0.75409164,  0.78129982,  0.80744471,  0.7640431 ,  0.82498642,\n",
       "          0.98697088,  0.98812674,  0.76704208,  0.84637865,  0.98699822]),\n",
       "  'split5_train_score': array([ 0.84910418,  0.85570742,  0.78652448,  0.7757374 ,  0.98861193,\n",
       "          0.97896627,  0.85710445,  0.83195953,  0.8756956 ,  0.7776054 ,\n",
       "          0.9898171 ,  0.9876164 ,  0.99264377,  0.99421048,  0.73747259,\n",
       "          0.77259708,  0.83435499,  0.82988337,  0.98848432,  0.76670301,\n",
       "          0.82031948,  0.84977601,  0.99079989,  0.98982479,  0.97601858,\n",
       "          0.86141392,  0.77596358,  0.81362596,  0.9902823 ,  0.76890414,\n",
       "          0.78644925,  0.78414516,  0.84718534,  0.76376558,  0.86552209,\n",
       "          0.98820938,  0.99274657,  0.77145495,  0.83809609,  0.9927928 ]),\n",
       "  'split6_train_score': array([ 0.86963735,  0.82256646,  0.78409289,  0.77180912,  0.98246186,\n",
       "          0.98186576,  0.86510516,  0.87453738,  0.8603452 ,  0.77371385,\n",
       "          0.99211043,  0.98110107,  0.99209742,  0.9887391 ,  0.77581697,\n",
       "          0.7685492 ,  0.85004847,  0.86380823,  0.99037345,  0.76350108,\n",
       "          0.779984  ,  0.88299978,  0.98644813,  0.98331122,  0.97920985,\n",
       "          0.84968151,  0.77260762,  0.85190653,  0.98521397,  0.73589892,\n",
       "          0.78010892,  0.76813682,  0.82998918,  0.7828132 ,  0.8417585 ,\n",
       "          0.98982786,  0.99273031,  0.79501642,  0.84692842,  0.98881301]),\n",
       "  'split7_train_score': array([ 0.83647937,  0.86294016,  0.79031554,  0.76734233,  0.9873021 ,\n",
       "          0.98954771,  0.87151424,  0.82795833,  0.85507365,  0.77701209,\n",
       "          0.99744063,  0.9846228 ,  0.99358889,  0.98831179,  0.76661449,\n",
       "          0.77352699,  0.85296317,  0.8310484 ,  0.99365764,  0.78358206,\n",
       "          0.77270558,  0.86427848,  0.99206222,  0.99077155,  0.97977126,\n",
       "          0.85070377,  0.77381647,  0.88420994,  0.99450271,  0.77172274,\n",
       "          0.78516798,  0.77178314,  0.82931917,  0.79454968,  0.87227068,\n",
       "          0.9859121 ,  0.99540895,  0.76612244,  0.84730807,  0.9866558 ]),\n",
       "  'split8_train_score': array([ 0.86807422,  0.84099689,  0.75680103,  0.7779896 ,  0.98912732,\n",
       "          0.98545909,  0.85035163,  0.83662927,  0.88695755,  0.77302104,\n",
       "          0.98912534,  0.98467942,  0.98962931,  0.98320776,  0.76287318,\n",
       "          0.80022823,  0.81630493,  0.86970346,  0.99010483,  0.75639771,\n",
       "          0.79764217,  0.8533611 ,  0.97806662,  0.9857556 ,  0.98991138,\n",
       "          0.82524905,  0.80008898,  0.88865417,  0.98333856,  0.75682689,\n",
       "          0.76376206,  0.75335019,  0.81384588,  0.7470165 ,  0.84095966,\n",
       "          0.98877578,  0.98361663,  0.78687541,  0.86683555,  0.98299317]),\n",
       "  'split9_train_score': array([ 0.86577325,  0.82450161,  0.78395243,  0.76283046,  0.97863681,\n",
       "          0.99074476,  0.84850105,  0.84075979,  0.86085312,  0.77333568,\n",
       "          0.99115548,  0.96695804,  0.99310151,  0.99042935,  0.7495191 ,\n",
       "          0.76975953,  0.87110203,  0.83400714,  0.98983972,  0.76789813,\n",
       "          0.77361808,  0.86818217,  0.99334696,  0.98669402,  0.98963359,\n",
       "          0.86112982,  0.76144117,  0.8567913 ,  0.99478061,  0.7783345 ,\n",
       "          0.78593046,  0.75948971,  0.8362086 ,  0.75532421,  0.8156476 ,\n",
       "          0.99235522,  0.98594395,  0.77955164,  0.8583541 ,  0.99144508]),\n",
       "  'mean_train_score': array([ 0.85267652,  0.83831824,  0.78214779,  0.76849137,  0.98578809,\n",
       "          0.98713853,  0.85329801,  0.83491891,  0.86600449,  0.77490304,\n",
       "          0.99193423,  0.98339259,  0.99272696,  0.98937182,  0.76113737,\n",
       "          0.78050902,  0.84837364,  0.84744431,  0.98964943,  0.76738518,\n",
       "          0.77986826,  0.85793986,  0.98822152,  0.98777557,  0.98293434,\n",
       "          0.8436127 ,  0.77500613,  0.8556671 ,  0.98940795,  0.76678931,\n",
       "          0.77440003,  0.77254043,  0.83126508,  0.7658672 ,  0.84205812,\n",
       "          0.98627279,  0.98892251,  0.77287353,  0.85131635,  0.98825896]),\n",
       "  'std_train_score': array([ 0.01883174,  0.01291798,  0.01067483,  0.00900403,  0.00367883,\n",
       "          0.00397325,  0.01262302,  0.02113867,  0.01255091,  0.00698606,\n",
       "          0.00241167,  0.00608749,  0.00139227,  0.00293539,  0.01088714,\n",
       "          0.01616687,  0.01729676,  0.0153251 ,  0.00278995,  0.00975756,\n",
       "          0.01898485,  0.01562234,  0.004464  ,  0.00290234,  0.00606717,\n",
       "          0.01939638,  0.01900899,  0.02183734,  0.00370584,  0.01231754,\n",
       "          0.01474772,  0.01026028,  0.0119041 ,  0.01409257,  0.01708485,\n",
       "          0.00375684,  0.00377102,  0.01385864,  0.01002082,  0.00303795])},\n",
       " {'mean_fit_time': array([ 18.74776936,  18.30573764,  13.55810957,  17.0937727 ,\n",
       "          17.20961125,  21.10113182,  15.86791496,  19.0615    ,\n",
       "          13.09373055,  21.98059504,  15.02030029,  21.83001466,\n",
       "          21.18417447,  16.633073  ,  14.50251567,  15.84797573,\n",
       "          16.06761932,  18.79458554,  19.17472556,  28.14768565,\n",
       "          20.70419142,  23.36678076,  18.1754921 ,  22.20267236,\n",
       "          20.76650541,  14.04217088,  15.1208745 ,  18.27368519,\n",
       "          19.48722062,  15.35385115,  18.8574297 ,  15.63844779,\n",
       "          14.15084684,  17.02743695,  15.63427334,  18.02496772,\n",
       "          15.41498625,  13.98254764,  18.08557181,  17.8745909 ]),\n",
       "  'std_fit_time': array([  7.26797479,   2.94596101,   2.96637195,   4.76246142,\n",
       "           4.88641416,   9.84084602,   3.07871357,   5.75598286,\n",
       "           3.14048119,   4.68046004,   3.57435476,   7.40176288,\n",
       "           4.3154228 ,   3.14432327,   3.31118091,   3.39457961,\n",
       "           4.30528471,   7.29512468,   4.65619197,   5.86005366,\n",
       "           6.29297154,   5.16544865,   8.03906159,  10.28377204,\n",
       "           6.0638401 ,   2.89148086,   5.02176141,   6.1422291 ,\n",
       "           5.22927856,   3.12774475,   3.61292776,   2.93618404,\n",
       "           3.95570641,   2.54452088,   4.53860693,   4.72387603,\n",
       "           3.60354975,   4.38463085,   4.40880786,   4.04656354]),\n",
       "  'mean_score_time': array([ 0.03248637,  0.03589978,  0.0333391 ,  0.03308909,  0.0341418 ,\n",
       "          0.03424132,  0.03358972,  0.03664787,  0.03584449,  0.0343914 ,\n",
       "          0.03750196,  0.03268785,  0.03674822,  0.03589578,  0.03278778,\n",
       "          0.03739991,  0.03444204,  0.03579547,  0.0377506 ,  0.03263681,\n",
       "          0.03559561,  0.03218632,  0.0360462 ,  0.03629141,  0.0357451 ,\n",
       "          0.03459253,  0.03554442,  0.03534453,  0.03735018,  0.03223643,\n",
       "          0.03373964,  0.0314842 ,  0.03639722,  0.03454163,  0.03333895,\n",
       "          0.03414505,  0.03459213,  0.03374009,  0.0330878 ,  0.02827578]),\n",
       "  'std_score_time': array([ 0.00513589,  0.00535999,  0.00361067,  0.00467634,  0.00271296,\n",
       "          0.00377184,  0.00391559,  0.00524993,  0.00466781,  0.00589468,\n",
       "          0.00658121,  0.00367556,  0.00851982,  0.00707973,  0.00211813,\n",
       "          0.00491265,  0.00355938,  0.00849641,  0.00656744,  0.00326781,\n",
       "          0.00379784,  0.00399041,  0.00502564,  0.00579681,  0.00529153,\n",
       "          0.00402341,  0.00527457,  0.00651435,  0.00757373,  0.00438868,\n",
       "          0.00319486,  0.00391985,  0.00332701,  0.00267586,  0.00402485,\n",
       "          0.00457103,  0.00451777,  0.00450135,  0.00213871,  0.00607127]),\n",
       "  'param_learning_rate_init': masked_array(data = [0.005 0.005 0.01 0.001 0.001 0.001 0.01 0.005 0.01 0.001 0.005 0.001 0.005\n",
       "   0.01 0.01 0.01 0.001 0.001 0.005 0.001 0.001 0.001 0.001 0.001 0.001 0.01\n",
       "   0.01 0.01 0.01 0.01 0.01 0.005 0.005 0.01 0.01 0.01 0.01 0.01 0.005 0.001],\n",
       "               mask = [False False False False False False False False False False False False\n",
       "   False False False False False False False False False False False False\n",
       "   False False False False False False False False False False False False\n",
       "   False False False False],\n",
       "         fill_value = ?),\n",
       "  'param_epsilon': masked_array(data = [1e-08 1e-08 1e-05 1e-05 1e-08 1e-09 1e-08 1e-08 1e-09 1e-09 1e-05 1e-05\n",
       "   1e-09 1e-09 1e-08 1e-05 1e-05 1e-08 1e-05 1e-09 1e-08 1e-08 1e-08 1e-08\n",
       "   1e-09 1e-08 1e-08 1e-05 1e-08 1e-09 1e-08 1e-05 1e-05 1e-05 1e-08 1e-09\n",
       "   1e-05 1e-05 1e-09 1e-09],\n",
       "               mask = [False False False False False False False False False False False False\n",
       "   False False False False False False False False False False False False\n",
       "   False False False False False False False False False False False False\n",
       "   False False False False],\n",
       "         fill_value = ?),\n",
       "  'param_beta_2': masked_array(data = [0.9999 0.999 0.998 0.998 0.998 0.999 0.9999 0.999 0.998 0.998 0.999 0.999\n",
       "   0.998 0.998 0.998 0.999 0.9999 0.9999 0.999 0.9999 0.999 0.999 0.998\n",
       "   0.9999 0.998 0.998 0.999 0.9999 0.9999 0.999 0.998 0.998 0.998 0.9999\n",
       "   0.999 0.9999 0.999 0.9999 0.999 0.998],\n",
       "               mask = [False False False False False False False False False False False False\n",
       "   False False False False False False False False False False False False\n",
       "   False False False False False False False False False False False False\n",
       "   False False False False],\n",
       "         fill_value = ?),\n",
       "  'param_beta_1': masked_array(data = [0.95 0.85 0.9 0.95 0.85 0.95 0.85 0.95 0.9 0.85 0.9 0.9 0.95 0.85 0.85\n",
       "   0.85 0.9 0.9 0.85 0.85 0.9 0.85 0.9 0.85 0.95 0.9 0.85 0.9 0.95 0.95 0.95\n",
       "   0.85 0.9 0.95 0.9 0.95 0.9 0.85 0.95 0.9],\n",
       "               mask = [False False False False False False False False False False False False\n",
       "   False False False False False False False False False False False False\n",
       "   False False False False False False False False False False False False\n",
       "   False False False False],\n",
       "         fill_value = ?),\n",
       "  'params': [{'learning_rate_init': 0.005,\n",
       "    'epsilon': 1e-08,\n",
       "    'beta_2': 0.9999,\n",
       "    'beta_1': 0.95},\n",
       "   {'learning_rate_init': 0.005,\n",
       "    'epsilon': 1e-08,\n",
       "    'beta_2': 0.999,\n",
       "    'beta_1': 0.85},\n",
       "   {'learning_rate_init': 0.01,\n",
       "    'epsilon': 1e-05,\n",
       "    'beta_2': 0.998,\n",
       "    'beta_1': 0.9},\n",
       "   {'learning_rate_init': 0.001,\n",
       "    'epsilon': 1e-05,\n",
       "    'beta_2': 0.998,\n",
       "    'beta_1': 0.95},\n",
       "   {'learning_rate_init': 0.001,\n",
       "    'epsilon': 1e-08,\n",
       "    'beta_2': 0.998,\n",
       "    'beta_1': 0.85},\n",
       "   {'learning_rate_init': 0.001,\n",
       "    'epsilon': 1e-09,\n",
       "    'beta_2': 0.999,\n",
       "    'beta_1': 0.95},\n",
       "   {'learning_rate_init': 0.01,\n",
       "    'epsilon': 1e-08,\n",
       "    'beta_2': 0.9999,\n",
       "    'beta_1': 0.85},\n",
       "   {'learning_rate_init': 0.005,\n",
       "    'epsilon': 1e-08,\n",
       "    'beta_2': 0.999,\n",
       "    'beta_1': 0.95},\n",
       "   {'learning_rate_init': 0.01,\n",
       "    'epsilon': 1e-09,\n",
       "    'beta_2': 0.998,\n",
       "    'beta_1': 0.9},\n",
       "   {'learning_rate_init': 0.001,\n",
       "    'epsilon': 1e-09,\n",
       "    'beta_2': 0.998,\n",
       "    'beta_1': 0.85},\n",
       "   {'learning_rate_init': 0.005,\n",
       "    'epsilon': 1e-05,\n",
       "    'beta_2': 0.999,\n",
       "    'beta_1': 0.9},\n",
       "   {'learning_rate_init': 0.001,\n",
       "    'epsilon': 1e-05,\n",
       "    'beta_2': 0.999,\n",
       "    'beta_1': 0.9},\n",
       "   {'learning_rate_init': 0.005,\n",
       "    'epsilon': 1e-09,\n",
       "    'beta_2': 0.998,\n",
       "    'beta_1': 0.95},\n",
       "   {'learning_rate_init': 0.01,\n",
       "    'epsilon': 1e-09,\n",
       "    'beta_2': 0.998,\n",
       "    'beta_1': 0.85},\n",
       "   {'learning_rate_init': 0.01,\n",
       "    'epsilon': 1e-08,\n",
       "    'beta_2': 0.998,\n",
       "    'beta_1': 0.85},\n",
       "   {'learning_rate_init': 0.01,\n",
       "    'epsilon': 1e-05,\n",
       "    'beta_2': 0.999,\n",
       "    'beta_1': 0.85},\n",
       "   {'learning_rate_init': 0.001,\n",
       "    'epsilon': 1e-05,\n",
       "    'beta_2': 0.9999,\n",
       "    'beta_1': 0.9},\n",
       "   {'learning_rate_init': 0.001,\n",
       "    'epsilon': 1e-08,\n",
       "    'beta_2': 0.9999,\n",
       "    'beta_1': 0.9},\n",
       "   {'learning_rate_init': 0.005,\n",
       "    'epsilon': 1e-05,\n",
       "    'beta_2': 0.999,\n",
       "    'beta_1': 0.85},\n",
       "   {'learning_rate_init': 0.001,\n",
       "    'epsilon': 1e-09,\n",
       "    'beta_2': 0.9999,\n",
       "    'beta_1': 0.85},\n",
       "   {'learning_rate_init': 0.001,\n",
       "    'epsilon': 1e-08,\n",
       "    'beta_2': 0.999,\n",
       "    'beta_1': 0.9},\n",
       "   {'learning_rate_init': 0.001,\n",
       "    'epsilon': 1e-08,\n",
       "    'beta_2': 0.999,\n",
       "    'beta_1': 0.85},\n",
       "   {'learning_rate_init': 0.001,\n",
       "    'epsilon': 1e-08,\n",
       "    'beta_2': 0.998,\n",
       "    'beta_1': 0.9},\n",
       "   {'learning_rate_init': 0.001,\n",
       "    'epsilon': 1e-08,\n",
       "    'beta_2': 0.9999,\n",
       "    'beta_1': 0.85},\n",
       "   {'learning_rate_init': 0.001,\n",
       "    'epsilon': 1e-09,\n",
       "    'beta_2': 0.998,\n",
       "    'beta_1': 0.95},\n",
       "   {'learning_rate_init': 0.01,\n",
       "    'epsilon': 1e-08,\n",
       "    'beta_2': 0.998,\n",
       "    'beta_1': 0.9},\n",
       "   {'learning_rate_init': 0.01,\n",
       "    'epsilon': 1e-08,\n",
       "    'beta_2': 0.999,\n",
       "    'beta_1': 0.85},\n",
       "   {'learning_rate_init': 0.01,\n",
       "    'epsilon': 1e-05,\n",
       "    'beta_2': 0.9999,\n",
       "    'beta_1': 0.9},\n",
       "   {'learning_rate_init': 0.01,\n",
       "    'epsilon': 1e-08,\n",
       "    'beta_2': 0.9999,\n",
       "    'beta_1': 0.95},\n",
       "   {'learning_rate_init': 0.01,\n",
       "    'epsilon': 1e-09,\n",
       "    'beta_2': 0.999,\n",
       "    'beta_1': 0.95},\n",
       "   {'learning_rate_init': 0.01,\n",
       "    'epsilon': 1e-08,\n",
       "    'beta_2': 0.998,\n",
       "    'beta_1': 0.95},\n",
       "   {'learning_rate_init': 0.005,\n",
       "    'epsilon': 1e-05,\n",
       "    'beta_2': 0.998,\n",
       "    'beta_1': 0.85},\n",
       "   {'learning_rate_init': 0.005,\n",
       "    'epsilon': 1e-05,\n",
       "    'beta_2': 0.998,\n",
       "    'beta_1': 0.9},\n",
       "   {'learning_rate_init': 0.01,\n",
       "    'epsilon': 1e-05,\n",
       "    'beta_2': 0.9999,\n",
       "    'beta_1': 0.95},\n",
       "   {'learning_rate_init': 0.01,\n",
       "    'epsilon': 1e-08,\n",
       "    'beta_2': 0.999,\n",
       "    'beta_1': 0.9},\n",
       "   {'learning_rate_init': 0.01,\n",
       "    'epsilon': 1e-09,\n",
       "    'beta_2': 0.9999,\n",
       "    'beta_1': 0.95},\n",
       "   {'learning_rate_init': 0.01,\n",
       "    'epsilon': 1e-05,\n",
       "    'beta_2': 0.999,\n",
       "    'beta_1': 0.9},\n",
       "   {'learning_rate_init': 0.01,\n",
       "    'epsilon': 1e-05,\n",
       "    'beta_2': 0.9999,\n",
       "    'beta_1': 0.85},\n",
       "   {'learning_rate_init': 0.005,\n",
       "    'epsilon': 1e-09,\n",
       "    'beta_2': 0.999,\n",
       "    'beta_1': 0.95},\n",
       "   {'learning_rate_init': 0.001,\n",
       "    'epsilon': 1e-09,\n",
       "    'beta_2': 0.998,\n",
       "    'beta_1': 0.9}],\n",
       "  'split0_test_score': array([ 0.6902572 ,  0.66520147,  0.68111106,  0.71603961,  0.61298611,\n",
       "          0.73344703,  0.67610347,  0.69766527,  0.66997078,  0.70126401,\n",
       "          0.65333749,  0.70805614,  0.67822021,  0.54847474,  0.68494708,\n",
       "          0.57373315,  0.66267641,  0.657436  ,  0.65878701,  0.67847825,\n",
       "          0.69984033,  0.61715877,  0.65940393,  0.72437405,  0.69464588,\n",
       "          0.6688091 ,  0.67748859,  0.67178696,  0.64804714,  0.68383187,\n",
       "          0.64092282,  0.71870604,  0.66658362,  0.72395881,  0.69979881,\n",
       "          0.68749289,  0.65981225,  0.70371491,  0.70958165,  0.68532475]),\n",
       "  'split1_test_score': array([ 0.70266396,  0.70375544,  0.67628835,  0.64297183,  0.65525055,\n",
       "          0.62865448,  0.69314905,  0.68087873,  0.68165779,  0.70195113,\n",
       "          0.69425635,  0.70596214,  0.69862427,  0.57343952,  0.66443327,\n",
       "          0.56321079,  0.59354056,  0.68911727,  0.66745958,  0.70428537,\n",
       "          0.6336245 ,  0.6222682 ,  0.69972565,  0.61045217,  0.6622419 ,\n",
       "          0.67885493,  0.6558744 ,  0.65723777,  0.71271967,  0.6771999 ,\n",
       "          0.7127869 ,  0.66214748,  0.71060491,  0.66694942,  0.68821264,\n",
       "          0.70225762,  0.67954897,  0.66440856,  0.70308414,  0.70935623]),\n",
       "  'split2_test_score': array([ 0.69344268,  0.70792464,  0.68297964,  0.60994696,  0.71040916,\n",
       "          0.65341856,  0.67910605,  0.70892221,  0.71488188,  0.71516859,\n",
       "          0.69803799,  0.7249366 ,  0.70514155,  0.63795386,  0.60185474,\n",
       "          0.67345879,  0.64786226,  0.70185622,  0.7193111 ,  0.70241778,\n",
       "          0.68481757,  0.70836855,  0.70031786,  0.72344075,  0.67581973,\n",
       "          0.67419041,  0.62795549,  0.65231422,  0.6528392 ,  0.68048721,\n",
       "          0.70362197,  0.68663968,  0.69791243,  0.68428863,  0.66759206,\n",
       "          0.6587267 ,  0.63788465,  0.67671249,  0.6618667 ,  0.67093374]),\n",
       "  'split3_test_score': array([ 0.66063779,  0.66805179,  0.67354085,  0.66168429,  0.66207135,\n",
       "          0.6861582 ,  0.66879032,  0.69779478,  0.63280984,  0.66870777,\n",
       "          0.65258412,  0.68351945,  0.70031687,  0.57226498,  0.63412278,\n",
       "          0.67099603,  0.66545209,  0.68442507,  0.68007197,  0.69059434,\n",
       "          0.62409327,  0.66667754,  0.64587653,  0.63113306,  0.64414389,\n",
       "          0.6866901 ,  0.66360774,  0.67821328,  0.68751959,  0.68198405,\n",
       "          0.66535866,  0.69252421,  0.68424711,  0.65958881,  0.68058707,\n",
       "          0.65731884,  0.6321415 ,  0.65942865,  0.68122377,  0.63746348]),\n",
       "  'split4_test_score': array([ 0.68651214,  0.68901148,  0.7122718 ,  0.6815174 ,  0.7164064 ,\n",
       "          0.65021528,  0.66644323,  0.67543514,  0.67998992,  0.71742473,\n",
       "          0.71855774,  0.6014301 ,  0.70458098,  0.60832456,  0.66683474,\n",
       "          0.64095841,  0.62960458,  0.6564765 ,  0.69421186,  0.65324949,\n",
       "          0.71286896,  0.68249124,  0.70305053,  0.68839159,  0.66418314,\n",
       "          0.68042691,  0.65265531,  0.66725888,  0.71084813,  0.70951639,\n",
       "          0.67614697,  0.71100137,  0.67472725,  0.62260879,  0.61230789,\n",
       "          0.66039556,  0.66628405,  0.6284953 ,  0.69319255,  0.66120874]),\n",
       "  'split5_test_score': array([ 0.6682159 ,  0.70517319,  0.66372638,  0.6753333 ,  0.69574429,\n",
       "          0.69832174,  0.70376434,  0.68835303,  0.63318157,  0.67659187,\n",
       "          0.68616512,  0.64569412,  0.68676227,  0.68721211,  0.6800868 ,\n",
       "          0.64049275,  0.69600085,  0.68747213,  0.6537379 ,  0.66491772,\n",
       "          0.66062691,  0.65863376,  0.6995902 ,  0.66546346,  0.70423791,\n",
       "          0.58334693,  0.6526642 ,  0.68140074,  0.7035498 ,  0.68711424,\n",
       "          0.70225465,  0.66572842,  0.6670562 ,  0.70824398,  0.63402293,\n",
       "          0.69921648,  0.66016521,  0.70421715,  0.69599838,  0.66920457]),\n",
       "  'split6_test_score': array([ 0.73191163,  0.68237952,  0.69279115,  0.66005151,  0.57977834,\n",
       "          0.69260231,  0.66870035,  0.69324791,  0.69252816,  0.67288339,\n",
       "          0.70735814,  0.72120933,  0.71845195,  0.61442759,  0.66794106,\n",
       "          0.67497145,  0.68787699,  0.69621984,  0.66801916,  0.71372415,\n",
       "          0.66741657,  0.68361634,  0.65270177,  0.65245312,  0.65598266,\n",
       "          0.64159313,  0.65580223,  0.64774263,  0.70430712,  0.67383053,\n",
       "          0.70902503,  0.72333398,  0.67495563,  0.65728918,  0.68410771,\n",
       "          0.65256336,  0.68522193,  0.65968471,  0.64106123,  0.66447381]),\n",
       "  'split7_test_score': array([ 0.68329601,  0.68120301,  0.63731716,  0.71896902,  0.64189814,\n",
       "          0.67876694,  0.6820147 ,  0.69563257,  0.67647323,  0.66411196,\n",
       "          0.68753046,  0.66409515,  0.68496587,  0.62580613,  0.62458217,\n",
       "          0.67586224,  0.57223433,  0.6195988 ,  0.68151641,  0.62635385,\n",
       "          0.65540182,  0.66654902,  0.61099989,  0.67624881,  0.68438305,\n",
       "          0.66691976,  0.66920754,  0.7000519 ,  0.63754257,  0.70688852,\n",
       "          0.60753659,  0.70048099,  0.66986796,  0.72301464,  0.67618553,\n",
       "          0.70986638,  0.68567869,  0.70511782,  0.71088372,  0.64884301]),\n",
       "  'split8_test_score': array([ 0.67922172,  0.70523548,  0.68935554,  0.70866219,  0.64824191,\n",
       "          0.65274775,  0.68267315,  0.73248012,  0.68603659,  0.70416475,\n",
       "          0.68865853,  0.65507506,  0.71840054,  0.63731716,  0.67551324,\n",
       "          0.71155107,  0.66152956,  0.62922988,  0.66611005,  0.72060526,\n",
       "          0.64817764,  0.7100829 ,  0.66152561,  0.60746788,  0.65153564,\n",
       "          0.66044796,  0.65163303,  0.73431211,  0.61983361,  0.70004301,\n",
       "          0.70258882,  0.69154049,  0.68011943,  0.68994281,  0.72376899,\n",
       "          0.67098812,  0.67995136,  0.54470001,  0.662364  ,  0.71216602]),\n",
       "  'split9_test_score': array([ 0.71535248,  0.7083824 ,  0.66817834,  0.66447875,  0.64102465,\n",
       "          0.71646473,  0.68448538,  0.71824729,  0.65023604,  0.65848645,\n",
       "          0.67654145,  0.66573831,  0.69753476,  0.64467085,  0.62626487,\n",
       "          0.68769952,  0.69009308,  0.64536291,  0.72961694,  0.68949099,\n",
       "          0.6745226 ,  0.75006748,  0.6286876 ,  0.74655475,  0.70565764,\n",
       "          0.67712378,  0.68513987,  0.66227304,  0.68955822,  0.71357585,\n",
       "          0.66221471,  0.69750807,  0.66963266,  0.68559762,  0.65629755,\n",
       "          0.69436115,  0.6746709 ,  0.66112421,  0.70178998,  0.69594005]),\n",
       "  'mean_test_score': array([ 0.69115115,  0.69163184,  0.67775603,  0.67396549,  0.65638109,\n",
       "          0.6790797 ,  0.680523  ,  0.6988657 ,  0.67177658,  0.68807546,\n",
       "          0.68630274,  0.67757164,  0.69929993,  0.61498915,  0.65265808,\n",
       "          0.65129342,  0.65068707,  0.66671946,  0.6818842 ,  0.68441172,\n",
       "          0.66613902,  0.67659138,  0.66618796,  0.67259796,  0.67428314,\n",
       "          0.6618403 ,  0.65920284,  0.67525915,  0.6766765 ,  0.69144716,\n",
       "          0.67824571,  0.69496107,  0.67957072,  0.68214827,  0.67228812,\n",
       "          0.67931871,  0.66613595,  0.66076038,  0.68610461,  0.67549144]),\n",
       "  'std_test_score': array([ 0.02017013,  0.01586588,  0.01879966,  0.03248341,  0.04045753,\n",
       "          0.03111992,  0.01104236,  0.01623067,  0.02480814,  0.02099593,\n",
       "          0.02002674,  0.03682369,  0.01266991,  0.03906496,  0.02701827,\n",
       "          0.04582333,  0.03916833,  0.02761108,  0.02410271,  0.02776584,\n",
       "          0.02652092,  0.03823509,  0.03142989,  0.04612831,  0.02099617,\n",
       "          0.02878549,  0.01506174,  0.02449791,  0.03222791,  0.01388621,\n",
       "          0.03282329,  0.0191866 ,  0.01372827,  0.03013181,  0.03037117,\n",
       "          0.02049323,  0.01794222,  0.0452582 ,  0.02247545,  0.02355554]),\n",
       "  'rank_test_score': array([ 6,  4, 18, 25, 36, 16, 13,  2, 28,  7,  8, 19,  1, 40, 37, 38, 39,\n",
       "         29, 12, 10, 31, 21, 30, 26, 24, 33, 35, 23, 20,  5, 17,  3, 14, 11,\n",
       "         27, 15, 32, 34,  9, 22]),\n",
       "  'split0_train_score': array([ 0.75269181,  0.71725478,  0.73201226,  0.77515914,  0.66535513,\n",
       "          0.80730035,  0.70719268,  0.74741559,  0.73474789,  0.76599966,\n",
       "          0.70981608,  0.76252274,  0.73871351,  0.57051814,  0.71054726,\n",
       "          0.6124894 ,  0.72738897,  0.7012941 ,  0.71363608,  0.73230713,\n",
       "          0.77883616,  0.66451094,  0.71660969,  0.77170078,  0.7646515 ,\n",
       "          0.7162542 ,  0.71522277,  0.70468427,  0.68460378,  0.69713223,\n",
       "          0.69348498,  0.77126479,  0.7360966 ,  0.77491073,  0.75235697,\n",
       "          0.7384506 ,  0.72190074,  0.75512939,  0.76400982,  0.72899499]),\n",
       "  'split1_train_score': array([ 0.75046696,  0.75514685,  0.72012494,  0.7080663 ,  0.70166299,\n",
       "          0.69344709,  0.75313714,  0.72912826,  0.7196571 ,  0.75044598,\n",
       "          0.75974812,  0.75961189,  0.77095455,  0.59504592,  0.71237896,\n",
       "          0.59837228,  0.64000902,  0.7496405 ,  0.73047059,  0.76610893,\n",
       "          0.68468318,  0.66371979,  0.77173493,  0.67894505,  0.72744915,\n",
       "          0.69983294,  0.69304119,  0.70516968,  0.76677598,  0.70674714,\n",
       "          0.7727611 ,  0.70684345,  0.75519342,  0.68686806,  0.74652538,\n",
       "          0.74709371,  0.72883745,  0.70164509,  0.75313197,  0.77810618]),\n",
       "  'split2_train_score': array([ 0.74336431,  0.75126667,  0.71158792,  0.67142673,  0.74141576,\n",
       "          0.65948044,  0.73755589,  0.74510991,  0.74764929,  0.78422061,\n",
       "          0.75022689,  0.7792918 ,  0.76385596,  0.68086659,  0.63596323,\n",
       "          0.7116548 ,  0.69782064,  0.74964341,  0.7554817 ,  0.72270271,\n",
       "          0.71657312,  0.78163823,  0.73908558,  0.78021342,  0.74626626,\n",
       "          0.70258252,  0.64296748,  0.6968132 ,  0.70845287,  0.69997362,\n",
       "          0.73787997,  0.71979691,  0.74487302,  0.72280775,  0.7034903 ,\n",
       "          0.70523491,  0.68970912,  0.69436025,  0.69481798,  0.69270234]),\n",
       "  'split3_train_score': array([ 0.72684267,  0.76016895,  0.73604981,  0.71095376,  0.7274234 ,\n",
       "          0.77286213,  0.71445677,  0.78045601,  0.70306463,  0.7144074 ,\n",
       "          0.71645089,  0.76631265,  0.75705092,  0.6026845 ,  0.68918649,\n",
       "          0.73715362,  0.72527816,  0.75828004,  0.75183895,  0.76888245,\n",
       "          0.65943833,  0.73789002,  0.70937674,  0.69345593,  0.7032577 ,\n",
       "          0.73556528,  0.73421317,  0.76033138,  0.7347927 ,  0.7677871 ,\n",
       "          0.72142181,  0.7579229 ,  0.76706789,  0.71687831,  0.76146319,\n",
       "          0.72543521,  0.67977684,  0.73101893,  0.75670433,  0.71828391]),\n",
       "  'split4_train_score': array([ 0.75316481,  0.74500689,  0.75359729,  0.74783708,  0.78446809,\n",
       "          0.71836314,  0.72005136,  0.73540626,  0.72718344,  0.77012057,\n",
       "          0.75611756,  0.67206534,  0.77512125,  0.64587312,  0.71446709,\n",
       "          0.68803359,  0.67644125,  0.71104047,  0.75487252,  0.7311461 ,\n",
       "          0.78789032,  0.76237256,  0.7784631 ,  0.72037072,  0.71387549,\n",
       "          0.71575419,  0.69288733,  0.7080517 ,  0.76146286,  0.75534519,\n",
       "          0.72586867,  0.7635019 ,  0.74304209,  0.64492723,  0.65612685,\n",
       "          0.69620447,  0.6940421 ,  0.68016538,  0.74064943,  0.68189604]),\n",
       "  'split5_train_score': array([ 0.73214503,  0.7570137 ,  0.71559297,  0.75896158,  0.7918174 ,\n",
       "          0.75751563,  0.7649769 ,  0.75561875,  0.68012936,  0.76700836,\n",
       "          0.74480669,  0.73296995,  0.76035279,  0.77428354,  0.73437834,\n",
       "          0.70024114,  0.77018207,  0.7633263 ,  0.71292686,  0.75277506,\n",
       "          0.69845854,  0.73952608,  0.78305255,  0.73221153,  0.79774628,\n",
       "          0.64069057,  0.68396309,  0.76371671,  0.76670021,  0.76036586,\n",
       "          0.77667225,  0.73115071,  0.73023843,  0.79024081,  0.66631875,\n",
       "          0.75776168,  0.72256362,  0.76917205,  0.7680085 ,  0.74578486]),\n",
       "  'split6_train_score': array([ 0.79169549,  0.72884635,  0.74872224,  0.7352473 ,  0.59338566,\n",
       "          0.72717565,  0.69812863,  0.7467537 ,  0.75652313,  0.71357579,\n",
       "          0.7590087 ,  0.79566331,  0.77952352,  0.66496082,  0.70341507,\n",
       "          0.70604297,  0.75361403,  0.77807213,  0.73361597,  0.79493026,\n",
       "          0.70514024,  0.77023912,  0.71596378,  0.69459263,  0.6916239 ,\n",
       "          0.68875116,  0.70161467,  0.68362715,  0.76435334,  0.73623969,\n",
       "          0.76024352,  0.76783718,  0.72941313,  0.72124467,  0.73280955,\n",
       "          0.70064539,  0.75815858,  0.69533007,  0.68750129,  0.73011736]),\n",
       "  'split7_train_score': array([ 0.73556935,  0.73045555,  0.67255942,  0.7943771 ,  0.69032835,\n",
       "          0.7457193 ,  0.73738886,  0.75105153,  0.71018409,  0.74277089,\n",
       "          0.72891114,  0.72650157,  0.74812635,  0.67368541,  0.64780464,\n",
       "          0.73094689,  0.62043849,  0.66821997,  0.72913715,  0.6814102 ,\n",
       "          0.71279013,  0.73530644,  0.65147117,  0.7435527 ,  0.74710864,\n",
       "          0.71128756,  0.7107154 ,  0.75225945,  0.67890003,  0.75459039,\n",
       "          0.63555272,  0.75579589,  0.72870424,  0.78238358,  0.72998222,\n",
       "          0.75697987,  0.7296912 ,  0.74517338,  0.76763873,  0.72445226]),\n",
       "  'split8_train_score': array([ 0.73271181,  0.74653164,  0.72137525,  0.77570737,  0.71867718,\n",
       "          0.73505176,  0.71129327,  0.77127511,  0.72004192,  0.7542483 ,\n",
       "          0.74610477,  0.72427907,  0.75768042,  0.67089059,  0.6870396 ,\n",
       "          0.77036393,  0.71450366,  0.64465839,  0.73034145,  0.7892868 ,\n",
       "          0.67508134,  0.77942392,  0.68662503,  0.64205399,  0.68646574,\n",
       "          0.69628112,  0.70118681,  0.77577655,  0.65040541,  0.72466899,\n",
       "          0.75910534,  0.74024617,  0.70782701,  0.71612297,  0.77899902,\n",
       "          0.7055065 ,  0.7287195 ,  0.55907209,  0.67914218,  0.78299133]),\n",
       "  'split9_train_score': array([ 0.76008175,  0.76275655,  0.7001411 ,  0.69262448,  0.69059164,\n",
       "          0.78015785,  0.70574052,  0.77466418,  0.68618652,  0.70872534,\n",
       "          0.71207234,  0.71544444,  0.73485255,  0.67657414,  0.64087721,\n",
       "          0.73308894,  0.76063536,  0.69418174,  0.78461525,  0.74339044,\n",
       "          0.74646795,  0.80528371,  0.67379534,  0.82439887,  0.77500034,\n",
       "          0.70962466,  0.73506055,  0.71107649,  0.72823629,  0.75494204,\n",
       "          0.69662563,  0.74886621,  0.701634  ,  0.72586197,  0.69927582,\n",
       "          0.73595295,  0.70823235,  0.70600607,  0.72849218,  0.76563341]),\n",
       "  'mean_train_score': array([ 0.7478734 ,  0.74544479,  0.72117632,  0.73703608,  0.71051256,\n",
       "          0.73970733,  0.7249922 ,  0.75368793,  0.71853674,  0.74715229,\n",
       "          0.73832632,  0.74346628,  0.75862318,  0.65553828,  0.68760579,\n",
       "          0.69883876,  0.70863117,  0.7218357 ,  0.73969365,  0.74829401,\n",
       "          0.71653593,  0.74399108,  0.72261779,  0.72814956,  0.7353445 ,\n",
       "          0.70166242,  0.70108725,  0.72615066,  0.72446835,  0.73577923,\n",
       "          0.7279616 ,  0.74632261,  0.73440898,  0.72822461,  0.72273481,\n",
       "          0.72692653,  0.71616315,  0.70370727,  0.73400964,  0.73489627]),\n",
       "  'std_train_score': array([ 0.01794054,  0.01440346,  0.02253636,  0.03825432,  0.05479782,\n",
       "          0.04107096,  0.0210585 ,  0.01604658,  0.0233718 ,  0.02531349,\n",
       "          0.01875258,  0.03435582,  0.01402294,  0.05441778,  0.03276678,\n",
       "          0.05164541,  0.04777015,  0.04229987,  0.02088416,  0.03212276,\n",
       "          0.04041361,  0.0451105 ,  0.04295508,  0.05133108,  0.03526555,\n",
       "          0.02373681,  0.02519412,  0.0313826 ,  0.04007634,  0.02544612,\n",
       "          0.04152985,  0.02034754,  0.01881799,  0.04238685,  0.0384748 ,\n",
       "          0.02245243,  0.02216941,  0.05570985,  0.03294168,  0.03205562])}]"
      ]
     },
     "execution_count": 116,
     "metadata": {},
     "output_type": "execute_result"
    }
   ],
   "source": [
    "auc"
   ]
  },
  {
   "cell_type": "code",
   "execution_count": 113,
   "metadata": {},
   "outputs": [
    {
     "ename": "TypeError",
     "evalue": "list indices must be integers or slices, not str",
     "output_type": "error",
     "traceback": [
      "\u001b[1;31m---------------------------------------------------------------------------\u001b[0m",
      "\u001b[1;31mTypeError\u001b[0m                                 Traceback (most recent call last)",
      "\u001b[1;32m<ipython-input-113-af7625e398b1>\u001b[0m in \u001b[0;36m<module>\u001b[1;34m()\u001b[0m\n\u001b[1;32m----> 1\u001b[1;33m \u001b[0mreport\u001b[0m\u001b[1;33m(\u001b[0m\u001b[0mresults_adam\u001b[0m\u001b[1;33m[\u001b[0m\u001b[1;34m'auc'\u001b[0m\u001b[1;33m]\u001b[0m\u001b[1;33m)\u001b[0m\u001b[1;33m\u001b[0m\u001b[0m\n\u001b[0m",
      "\u001b[1;32m<ipython-input-111-4782b7862134>\u001b[0m in \u001b[0;36mreport\u001b[1;34m(results, n_top)\u001b[0m\n\u001b[0;32m      2\u001b[0m \u001b[1;32mdef\u001b[0m \u001b[0mreport\u001b[0m\u001b[1;33m(\u001b[0m\u001b[0mresults\u001b[0m\u001b[1;33m,\u001b[0m \u001b[0mn_top\u001b[0m\u001b[1;33m=\u001b[0m\u001b[1;36m3\u001b[0m\u001b[1;33m)\u001b[0m\u001b[1;33m:\u001b[0m\u001b[1;33m\u001b[0m\u001b[0m\n\u001b[0;32m      3\u001b[0m     \u001b[1;32mfor\u001b[0m \u001b[0mi\u001b[0m \u001b[1;32min\u001b[0m \u001b[0mrange\u001b[0m\u001b[1;33m(\u001b[0m\u001b[1;36m1\u001b[0m\u001b[1;33m,\u001b[0m \u001b[0mn_top\u001b[0m \u001b[1;33m+\u001b[0m \u001b[1;36m1\u001b[0m\u001b[1;33m)\u001b[0m\u001b[1;33m:\u001b[0m\u001b[1;33m\u001b[0m\u001b[0m\n\u001b[1;32m----> 4\u001b[1;33m         \u001b[0mcandidates\u001b[0m \u001b[1;33m=\u001b[0m \u001b[0mnp\u001b[0m\u001b[1;33m.\u001b[0m\u001b[0mflatnonzero\u001b[0m\u001b[1;33m(\u001b[0m\u001b[0mresults\u001b[0m\u001b[1;33m[\u001b[0m\u001b[1;34m'rank_test_score'\u001b[0m\u001b[1;33m]\u001b[0m \u001b[1;33m==\u001b[0m \u001b[0mi\u001b[0m\u001b[1;33m)\u001b[0m\u001b[1;33m\u001b[0m\u001b[0m\n\u001b[0m\u001b[0;32m      5\u001b[0m         \u001b[1;32mfor\u001b[0m \u001b[0mcandidate\u001b[0m \u001b[1;32min\u001b[0m \u001b[0mcandidates\u001b[0m\u001b[1;33m:\u001b[0m\u001b[1;33m\u001b[0m\u001b[0m\n\u001b[0;32m      6\u001b[0m             \u001b[0mprint\u001b[0m\u001b[1;33m(\u001b[0m\u001b[1;34m\"Model with rank: {0}\"\u001b[0m\u001b[1;33m.\u001b[0m\u001b[0mformat\u001b[0m\u001b[1;33m(\u001b[0m\u001b[0mi\u001b[0m\u001b[1;33m)\u001b[0m\u001b[1;33m)\u001b[0m\u001b[1;33m\u001b[0m\u001b[0m\n",
      "\u001b[1;31mTypeError\u001b[0m: list indices must be integers or slices, not str"
     ]
    }
   ],
   "source": [
    "report(results_adam['auc'])"
   ]
  },
  {
   "cell_type": "code",
   "execution_count": null,
   "metadata": {},
   "outputs": [],
   "source": []
  },
  {
   "cell_type": "markdown",
   "metadata": {},
   "source": [
    "### Grid search for Learning rate"
   ]
  },
  {
   "cell_type": "code",
   "execution_count": 17,
   "metadata": {},
   "outputs": [
    {
     "name": "stdout",
     "output_type": "stream",
     "text": [
      "Fitting 3 folds for each of 4 candidates, totalling 12 fits\n",
      "[CV] learning_rate_init=0.001 ........................................\n",
      "[CV] ............... learning_rate_init=0.001, score=0.648216 -  30.8s\n",
      "[CV] learning_rate_init=0.001 ........................................\n"
     ]
    },
    {
     "name": "stderr",
     "output_type": "stream",
     "text": [
      "[Parallel(n_jobs=1)]: Done   1 out of   1 | elapsed:   30.8s remaining:    0.0s\n"
     ]
    },
    {
     "name": "stdout",
     "output_type": "stream",
     "text": [
      "[CV] ............... learning_rate_init=0.001, score=0.649382 -  21.4s\n",
      "[CV] learning_rate_init=0.001 ........................................\n"
     ]
    },
    {
     "name": "stderr",
     "output_type": "stream",
     "text": [
      "[Parallel(n_jobs=1)]: Done   2 out of   2 | elapsed:   52.3s remaining:    0.0s\n"
     ]
    },
    {
     "name": "stdout",
     "output_type": "stream",
     "text": [
      "[CV] ............... learning_rate_init=0.001, score=0.644233 -  19.9s\n",
      "[CV] learning_rate_init=0.005 ........................................\n"
     ]
    },
    {
     "name": "stderr",
     "output_type": "stream",
     "text": [
      "[Parallel(n_jobs=1)]: Done   3 out of   3 | elapsed:  1.2min remaining:    0.0s\n"
     ]
    },
    {
     "name": "stdout",
     "output_type": "stream",
     "text": [
      "[CV] ............... learning_rate_init=0.005, score=0.647445 -  39.1s\n",
      "[CV] learning_rate_init=0.005 ........................................\n",
      "[CV] ............... learning_rate_init=0.005, score=0.677634 -  26.5s\n",
      "[CV] learning_rate_init=0.005 ........................................\n",
      "[CV] ............... learning_rate_init=0.005, score=0.644465 -  22.4s\n",
      "[CV] learning_rate_init=0.01 .........................................\n"
     ]
    },
    {
     "name": "stderr",
     "output_type": "stream",
     "text": [
      "C:\\Users\\sofis\\Anaconda3\\lib\\site-packages\\sklearn\\neural_network\\multilayer_perceptron.py:564: ConvergenceWarning: Stochastic Optimizer: Maximum iterations (200) reached and the optimization hasn't converged yet.\n",
      "  % self.max_iter, ConvergenceWarning)\n"
     ]
    },
    {
     "name": "stdout",
     "output_type": "stream",
     "text": [
      "[CV] ................ learning_rate_init=0.01, score=0.554063 -  50.8s\n",
      "[CV] learning_rate_init=0.01 .........................................\n",
      "[CV] ................ learning_rate_init=0.01, score=0.600903 -  23.0s\n",
      "[CV] learning_rate_init=0.01 .........................................\n",
      "[CV] ................ learning_rate_init=0.01, score=0.583189 -  33.1s\n",
      "[CV] learning_rate_init=0.05 .........................................\n",
      "[CV] ................ learning_rate_init=0.05, score=0.536418 -   4.6s\n",
      "[CV] learning_rate_init=0.05 .........................................\n",
      "[CV] ................ learning_rate_init=0.05, score=0.505220 -   4.2s\n",
      "[CV] learning_rate_init=0.05 .........................................\n",
      "[CV] ................ learning_rate_init=0.05, score=0.548874 -   4.4s\n"
     ]
    },
    {
     "name": "stderr",
     "output_type": "stream",
     "text": [
      "[Parallel(n_jobs=1)]: Done  12 out of  12 | elapsed:  4.7min finished\n"
     ]
    },
    {
     "name": "stdout",
     "output_type": "stream",
     "text": [
      "The best parameters are {'learning_rate_init': 0.005} with a score of 0.66\n",
      "Fitting 3 folds for each of 4 candidates, totalling 12 fits\n",
      "[CV] learning_rate_init=0.001 ........................................\n",
      "[CV] ............... learning_rate_init=0.001, score=0.656827 -  15.4s\n",
      "[CV] learning_rate_init=0.001 ........................................\n"
     ]
    },
    {
     "name": "stderr",
     "output_type": "stream",
     "text": [
      "[Parallel(n_jobs=1)]: Done   1 out of   1 | elapsed:   15.4s remaining:    0.0s\n"
     ]
    },
    {
     "name": "stdout",
     "output_type": "stream",
     "text": [
      "[CV] ............... learning_rate_init=0.001, score=0.646842 -  10.8s\n",
      "[CV] learning_rate_init=0.001 ........................................\n"
     ]
    },
    {
     "name": "stderr",
     "output_type": "stream",
     "text": [
      "[Parallel(n_jobs=1)]: Done   2 out of   2 | elapsed:   26.2s remaining:    0.0s\n"
     ]
    },
    {
     "name": "stdout",
     "output_type": "stream",
     "text": [
      "[CV] ............... learning_rate_init=0.001, score=0.639765 -  14.7s\n",
      "[CV] learning_rate_init=0.005 ........................................\n"
     ]
    },
    {
     "name": "stderr",
     "output_type": "stream",
     "text": [
      "[Parallel(n_jobs=1)]: Done   3 out of   3 | elapsed:   41.0s remaining:    0.0s\n"
     ]
    },
    {
     "name": "stdout",
     "output_type": "stream",
     "text": [
      "[CV] ............... learning_rate_init=0.005, score=0.637435 -  26.1s\n",
      "[CV] learning_rate_init=0.005 ........................................\n",
      "[CV] ............... learning_rate_init=0.005, score=0.644305 -  10.5s\n",
      "[CV] learning_rate_init=0.005 ........................................\n",
      "[CV] ............... learning_rate_init=0.005, score=0.644311 -  16.4s\n",
      "[CV] learning_rate_init=0.01 .........................................\n"
     ]
    },
    {
     "name": "stderr",
     "output_type": "stream",
     "text": [
      "C:\\Users\\sofis\\Anaconda3\\lib\\site-packages\\sklearn\\neural_network\\multilayer_perceptron.py:564: ConvergenceWarning: Stochastic Optimizer: Maximum iterations (200) reached and the optimization hasn't converged yet.\n",
      "  % self.max_iter, ConvergenceWarning)\n"
     ]
    },
    {
     "name": "stdout",
     "output_type": "stream",
     "text": [
      "[CV] ................ learning_rate_init=0.01, score=0.561152 -  28.3s\n",
      "[CV] learning_rate_init=0.01 .........................................\n"
     ]
    },
    {
     "name": "stderr",
     "output_type": "stream",
     "text": [
      "C:\\Users\\sofis\\Anaconda3\\lib\\site-packages\\sklearn\\neural_network\\multilayer_perceptron.py:564: ConvergenceWarning: Stochastic Optimizer: Maximum iterations (200) reached and the optimization hasn't converged yet.\n",
      "  % self.max_iter, ConvergenceWarning)\n"
     ]
    },
    {
     "name": "stdout",
     "output_type": "stream",
     "text": [
      "[CV] ................ learning_rate_init=0.01, score=0.656926 -  28.3s\n",
      "[CV] learning_rate_init=0.01 .........................................\n",
      "[CV] ................ learning_rate_init=0.01, score=0.628038 -  19.6s\n",
      "[CV] learning_rate_init=0.05 .........................................\n",
      "[CV] ................ learning_rate_init=0.05, score=0.527197 -   3.5s\n",
      "[CV] learning_rate_init=0.05 .........................................\n",
      "[CV] ................ learning_rate_init=0.05, score=0.519553 -   3.6s\n",
      "[CV] learning_rate_init=0.05 .........................................\n",
      "[CV] ................ learning_rate_init=0.05, score=0.506300 -   3.6s\n"
     ]
    },
    {
     "name": "stderr",
     "output_type": "stream",
     "text": [
      "[Parallel(n_jobs=1)]: Done  12 out of  12 | elapsed:  3.0min finished\n"
     ]
    },
    {
     "name": "stdout",
     "output_type": "stream",
     "text": [
      "The best parameters are {'learning_rate_init': 0.001} with a score of 0.65\n",
      "Fitting 3 folds for each of 4 candidates, totalling 12 fits\n",
      "[CV] learning_rate_init=0.001 ........................................\n",
      "[CV] ............... learning_rate_init=0.001, score=0.626955 -  15.3s\n",
      "[CV] learning_rate_init=0.001 ........................................\n"
     ]
    },
    {
     "name": "stderr",
     "output_type": "stream",
     "text": [
      "[Parallel(n_jobs=1)]: Done   1 out of   1 | elapsed:   15.3s remaining:    0.0s\n"
     ]
    },
    {
     "name": "stdout",
     "output_type": "stream",
     "text": [
      "[CV] ............... learning_rate_init=0.001, score=0.656206 -  10.7s\n",
      "[CV] learning_rate_init=0.001 ........................................\n"
     ]
    },
    {
     "name": "stderr",
     "output_type": "stream",
     "text": [
      "[Parallel(n_jobs=1)]: Done   2 out of   2 | elapsed:   26.2s remaining:    0.0s\n"
     ]
    },
    {
     "name": "stdout",
     "output_type": "stream",
     "text": [
      "[CV] ............... learning_rate_init=0.001, score=0.659457 -  12.6s\n",
      "[CV] learning_rate_init=0.005 ........................................\n"
     ]
    },
    {
     "name": "stderr",
     "output_type": "stream",
     "text": [
      "[Parallel(n_jobs=1)]: Done   3 out of   3 | elapsed:   38.9s remaining:    0.0s\n"
     ]
    },
    {
     "name": "stdout",
     "output_type": "stream",
     "text": [
      "[CV] ............... learning_rate_init=0.005, score=0.638420 -  29.2s\n",
      "[CV] learning_rate_init=0.005 ........................................\n",
      "[CV] ............... learning_rate_init=0.005, score=0.649423 -  22.7s\n",
      "[CV] learning_rate_init=0.005 ........................................\n",
      "[CV] ............... learning_rate_init=0.005, score=0.649166 -  16.1s\n",
      "[CV] learning_rate_init=0.01 .........................................\n"
     ]
    },
    {
     "name": "stderr",
     "output_type": "stream",
     "text": [
      "C:\\Users\\sofis\\Anaconda3\\lib\\site-packages\\sklearn\\neural_network\\multilayer_perceptron.py:564: ConvergenceWarning: Stochastic Optimizer: Maximum iterations (200) reached and the optimization hasn't converged yet.\n",
      "  % self.max_iter, ConvergenceWarning)\n"
     ]
    },
    {
     "name": "stdout",
     "output_type": "stream",
     "text": [
      "[CV] ................ learning_rate_init=0.01, score=0.576805 -  37.3s\n",
      "[CV] learning_rate_init=0.01 .........................................\n"
     ]
    },
    {
     "name": "stderr",
     "output_type": "stream",
     "text": [
      "C:\\Users\\sofis\\Anaconda3\\lib\\site-packages\\sklearn\\neural_network\\multilayer_perceptron.py:564: ConvergenceWarning: Stochastic Optimizer: Maximum iterations (200) reached and the optimization hasn't converged yet.\n",
      "  % self.max_iter, ConvergenceWarning)\n"
     ]
    },
    {
     "name": "stdout",
     "output_type": "stream",
     "text": [
      "[CV] ................ learning_rate_init=0.01, score=0.623875 -  35.0s\n",
      "[CV] learning_rate_init=0.01 .........................................\n"
     ]
    },
    {
     "name": "stderr",
     "output_type": "stream",
     "text": [
      "C:\\Users\\sofis\\Anaconda3\\lib\\site-packages\\sklearn\\neural_network\\multilayer_perceptron.py:564: ConvergenceWarning: Stochastic Optimizer: Maximum iterations (200) reached and the optimization hasn't converged yet.\n",
      "  % self.max_iter, ConvergenceWarning)\n"
     ]
    },
    {
     "name": "stdout",
     "output_type": "stream",
     "text": [
      "[CV] ................ learning_rate_init=0.01, score=0.604633 -  33.3s\n",
      "[CV] learning_rate_init=0.05 .........................................\n",
      "[CV] ................ learning_rate_init=0.05, score=0.509648 -   4.1s\n",
      "[CV] learning_rate_init=0.05 .........................................\n",
      "[CV] ................ learning_rate_init=0.05, score=0.536645 -   4.5s\n",
      "[CV] learning_rate_init=0.05 .........................................\n",
      "[CV] ................ learning_rate_init=0.05, score=0.549362 -   4.2s\n"
     ]
    },
    {
     "name": "stderr",
     "output_type": "stream",
     "text": [
      "[Parallel(n_jobs=1)]: Done  12 out of  12 | elapsed:  3.8min finished\n"
     ]
    },
    {
     "name": "stdout",
     "output_type": "stream",
     "text": [
      "The best parameters are {'learning_rate_init': 0.001} with a score of 0.65\n",
      "Fitting 3 folds for each of 4 candidates, totalling 12 fits\n",
      "[CV] learning_rate_init=0.001 ........................................\n",
      "[CV] ............... learning_rate_init=0.001, score=0.637633 -  18.7s\n",
      "[CV] learning_rate_init=0.001 ........................................\n"
     ]
    },
    {
     "name": "stderr",
     "output_type": "stream",
     "text": [
      "[Parallel(n_jobs=1)]: Done   1 out of   1 | elapsed:   18.7s remaining:    0.0s\n",
      "C:\\Users\\sofis\\Anaconda3\\lib\\site-packages\\sklearn\\neural_network\\multilayer_perceptron.py:564: ConvergenceWarning: Stochastic Optimizer: Maximum iterations (200) reached and the optimization hasn't converged yet.\n",
      "  % self.max_iter, ConvergenceWarning)\n",
      "[Parallel(n_jobs=1)]: Done   2 out of   2 | elapsed:   54.7s remaining:    0.0s\n"
     ]
    },
    {
     "name": "stdout",
     "output_type": "stream",
     "text": [
      "[CV] ............... learning_rate_init=0.001, score=0.654155 -  36.0s\n",
      "[CV] learning_rate_init=0.001 ........................................\n",
      "[CV] ............... learning_rate_init=0.001, score=0.643825 -  19.0s\n",
      "[CV] learning_rate_init=0.005 ........................................\n"
     ]
    },
    {
     "name": "stderr",
     "output_type": "stream",
     "text": [
      "[Parallel(n_jobs=1)]: Done   3 out of   3 | elapsed:  1.2min remaining:    0.0s\n"
     ]
    },
    {
     "name": "stdout",
     "output_type": "stream",
     "text": [
      "[CV] ............... learning_rate_init=0.005, score=0.637594 -  30.2s\n",
      "[CV] learning_rate_init=0.005 ........................................\n",
      "[CV] ............... learning_rate_init=0.005, score=0.649527 -  20.8s\n",
      "[CV] learning_rate_init=0.005 ........................................\n",
      "[CV] ............... learning_rate_init=0.005, score=0.654888 -  16.8s\n",
      "[CV] learning_rate_init=0.01 .........................................\n"
     ]
    },
    {
     "name": "stderr",
     "output_type": "stream",
     "text": [
      "C:\\Users\\sofis\\Anaconda3\\lib\\site-packages\\sklearn\\neural_network\\multilayer_perceptron.py:564: ConvergenceWarning: Stochastic Optimizer: Maximum iterations (200) reached and the optimization hasn't converged yet.\n",
      "  % self.max_iter, ConvergenceWarning)\n"
     ]
    },
    {
     "name": "stdout",
     "output_type": "stream",
     "text": [
      "[CV] ................ learning_rate_init=0.01, score=0.582404 -  31.8s\n",
      "[CV] learning_rate_init=0.01 .........................................\n",
      "[CV] ................ learning_rate_init=0.01, score=0.629116 -  27.5s\n",
      "[CV] learning_rate_init=0.01 .........................................\n"
     ]
    },
    {
     "name": "stderr",
     "output_type": "stream",
     "text": [
      "C:\\Users\\sofis\\Anaconda3\\lib\\site-packages\\sklearn\\neural_network\\multilayer_perceptron.py:564: ConvergenceWarning: Stochastic Optimizer: Maximum iterations (200) reached and the optimization hasn't converged yet.\n",
      "  % self.max_iter, ConvergenceWarning)\n"
     ]
    },
    {
     "name": "stdout",
     "output_type": "stream",
     "text": [
      "[CV] ................ learning_rate_init=0.01, score=0.610153 -  33.8s\n",
      "[CV] learning_rate_init=0.05 .........................................\n",
      "[CV] ................ learning_rate_init=0.05, score=0.528670 -   4.0s\n",
      "[CV] learning_rate_init=0.05 .........................................\n",
      "[CV] ................ learning_rate_init=0.05, score=0.552710 -   3.9s\n",
      "[CV] learning_rate_init=0.05 .........................................\n",
      "[CV] ................ learning_rate_init=0.05, score=0.523597 -   4.2s\n"
     ]
    },
    {
     "name": "stderr",
     "output_type": "stream",
     "text": [
      "[Parallel(n_jobs=1)]: Done  12 out of  12 | elapsed:  4.1min finished\n"
     ]
    },
    {
     "name": "stdout",
     "output_type": "stream",
     "text": [
      "The best parameters are {'learning_rate_init': 0.005} with a score of 0.65\n"
     ]
    }
   ],
   "source": [
    "param = {'learning_rate_init': [0.001, 0.005, 0.01, 0.05]}\n",
    "scores = []\n",
    "grid = []\n",
    "for act in activation_fcn:\n",
    "    gs = GridSearchCV(MLPClassifier(solver = 'sgd', learning_rate = 'adaptive'), param, \n",
    "                      scoring = 'roc_auc', verbose = 4, cv = 3)\n",
    "    gs.fit(X_train, y_train)\n",
    "    scores.append(gs.grid_scores_)\n",
    "    grid.append(gs)\n",
    "    print(\"The best parameters are %s with a score of %0.2f\"\n",
    "      % (gs.best_params_, gs.best_score_))"
   ]
  },
  {
   "cell_type": "code",
   "execution_count": 18,
   "metadata": {
    "scrolled": true
   },
   "outputs": [
    {
     "name": "stdout",
     "output_type": "stream",
     "text": [
      "\n",
      "Activation function  RELU\n",
      "{'learning_rate_init': 0.005} 0.6565153017969664\n",
      "\n",
      "Activation function  TANH\n",
      "{'learning_rate_init': 0.001} 0.6478133293573709\n",
      "\n",
      "Activation function  LOGISTIC\n",
      "{'learning_rate_init': 0.001} 0.6475363589895197\n",
      "\n",
      "Activation function  IDENTITY\n",
      "{'learning_rate_init': 0.005} 0.6473345723607854\n"
     ]
    }
   ],
   "source": [
    "for i,act in enumerate(activation_fcn):\n",
    "    print('\\nActivation function ', act.upper())\n",
    "    print(grid[i].best_params_, grid[i].best_score_)"
   ]
  },
  {
   "cell_type": "code",
   "execution_count": 129,
   "metadata": {},
   "outputs": [
    {
     "name": "stdout",
     "output_type": "stream",
     "text": [
      "Fitting 3 folds for each of 4 candidates, totalling 12 fits\n",
      "[CV] learning_rate_init=0.001 ........................................\n",
      "[CV] ............... learning_rate_init=0.001, score=0.281356 -   2.4s\n",
      "[CV] learning_rate_init=0.001 ........................................\n"
     ]
    },
    {
     "name": "stderr",
     "output_type": "stream",
     "text": [
      "[Parallel(n_jobs=1)]: Done   1 out of   1 | elapsed:    2.4s remaining:    0.0s\n"
     ]
    },
    {
     "name": "stdout",
     "output_type": "stream",
     "text": [
      "[CV] ............... learning_rate_init=0.001, score=0.341256 -   1.9s\n",
      "[CV] learning_rate_init=0.001 ........................................\n"
     ]
    },
    {
     "name": "stderr",
     "output_type": "stream",
     "text": [
      "[Parallel(n_jobs=1)]: Done   2 out of   2 | elapsed:    4.4s remaining:    0.0s\n"
     ]
    },
    {
     "name": "stdout",
     "output_type": "stream",
     "text": [
      "[CV] ............... learning_rate_init=0.001, score=0.288625 -   3.0s\n",
      "[CV] learning_rate_init=0.005 ........................................\n"
     ]
    },
    {
     "name": "stderr",
     "output_type": "stream",
     "text": [
      "[Parallel(n_jobs=1)]: Done   3 out of   3 | elapsed:    7.5s remaining:    0.0s\n"
     ]
    },
    {
     "name": "stdout",
     "output_type": "stream",
     "text": [
      "[CV] ............... learning_rate_init=0.005, score=0.227119 -   2.9s\n",
      "[CV] learning_rate_init=0.005 ........................................\n",
      "[CV] ............... learning_rate_init=0.005, score=0.322581 -   3.9s\n",
      "[CV] learning_rate_init=0.005 ........................................\n",
      "[CV] ............... learning_rate_init=0.005, score=0.210526 -   2.9s\n",
      "[CV] learning_rate_init=0.01 .........................................\n",
      "[CV] ................ learning_rate_init=0.01, score=0.261017 -   2.6s\n",
      "[CV] learning_rate_init=0.01 .........................................\n",
      "[CV] ................ learning_rate_init=0.01, score=0.310696 -   1.8s\n",
      "[CV] learning_rate_init=0.01 .........................................\n",
      "[CV] ................ learning_rate_init=0.01, score=0.402377 -   3.5s\n",
      "[CV] learning_rate_init=0.05 .........................................\n",
      "[CV] ................ learning_rate_init=0.05, score=0.040678 -   1.6s\n",
      "[CV] learning_rate_init=0.05 .........................................\n",
      "[CV] ................ learning_rate_init=0.05, score=0.028862 -   1.6s\n",
      "[CV] learning_rate_init=0.05 .........................................\n",
      "[CV] ................ learning_rate_init=0.05, score=0.064516 -   2.3s\n"
     ]
    },
    {
     "name": "stderr",
     "output_type": "stream",
     "text": [
      "[Parallel(n_jobs=1)]: Done  12 out of  12 | elapsed:   31.6s finished\n"
     ]
    },
    {
     "name": "stdout",
     "output_type": "stream",
     "text": [
      "The best parameters are {'learning_rate_init': 0.01} with a score of 0.32\n",
      "Fitting 3 folds for each of 4 candidates, totalling 12 fits\n",
      "[CV] learning_rate_init=0.001 ........................................\n",
      "[CV] ............... learning_rate_init=0.001, score=0.406780 -   2.8s\n",
      "[CV] learning_rate_init=0.001 ........................................\n"
     ]
    },
    {
     "name": "stderr",
     "output_type": "stream",
     "text": [
      "[Parallel(n_jobs=1)]: Done   1 out of   1 | elapsed:    2.9s remaining:    0.0s\n"
     ]
    },
    {
     "name": "stdout",
     "output_type": "stream",
     "text": [
      "[CV] ............... learning_rate_init=0.001, score=0.234295 -   2.3s\n",
      "[CV] learning_rate_init=0.001 ........................................\n"
     ]
    },
    {
     "name": "stderr",
     "output_type": "stream",
     "text": [
      "[Parallel(n_jobs=1)]: Done   2 out of   2 | elapsed:    5.2s remaining:    0.0s\n"
     ]
    },
    {
     "name": "stdout",
     "output_type": "stream",
     "text": [
      "[CV] ............... learning_rate_init=0.001, score=0.251273 -   2.3s\n",
      "[CV] learning_rate_init=0.005 ........................................\n"
     ]
    },
    {
     "name": "stderr",
     "output_type": "stream",
     "text": [
      "[Parallel(n_jobs=1)]: Done   3 out of   3 | elapsed:    7.6s remaining:    0.0s\n"
     ]
    },
    {
     "name": "stdout",
     "output_type": "stream",
     "text": [
      "[CV] ............... learning_rate_init=0.005, score=0.330508 -   2.6s\n",
      "[CV] learning_rate_init=0.005 ........................................\n",
      "[CV] ............... learning_rate_init=0.005, score=0.371817 -   4.0s\n",
      "[CV] learning_rate_init=0.005 ........................................\n",
      "[CV] ............... learning_rate_init=0.005, score=0.310696 -   2.2s\n",
      "[CV] learning_rate_init=0.01 .........................................\n",
      "[CV] ................ learning_rate_init=0.01, score=0.144068 -   2.6s\n",
      "[CV] learning_rate_init=0.01 .........................................\n",
      "[CV] ................ learning_rate_init=0.01, score=0.162988 -   1.9s\n",
      "[CV] learning_rate_init=0.01 .........................................\n",
      "[CV] ................ learning_rate_init=0.01, score=0.256367 -   2.7s\n",
      "[CV] learning_rate_init=0.05 .........................................\n",
      "[CV] ................ learning_rate_init=0.05, score=0.032203 -   2.2s\n",
      "[CV] learning_rate_init=0.05 .........................................\n",
      "[CV] ................ learning_rate_init=0.05, score=0.033956 -   1.9s\n",
      "[CV] learning_rate_init=0.05 .........................................\n",
      "[CV] ................ learning_rate_init=0.05, score=0.010187 -   2.2s\n"
     ]
    },
    {
     "name": "stderr",
     "output_type": "stream",
     "text": [
      "[Parallel(n_jobs=1)]: Done  12 out of  12 | elapsed:   31.1s finished\n"
     ]
    },
    {
     "name": "stdout",
     "output_type": "stream",
     "text": [
      "The best parameters are {'learning_rate_init': 0.005} with a score of 0.34\n",
      "Fitting 3 folds for each of 4 candidates, totalling 12 fits\n",
      "[CV] learning_rate_init=0.001 ........................................\n",
      "[CV] ............... learning_rate_init=0.001, score=0.398305 -   3.2s\n",
      "[CV] learning_rate_init=0.001 ........................................\n"
     ]
    },
    {
     "name": "stderr",
     "output_type": "stream",
     "text": [
      "[Parallel(n_jobs=1)]: Done   1 out of   1 | elapsed:    3.2s remaining:    0.0s\n"
     ]
    },
    {
     "name": "stdout",
     "output_type": "stream",
     "text": [
      "[CV] ............... learning_rate_init=0.001, score=0.368421 -   2.1s\n",
      "[CV] learning_rate_init=0.001 ........................................\n"
     ]
    },
    {
     "name": "stderr",
     "output_type": "stream",
     "text": [
      "[Parallel(n_jobs=1)]: Done   2 out of   2 | elapsed:    5.4s remaining:    0.0s\n"
     ]
    },
    {
     "name": "stdout",
     "output_type": "stream",
     "text": [
      "[CV] ............... learning_rate_init=0.001, score=0.407470 -   3.1s\n",
      "[CV] learning_rate_init=0.005 ........................................\n"
     ]
    },
    {
     "name": "stderr",
     "output_type": "stream",
     "text": [
      "[Parallel(n_jobs=1)]: Done   3 out of   3 | elapsed:    8.6s remaining:    0.0s\n"
     ]
    },
    {
     "name": "stdout",
     "output_type": "stream",
     "text": [
      "[CV] ............... learning_rate_init=0.005, score=0.147458 -   2.0s\n",
      "[CV] learning_rate_init=0.005 ........................................\n",
      "[CV] ............... learning_rate_init=0.005, score=0.171477 -   3.4s\n",
      "[CV] learning_rate_init=0.005 ........................................\n",
      "[CV] ............... learning_rate_init=0.005, score=0.164686 -   3.6s\n",
      "[CV] learning_rate_init=0.01 .........................................\n",
      "[CV] ................ learning_rate_init=0.01, score=0.118644 -   3.0s\n",
      "[CV] learning_rate_init=0.01 .........................................\n",
      "[CV] ................ learning_rate_init=0.01, score=0.154499 -   2.2s\n",
      "[CV] learning_rate_init=0.01 .........................................\n",
      "[CV] ................ learning_rate_init=0.01, score=0.162988 -   2.9s\n",
      "[CV] learning_rate_init=0.05 .........................................\n",
      "[CV] ................ learning_rate_init=0.05, score=0.027119 -   2.6s\n",
      "[CV] learning_rate_init=0.05 .........................................\n",
      "[CV] ................ learning_rate_init=0.05, score=0.076401 -   2.9s\n",
      "[CV] learning_rate_init=0.05 .........................................\n",
      "[CV] ................ learning_rate_init=0.05, score=0.139219 -   2.8s\n"
     ]
    },
    {
     "name": "stderr",
     "output_type": "stream",
     "text": [
      "[Parallel(n_jobs=1)]: Done  12 out of  12 | elapsed:   34.9s finished\n"
     ]
    },
    {
     "name": "stdout",
     "output_type": "stream",
     "text": [
      "The best parameters are {'learning_rate_init': 0.001} with a score of 0.39\n",
      "Fitting 3 folds for each of 4 candidates, totalling 12 fits\n",
      "[CV] learning_rate_init=0.001 ........................................\n",
      "[CV] ............... learning_rate_init=0.001, score=0.291525 -   2.9s\n",
      "[CV] learning_rate_init=0.001 ........................................\n"
     ]
    },
    {
     "name": "stderr",
     "output_type": "stream",
     "text": [
      "[Parallel(n_jobs=1)]: Done   1 out of   1 | elapsed:    2.9s remaining:    0.0s\n"
     ]
    },
    {
     "name": "stdout",
     "output_type": "stream",
     "text": [
      "[CV] ............... learning_rate_init=0.001, score=0.348048 -   1.6s\n",
      "[CV] learning_rate_init=0.001 ........................................\n"
     ]
    },
    {
     "name": "stderr",
     "output_type": "stream",
     "text": [
      "[Parallel(n_jobs=1)]: Done   2 out of   2 | elapsed:    4.7s remaining:    0.0s\n"
     ]
    },
    {
     "name": "stdout",
     "output_type": "stream",
     "text": [
      "[CV] ............... learning_rate_init=0.001, score=0.288625 -   2.3s\n",
      "[CV] learning_rate_init=0.005 ........................................\n"
     ]
    },
    {
     "name": "stderr",
     "output_type": "stream",
     "text": [
      "[Parallel(n_jobs=1)]: Done   3 out of   3 | elapsed:    7.1s remaining:    0.0s\n"
     ]
    },
    {
     "name": "stdout",
     "output_type": "stream",
     "text": [
      "[CV] ............... learning_rate_init=0.005, score=0.272881 -   3.3s\n",
      "[CV] learning_rate_init=0.005 ........................................\n",
      "[CV] ............... learning_rate_init=0.005, score=0.237691 -   2.0s\n",
      "[CV] learning_rate_init=0.005 ........................................\n",
      "[CV] ............... learning_rate_init=0.005, score=0.358234 -   1.7s\n",
      "[CV] learning_rate_init=0.01 .........................................\n",
      "[CV] ................ learning_rate_init=0.01, score=0.281356 -   3.1s\n",
      "[CV] learning_rate_init=0.01 .........................................\n",
      "[CV] ................ learning_rate_init=0.01, score=0.230900 -   2.7s\n",
      "[CV] learning_rate_init=0.01 .........................................\n",
      "[CV] ................ learning_rate_init=0.01, score=0.091681 -   2.4s\n",
      "[CV] learning_rate_init=0.05 .........................................\n",
      "[CV] ................ learning_rate_init=0.05, score=0.293220 -   1.9s\n",
      "[CV] learning_rate_init=0.05 .........................................\n",
      "[CV] ................ learning_rate_init=0.05, score=0.035654 -   1.9s\n",
      "[CV] learning_rate_init=0.05 .........................................\n",
      "[CV] ................ learning_rate_init=0.05, score=0.005093 -   1.2s\n"
     ]
    },
    {
     "name": "stderr",
     "output_type": "stream",
     "text": [
      "[Parallel(n_jobs=1)]: Done  12 out of  12 | elapsed:   28.2s finished\n"
     ]
    },
    {
     "name": "stdout",
     "output_type": "stream",
     "text": [
      "The best parameters are {'learning_rate_init': 0.001} with a score of 0.31\n"
     ]
    }
   ],
   "source": [
    "param = {'learning_rate_init': [0.001, 0.005, 0.01, 0.05]}\n",
    "scores_adam = []\n",
    "grid_adam = []\n",
    "for act in activation_fcn:\n",
    "    gs = GridSearchCV(MLPClassifier(solver = 'adam', learning_rate = 'adaptive'), param, scoring = 'roc_auc', verbose = 4, cv = 3)\n",
    "    gs.fit(X_train, y_train)\n",
    "    scores_adam.append(gs.grid_scores_)\n",
    "    grid_adam.append(gs)\n",
    "    print(\"The best parameters are %s with a score of %0.2f\"\n",
    "      % (gs.best_params_, gs.best_score_))"
   ]
  },
  {
   "cell_type": "code",
   "execution_count": 130,
   "metadata": {
    "scrolled": true
   },
   "outputs": [
    {
     "name": "stdout",
     "output_type": "stream",
     "text": [
      "\n",
      "Activation function  RELU\n",
      "{'learning_rate_init': 0.001} 0.33370882958422543\n",
      "\n",
      "Activation function  TANH\n",
      "{'learning_rate_init': 0.001} 0.3291863378253952\n",
      "\n",
      "Activation function  LOGISTIC\n",
      "{'learning_rate_init': 0.001} 0.32352072921290564\n",
      "\n",
      "Activation function  IDENTITY\n",
      "{'learning_rate_init': 0.001} 0.33086388179627985\n"
     ]
    }
   ],
   "source": [
    "for i,act in enumerate(activation_fcn):\n",
    "    print('\\nActivation function ', act.upper())\n",
    "    print(grid[i].best_params_, grid[i].best_score_)"
   ]
  },
  {
   "cell_type": "code",
   "execution_count": 205,
   "metadata": {
    "scrolled": false
   },
   "outputs": [],
   "source": [
    "import time\n",
    "def train_clf(sv, X_train, y_train, X_valid):\n",
    "    activation_fcn = ['relu', 'tanh', 'logistic', 'identity']\n",
    "    times = []\n",
    "    predictions = []\n",
    "    pred_proba = []\n",
    "    SV = {}\n",
    "    # Solver algortihm\n",
    "    for act in activation_fcn:\n",
    "        clf = MLPClassifier(solver = sv)\n",
    "        t_start = time.clock()\n",
    "        clf.fit(X_train, y_train)\n",
    "        t_end = time.clock()\n",
    "        t_diff = t_end - t_start\n",
    "        times.append(t_diff)\n",
    "        print(t_diff)\n",
    "        # Predict classes\n",
    "        predictions.append(clf.predict(X_valid))\n",
    "        # Predict probabilities\n",
    "        pred_proba.append(clf.predict_proba(X_valid))\n",
    "\n",
    "    SV['times'] = times\n",
    "    SV['predictions'] = predictions\n",
    "    SV['probabilities'] = pred_proba\n",
    "    return SV\n"
   ]
  },
  {
   "cell_type": "code",
   "execution_count": 231,
   "metadata": {
    "scrolled": true
   },
   "outputs": [
    {
     "name": "stdout",
     "output_type": "stream",
     "text": [
      "8.147691962858516\n",
      "10.59375679110235\n",
      "8.606784335544944\n",
      "7.595853144874127\n",
      "5.615983829917241\n",
      "6.80949122034508\n",
      "6.359758199672797\n",
      "5.628133010661259\n"
     ]
    }
   ],
   "source": [
    "SGD = train_clf('sgd', X_train, y_train, X_valid)\n",
    "Adam = train_clf('adam', X_train, y_train, X_valid)"
   ]
  },
  {
   "cell_type": "code",
   "execution_count": 119,
   "metadata": {},
   "outputs": [],
   "source": [
    "def get_mean_results(pred_classes, predictions, y_valid):\n",
    "    activation_fcn = ['relu', 'tanh', 'logistic', 'identity']    \n",
    "    cm = []\n",
    "    recall = []\n",
    "    accuracy = []\n",
    "  #  precision = []\n",
    " #   log_loss = []\n",
    "   # fbeta = []\n",
    "    results = {}\n",
    "    for pred in pred_classes: \n",
    "        cm.append(metrics.confusion_matrix(y_valid, pred))\n",
    "        recall.append(metrics.recall_score(y_valid, pred))\n",
    "        accuracy.append(metrics.accuracy_score(y_valid, pred))\n",
    "    #results['Activation function'] = activation_fcn\n",
    "    #results['confusion_matrix'] = cm\n",
    "    results['recall'] = np.mean(recall)\n",
    "    results['accuracy'] = np.mean(accuracy)\n",
    "#     results['recall'] = recall\n",
    "#     results['accuracy'] = accuracy\n",
    "\n",
    "    return cm, results\n",
    "    "
   ]
  },
  {
   "cell_type": "code",
   "execution_count": 232,
   "metadata": {},
   "outputs": [],
   "source": [
    "cm_sgd, SGD_results = get_mean_results(SGD['predictions'], SGD['probabilities'], y_valid)\n",
    "SGD_results['times'] = np.mean(SGD['times'])\n",
    "cm_adam, Adam_results = get_mean_results(Adam['predictions'], Adam['probabilities'], y_valid)\n",
    "Adam_results['times'] = np.mean(Adam['times'])"
   ]
  },
  {
   "cell_type": "code",
   "execution_count": 233,
   "metadata": {},
   "outputs": [],
   "source": [
    "res = {'Adam': {'Accuracy': Adam_results['accuracy'], 'Recall': Adam_results['recall'], 'Time [s]': Adam_results['times']},\n",
    "      'SGD': {'Accuracy': SGD_results['accuracy'], 'Recall': SGD_results['recall'], 'Time [s]': SGD_results['times']}}"
   ]
  },
  {
   "cell_type": "markdown",
   "metadata": {},
   "source": [
    "### Matriz de confusión"
   ]
  },
  {
   "cell_type": "code",
   "execution_count": 135,
   "metadata": {},
   "outputs": [],
   "source": [
    "import itertools\n",
    "def plot_confusion_matrix(cm, classes,\n",
    "                          normalize=False,\n",
    "                          title='Confusion matrix',\n",
    "                          cmap=plt.cm.Blues):\n",
    "    \"\"\"\n",
    "    This function prints and plots the confusion matrix.\n",
    "    Normalization can be applied by setting `normalize=True`.\n",
    "    \"\"\"\n",
    "    if normalize:\n",
    "        cm = cm.astype('float') / cm.sum(axis=1)[:, np.newaxis]\n",
    "#         print(\"Normalized confusion matrix\")\n",
    "#     else:\n",
    "#         print('Confusion matrix, without normalization')\n",
    "\n",
    "#     print(cm)\n",
    "\n",
    "    plt.imshow(cm, interpolation='nearest', cmap=cmap)\n",
    "    plt.title(title, fontsize = 18)\n",
    "    plt.colorbar()\n",
    "    tick_marks = np.arange(len(classes))\n",
    "    plt.xticks(tick_marks, classes, rotation=45)\n",
    "    plt.yticks(tick_marks, classes, rotation = 90)\n",
    "\n",
    "    fmt = '.2f' if normalize else 'd'\n",
    "    thresh = cm.max() / 2.\n",
    "    for i, j in itertools.product(range(cm.shape[0]), range(cm.shape[1])):\n",
    "        plt.text(j, i, format(cm[i, j], fmt),\n",
    "                 horizontalalignment=\"center\",\n",
    "                 color=\"white\" if cm[i, j] > thresh else \"black\")\n",
    "\n",
    "    #plt.tight_layout()\n",
    "    plt.ylabel('Etiqueta verdadera', fontsize = 13)\n",
    "    plt.xlabel('Etiqueta predicha', fontsize = 13)\n"
   ]
  },
  {
   "cell_type": "code",
   "execution_count": 163,
   "metadata": {
    "scrolled": false
   },
   "outputs": [
    {
     "data": {
      "image/png": "[encoded data removed]",
      "text/plain": [
       "<Figure size 1440x720 with 7 Axes>"
      ]
     },
     "metadata": {},
     "output_type": "display_data"
    }
   ],
   "source": [
    "fig = plt.figure(figsize = (20, 10))\n",
    "for i in range(4):\n",
    "    sb = '22'+str(i+1)\n",
    "    plt.subplot(sb)\n",
    "    plot_confusion_matrix(cm_adam[i], ['nontarget', 'target'],\n",
    "                      title = activation_fcn[i], normalize = True) \n",
    "    plt.tight_layout()\n",
    "    plt.show\n",
    " "
   ]
  },
  {
   "cell_type": "code",
   "execution_count": 164,
   "metadata": {
    "scrolled": true
   },
   "outputs": [
    {
     "data": {
      "image/png": "[encoded data removed]",
      "text/plain": [
       "<Figure size 1440x720 with 7 Axes>"
      ]
     },
     "metadata": {},
     "output_type": "display_data"
    }
   ],
   "source": [
    "fig = plt.figure(figsize = (20, 10))\n",
    "for i in range(4):\n",
    "    sb = '22'+str(i+1)\n",
    "    plt.subplot(sb)\n",
    "    plot_confusion_matrix(cm_sgd[i], ['nontarget', 'target'],\n",
    "                      title = activation_fcn[i], normalize = True) \n",
    "    plt.tight_layout()\n",
    "    plt.show\n",
    " "
   ]
  },
  {
   "cell_type": "code",
   "execution_count": 240,
   "metadata": {},
   "outputs": [
    {
     "data": {
      "text/plain": [
       "<function matplotlib.pyplot.show(*args, **kw)>"
      ]
     },
     "execution_count": 240,
     "metadata": {},
     "output_type": "execute_result"
    },
    {
     "data": {
      "image/png": "[encoded data removed]",
      "text/plain": [
       "<Figure size 1440x360 with 4 Axes>"
      ]
     },
     "metadata": {},
     "output_type": "display_data"
    }
   ],
   "source": [
    "fig = plt.figure(figsize = (20, 5))\n",
    "sb = '121'\n",
    "plt.subplot(sb)\n",
    "plot_confusion_matrix(cm_sgd_mean, ['nontarget', 'target'],\n",
    "                  title = 'SGD', normalize = True) \n",
    "sb = '122'\n",
    "plt.subplot(sb)\n",
    "\n",
    "plot_confusion_matrix(cm_a_mean, ['nontarget', 'target'],\n",
    "                  title = 'Adam', normalize = True) \n",
    "plt.tight_layout()\n",
    "plt.show"
   ]
  },
  {
   "cell_type": "markdown",
   "metadata": {},
   "source": [
    "# Grid search"
   ]
  },
  {
   "cell_type": "code",
   "execution_count": 24,
   "metadata": {},
   "outputs": [],
   "source": [
    "param_grid = [\n",
    "  {'learning_rate_init': [0.05, 0.01, 0.005, 0.001], 'hidden_layer_sizes' : [(10,), (50,), (100,), (500, ), (1000,)]#,\n",
    "                                                                     #(10, 50), (10, 50, 100), (50, 100), (50, 100, 500)],\n",
    "   'activation': ['identity']},\n",
    "      {'learning_rate_init': [0.05, 0.01, 0.005, 0.001], 'hidden_layer_sizes' : [(10,), (50,), (100,), (500, ), (1000,)]#,\n",
    "                                                                    # (10, 50), (10, 50, 100), (50, 100), (50, 100, 500)],\n",
    "   'activation': ['logistic']},\n",
    "      {'learning_rate_init': [0.05, 0.01, 0.005, 0.001], 'hidden_layer_sizes': [(10,), (50,), (100,), (500, ), (1000,)]#,\n",
    "                                                                    # (10, 50), (10, 50, 100), (50, 100), (50, 100, 500)],\n",
    "   'activation': ['tanh']},\n",
    "      {'learning_rate_init': [0.05, 0.01, 0.005, 0.001], 'hidden_layer_sizes' : [(10,), (50,), (100,), (500, ), (1000,)]#,\n",
    "                                                                     #(10, 50), (10, 50, 100), (50, 100), (50, 100, 500)],\n",
    "   'activation': ['relu']}]\n",
    " "
   ]
  },
  {
   "cell_type": "code",
   "execution_count": 20,
   "metadata": {},
   "outputs": [],
   "source": [
    "activation_fcn = ['relu', 'tanh', 'logistic', 'identity']\n",
    "param = {'learning_rate_init': [0.05, 0.01, 0.005, 0.001]}"
   ]
  },
  {
   "cell_type": "code",
   "execution_count": 33,
   "metadata": {
    "scrolled": false
   },
   "outputs": [
    {
     "name": "stdout",
     "output_type": "stream",
     "text": [
      "Fitting 3 folds for each of 4 candidates, totalling 12 fits\n",
      "[CV] learning_rate_init=0.05 .........................................\n",
      "[CV] ................ learning_rate_init=0.05, score=0.784094 -   1.9s\n",
      "[CV] learning_rate_init=0.05 .........................................\n"
     ]
    },
    {
     "name": "stderr",
     "output_type": "stream",
     "text": [
      "[Parallel(n_jobs=1)]: Done   1 out of   1 | elapsed:    1.9s remaining:    0.0s\n"
     ]
    },
    {
     "name": "stdout",
     "output_type": "stream",
     "text": [
      "[CV] ................ learning_rate_init=0.05, score=0.761625 -   1.9s\n",
      "[CV] learning_rate_init=0.05 .........................................\n"
     ]
    },
    {
     "name": "stderr",
     "output_type": "stream",
     "text": [
      "[Parallel(n_jobs=1)]: Done   2 out of   2 | elapsed:    3.9s remaining:    0.0s\n"
     ]
    },
    {
     "name": "stdout",
     "output_type": "stream",
     "text": [
      "[CV] ................ learning_rate_init=0.05, score=0.778930 -   1.6s\n",
      "[CV] learning_rate_init=0.01 .........................................\n"
     ]
    },
    {
     "name": "stderr",
     "output_type": "stream",
     "text": [
      "[Parallel(n_jobs=1)]: Done   3 out of   3 | elapsed:    5.7s remaining:    0.0s\n"
     ]
    },
    {
     "name": "stdout",
     "output_type": "stream",
     "text": [
      "[CV] ................ learning_rate_init=0.01, score=0.816578 -   3.1s\n",
      "[CV] learning_rate_init=0.01 .........................................\n",
      "[CV] ................ learning_rate_init=0.01, score=0.796919 -   4.1s\n",
      "[CV] learning_rate_init=0.01 .........................................\n",
      "[CV] ................ learning_rate_init=0.01, score=0.779210 -   3.6s\n",
      "[CV] learning_rate_init=0.005 ........................................\n",
      "[CV] ............... learning_rate_init=0.005, score=0.805937 -   4.5s\n",
      "[CV] learning_rate_init=0.005 ........................................\n",
      "[CV] ............... learning_rate_init=0.005, score=0.784874 -   3.5s\n",
      "[CV] learning_rate_init=0.005 ........................................\n",
      "[CV] ............... learning_rate_init=0.005, score=0.816755 -   2.8s\n",
      "[CV] learning_rate_init=0.001 ........................................\n",
      "[CV] ............... learning_rate_init=0.001, score=0.776813 -   4.4s\n",
      "[CV] learning_rate_init=0.001 ........................................\n",
      "[CV] ............... learning_rate_init=0.001, score=0.771709 -   4.3s\n",
      "[CV] learning_rate_init=0.001 ........................................\n",
      "[CV] ............... learning_rate_init=0.001, score=0.774166 -   6.3s\n"
     ]
    },
    {
     "name": "stderr",
     "output_type": "stream",
     "text": [
      "[Parallel(n_jobs=1)]: Done  12 out of  12 | elapsed:   43.3s finished\n"
     ]
    },
    {
     "name": "stdout",
     "output_type": "stream",
     "text": [
      "Fitting 3 folds for each of 4 candidates, totalling 12 fits\n",
      "[CV] learning_rate_init=0.05 .........................................\n",
      "[CV] ................ learning_rate_init=0.05, score=0.831700 -   1.5s\n",
      "[CV] learning_rate_init=0.05 .........................................\n"
     ]
    },
    {
     "name": "stderr",
     "output_type": "stream",
     "text": [
      "[Parallel(n_jobs=1)]: Done   1 out of   1 | elapsed:    1.5s remaining:    0.0s\n"
     ]
    },
    {
     "name": "stdout",
     "output_type": "stream",
     "text": [
      "[CV] ................ learning_rate_init=0.05, score=0.828011 -   2.2s\n",
      "[CV] learning_rate_init=0.05 .........................................\n"
     ]
    },
    {
     "name": "stderr",
     "output_type": "stream",
     "text": [
      "[Parallel(n_jobs=1)]: Done   2 out of   2 | elapsed:    3.8s remaining:    0.0s\n"
     ]
    },
    {
     "name": "stdout",
     "output_type": "stream",
     "text": [
      "[CV] ................ learning_rate_init=0.05, score=0.830485 -   2.3s\n",
      "[CV] learning_rate_init=0.01 .........................................\n"
     ]
    },
    {
     "name": "stderr",
     "output_type": "stream",
     "text": [
      "[Parallel(n_jobs=1)]: Done   3 out of   3 | elapsed:    6.2s remaining:    0.0s\n"
     ]
    },
    {
     "name": "stdout",
     "output_type": "stream",
     "text": [
      "[CV] ................ learning_rate_init=0.01, score=0.830580 -   5.0s\n",
      "[CV] learning_rate_init=0.01 .........................................\n",
      "[CV] ................ learning_rate_init=0.01, score=0.818487 -   6.2s\n",
      "[CV] learning_rate_init=0.01 .........................................\n",
      "[CV] ................ learning_rate_init=0.01, score=0.824321 -   2.7s\n",
      "[CV] learning_rate_init=0.005 ........................................\n",
      "[CV] ............... learning_rate_init=0.005, score=0.820778 -   8.7s\n",
      "[CV] learning_rate_init=0.005 ........................................\n",
      "[CV] ............... learning_rate_init=0.005, score=0.822409 -   4.3s\n",
      "[CV] learning_rate_init=0.005 ........................................\n",
      "[CV] ............... learning_rate_init=0.005, score=0.823480 -   7.6s\n",
      "[CV] learning_rate_init=0.001 ........................................\n",
      "[CV] ............... learning_rate_init=0.001, score=0.800616 -   6.9s\n",
      "[CV] learning_rate_init=0.001 ........................................\n",
      "[CV] ............... learning_rate_init=0.001, score=0.802521 -   9.1s\n",
      "[CV] learning_rate_init=0.001 ........................................\n",
      "[CV] ............... learning_rate_init=0.001, score=0.792939 -  12.5s\n"
     ]
    },
    {
     "name": "stderr",
     "output_type": "stream",
     "text": [
      "[Parallel(n_jobs=1)]: Done  12 out of  12 | elapsed:  1.2min finished\n"
     ]
    },
    {
     "name": "stdout",
     "output_type": "stream",
     "text": [
      "Fitting 3 folds for each of 4 candidates, totalling 12 fits\n",
      "[CV] learning_rate_init=0.05 .........................................\n",
      "[CV] ................ learning_rate_init=0.05, score=0.831700 -   1.5s\n",
      "[CV] learning_rate_init=0.05 .........................................\n"
     ]
    },
    {
     "name": "stderr",
     "output_type": "stream",
     "text": [
      "[Parallel(n_jobs=1)]: Done   1 out of   1 | elapsed:    1.5s remaining:    0.0s\n"
     ]
    },
    {
     "name": "stdout",
     "output_type": "stream",
     "text": [
      "[CV] ................ learning_rate_init=0.05, score=0.831933 -   2.0s\n",
      "[CV] learning_rate_init=0.05 .........................................\n"
     ]
    },
    {
     "name": "stderr",
     "output_type": "stream",
     "text": [
      "[Parallel(n_jobs=1)]: Done   2 out of   2 | elapsed:    3.6s remaining:    0.0s\n"
     ]
    },
    {
     "name": "stdout",
     "output_type": "stream",
     "text": [
      "[CV] ................ learning_rate_init=0.05, score=0.829364 -   2.6s\n",
      "[CV] learning_rate_init=0.01 .........................................\n"
     ]
    },
    {
     "name": "stderr",
     "output_type": "stream",
     "text": [
      "[Parallel(n_jobs=1)]: Done   3 out of   3 | elapsed:    6.4s remaining:    0.0s\n"
     ]
    },
    {
     "name": "stdout",
     "output_type": "stream",
     "text": [
      "[CV] ................ learning_rate_init=0.01, score=0.826099 -   6.2s\n",
      "[CV] learning_rate_init=0.01 .........................................\n",
      "[CV] ................ learning_rate_init=0.01, score=0.826331 -   4.9s\n",
      "[CV] learning_rate_init=0.01 .........................................\n",
      "[CV] ................ learning_rate_init=0.01, score=0.806669 -   8.2s\n",
      "[CV] learning_rate_init=0.005 ........................................\n",
      "[CV] ............... learning_rate_init=0.005, score=0.817138 -   6.7s\n",
      "[CV] learning_rate_init=0.005 ........................................\n",
      "[CV] ............... learning_rate_init=0.005, score=0.815126 -  11.1s\n",
      "[CV] learning_rate_init=0.005 ........................................\n",
      "[CV] ............... learning_rate_init=0.005, score=0.818156 -  12.7s\n",
      "[CV] learning_rate_init=0.001 ........................................\n",
      "[CV] ............... learning_rate_init=0.001, score=0.810697 -  16.4s\n",
      "[CV] learning_rate_init=0.001 ........................................\n",
      "[CV] ............... learning_rate_init=0.001, score=0.822689 -   9.0s\n",
      "[CV] learning_rate_init=0.001 ........................................\n",
      "[CV] ............... learning_rate_init=0.001, score=0.826842 -   9.3s\n"
     ]
    },
    {
     "name": "stderr",
     "output_type": "stream",
     "text": [
      "[Parallel(n_jobs=1)]: Done  12 out of  12 | elapsed:  1.5min finished\n"
     ]
    },
    {
     "name": "stdout",
     "output_type": "stream",
     "text": [
      "Fitting 3 folds for each of 4 candidates, totalling 12 fits\n",
      "[CV] learning_rate_init=0.05 .........................................\n",
      "[CV] ................ learning_rate_init=0.05, score=0.646878 -   3.3s\n",
      "[CV] learning_rate_init=0.05 .........................................\n"
     ]
    },
    {
     "name": "stderr",
     "output_type": "stream",
     "text": [
      "[Parallel(n_jobs=1)]: Done   1 out of   1 | elapsed:    3.3s remaining:    0.0s\n"
     ]
    },
    {
     "name": "stdout",
     "output_type": "stream",
     "text": [
      "[CV] ................ learning_rate_init=0.05, score=0.770588 -   2.9s\n",
      "[CV] learning_rate_init=0.05 .........................................\n"
     ]
    },
    {
     "name": "stderr",
     "output_type": "stream",
     "text": [
      "[Parallel(n_jobs=1)]: Done   2 out of   2 | elapsed:    6.4s remaining:    0.0s\n"
     ]
    },
    {
     "name": "stdout",
     "output_type": "stream",
     "text": [
      "[CV] ................ learning_rate_init=0.05, score=0.757075 -   3.5s\n",
      "[CV] learning_rate_init=0.01 .........................................\n"
     ]
    },
    {
     "name": "stderr",
     "output_type": "stream",
     "text": [
      "[Parallel(n_jobs=1)]: Done   3 out of   3 | elapsed:   10.0s remaining:    0.0s\n"
     ]
    },
    {
     "name": "stdout",
     "output_type": "stream",
     "text": [
      "[CV] ................ learning_rate_init=0.01, score=0.817978 -   2.9s\n",
      "[CV] learning_rate_init=0.01 .........................................\n",
      "[CV] ................ learning_rate_init=0.01, score=0.822129 -   4.0s\n",
      "[CV] learning_rate_init=0.01 .........................................\n",
      "[CV] ................ learning_rate_init=0.01, score=0.821799 -   3.6s\n",
      "[CV] learning_rate_init=0.005 ........................................\n",
      "[CV] ............... learning_rate_init=0.005, score=0.814058 -   2.7s\n",
      "[CV] learning_rate_init=0.005 ........................................\n",
      "[CV] ............... learning_rate_init=0.005, score=0.819328 -   2.1s\n",
      "[CV] learning_rate_init=0.005 ........................................\n",
      "[CV] ............... learning_rate_init=0.005, score=0.820678 -   1.9s\n",
      "[CV] learning_rate_init=0.001 ........................................\n",
      "[CV] ............... learning_rate_init=0.001, score=0.781854 -   2.4s\n",
      "[CV] learning_rate_init=0.001 ........................................\n",
      "[CV] ............... learning_rate_init=0.001, score=0.801401 -   4.4s\n",
      "[CV] learning_rate_init=0.001 ........................................\n",
      "[CV] ............... learning_rate_init=0.001, score=0.796301 -   6.2s\n"
     ]
    },
    {
     "name": "stderr",
     "output_type": "stream",
     "text": [
      "[Parallel(n_jobs=1)]: Done  12 out of  12 | elapsed:   41.3s finished\n"
     ]
    }
   ],
   "source": [
    "scores = []\n",
    "grid = []\n",
    "for act in activation_fcn:\n",
    "    gs = GridSearchCV(MLPClassifier(activation = act ), param, verbose = 4, cv = 3)\n",
    "    gs.fit(X_train, y_train)\n",
    "    scores.append(gs.grid_scores_)\n",
    "    grid.append(gs)\n",
    "    print(\"The best parameters are %s with a score of %0.2f\"\n",
    "      % (gs.best_params_, gs.best_score_))\n",
    "    "
   ]
  },
  {
   "cell_type": "code",
   "execution_count": 37,
   "metadata": {},
   "outputs": [
    {
     "name": "stdout",
     "output_type": "stream",
     "text": [
      "The best parameters are {'learning_rate_init': 0.005} with a score of 0.80\n",
      "The best parameters are {'learning_rate_init': 0.05} with a score of 0.83\n",
      "The best parameters are {'learning_rate_init': 0.05} with a score of 0.83\n",
      "The best parameters are {'learning_rate_init': 0.01} with a score of 0.82\n"
     ]
    }
   ],
   "source": [
    "for gs in grid:\n",
    "    print(\"The best parameters are %s with a score of %0.2f\"\n",
    "          % (gs.best_params_, gs.best_score_))"
   ]
  },
  {
   "cell_type": "code",
   "execution_count": 91,
   "metadata": {},
   "outputs": [],
   "source": [
    "results = []\n",
    "for i, activation in enumerate(activation_fcn):\n",
    "    results.append(np.array([( f1m, f1s.std(), p['learning_rate_init']) \n",
    "            for p, f1m, f1s in grid[i].grid_scores_]))"
   ]
  },
  {
   "cell_type": "code",
   "execution_count": 107,
   "metadata": {},
   "outputs": [
    {
     "name": "stderr",
     "output_type": "stream",
     "text": [
      "C:\\Users\\sofis\\Anaconda3\\lib\\site-packages\\matplotlib\\cbook\\deprecation.py:107: MatplotlibDeprecationWarning: Adding an axes using the same arguments as a previous axes currently reuses the earlier instance.  In a future version, a new instance will always be created and returned.  Meanwhile, this warning can be suppressed, and the future behavior ensured, by passing a unique label to each axes instance.\n",
      "  warnings.warn(message, mplDeprecation, stacklevel=1)\n",
      "DEBUG:matplotlib.font_manager:findfont: Matching :family=sans-serif:style=normal:variant=normal:weight=normal:stretch=normal:size=15.0 to DejaVu Sans ('C:\\\\Users\\\\sofis\\\\Anaconda3\\\\lib\\\\site-packages\\\\matplotlib\\\\mpl-data\\\\fonts\\\\ttf\\\\DejaVuSans.ttf') with score of 0.050000\n"
     ]
    },
    {
     "data": {
      "image/png": "[encoded data removed]",
      "text/plain": [
       "<Figure size 2160x1080 with 1 Axes>"
      ]
     },
     "metadata": {},
     "output_type": "display_data"
    }
   ],
   "source": [
    "fig = plt.figure(figsize = (30,15))\n",
    "for i, res in enumerate(results):\n",
    "    #sp = '22'+str(i+1)\n",
    "    plt.subplot(sp)\n",
    "    plt.plot(res[:,2],res[:,0],'-o', label = activation_fcn[i])\n",
    "    plt.legend(fontsize = 20)\n",
    "    plt.xlabel('learning rate', fontsize = 15)\n",
    "    plt.ylabel('score', fontsize = 15)\n",
    "# plt.subplot(2,1,2)\n",
    "# plt.plot(res[:,2],res[:,1],'-o')\n",
    "plt.show()"
   ]
  },
  {
   "cell_type": "code",
   "execution_count": 96,
   "metadata": {},
   "outputs": [
    {
     "name": "stdout",
     "output_type": "stream",
     "text": [
      "[[ 0.77488329  0.00960909  0.05      ]\n",
      " [ 0.79757236  0.0152624   0.01      ]\n",
      " [ 0.80252101  0.01323762  0.005     ]\n",
      " [ 0.77422969  0.00208439  0.001     ]]\n",
      "[[ 0.83006536  0.0015348   0.05      ]\n",
      " [ 0.82446312  0.00493767  0.01      ]\n",
      " [ 0.82222222  0.00111073  0.005     ]\n",
      " [ 0.79869281  0.00414158  0.001     ]]\n",
      "[[ 0.83099907  0.00115994  0.05      ]\n",
      " [ 0.81970121  0.0092147   0.01      ]\n",
      " [ 0.81680672  0.00125909  0.005     ]\n",
      " [ 0.8200747   0.00684521  0.001     ]]\n",
      "[[ 0.7248366   0.05540793  0.05      ]\n",
      " [ 0.82063492  0.00188369  0.01      ]\n",
      " [ 0.81802054  0.0028563   0.005     ]\n",
      " [ 0.79318394  0.00827856  0.001     ]]\n"
     ]
    }
   ],
   "source": [
    "for i, r in enumerate(results):\n",
    "    print(r)"
   ]
  },
  {
   "cell_type": "code",
   "execution_count": 9,
   "metadata": {},
   "outputs": [],
   "source": [
    "def predict_character(pred, n_characters, labels, verbose = True):\n",
    "    pred_target = pred\n",
    "    #unscramble_idx = fv_test.stimulus_code.reshape(100, 15, 12).argsort()\n",
    "    unscramble_idx = fv_test.stimulus_code.reshape(n_characters, -1, 12).argsort()\n",
    "    static_idx = np.indices(unscramble_idx.shape)\n",
    "    #lda_out_prob = pred.reshape(100, 15, 12)\n",
    "    lda_out_prob = pred.reshape(n_characters, -1, 12)\n",
    "    lda_out_prob = lda_out_prob[static_idx[0], static_idx[1], unscramble_idx]\n",
    "\n",
    "    # destil the result of the 15 runs\n",
    "    lda_out_prob = lda_out_prob.sum(axis=1)\n",
    "    lda_out_prob = lda_out_prob.argsort()\n",
    "\n",
    "\n",
    "    cols = lda_out_prob[lda_out_prob <= 5].reshape(n_characters, -1)\n",
    "    rows = lda_out_prob[lda_out_prob > 5].reshape(n_characters, -1)\n",
    "    text = ''\n",
    "    for i in range(n_characters):\n",
    "        row = rows[i][-1]-6\n",
    "        col = cols[i][-1]\n",
    "        letter = MATRIX[row][col]\n",
    "        text += letter\n",
    "    a = np.array(list(text.upper()))\n",
    "    b = np.array(list(labels))\n",
    "    accuracy = np.count_nonzero(a == b) / len(a)\n",
    "    if verbose:\n",
    "        print()\n",
    "        print('Constructed labels: %s' % text.upper())\n",
    "        print('True labels       : %s' % labels)\n",
    "        print('Accuracy: %.1f%%' % (accuracy * 100))\n",
    "    return accuracy"
   ]
  },
  {
   "cell_type": "markdown",
   "metadata": {},
   "source": [
    "#### Rectified linear unit function"
   ]
  },
  {
   "cell_type": "code",
   "execution_count": 12,
   "metadata": {},
   "outputs": [
    {
     "data": {
      "text/plain": [
       "MLPClassifier(activation='relu', alpha=0.0001, batch_size='auto', beta_1=0.9,\n",
       "       beta_2=0.999, early_stopping=False, epsilon=1e-08,\n",
       "       hidden_layer_sizes=(100,), learning_rate='constant',\n",
       "       learning_rate_init=0.001, max_iter=200, momentum=0.9,\n",
       "       nesterovs_momentum=True, power_t=0.5, random_state=None,\n",
       "       shuffle=True, solver='adam', tol=0.0001, validation_fraction=0.1,\n",
       "       verbose=False, warm_start=False)"
      ]
     },
     "execution_count": 12,
     "metadata": {},
     "output_type": "execute_result"
    }
   ],
   "source": [
    "clf = MLPClassifier(hidden_layer_sizes=(100, ), activation='relu', solver='adam')\n",
    "clf.fit(x, y)"
   ]
  },
  {
   "cell_type": "code",
   "execution_count": 13,
   "metadata": {},
   "outputs": [
    {
     "name": "stdout",
     "output_type": "stream",
     "text": [
      "\n",
      "Constructed labels: WQWPL4COMRKO97YFZDEZ1CPF9NN2GR8DJCU24MEUO7OJAPTFYP7O6D7LDGYEGOK5VHNE6BUXOO1TEOLLUEE5HFGEEXAW_K4R2MRU\n",
      "True labels       : WQXPLZCOMRKO97YFZDEZ1DPI9NNVGRQDJCUVRMEUOOOJD2UFYPOO6J7LDGYEGOA5VHNEHBTXOO1TDOILUEE5BFAEEXAW_K4R3MRU\n",
      "Accuracy: 78.0%\n"
     ]
    },
    {
     "data": {
      "text/plain": [
       "0.78"
      ]
     },
     "execution_count": 13,
     "metadata": {},
     "output_type": "execute_result"
    }
   ],
   "source": [
    "pred = clf.predict_proba(x_test)\n",
    "predict_character(pred[:,1], 100, TRUE_LABELS_A)"
   ]
  },
  {
   "cell_type": "markdown",
   "metadata": {},
   "source": [
    "#### Sigma function"
   ]
  },
  {
   "cell_type": "code",
   "execution_count": 13,
   "metadata": {},
   "outputs": [],
   "source": [
    "clf = MLPClassifier(hidden_layer_sizes=(100, ), activation='logistic', solver='adam')\n",
    "clf.fit(x, y)\n",
    "pred = clf.predict_proba(x_test)"
   ]
  },
  {
   "cell_type": "code",
   "execution_count": 14,
   "metadata": {},
   "outputs": [
    {
     "name": "stdout",
     "output_type": "stream",
     "text": [
      "\n",
      "Constructed labels: WP4PLHFIM_WO97YFZDEZ1DPC9NN2GR9DJCIVRMEUOOOJD2UFYP7O6K7LDAYEGOA5VHNE7BTXOO1TDOILUEE5HFSFEXAW_K1R3MRU\n",
      "True labels       : WQXPLZCOMRKO97YFZDEZ1DPI9NNVGRQDJCUVRMEUOOOJD2UFYPOO6J7LDGYEGOA5VHNEHBTXOO1TDOILUEE5BFAEEXAW_K4R3MRU\n",
      "Accuracy: 81.0%\n"
     ]
    },
    {
     "data": {
      "text/plain": [
       "0.81"
      ]
     },
     "execution_count": 14,
     "metadata": {},
     "output_type": "execute_result"
    }
   ],
   "source": [
    "predict_character(pred[:,1], 100, TRUE_LABELS_A)"
   ]
  },
  {
   "cell_type": "markdown",
   "metadata": {},
   "source": [
    "#### Hyperbolic tan function"
   ]
  },
  {
   "cell_type": "code",
   "execution_count": 15,
   "metadata": {},
   "outputs": [],
   "source": [
    "clf = MLPClassifier(hidden_layer_sizes=(100, ), activation='tanh', solver='adam')\n",
    "clf.fit(x, y)\n",
    "pred = clf.predict_proba(x_test)"
   ]
  },
  {
   "cell_type": "code",
   "execution_count": 16,
   "metadata": {},
   "outputs": [
    {
     "name": "stdout",
     "output_type": "stream",
     "text": [
      "\n",
      "Constructed labels: WQWPLNC1MR3O97YFZ2DZ1DPO9NOVGRQDJCIJ4MEUOPOJARUFZPOO6V7FDAYEGOA5VBNELBCUOO1TDOLLUEE7HFA95XAWLK4R1MRU\n",
      "True labels       : WQXPLZCOMRKO97YFZDEZ1DPI9NNVGRQDJCUVRMEUOOOJD2UFYPOO6J7LDGYEGOA5VHNEHBTXOO1TDOILUEE5BFAEEXAW_K4R3MRU\n",
      "Accuracy: 71.0%\n"
     ]
    },
    {
     "data": {
      "text/plain": [
       "0.71"
      ]
     },
     "execution_count": 16,
     "metadata": {},
     "output_type": "execute_result"
    }
   ],
   "source": [
    "predict_character(pred[:,1], 100, TRUE_LABELS_A)"
   ]
  },
  {
   "cell_type": "markdown",
   "metadata": {},
   "source": [
    "#### Identity function"
   ]
  },
  {
   "cell_type": "code",
   "execution_count": 17,
   "metadata": {},
   "outputs": [],
   "source": []
  },
  {
   "cell_type": "code",
   "execution_count": 18,
   "metadata": {},
   "outputs": [
    {
     "name": "stdout",
     "output_type": "stream",
     "text": [
      "time: 20.466706299315625 seconds\n"
     ]
    }
   ],
   "source": [
    "clf = MLPClassifier(hidden_layer_sizes=(100, ), activation='identity', solver='adam')\n",
    "import time\n",
    "t_start = time.clock()\n",
    "clf.fit(normalize(x, axis = 1), y)\n",
    "t_end = time.clock()\n",
    "pred = clf.predict_proba(normalize(x_test, axis = 1))\n",
    "\n",
    "print('time: {} seconds'.format(t_end - t_start))"
   ]
  },
  {
   "cell_type": "code",
   "execution_count": 19,
   "metadata": {},
   "outputs": [
    {
     "name": "stdout",
     "output_type": "stream",
     "text": [
      "\n",
      "Constructed labels: WQXPLZCIMRWO97YFZDEZ1DPI9NNVGRQDJCUVRMEUOOOJD2UFYPOO6J7LDAYEGOA5VZNE6BTXOO1TDOILUEE5NFAEEXAWRK4R3MRU\n",
      "True labels       : WQXPLZCOMRKO97YFZDEZ1DPI9NNVGRQDJCUVRMEUOOOJD2UFYPOO6J7LDGYEGOA5VHNEHBTXOO1TDOILUEE5BFAEEXAW_K4R3MRU\n",
      "Accuracy: 93.0%\n"
     ]
    },
    {
     "data": {
      "text/plain": [
       "0.93"
      ]
     },
     "execution_count": 19,
     "metadata": {},
     "output_type": "execute_result"
    }
   ],
   "source": [
    "predict_character(pred[:,1], 100, TRUE_LABELS_A)"
   ]
  },
  {
   "cell_type": "code",
   "execution_count": 16,
   "metadata": {},
   "outputs": [],
   "source": [
    "list_fcns = ['identity', 'tanh', 'logistic', 'relu']"
   ]
  },
  {
   "cell_type": "code",
   "execution_count": 17,
   "metadata": {},
   "outputs": [
    {
     "name": "stdout",
     "output_type": "stream",
     "text": [
      "\n",
      "Constructed labels: WQWPLZCOMRWO97YFZDEZ1DPI9NNVGRWDJCUVRMEUOUOJD2UFYPOO6J7LDAYEGOG5VHNE6BWXOO1TDOILUEE5NFAEEXAWRK4R3MRU\n",
      "True labels       : WQXPLZCOMRKO97YFZDEZ1DPI9NNVGRQDJCUVRMEUOOOJD2UFYPOO6J7LDGYEGOA5VHNEHBTXOO1TDOILUEE5BFAEEXAW_K4R3MRU\n",
      "Accuracy: 90.0%\n",
      "trained identity in 16.92 s\n",
      "\n",
      "Constructed labels: WQXPLZC1MRWO97YF4DEZ1DPF9QOVGRKCJCUJRMEUCUCJAPUFYP7O697LDAYF5OG5VHNE6BTXOO1TEOILUEE5BFB4DXAE_K2R3MLU\n",
      "True labels       : WQXPLZCOMRKO97YFZDEZ1DPI9NNVGRQDJCUVRMEUOOOJD2UFYPOO6J7LDGYEGOA5VHNEHBTXOO1TDOILUEE5BFAEEXAW_K4R3MRU\n",
      "Accuracy: 72.0%\n",
      "trained tanh in 22.81 s\n",
      "\n",
      "Constructed labels: WQXPLBCIMREC57YBZDEZ1DPI9NNVGRQDJCIVRMEUOUOJD2UFYPOO6K7LDAYEGOA5VINECBUTOOZTDOILUEE5GFAFFXAWRK4R3MRU\n",
      "True labels       : WQXPLZCOMRKO97YFZDEZ1DPI9NNVGRQDJCUVRMEUOOOJD2UFYPOO6J7LDGYEGOA5VHNEHBTXOO1TDOILUEE5BFAEEXAW_K4R3MRU\n",
      "Accuracy: 81.0%\n",
      "trained logistic in 20.07 s\n",
      "\n",
      "Constructed labels: WQXPLZC1MRKO97YLZ2EZ1DQF9NNVGRNDJUUJ4MEUOUOJBPUFYPOO6J7LDGYEGOG5VZNEHBTXOO1TDOILUEF5NFAEKXAW8K4RYMRU\n",
      "True labels       : WQXPLZCOMRKO97YFZDEZ1DPI9NNVGRQDJCUVRMEUOOOJD2UFYPOO6J7LDGYEGOA5VHNEHBTXOO1TDOILUEE5BFAEEXAW_K4R3MRU\n",
      "Accuracy: 81.0%\n",
      "trained relu in 10.01 s\n"
     ]
    }
   ],
   "source": [
    "pred, models = MLP_test(x, y, x_test, list_fcns)"
   ]
  },
  {
   "cell_type": "code",
   "execution_count": null,
   "metadata": {},
   "outputs": [],
   "source": [
    "import pandas as pd"
   ]
  },
  {
   "cell_type": "code",
   "execution_count": 74,
   "metadata": {},
   "outputs": [
    {
     "data": {
      "text/html": [
       "<div>\n",
       "<style scoped>\n",
       "    .dataframe tbody tr th:only-of-type {\n",
       "        vertical-align: middle;\n",
       "    }\n",
       "\n",
       "    .dataframe tbody tr th {\n",
       "        vertical-align: top;\n",
       "    }\n",
       "\n",
       "    .dataframe thead th {\n",
       "        text-align: right;\n",
       "    }\n",
       "</style>\n",
       "<table border=\"1\" class=\"dataframe\">\n",
       "  <thead>\n",
       "    <tr style=\"text-align: right;\">\n",
       "      <th></th>\n",
       "      <th>identity</th>\n",
       "      <th>tanh</th>\n",
       "      <th>logistic</th>\n",
       "      <th>relu</th>\n",
       "    </tr>\n",
       "  </thead>\n",
       "  <tbody>\n",
       "    <tr>\n",
       "      <th>accuracy</th>\n",
       "      <td>0.850000</td>\n",
       "      <td>0.760000</td>\n",
       "      <td>0.790000</td>\n",
       "      <td>0.620000</td>\n",
       "    </tr>\n",
       "    <tr>\n",
       "      <th>time</th>\n",
       "      <td>7.158911</td>\n",
       "      <td>17.436235</td>\n",
       "      <td>25.894318</td>\n",
       "      <td>10.276268</td>\n",
       "    </tr>\n",
       "  </tbody>\n",
       "</table>\n",
       "</div>"
      ],
      "text/plain": [
       "          identity       tanh   logistic       relu\n",
       "accuracy  0.850000   0.760000   0.790000   0.620000\n",
       "time      7.158911  17.436235  25.894318  10.276268"
      ]
     },
     "execution_count": 74,
     "metadata": {},
     "output_type": "execute_result"
    }
   ],
   "source": [
    "df = pd.DataFrame(models)\n",
    "df"
   ]
  },
  {
   "cell_type": "markdown",
   "metadata": {},
   "source": [
    "### Normalized data"
   ]
  },
  {
   "cell_type": "code",
   "execution_count": 9,
   "metadata": {
    "scrolled": false
   },
   "outputs": [
    {
     "ename": "NameError",
     "evalue": "name 'x' is not defined",
     "output_type": "error",
     "traceback": [
      "\u001b[1;31m---------------------------------------------------------------------------\u001b[0m",
      "\u001b[1;31mNameError\u001b[0m                                 Traceback (most recent call last)",
      "\u001b[1;32m<ipython-input-9-79539ab823f2>\u001b[0m in \u001b[0;36m<module>\u001b[1;34m()\u001b[0m\n\u001b[1;32m----> 1\u001b[1;33m \u001b[0mx_norm\u001b[0m \u001b[1;33m=\u001b[0m \u001b[0mnormalize\u001b[0m\u001b[1;33m(\u001b[0m\u001b[0mx\u001b[0m\u001b[1;33m,\u001b[0m \u001b[0maxis\u001b[0m \u001b[1;33m=\u001b[0m \u001b[1;36m1\u001b[0m\u001b[1;33m)\u001b[0m\u001b[1;33m\u001b[0m\u001b[0m\n\u001b[0m\u001b[0;32m      2\u001b[0m \u001b[0mx_test_norm\u001b[0m \u001b[1;33m=\u001b[0m \u001b[0mnormalize\u001b[0m\u001b[1;33m(\u001b[0m\u001b[0mx_test\u001b[0m\u001b[1;33m,\u001b[0m \u001b[0maxis\u001b[0m \u001b[1;33m=\u001b[0m \u001b[1;36m1\u001b[0m\u001b[1;33m)\u001b[0m\u001b[1;33m\u001b[0m\u001b[0m\n\u001b[0;32m      3\u001b[0m \u001b[0mpred\u001b[0m\u001b[1;33m,\u001b[0m \u001b[0mmodels\u001b[0m \u001b[1;33m=\u001b[0m \u001b[0mMLP_test\u001b[0m\u001b[1;33m(\u001b[0m\u001b[0mx_norm\u001b[0m\u001b[1;33m,\u001b[0m \u001b[0my\u001b[0m\u001b[1;33m,\u001b[0m \u001b[0mx_test_norm\u001b[0m\u001b[1;33m,\u001b[0m \u001b[0mlist_fcns\u001b[0m\u001b[1;33m)\u001b[0m\u001b[1;33m\u001b[0m\u001b[0m\n",
      "\u001b[1;31mNameError\u001b[0m: name 'x' is not defined"
     ]
    }
   ],
   "source": [
    "x_norm = normalize(x, axis = 1)\n",
    "x_test_norm = normalize(x_test, axis = 1)\n",
    "pred, models = MLP_test(x_norm, y, x_test_norm, list_fcns)"
   ]
  },
  {
   "cell_type": "code",
   "execution_count": 19,
   "metadata": {
    "scrolled": false
   },
   "outputs": [
    {
     "data": {
      "text/html": [
       "<div>\n",
       "<style scoped>\n",
       "    .dataframe tbody tr th:only-of-type {\n",
       "        vertical-align: middle;\n",
       "    }\n",
       "\n",
       "    .dataframe tbody tr th {\n",
       "        vertical-align: top;\n",
       "    }\n",
       "\n",
       "    .dataframe thead th {\n",
       "        text-align: right;\n",
       "    }\n",
       "</style>\n",
       "<table border=\"1\" class=\"dataframe\">\n",
       "  <thead>\n",
       "    <tr style=\"text-align: right;\">\n",
       "      <th></th>\n",
       "      <th>identity</th>\n",
       "      <th>tanh</th>\n",
       "      <th>logistic</th>\n",
       "      <th>relu</th>\n",
       "    </tr>\n",
       "  </thead>\n",
       "  <tbody>\n",
       "    <tr>\n",
       "      <th>Accuracy [%]</th>\n",
       "      <td>94.00000</td>\n",
       "      <td>94.000000</td>\n",
       "      <td>96.000000</td>\n",
       "      <td>81.000000</td>\n",
       "    </tr>\n",
       "    <tr>\n",
       "      <th>Time [s]</th>\n",
       "      <td>19.45189</td>\n",
       "      <td>14.628866</td>\n",
       "      <td>47.387315</td>\n",
       "      <td>83.837302</td>\n",
       "    </tr>\n",
       "    <tr>\n",
       "      <th>Train score</th>\n",
       "      <td>0.86268</td>\n",
       "      <td>0.861765</td>\n",
       "      <td>0.863922</td>\n",
       "      <td>0.996471</td>\n",
       "    </tr>\n",
       "  </tbody>\n",
       "</table>\n",
       "</div>"
      ],
      "text/plain": [
       "              identity       tanh   logistic       relu\n",
       "Accuracy [%]  94.00000  94.000000  96.000000  81.000000\n",
       "Time [s]      19.45189  14.628866  47.387315  83.837302\n",
       "Train score    0.86268   0.861765   0.863922   0.996471"
      ]
     },
     "execution_count": 19,
     "metadata": {},
     "output_type": "execute_result"
    }
   ],
   "source": [
    "df = pd.DataFrame(models)\n",
    "df"
   ]
  },
  {
   "cell_type": "markdown",
   "metadata": {},
   "source": [
    "### Scaled data"
   ]
  },
  {
   "cell_type": "code",
   "execution_count": 21,
   "metadata": {},
   "outputs": [],
   "source": [
    "from sklearn.preprocessing import StandardScaler\n",
    "scaler = StandardScaler()\n",
    "X = scaler.fit_transform(x)\n",
    "X_test = scaler.fit_transform(x_test)"
   ]
  },
  {
   "cell_type": "code",
   "execution_count": 22,
   "metadata": {},
   "outputs": [
    {
     "name": "stdout",
     "output_type": "stream",
     "text": [
      "\n",
      "Constructed labels: WQXPLZCIMRQO97YFZDEZ1DPL9NNVGRWDJCOV4MEUOOOJD2UFYPOO6J7LDAYEGOG5VHNE6BWXOO1TDOILUEE5BFAEEXAWRK4R3MRU\n",
      "True labels       : WQXPLZCOMRKO97YFZDEZ1DPI9NNVGRQDJCUVRMEUOOOJD2UFYPOO6J7LDGYEGOA5VHNEHBTXOO1TDOILUEE5BFAEEXAW_K4R3MRU\n",
      "Accuracy: 89.0%\n",
      "trained identity in 4.97 s\n",
      "\n",
      "Constructed labels: WQXPLHCIM_ER97YFYDEZ1DQC9NNVGRPDJCUVRMEOOC7JBPUFYPOO8J7LDAYEAOA5VZNEHBTXOO1TDOILUEE7NFZFEX5WNKFR3MDU\n",
      "True labels       : WQXPLZCOMRKO97YFZDEZ1DPI9NNVGRQDJCUVRMEUOOOJD2UFYPOO6J7LDGYEGOA5VHNEHBTXOO1TDOILUEE5BFAEEXAW_K4R3MRU\n",
      "Accuracy: 74.0%\n",
      "trained tanh in 14.06 s\n",
      "\n",
      "Constructed labels: WQXPLNCIMRWO57YBZDEZ1DPI9NN2GR8DJCOVRMEUOOOJD2UFYPOO6H7LDGYEGOB5VH6EHBTXOO1TDOHLUEE56FA3AXAE_K4R3MRU\n",
      "True labels       : WQXPLZCOMRKO97YFZDEZ1DPI9NNVGRQDJCUVRMEUOOOJD2UFYPOO6J7LDGYEGOA5VHNEHBTXOO1TDOILUEE5BFAEEXAW_K4R3MRU\n",
      "Accuracy: 84.0%\n",
      "trained logistic in 33.73 s\n",
      "\n",
      "Constructed labels: WPWPLZCIMREO57YFZDEZ1DPI9NN2GRPDJUO2RMEUO1OJA2UFYPON687LDYYEGOA5VHNEHBT_OO1BEOILUEE5BFAEEXAW_K4RYGLU\n",
      "True labels       : WQXPLZCOMRKO97YFZDEZ1DPI9NNVGRQDJCUVRMEUOOOJD2UFYPOO6J7LDGYEGOA5VHNEHBTXOO1TDOILUEE5BFAEEXAW_K4R3MRU\n",
      "Accuracy: 79.0%\n",
      "trained relu in 12.85 s\n"
     ]
    }
   ],
   "source": [
    "pred, models = MLP_test(X, y, X_test, list_fcns)"
   ]
  },
  {
   "cell_type": "code",
   "execution_count": 23,
   "metadata": {
    "scrolled": false
   },
   "outputs": [
    {
     "data": {
      "text/html": [
       "<div>\n",
       "<style scoped>\n",
       "    .dataframe tbody tr th:only-of-type {\n",
       "        vertical-align: middle;\n",
       "    }\n",
       "\n",
       "    .dataframe tbody tr th {\n",
       "        vertical-align: top;\n",
       "    }\n",
       "\n",
       "    .dataframe thead th {\n",
       "        text-align: right;\n",
       "    }\n",
       "</style>\n",
       "<table border=\"1\" class=\"dataframe\">\n",
       "  <thead>\n",
       "    <tr style=\"text-align: right;\">\n",
       "      <th></th>\n",
       "      <th>identity</th>\n",
       "      <th>tanh</th>\n",
       "      <th>logistic</th>\n",
       "      <th>relu</th>\n",
       "    </tr>\n",
       "  </thead>\n",
       "  <tbody>\n",
       "    <tr>\n",
       "      <th>Accuracy [%]</th>\n",
       "      <td>89.000000</td>\n",
       "      <td>74.000000</td>\n",
       "      <td>84.000000</td>\n",
       "      <td>79.000000</td>\n",
       "    </tr>\n",
       "    <tr>\n",
       "      <th>Time [s]</th>\n",
       "      <td>4.967004</td>\n",
       "      <td>14.056281</td>\n",
       "      <td>33.732830</td>\n",
       "      <td>12.848193</td>\n",
       "    </tr>\n",
       "    <tr>\n",
       "      <th>Train score</th>\n",
       "      <td>0.846144</td>\n",
       "      <td>0.990523</td>\n",
       "      <td>0.998301</td>\n",
       "      <td>0.956993</td>\n",
       "    </tr>\n",
       "  </tbody>\n",
       "</table>\n",
       "</div>"
      ],
      "text/plain": [
       "               identity       tanh   logistic       relu\n",
       "Accuracy [%]  89.000000  74.000000  84.000000  79.000000\n",
       "Time [s]       4.967004  14.056281  33.732830  12.848193\n",
       "Train score    0.846144   0.990523   0.998301   0.956993"
      ]
     },
     "execution_count": 23,
     "metadata": {},
     "output_type": "execute_result"
    }
   ],
   "source": [
    "df = pd.DataFrame(models)\n",
    "df"
   ]
  },
  {
   "cell_type": "markdown",
   "metadata": {},
   "source": [
    "## GrirdSearch"
   ]
  },
  {
   "cell_type": "code",
   "execution_count": 24,
   "metadata": {},
   "outputs": [],
   "source": [
    "param_grid = [\n",
    "  {'learning_rate_init': [0.05, 0.01, 0.005, 0.001], 'hidden_layer_sizes' : [(10,), (50,), (100,), (500, ), (1000,)]#,\n",
    "                                                                     #(10, 50), (10, 50, 100), (50, 100), (50, 100, 500)],\n",
    "   'activation': ['identity']},\n",
    "      {'learning_rate_init': [0.05, 0.01, 0.005, 0.001], 'hidden_layer_sizes' : [(10,), (50,), (100,), (500, ), (1000,)]#,\n",
    "                                                                    # (10, 50), (10, 50, 100), (50, 100), (50, 100, 500)],\n",
    "   'activation': ['logistic']},\n",
    "      {'learning_rate_init': [0.05, 0.01, 0.005, 0.001], 'hidden_layer_sizes': [(10,), (50,), (100,), (500, ), (1000,)]#,\n",
    "                                                                    # (10, 50), (10, 50, 100), (50, 100), (50, 100, 500)],\n",
    "   'activation': ['tanh']},\n",
    "      {'learning_rate_init': [0.05, 0.01, 0.005, 0.001], 'hidden_layer_sizes' : [(10,), (50,), (100,), (500, ), (1000,)]#,\n",
    "                                                                     #(10, 50), (10, 50, 100), (50, 100), (50, 100, 500)],\n",
    "   'activation': ['relu']}]\n",
    " "
   ]
  },
  {
   "cell_type": "code",
   "execution_count": 25,
   "metadata": {
    "scrolled": true
   },
   "outputs": [
    {
     "name": "stderr",
     "output_type": "stream",
     "text": [
      "C:\\Users\\sofis\\Anaconda3\\lib\\site-packages\\sklearn\\cross_validation.py:41: DeprecationWarning: This module was deprecated in version 0.18 in favor of the model_selection module into which all the refactored classes and functions are moved. Also note that the interface of the new CV iterators are different from that of this module. This module will be removed in 0.20.\n",
      "  \"This module will be removed in 0.20.\", DeprecationWarning)\n",
      "C:\\Users\\sofis\\Anaconda3\\lib\\site-packages\\sklearn\\grid_search.py:42: DeprecationWarning: This module was deprecated in version 0.18 in favor of the model_selection module into which all the refactored classes and functions are moved. This module will be removed in 0.20.\n",
      "  DeprecationWarning)\n"
     ]
    },
    {
     "name": "stdout",
     "output_type": "stream",
     "text": [
      "Fitting 2 folds for each of 144 candidates, totalling 288 fits\n",
      "[CV] activation=identity, hidden_layer_sizes=(10,), learning_rate_init=0.05 \n",
      "[CV]  activation=identity, hidden_layer_sizes=(10,), learning_rate_init=0.05, score=0.835600 -   0.3s\n",
      "[CV] activation=identity, hidden_layer_sizes=(10,), learning_rate_init=0.05 \n"
     ]
    },
    {
     "name": "stderr",
     "output_type": "stream",
     "text": [
      "[Parallel(n_jobs=1)]: Done   1 out of   1 | elapsed:    0.3s remaining:    0.0s\n"
     ]
    },
    {
     "name": "stdout",
     "output_type": "stream",
     "text": [
      "[CV]  activation=identity, hidden_layer_sizes=(10,), learning_rate_init=0.05, score=0.833600 -   0.4s\n",
      "[CV] activation=identity, hidden_layer_sizes=(10,), learning_rate_init=0.01 \n"
     ]
    },
    {
     "name": "stderr",
     "output_type": "stream",
     "text": [
      "[Parallel(n_jobs=1)]: Done   2 out of   2 | elapsed:    0.8s remaining:    0.0s\n"
     ]
    },
    {
     "name": "stdout",
     "output_type": "stream",
     "text": [
      "[CV]  activation=identity, hidden_layer_sizes=(10,), learning_rate_init=0.01, score=0.830400 -   1.0s\n",
      "[CV] activation=identity, hidden_layer_sizes=(10,), learning_rate_init=0.01 \n"
     ]
    },
    {
     "name": "stderr",
     "output_type": "stream",
     "text": [
      "[Parallel(n_jobs=1)]: Done   3 out of   3 | elapsed:    1.9s remaining:    0.0s\n"
     ]
    },
    {
     "name": "stdout",
     "output_type": "stream",
     "text": [
      "[CV]  activation=identity, hidden_layer_sizes=(10,), learning_rate_init=0.01, score=0.823200 -   0.9s\n",
      "[CV] activation=identity, hidden_layer_sizes=(10,), learning_rate_init=0.005 \n",
      "[CV]  activation=identity, hidden_layer_sizes=(10,), learning_rate_init=0.005, score=0.828800 -   1.1s\n",
      "[CV] activation=identity, hidden_layer_sizes=(10,), learning_rate_init=0.005 \n",
      "[CV]  activation=identity, hidden_layer_sizes=(10,), learning_rate_init=0.005, score=0.826400 -   1.4s\n",
      "[CV] activation=identity, hidden_layer_sizes=(10,), learning_rate_init=0.001 \n"
     ]
    },
    {
     "name": "stderr",
     "output_type": "stream",
     "text": [
      "C:\\Users\\sofis\\Anaconda3\\lib\\site-packages\\sklearn\\neural_network\\multilayer_perceptron.py:564: ConvergenceWarning: Stochastic Optimizer: Maximum iterations (200) reached and the optimization hasn't converged yet.\n",
      "  % self.max_iter, ConvergenceWarning)\n"
     ]
    },
    {
     "name": "stdout",
     "output_type": "stream",
     "text": [
      "[CV]  activation=identity, hidden_layer_sizes=(10,), learning_rate_init=0.001, score=0.829600 -   4.2s\n",
      "[CV] activation=identity, hidden_layer_sizes=(10,), learning_rate_init=0.001 \n",
      "[CV]  activation=identity, hidden_layer_sizes=(10,), learning_rate_init=0.001, score=0.831600 -   3.1s\n",
      "[CV] activation=identity, hidden_layer_sizes=(50,), learning_rate_init=0.05 \n",
      "[CV]  activation=identity, hidden_layer_sizes=(50,), learning_rate_init=0.05, score=0.825600 -   0.9s\n",
      "[CV] activation=identity, hidden_layer_sizes=(50,), learning_rate_init=0.05 \n",
      "[CV]  activation=identity, hidden_layer_sizes=(50,), learning_rate_init=0.05, score=0.832400 -   0.4s\n",
      "[CV] activation=identity, hidden_layer_sizes=(50,), learning_rate_init=0.01 \n",
      "[CV]  activation=identity, hidden_layer_sizes=(50,), learning_rate_init=0.01, score=0.829200 -   0.8s\n",
      "[CV] activation=identity, hidden_layer_sizes=(50,), learning_rate_init=0.01 \n",
      "[CV]  activation=identity, hidden_layer_sizes=(50,), learning_rate_init=0.01, score=0.839600 -   0.5s\n",
      "[CV] activation=identity, hidden_layer_sizes=(50,), learning_rate_init=0.005 \n",
      "[CV]  activation=identity, hidden_layer_sizes=(50,), learning_rate_init=0.005, score=0.832400 -   1.2s\n",
      "[CV] activation=identity, hidden_layer_sizes=(50,), learning_rate_init=0.005 \n",
      "[CV]  activation=identity, hidden_layer_sizes=(50,), learning_rate_init=0.005, score=0.833200 -   0.8s\n",
      "[CV] activation=identity, hidden_layer_sizes=(50,), learning_rate_init=0.001 \n",
      "[CV]  activation=identity, hidden_layer_sizes=(50,), learning_rate_init=0.001, score=0.830400 -   4.2s\n",
      "[CV] activation=identity, hidden_layer_sizes=(50,), learning_rate_init=0.001 \n",
      "[CV]  activation=identity, hidden_layer_sizes=(50,), learning_rate_init=0.001, score=0.833200 -   2.4s\n",
      "[CV] activation=identity, hidden_layer_sizes=(100,), learning_rate_init=0.05 \n",
      "[CV]  activation=identity, hidden_layer_sizes=(100,), learning_rate_init=0.05, score=0.806000 -   1.2s\n",
      "[CV] activation=identity, hidden_layer_sizes=(100,), learning_rate_init=0.05 \n",
      "[CV]  activation=identity, hidden_layer_sizes=(100,), learning_rate_init=0.05, score=0.820000 -   1.3s\n",
      "[CV] activation=identity, hidden_layer_sizes=(100,), learning_rate_init=0.01 \n",
      "[CV]  activation=identity, hidden_layer_sizes=(100,), learning_rate_init=0.01, score=0.824800 -   1.1s\n",
      "[CV] activation=identity, hidden_layer_sizes=(100,), learning_rate_init=0.01 \n",
      "[CV]  activation=identity, hidden_layer_sizes=(100,), learning_rate_init=0.01, score=0.830000 -   1.6s\n",
      "[CV] activation=identity, hidden_layer_sizes=(100,), learning_rate_init=0.005 \n",
      "[CV]  activation=identity, hidden_layer_sizes=(100,), learning_rate_init=0.005, score=0.822400 -   1.7s\n",
      "[CV] activation=identity, hidden_layer_sizes=(100,), learning_rate_init=0.005 \n",
      "[CV]  activation=identity, hidden_layer_sizes=(100,), learning_rate_init=0.005, score=0.812000 -   2.0s\n",
      "[CV] activation=identity, hidden_layer_sizes=(100,), learning_rate_init=0.001 \n",
      "[CV]  activation=identity, hidden_layer_sizes=(100,), learning_rate_init=0.001, score=0.829200 -   4.0s\n",
      "[CV] activation=identity, hidden_layer_sizes=(100,), learning_rate_init=0.001 \n",
      "[CV]  activation=identity, hidden_layer_sizes=(100,), learning_rate_init=0.001, score=0.832400 -   4.4s\n",
      "[CV] activation=identity, hidden_layer_sizes=(500,), learning_rate_init=0.05 \n",
      "[CV]  activation=identity, hidden_layer_sizes=(500,), learning_rate_init=0.05, score=0.786000 -   6.0s\n",
      "[CV] activation=identity, hidden_layer_sizes=(500,), learning_rate_init=0.05 \n",
      "[CV]  activation=identity, hidden_layer_sizes=(500,), learning_rate_init=0.05, score=0.828000 -   9.0s\n",
      "[CV] activation=identity, hidden_layer_sizes=(500,), learning_rate_init=0.01 \n",
      "[CV]  activation=identity, hidden_layer_sizes=(500,), learning_rate_init=0.01, score=0.833200 -  10.7s\n",
      "[CV] activation=identity, hidden_layer_sizes=(500,), learning_rate_init=0.01 \n",
      "[CV]  activation=identity, hidden_layer_sizes=(500,), learning_rate_init=0.01, score=0.823200 -   6.8s\n",
      "[CV] activation=identity, hidden_layer_sizes=(500,), learning_rate_init=0.005 \n",
      "[CV]  activation=identity, hidden_layer_sizes=(500,), learning_rate_init=0.005, score=0.827200 -  14.5s\n",
      "[CV] activation=identity, hidden_layer_sizes=(500,), learning_rate_init=0.005 \n",
      "[CV]  activation=identity, hidden_layer_sizes=(500,), learning_rate_init=0.005, score=0.823200 -  14.8s\n",
      "[CV] activation=identity, hidden_layer_sizes=(500,), learning_rate_init=0.001 \n",
      "[CV]  activation=identity, hidden_layer_sizes=(500,), learning_rate_init=0.001, score=0.830800 -  19.0s\n",
      "[CV] activation=identity, hidden_layer_sizes=(500,), learning_rate_init=0.001 \n",
      "[CV]  activation=identity, hidden_layer_sizes=(500,), learning_rate_init=0.001, score=0.828800 -  14.5s\n",
      "[CV] activation=identity, hidden_layer_sizes=(1000,), learning_rate_init=0.05 \n",
      "[CV]  activation=identity, hidden_layer_sizes=(1000,), learning_rate_init=0.05, score=0.806800 -  15.9s\n",
      "[CV] activation=identity, hidden_layer_sizes=(1000,), learning_rate_init=0.05 \n",
      "[CV]  activation=identity, hidden_layer_sizes=(1000,), learning_rate_init=0.05, score=0.809200 -  17.3s\n",
      "[CV] activation=identity, hidden_layer_sizes=(1000,), learning_rate_init=0.01 \n",
      "[CV]  activation=identity, hidden_layer_sizes=(1000,), learning_rate_init=0.01, score=0.826000 -  21.8s\n",
      "[CV] activation=identity, hidden_layer_sizes=(1000,), learning_rate_init=0.01 \n",
      "[CV]  activation=identity, hidden_layer_sizes=(1000,), learning_rate_init=0.01, score=0.828800 -  16.9s\n",
      "[CV] activation=identity, hidden_layer_sizes=(1000,), learning_rate_init=0.005 \n",
      "[CV]  activation=identity, hidden_layer_sizes=(1000,), learning_rate_init=0.005, score=0.828800 -  17.9s\n",
      "[CV] activation=identity, hidden_layer_sizes=(1000,), learning_rate_init=0.005 \n",
      "[CV]  activation=identity, hidden_layer_sizes=(1000,), learning_rate_init=0.005, score=0.834800 -  13.8s\n",
      "[CV] activation=identity, hidden_layer_sizes=(1000,), learning_rate_init=0.001 \n",
      "[CV]  activation=identity, hidden_layer_sizes=(1000,), learning_rate_init=0.001, score=0.831200 -  24.3s\n",
      "[CV] activation=identity, hidden_layer_sizes=(1000,), learning_rate_init=0.001 \n",
      "[CV]  activation=identity, hidden_layer_sizes=(1000,), learning_rate_init=0.001, score=0.832000 -  24.4s\n",
      "[CV] activation=identity, hidden_layer_sizes=(10, 50), learning_rate_init=0.05 \n",
      "[CV]  activation=identity, hidden_layer_sizes=(10, 50), learning_rate_init=0.05, score=0.808800 -   0.6s\n",
      "[CV] activation=identity, hidden_layer_sizes=(10, 50), learning_rate_init=0.05 \n",
      "[CV]  activation=identity, hidden_layer_sizes=(10, 50), learning_rate_init=0.05, score=0.830800 -   0.6s\n",
      "[CV] activation=identity, hidden_layer_sizes=(10, 50), learning_rate_init=0.01 \n",
      "[CV]  activation=identity, hidden_layer_sizes=(10, 50), learning_rate_init=0.01, score=0.828400 -   0.4s\n",
      "[CV] activation=identity, hidden_layer_sizes=(10, 50), learning_rate_init=0.01 \n",
      "[CV]  activation=identity, hidden_layer_sizes=(10, 50), learning_rate_init=0.01, score=0.819600 -   0.4s\n",
      "[CV] activation=identity, hidden_layer_sizes=(10, 50), learning_rate_init=0.005 \n",
      "[CV]  activation=identity, hidden_layer_sizes=(10, 50), learning_rate_init=0.005, score=0.814000 -   0.9s\n",
      "[CV] activation=identity, hidden_layer_sizes=(10, 50), learning_rate_init=0.005 \n",
      "[CV]  activation=identity, hidden_layer_sizes=(10, 50), learning_rate_init=0.005, score=0.814800 -   0.5s\n",
      "[CV] activation=identity, hidden_layer_sizes=(10, 50), learning_rate_init=0.001 \n",
      "[CV]  activation=identity, hidden_layer_sizes=(10, 50), learning_rate_init=0.001, score=0.820800 -   2.6s\n",
      "[CV] activation=identity, hidden_layer_sizes=(10, 50), learning_rate_init=0.001 \n",
      "[CV]  activation=identity, hidden_layer_sizes=(10, 50), learning_rate_init=0.001, score=0.824800 -   1.7s\n",
      "[CV] activation=identity, hidden_layer_sizes=(10, 50, 100), learning_rate_init=0.05 \n",
      "[CV]  activation=identity, hidden_layer_sizes=(10, 50, 100), learning_rate_init=0.05, score=0.832000 -   0.6s\n",
      "[CV] activation=identity, hidden_layer_sizes=(10, 50, 100), learning_rate_init=0.05 \n",
      "[CV]  activation=identity, hidden_layer_sizes=(10, 50, 100), learning_rate_init=0.05, score=0.800000 -   0.3s\n",
      "[CV] activation=identity, hidden_layer_sizes=(10, 50, 100), learning_rate_init=0.01 \n",
      "[CV]  activation=identity, hidden_layer_sizes=(10, 50, 100), learning_rate_init=0.01, score=0.834000 -   0.8s\n",
      "[CV] activation=identity, hidden_layer_sizes=(10, 50, 100), learning_rate_init=0.01 \n"
     ]
    },
    {
     "name": "stdout",
     "output_type": "stream",
     "text": [
      "[CV]  activation=identity, hidden_layer_sizes=(10, 50, 100), learning_rate_init=0.01, score=0.829600 -   0.3s\n",
      "[CV] activation=identity, hidden_layer_sizes=(10, 50, 100), learning_rate_init=0.005 \n",
      "[CV]  activation=identity, hidden_layer_sizes=(10, 50, 100), learning_rate_init=0.005, score=0.822800 -   0.6s\n",
      "[CV] activation=identity, hidden_layer_sizes=(10, 50, 100), learning_rate_init=0.005 \n",
      "[CV]  activation=identity, hidden_layer_sizes=(10, 50, 100), learning_rate_init=0.005, score=0.832400 -   0.4s\n",
      "[CV] activation=identity, hidden_layer_sizes=(10, 50, 100), learning_rate_init=0.001 \n",
      "[CV]  activation=identity, hidden_layer_sizes=(10, 50, 100), learning_rate_init=0.001, score=0.832800 -   1.0s\n",
      "[CV] activation=identity, hidden_layer_sizes=(10, 50, 100), learning_rate_init=0.001 \n",
      "[CV]  activation=identity, hidden_layer_sizes=(10, 50, 100), learning_rate_init=0.001, score=0.819600 -   1.7s\n",
      "[CV] activation=identity, hidden_layer_sizes=(50, 100), learning_rate_init=0.05 \n",
      "[CV]  activation=identity, hidden_layer_sizes=(50, 100), learning_rate_init=0.05, score=0.832800 -   1.0s\n",
      "[CV] activation=identity, hidden_layer_sizes=(50, 100), learning_rate_init=0.05 \n",
      "[CV]  activation=identity, hidden_layer_sizes=(50, 100), learning_rate_init=0.05, score=0.832800 -   0.5s\n",
      "[CV] activation=identity, hidden_layer_sizes=(50, 100), learning_rate_init=0.01 \n",
      "[CV]  activation=identity, hidden_layer_sizes=(50, 100), learning_rate_init=0.01, score=0.831200 -   1.0s\n",
      "[CV] activation=identity, hidden_layer_sizes=(50, 100), learning_rate_init=0.01 \n",
      "[CV]  activation=identity, hidden_layer_sizes=(50, 100), learning_rate_init=0.01, score=0.827200 -   0.9s\n",
      "[CV] activation=identity, hidden_layer_sizes=(50, 100), learning_rate_init=0.005 \n",
      "[CV]  activation=identity, hidden_layer_sizes=(50, 100), learning_rate_init=0.005, score=0.813200 -   0.8s\n",
      "[CV] activation=identity, hidden_layer_sizes=(50, 100), learning_rate_init=0.005 \n",
      "[CV]  activation=identity, hidden_layer_sizes=(50, 100), learning_rate_init=0.005, score=0.818000 -   1.4s\n",
      "[CV] activation=identity, hidden_layer_sizes=(50, 100), learning_rate_init=0.001 \n",
      "[CV]  activation=identity, hidden_layer_sizes=(50, 100), learning_rate_init=0.001, score=0.818800 -   1.7s\n",
      "[CV] activation=identity, hidden_layer_sizes=(50, 100), learning_rate_init=0.001 \n",
      "[CV]  activation=identity, hidden_layer_sizes=(50, 100), learning_rate_init=0.001, score=0.825200 -   2.3s\n",
      "[CV] activation=identity, hidden_layer_sizes=(50, 100, 500), learning_rate_init=0.05 \n",
      "[CV]  activation=identity, hidden_layer_sizes=(50, 100, 500), learning_rate_init=0.05, score=0.830800 -   2.0s\n",
      "[CV] activation=identity, hidden_layer_sizes=(50, 100, 500), learning_rate_init=0.05 \n",
      "[CV]  activation=identity, hidden_layer_sizes=(50, 100, 500), learning_rate_init=0.05, score=0.834800 -   1.6s\n",
      "[CV] activation=identity, hidden_layer_sizes=(50, 100, 500), learning_rate_init=0.01 \n",
      "[CV]  activation=identity, hidden_layer_sizes=(50, 100, 500), learning_rate_init=0.01, score=0.836800 -   1.4s\n",
      "[CV] activation=identity, hidden_layer_sizes=(50, 100, 500), learning_rate_init=0.01 \n",
      "[CV]  activation=identity, hidden_layer_sizes=(50, 100, 500), learning_rate_init=0.01, score=0.821600 -   2.3s\n",
      "[CV] activation=identity, hidden_layer_sizes=(50, 100, 500), learning_rate_init=0.005 \n",
      "[CV]  activation=identity, hidden_layer_sizes=(50, 100, 500), learning_rate_init=0.005, score=0.821600 -   1.0s\n",
      "[CV] activation=identity, hidden_layer_sizes=(50, 100, 500), learning_rate_init=0.005 \n",
      "[CV]  activation=identity, hidden_layer_sizes=(50, 100, 500), learning_rate_init=0.005, score=0.829200 -   2.5s\n",
      "[CV] activation=identity, hidden_layer_sizes=(50, 100, 500), learning_rate_init=0.001 \n",
      "[CV]  activation=identity, hidden_layer_sizes=(50, 100, 500), learning_rate_init=0.001, score=0.810000 -   3.3s\n",
      "[CV] activation=identity, hidden_layer_sizes=(50, 100, 500), learning_rate_init=0.001 \n",
      "[CV]  activation=identity, hidden_layer_sizes=(50, 100, 500), learning_rate_init=0.001, score=0.828800 -   1.3s\n",
      "[CV] activation=logistic, hidden_layer_sizes=(10,), learning_rate_init=0.05 \n",
      "[CV]  activation=logistic, hidden_layer_sizes=(10,), learning_rate_init=0.05, score=0.802800 -   2.8s\n",
      "[CV] activation=logistic, hidden_layer_sizes=(10,), learning_rate_init=0.05 \n",
      "[CV]  activation=logistic, hidden_layer_sizes=(10,), learning_rate_init=0.05, score=0.798000 -   1.8s\n",
      "[CV] activation=logistic, hidden_layer_sizes=(10,), learning_rate_init=0.01 \n"
     ]
    },
    {
     "name": "stderr",
     "output_type": "stream",
     "text": [
      "C:\\Users\\sofis\\Anaconda3\\lib\\site-packages\\sklearn\\neural_network\\multilayer_perceptron.py:564: ConvergenceWarning: Stochastic Optimizer: Maximum iterations (200) reached and the optimization hasn't converged yet.\n",
      "  % self.max_iter, ConvergenceWarning)\n"
     ]
    },
    {
     "name": "stdout",
     "output_type": "stream",
     "text": [
      "[CV]  activation=logistic, hidden_layer_sizes=(10,), learning_rate_init=0.01, score=0.816400 -   4.3s\n",
      "[CV] activation=logistic, hidden_layer_sizes=(10,), learning_rate_init=0.01 \n",
      "[CV]  activation=logistic, hidden_layer_sizes=(10,), learning_rate_init=0.01, score=0.817200 -   3.3s\n",
      "[CV] activation=logistic, hidden_layer_sizes=(10,), learning_rate_init=0.005 \n"
     ]
    },
    {
     "name": "stderr",
     "output_type": "stream",
     "text": [
      "C:\\Users\\sofis\\Anaconda3\\lib\\site-packages\\sklearn\\neural_network\\multilayer_perceptron.py:564: ConvergenceWarning: Stochastic Optimizer: Maximum iterations (200) reached and the optimization hasn't converged yet.\n",
      "  % self.max_iter, ConvergenceWarning)\n"
     ]
    },
    {
     "name": "stdout",
     "output_type": "stream",
     "text": [
      "[CV]  activation=logistic, hidden_layer_sizes=(10,), learning_rate_init=0.005, score=0.824400 -   4.6s\n",
      "[CV] activation=logistic, hidden_layer_sizes=(10,), learning_rate_init=0.005 \n"
     ]
    },
    {
     "name": "stderr",
     "output_type": "stream",
     "text": [
      "C:\\Users\\sofis\\Anaconda3\\lib\\site-packages\\sklearn\\neural_network\\multilayer_perceptron.py:564: ConvergenceWarning: Stochastic Optimizer: Maximum iterations (200) reached and the optimization hasn't converged yet.\n",
      "  % self.max_iter, ConvergenceWarning)\n"
     ]
    },
    {
     "name": "stdout",
     "output_type": "stream",
     "text": [
      "[CV]  activation=logistic, hidden_layer_sizes=(10,), learning_rate_init=0.005, score=0.824400 -   5.0s\n",
      "[CV] activation=logistic, hidden_layer_sizes=(10,), learning_rate_init=0.001 \n"
     ]
    },
    {
     "name": "stderr",
     "output_type": "stream",
     "text": [
      "C:\\Users\\sofis\\Anaconda3\\lib\\site-packages\\sklearn\\neural_network\\multilayer_perceptron.py:564: ConvergenceWarning: Stochastic Optimizer: Maximum iterations (200) reached and the optimization hasn't converged yet.\n",
      "  % self.max_iter, ConvergenceWarning)\n"
     ]
    },
    {
     "name": "stdout",
     "output_type": "stream",
     "text": [
      "[CV]  activation=logistic, hidden_layer_sizes=(10,), learning_rate_init=0.001, score=0.832400 -   5.2s\n",
      "[CV] activation=logistic, hidden_layer_sizes=(10,), learning_rate_init=0.001 \n"
     ]
    },
    {
     "name": "stderr",
     "output_type": "stream",
     "text": [
      "C:\\Users\\sofis\\Anaconda3\\lib\\site-packages\\sklearn\\neural_network\\multilayer_perceptron.py:564: ConvergenceWarning: Stochastic Optimizer: Maximum iterations (200) reached and the optimization hasn't converged yet.\n",
      "  % self.max_iter, ConvergenceWarning)\n"
     ]
    },
    {
     "name": "stdout",
     "output_type": "stream",
     "text": [
      "[CV]  activation=logistic, hidden_layer_sizes=(10,), learning_rate_init=0.001, score=0.835600 -   4.6s\n",
      "[CV] activation=logistic, hidden_layer_sizes=(50,), learning_rate_init=0.05 \n",
      "[CV]  activation=logistic, hidden_layer_sizes=(50,), learning_rate_init=0.05, score=0.816800 -   3.3s\n",
      "[CV] activation=logistic, hidden_layer_sizes=(50,), learning_rate_init=0.05 \n",
      "[CV]  activation=logistic, hidden_layer_sizes=(50,), learning_rate_init=0.05, score=0.806400 -   2.0s\n",
      "[CV] activation=logistic, hidden_layer_sizes=(50,), learning_rate_init=0.01 \n"
     ]
    },
    {
     "name": "stderr",
     "output_type": "stream",
     "text": [
      "C:\\Users\\sofis\\Anaconda3\\lib\\site-packages\\sklearn\\neural_network\\multilayer_perceptron.py:564: ConvergenceWarning: Stochastic Optimizer: Maximum iterations (200) reached and the optimization hasn't converged yet.\n",
      "  % self.max_iter, ConvergenceWarning)\n"
     ]
    },
    {
     "name": "stdout",
     "output_type": "stream",
     "text": [
      "[CV]  activation=logistic, hidden_layer_sizes=(50,), learning_rate_init=0.01, score=0.810800 -   7.7s\n",
      "[CV] activation=logistic, hidden_layer_sizes=(50,), learning_rate_init=0.01 \n",
      "[CV]  activation=logistic, hidden_layer_sizes=(50,), learning_rate_init=0.01, score=0.818400 -   5.3s\n",
      "[CV] activation=logistic, hidden_layer_sizes=(50,), learning_rate_init=0.005 \n",
      "[CV]  activation=logistic, hidden_layer_sizes=(50,), learning_rate_init=0.005, score=0.830400 -   3.8s\n",
      "[CV] activation=logistic, hidden_layer_sizes=(50,), learning_rate_init=0.005 \n",
      "[CV]  activation=logistic, hidden_layer_sizes=(50,), learning_rate_init=0.005, score=0.832800 -   3.9s\n",
      "[CV] activation=logistic, hidden_layer_sizes=(50,), learning_rate_init=0.001 \n"
     ]
    },
    {
     "name": "stderr",
     "output_type": "stream",
     "text": [
      "C:\\Users\\sofis\\Anaconda3\\lib\\site-packages\\sklearn\\neural_network\\multilayer_perceptron.py:564: ConvergenceWarning: Stochastic Optimizer: Maximum iterations (200) reached and the optimization hasn't converged yet.\n",
      "  % self.max_iter, ConvergenceWarning)\n"
     ]
    },
    {
     "name": "stdout",
     "output_type": "stream",
     "text": [
      "[CV]  activation=logistic, hidden_layer_sizes=(50,), learning_rate_init=0.001, score=0.832000 -   8.1s\n",
      "[CV] activation=logistic, hidden_layer_sizes=(50,), learning_rate_init=0.001 \n"
     ]
    },
    {
     "name": "stderr",
     "output_type": "stream",
     "text": [
      "C:\\Users\\sofis\\Anaconda3\\lib\\site-packages\\sklearn\\neural_network\\multilayer_perceptron.py:564: ConvergenceWarning: Stochastic Optimizer: Maximum iterations (200) reached and the optimization hasn't converged yet.\n",
      "  % self.max_iter, ConvergenceWarning)\n"
     ]
    },
    {
     "name": "stdout",
     "output_type": "stream",
     "text": [
      "[CV]  activation=logistic, hidden_layer_sizes=(50,), learning_rate_init=0.001, score=0.834000 -   7.5s\n",
      "[CV] activation=logistic, hidden_layer_sizes=(100,), learning_rate_init=0.05 \n",
      "[CV]  activation=logistic, hidden_layer_sizes=(100,), learning_rate_init=0.05, score=0.793200 -   3.7s\n",
      "[CV] activation=logistic, hidden_layer_sizes=(100,), learning_rate_init=0.05 \n",
      "[CV]  activation=logistic, hidden_layer_sizes=(100,), learning_rate_init=0.05, score=0.790800 -   2.2s\n",
      "[CV] activation=logistic, hidden_layer_sizes=(100,), learning_rate_init=0.01 \n",
      "[CV]  activation=logistic, hidden_layer_sizes=(100,), learning_rate_init=0.01, score=0.799600 -   5.3s\n",
      "[CV] activation=logistic, hidden_layer_sizes=(100,), learning_rate_init=0.01 \n",
      "[CV]  activation=logistic, hidden_layer_sizes=(100,), learning_rate_init=0.01, score=0.829200 -   3.7s\n",
      "[CV] activation=logistic, hidden_layer_sizes=(100,), learning_rate_init=0.005 \n",
      "[CV]  activation=logistic, hidden_layer_sizes=(100,), learning_rate_init=0.005, score=0.831200 -   4.6s\n",
      "[CV] activation=logistic, hidden_layer_sizes=(100,), learning_rate_init=0.005 \n",
      "[CV]  activation=logistic, hidden_layer_sizes=(100,), learning_rate_init=0.005, score=0.824400 -   3.6s\n",
      "[CV] activation=logistic, hidden_layer_sizes=(100,), learning_rate_init=0.001 \n"
     ]
    },
    {
     "name": "stderr",
     "output_type": "stream",
     "text": [
      "C:\\Users\\sofis\\Anaconda3\\lib\\site-packages\\sklearn\\neural_network\\multilayer_perceptron.py:564: ConvergenceWarning: Stochastic Optimizer: Maximum iterations (200) reached and the optimization hasn't converged yet.\n",
      "  % self.max_iter, ConvergenceWarning)\n"
     ]
    },
    {
     "name": "stdout",
     "output_type": "stream",
     "text": [
      "[CV]  activation=logistic, hidden_layer_sizes=(100,), learning_rate_init=0.001, score=0.832400 -  12.0s\n",
      "[CV] activation=logistic, hidden_layer_sizes=(100,), learning_rate_init=0.001 \n",
      "[CV]  activation=logistic, hidden_layer_sizes=(100,), learning_rate_init=0.001, score=0.833200 -   9.5s\n",
      "[CV] activation=logistic, hidden_layer_sizes=(500,), learning_rate_init=0.05 \n",
      "[CV]  activation=logistic, hidden_layer_sizes=(500,), learning_rate_init=0.05, score=0.790800 -  16.8s\n",
      "[CV] activation=logistic, hidden_layer_sizes=(500,), learning_rate_init=0.05 \n",
      "[CV]  activation=logistic, hidden_layer_sizes=(500,), learning_rate_init=0.05, score=0.793600 -  12.7s\n",
      "[CV] activation=logistic, hidden_layer_sizes=(500,), learning_rate_init=0.01 \n",
      "[CV]  activation=logistic, hidden_layer_sizes=(500,), learning_rate_init=0.01, score=0.834400 -   9.4s\n",
      "[CV] activation=logistic, hidden_layer_sizes=(500,), learning_rate_init=0.01 \n",
      "[CV]  activation=logistic, hidden_layer_sizes=(500,), learning_rate_init=0.01, score=0.839600 -  10.3s\n",
      "[CV] activation=logistic, hidden_layer_sizes=(500,), learning_rate_init=0.005 \n",
      "[CV]  activation=logistic, hidden_layer_sizes=(500,), learning_rate_init=0.005, score=0.832000 -  17.5s\n",
      "[CV] activation=logistic, hidden_layer_sizes=(500,), learning_rate_init=0.005 \n",
      "[CV]  activation=logistic, hidden_layer_sizes=(500,), learning_rate_init=0.005, score=0.833600 -  13.9s\n",
      "[CV] activation=logistic, hidden_layer_sizes=(500,), learning_rate_init=0.001 \n",
      "[CV]  activation=logistic, hidden_layer_sizes=(500,), learning_rate_init=0.001, score=0.833200 -  48.1s\n",
      "[CV] activation=logistic, hidden_layer_sizes=(500,), learning_rate_init=0.001 \n",
      "[CV]  activation=logistic, hidden_layer_sizes=(500,), learning_rate_init=0.001, score=0.838400 -  35.8s\n",
      "[CV] activation=logistic, hidden_layer_sizes=(1000,), learning_rate_init=0.05 \n",
      "[CV]  activation=logistic, hidden_layer_sizes=(1000,), learning_rate_init=0.05, score=0.786000 -  39.4s\n",
      "[CV] activation=logistic, hidden_layer_sizes=(1000,), learning_rate_init=0.05 \n",
      "[CV]  activation=logistic, hidden_layer_sizes=(1000,), learning_rate_init=0.05, score=0.762400 -  39.1s\n",
      "[CV] activation=logistic, hidden_layer_sizes=(1000,), learning_rate_init=0.01 \n",
      "[CV]  activation=logistic, hidden_layer_sizes=(1000,), learning_rate_init=0.01, score=0.771600 -  16.0s\n",
      "[CV] activation=logistic, hidden_layer_sizes=(1000,), learning_rate_init=0.01 \n",
      "[CV]  activation=logistic, hidden_layer_sizes=(1000,), learning_rate_init=0.01, score=0.803200 -  28.0s\n",
      "[CV] activation=logistic, hidden_layer_sizes=(1000,), learning_rate_init=0.005 \n",
      "[CV]  activation=logistic, hidden_layer_sizes=(1000,), learning_rate_init=0.005, score=0.812400 -  17.7s\n",
      "[CV] activation=logistic, hidden_layer_sizes=(1000,), learning_rate_init=0.005 \n",
      "[CV]  activation=logistic, hidden_layer_sizes=(1000,), learning_rate_init=0.005, score=0.811200 -  40.4s\n",
      "[CV] activation=logistic, hidden_layer_sizes=(1000,), learning_rate_init=0.001 \n",
      "[CV]  activation=logistic, hidden_layer_sizes=(1000,), learning_rate_init=0.001, score=0.828000 - 1.4min\n",
      "[CV] activation=logistic, hidden_layer_sizes=(1000,), learning_rate_init=0.001 \n",
      "[CV]  activation=logistic, hidden_layer_sizes=(1000,), learning_rate_init=0.001, score=0.836400 - 1.4min\n",
      "[CV] activation=logistic, hidden_layer_sizes=(10, 50), learning_rate_init=0.05 \n",
      "[CV]  activation=logistic, hidden_layer_sizes=(10, 50), learning_rate_init=0.05, score=0.788800 -   1.6s\n",
      "[CV] activation=logistic, hidden_layer_sizes=(10, 50), learning_rate_init=0.05 \n",
      "[CV]  activation=logistic, hidden_layer_sizes=(10, 50), learning_rate_init=0.05, score=0.778000 -   1.3s\n",
      "[CV] activation=logistic, hidden_layer_sizes=(10, 50), learning_rate_init=0.01 \n",
      "[CV]  activation=logistic, hidden_layer_sizes=(10, 50), learning_rate_init=0.01, score=0.798400 -   4.5s\n",
      "[CV] activation=logistic, hidden_layer_sizes=(10, 50), learning_rate_init=0.01 \n",
      "[CV]  activation=logistic, hidden_layer_sizes=(10, 50), learning_rate_init=0.01, score=0.782400 -   2.8s\n",
      "[CV] activation=logistic, hidden_layer_sizes=(10, 50), learning_rate_init=0.005 \n"
     ]
    },
    {
     "name": "stderr",
     "output_type": "stream",
     "text": [
      "C:\\Users\\sofis\\Anaconda3\\lib\\site-packages\\sklearn\\neural_network\\multilayer_perceptron.py:564: ConvergenceWarning: Stochastic Optimizer: Maximum iterations (200) reached and the optimization hasn't converged yet.\n",
      "  % self.max_iter, ConvergenceWarning)\n"
     ]
    },
    {
     "name": "stdout",
     "output_type": "stream",
     "text": [
      "[CV]  activation=logistic, hidden_layer_sizes=(10, 50), learning_rate_init=0.005, score=0.798400 -   6.1s\n",
      "[CV] activation=logistic, hidden_layer_sizes=(10, 50), learning_rate_init=0.005 \n",
      "[CV]  activation=logistic, hidden_layer_sizes=(10, 50), learning_rate_init=0.005, score=0.792000 -   5.2s\n",
      "[CV] activation=logistic, hidden_layer_sizes=(10, 50), learning_rate_init=0.001 \n"
     ]
    },
    {
     "name": "stderr",
     "output_type": "stream",
     "text": [
      "C:\\Users\\sofis\\Anaconda3\\lib\\site-packages\\sklearn\\neural_network\\multilayer_perceptron.py:564: ConvergenceWarning: Stochastic Optimizer: Maximum iterations (200) reached and the optimization hasn't converged yet.\n",
      "  % self.max_iter, ConvergenceWarning)\n"
     ]
    },
    {
     "name": "stdout",
     "output_type": "stream",
     "text": [
      "[CV]  activation=logistic, hidden_layer_sizes=(10, 50), learning_rate_init=0.001, score=0.824800 -   5.8s\n",
      "[CV] activation=logistic, hidden_layer_sizes=(10, 50), learning_rate_init=0.001 \n"
     ]
    },
    {
     "name": "stderr",
     "output_type": "stream",
     "text": [
      "C:\\Users\\sofis\\Anaconda3\\lib\\site-packages\\sklearn\\neural_network\\multilayer_perceptron.py:564: ConvergenceWarning: Stochastic Optimizer: Maximum iterations (200) reached and the optimization hasn't converged yet.\n",
      "  % self.max_iter, ConvergenceWarning)\n"
     ]
    },
    {
     "name": "stdout",
     "output_type": "stream",
     "text": [
      "[CV]  activation=logistic, hidden_layer_sizes=(10, 50), learning_rate_init=0.001, score=0.830000 -   5.6s\n",
      "[CV] activation=logistic, hidden_layer_sizes=(10, 50, 100), learning_rate_init=0.05 \n",
      "[CV]  activation=logistic, hidden_layer_sizes=(10, 50, 100), learning_rate_init=0.05, score=0.807200 -   1.8s\n",
      "[CV] activation=logistic, hidden_layer_sizes=(10, 50, 100), learning_rate_init=0.05 \n",
      "[CV]  activation=logistic, hidden_layer_sizes=(10, 50, 100), learning_rate_init=0.05, score=0.803200 -   1.8s\n",
      "[CV] activation=logistic, hidden_layer_sizes=(10, 50, 100), learning_rate_init=0.01 \n",
      "[CV]  activation=logistic, hidden_layer_sizes=(10, 50, 100), learning_rate_init=0.01, score=0.832000 -   1.1s\n",
      "[CV] activation=logistic, hidden_layer_sizes=(10, 50, 100), learning_rate_init=0.01 \n",
      "[CV]  activation=logistic, hidden_layer_sizes=(10, 50, 100), learning_rate_init=0.01, score=0.811200 -   3.7s\n",
      "[CV] activation=logistic, hidden_layer_sizes=(10, 50, 100), learning_rate_init=0.005 \n",
      "[CV]  activation=logistic, hidden_layer_sizes=(10, 50, 100), learning_rate_init=0.005, score=0.836400 -   2.4s\n",
      "[CV] activation=logistic, hidden_layer_sizes=(10, 50, 100), learning_rate_init=0.005 \n",
      "[CV]  activation=logistic, hidden_layer_sizes=(10, 50, 100), learning_rate_init=0.005, score=0.826400 -   2.9s\n",
      "[CV] activation=logistic, hidden_layer_sizes=(10, 50, 100), learning_rate_init=0.001 \n",
      "[CV]  activation=logistic, hidden_layer_sizes=(10, 50, 100), learning_rate_init=0.001, score=0.833200 -   0.3s\n",
      "[CV] activation=logistic, hidden_layer_sizes=(10, 50, 100), learning_rate_init=0.001 \n",
      "[CV]  activation=logistic, hidden_layer_sizes=(10, 50, 100), learning_rate_init=0.001, score=0.833200 -   0.4s\n",
      "[CV] activation=logistic, hidden_layer_sizes=(50, 100), learning_rate_init=0.05 \n",
      "[CV]  activation=logistic, hidden_layer_sizes=(50, 100), learning_rate_init=0.05, score=0.801200 -   2.0s\n",
      "[CV] activation=logistic, hidden_layer_sizes=(50, 100), learning_rate_init=0.05 \n",
      "[CV]  activation=logistic, hidden_layer_sizes=(50, 100), learning_rate_init=0.05, score=0.784400 -   1.3s\n",
      "[CV] activation=logistic, hidden_layer_sizes=(50, 100), learning_rate_init=0.01 \n",
      "[CV]  activation=logistic, hidden_layer_sizes=(50, 100), learning_rate_init=0.01, score=0.784000 -   5.3s\n",
      "[CV] activation=logistic, hidden_layer_sizes=(50, 100), learning_rate_init=0.01 \n",
      "[CV]  activation=logistic, hidden_layer_sizes=(50, 100), learning_rate_init=0.01, score=0.806800 -   2.2s\n",
      "[CV] activation=logistic, hidden_layer_sizes=(50, 100), learning_rate_init=0.005 \n",
      "[CV]  activation=logistic, hidden_layer_sizes=(50, 100), learning_rate_init=0.005, score=0.820000 -   4.1s\n",
      "[CV] activation=logistic, hidden_layer_sizes=(50, 100), learning_rate_init=0.005 \n",
      "[CV]  activation=logistic, hidden_layer_sizes=(50, 100), learning_rate_init=0.005, score=0.838000 -   2.8s\n",
      "[CV] activation=logistic, hidden_layer_sizes=(50, 100), learning_rate_init=0.001 \n",
      "[CV]  activation=logistic, hidden_layer_sizes=(50, 100), learning_rate_init=0.001, score=0.826800 -   7.6s\n",
      "[CV] activation=logistic, hidden_layer_sizes=(50, 100), learning_rate_init=0.001 \n",
      "[CV]  activation=logistic, hidden_layer_sizes=(50, 100), learning_rate_init=0.001, score=0.826000 -   7.6s\n",
      "[CV] activation=logistic, hidden_layer_sizes=(50, 100, 500), learning_rate_init=0.05 \n",
      "[CV]  activation=logistic, hidden_layer_sizes=(50, 100, 500), learning_rate_init=0.05, score=0.833200 -   0.7s\n",
      "[CV] activation=logistic, hidden_layer_sizes=(50, 100, 500), learning_rate_init=0.05 \n",
      "[CV]  activation=logistic, hidden_layer_sizes=(50, 100, 500), learning_rate_init=0.05, score=0.833200 -   0.8s\n",
      "[CV] activation=logistic, hidden_layer_sizes=(50, 100, 500), learning_rate_init=0.01 \n",
      "[CV]  activation=logistic, hidden_layer_sizes=(50, 100, 500), learning_rate_init=0.01, score=0.836400 -   2.6s\n",
      "[CV] activation=logistic, hidden_layer_sizes=(50, 100, 500), learning_rate_init=0.01 \n",
      "[CV]  activation=logistic, hidden_layer_sizes=(50, 100, 500), learning_rate_init=0.01, score=0.799200 -   1.7s\n",
      "[CV] activation=logistic, hidden_layer_sizes=(50, 100, 500), learning_rate_init=0.005 \n",
      "[CV]  activation=logistic, hidden_layer_sizes=(50, 100, 500), learning_rate_init=0.005, score=0.788800 -   3.3s\n",
      "[CV] activation=logistic, hidden_layer_sizes=(50, 100, 500), learning_rate_init=0.005 \n",
      "[CV]  activation=logistic, hidden_layer_sizes=(50, 100, 500), learning_rate_init=0.005, score=0.828400 -   2.4s\n",
      "[CV] activation=logistic, hidden_layer_sizes=(50, 100, 500), learning_rate_init=0.001 \n",
      "[CV]  activation=logistic, hidden_layer_sizes=(50, 100, 500), learning_rate_init=0.001, score=0.822800 -   5.6s\n",
      "[CV] activation=logistic, hidden_layer_sizes=(50, 100, 500), learning_rate_init=0.001 \n",
      "[CV]  activation=logistic, hidden_layer_sizes=(50, 100, 500), learning_rate_init=0.001, score=0.833200 -   0.7s\n",
      "[CV] activation=tanh, hidden_layer_sizes=(10,), learning_rate_init=0.05 \n",
      "[CV]  activation=tanh, hidden_layer_sizes=(10,), learning_rate_init=0.05, score=0.804800 -   1.4s\n",
      "[CV] activation=tanh, hidden_layer_sizes=(10,), learning_rate_init=0.05 \n",
      "[CV]  activation=tanh, hidden_layer_sizes=(10,), learning_rate_init=0.05, score=0.810400 -   0.7s\n",
      "[CV] activation=tanh, hidden_layer_sizes=(10,), learning_rate_init=0.01 \n",
      "[CV]  activation=tanh, hidden_layer_sizes=(10,), learning_rate_init=0.01, score=0.804800 -   3.5s\n",
      "[CV] activation=tanh, hidden_layer_sizes=(10,), learning_rate_init=0.01 \n",
      "[CV]  activation=tanh, hidden_layer_sizes=(10,), learning_rate_init=0.01, score=0.807200 -   2.0s\n",
      "[CV] activation=tanh, hidden_layer_sizes=(10,), learning_rate_init=0.005 \n"
     ]
    },
    {
     "name": "stderr",
     "output_type": "stream",
     "text": [
      "C:\\Users\\sofis\\Anaconda3\\lib\\site-packages\\sklearn\\neural_network\\multilayer_perceptron.py:564: ConvergenceWarning: Stochastic Optimizer: Maximum iterations (200) reached and the optimization hasn't converged yet.\n",
      "  % self.max_iter, ConvergenceWarning)\n"
     ]
    },
    {
     "name": "stdout",
     "output_type": "stream",
     "text": [
      "[CV]  activation=tanh, hidden_layer_sizes=(10,), learning_rate_init=0.005, score=0.804800 -   4.3s\n",
      "[CV] activation=tanh, hidden_layer_sizes=(10,), learning_rate_init=0.005 \n",
      "[CV]  activation=tanh, hidden_layer_sizes=(10,), learning_rate_init=0.005, score=0.817600 -   0.7s\n",
      "[CV] activation=tanh, hidden_layer_sizes=(10,), learning_rate_init=0.001 \n"
     ]
    },
    {
     "name": "stderr",
     "output_type": "stream",
     "text": [
      "C:\\Users\\sofis\\Anaconda3\\lib\\site-packages\\sklearn\\neural_network\\multilayer_perceptron.py:564: ConvergenceWarning: Stochastic Optimizer: Maximum iterations (200) reached and the optimization hasn't converged yet.\n",
      "  % self.max_iter, ConvergenceWarning)\n"
     ]
    },
    {
     "name": "stdout",
     "output_type": "stream",
     "text": [
      "[CV]  activation=tanh, hidden_layer_sizes=(10,), learning_rate_init=0.001, score=0.830400 -   4.2s\n",
      "[CV] activation=tanh, hidden_layer_sizes=(10,), learning_rate_init=0.001 \n",
      "[CV]  activation=tanh, hidden_layer_sizes=(10,), learning_rate_init=0.001, score=0.831600 -   2.9s\n",
      "[CV] activation=tanh, hidden_layer_sizes=(50,), learning_rate_init=0.05 \n",
      "[CV]  activation=tanh, hidden_layer_sizes=(50,), learning_rate_init=0.05, score=0.819600 -   2.0s\n",
      "[CV] activation=tanh, hidden_layer_sizes=(50,), learning_rate_init=0.05 \n",
      "[CV]  activation=tanh, hidden_layer_sizes=(50,), learning_rate_init=0.05, score=0.795200 -   1.0s\n",
      "[CV] activation=tanh, hidden_layer_sizes=(50,), learning_rate_init=0.01 \n",
      "[CV]  activation=tanh, hidden_layer_sizes=(50,), learning_rate_init=0.01, score=0.808800 -   4.7s\n",
      "[CV] activation=tanh, hidden_layer_sizes=(50,), learning_rate_init=0.01 \n",
      "[CV]  activation=tanh, hidden_layer_sizes=(50,), learning_rate_init=0.01, score=0.832400 -   0.6s\n",
      "[CV] activation=tanh, hidden_layer_sizes=(50,), learning_rate_init=0.005 \n",
      "[CV]  activation=tanh, hidden_layer_sizes=(50,), learning_rate_init=0.005, score=0.822400 -   2.2s\n",
      "[CV] activation=tanh, hidden_layer_sizes=(50,), learning_rate_init=0.005 \n",
      "[CV]  activation=tanh, hidden_layer_sizes=(50,), learning_rate_init=0.005, score=0.818000 -   1.8s\n",
      "[CV] activation=tanh, hidden_layer_sizes=(50,), learning_rate_init=0.001 \n",
      "[CV]  activation=tanh, hidden_layer_sizes=(50,), learning_rate_init=0.001, score=0.821600 -   6.7s\n",
      "[CV] activation=tanh, hidden_layer_sizes=(50,), learning_rate_init=0.001 \n",
      "[CV]  activation=tanh, hidden_layer_sizes=(50,), learning_rate_init=0.001, score=0.824000 -   4.2s\n",
      "[CV] activation=tanh, hidden_layer_sizes=(100,), learning_rate_init=0.05 \n",
      "[CV]  activation=tanh, hidden_layer_sizes=(100,), learning_rate_init=0.05, score=0.813600 -   2.7s\n",
      "[CV] activation=tanh, hidden_layer_sizes=(100,), learning_rate_init=0.05 \n",
      "[CV]  activation=tanh, hidden_layer_sizes=(100,), learning_rate_init=0.05, score=0.812000 -   1.4s\n",
      "[CV] activation=tanh, hidden_layer_sizes=(100,), learning_rate_init=0.01 \n",
      "[CV]  activation=tanh, hidden_layer_sizes=(100,), learning_rate_init=0.01, score=0.820800 -   0.8s\n",
      "[CV] activation=tanh, hidden_layer_sizes=(100,), learning_rate_init=0.01 \n",
      "[CV]  activation=tanh, hidden_layer_sizes=(100,), learning_rate_init=0.01, score=0.812800 -   3.7s\n",
      "[CV] activation=tanh, hidden_layer_sizes=(100,), learning_rate_init=0.005 \n",
      "[CV]  activation=tanh, hidden_layer_sizes=(100,), learning_rate_init=0.005, score=0.833200 -   2.0s\n",
      "[CV] activation=tanh, hidden_layer_sizes=(100,), learning_rate_init=0.005 \n",
      "[CV]  activation=tanh, hidden_layer_sizes=(100,), learning_rate_init=0.005, score=0.832800 -   1.0s\n",
      "[CV] activation=tanh, hidden_layer_sizes=(100,), learning_rate_init=0.001 \n",
      "[CV]  activation=tanh, hidden_layer_sizes=(100,), learning_rate_init=0.001, score=0.830800 -   6.6s\n",
      "[CV] activation=tanh, hidden_layer_sizes=(100,), learning_rate_init=0.001 \n",
      "[CV]  activation=tanh, hidden_layer_sizes=(100,), learning_rate_init=0.001, score=0.832400 -   3.5s\n",
      "[CV] activation=tanh, hidden_layer_sizes=(500,), learning_rate_init=0.05 \n",
      "[CV]  activation=tanh, hidden_layer_sizes=(500,), learning_rate_init=0.05, score=0.785200 -  21.4s\n",
      "[CV] activation=tanh, hidden_layer_sizes=(500,), learning_rate_init=0.05 \n",
      "[CV]  activation=tanh, hidden_layer_sizes=(500,), learning_rate_init=0.05, score=0.809200 -  15.9s\n",
      "[CV] activation=tanh, hidden_layer_sizes=(500,), learning_rate_init=0.01 \n",
      "[CV]  activation=tanh, hidden_layer_sizes=(500,), learning_rate_init=0.01, score=0.821600 -   9.0s\n",
      "[CV] activation=tanh, hidden_layer_sizes=(500,), learning_rate_init=0.01 \n",
      "[CV]  activation=tanh, hidden_layer_sizes=(500,), learning_rate_init=0.01, score=0.829200 -   9.0s\n",
      "[CV] activation=tanh, hidden_layer_sizes=(500,), learning_rate_init=0.005 \n",
      "[CV]  activation=tanh, hidden_layer_sizes=(500,), learning_rate_init=0.005, score=0.825200 -  12.4s\n",
      "[CV] activation=tanh, hidden_layer_sizes=(500,), learning_rate_init=0.005 \n",
      "[CV]  activation=tanh, hidden_layer_sizes=(500,), learning_rate_init=0.005, score=0.829600 -  10.3s\n",
      "[CV] activation=tanh, hidden_layer_sizes=(500,), learning_rate_init=0.001 \n",
      "[CV]  activation=tanh, hidden_layer_sizes=(500,), learning_rate_init=0.001, score=0.819200 -  38.1s\n",
      "[CV] activation=tanh, hidden_layer_sizes=(500,), learning_rate_init=0.001 \n",
      "[CV]  activation=tanh, hidden_layer_sizes=(500,), learning_rate_init=0.001, score=0.831600 -  24.9s\n",
      "[CV] activation=tanh, hidden_layer_sizes=(1000,), learning_rate_init=0.05 \n",
      "[CV]  activation=tanh, hidden_layer_sizes=(1000,), learning_rate_init=0.05, score=0.795200 -  48.0s\n",
      "[CV] activation=tanh, hidden_layer_sizes=(1000,), learning_rate_init=0.05 \n",
      "[CV]  activation=tanh, hidden_layer_sizes=(1000,), learning_rate_init=0.05, score=0.800000 -  20.9s\n",
      "[CV] activation=tanh, hidden_layer_sizes=(1000,), learning_rate_init=0.01 \n",
      "[CV]  activation=tanh, hidden_layer_sizes=(1000,), learning_rate_init=0.01, score=0.823200 -  23.6s\n",
      "[CV] activation=tanh, hidden_layer_sizes=(1000,), learning_rate_init=0.01 \n",
      "[CV]  activation=tanh, hidden_layer_sizes=(1000,), learning_rate_init=0.01, score=0.828400 -  19.2s\n",
      "[CV] activation=tanh, hidden_layer_sizes=(1000,), learning_rate_init=0.005 \n",
      "[CV]  activation=tanh, hidden_layer_sizes=(1000,), learning_rate_init=0.005, score=0.832000 -  18.5s\n",
      "[CV] activation=tanh, hidden_layer_sizes=(1000,), learning_rate_init=0.005 \n",
      "[CV]  activation=tanh, hidden_layer_sizes=(1000,), learning_rate_init=0.005, score=0.836800 -  14.5s\n",
      "[CV] activation=tanh, hidden_layer_sizes=(1000,), learning_rate_init=0.001 \n",
      "[CV]  activation=tanh, hidden_layer_sizes=(1000,), learning_rate_init=0.001, score=0.816400 -  45.5s\n",
      "[CV] activation=tanh, hidden_layer_sizes=(1000,), learning_rate_init=0.001 \n",
      "[CV]  activation=tanh, hidden_layer_sizes=(1000,), learning_rate_init=0.001, score=0.823600 -  30.5s\n",
      "[CV] activation=tanh, hidden_layer_sizes=(10, 50), learning_rate_init=0.05 \n",
      "[CV]  activation=tanh, hidden_layer_sizes=(10, 50), learning_rate_init=0.05, score=0.786000 -   1.0s\n",
      "[CV] activation=tanh, hidden_layer_sizes=(10, 50), learning_rate_init=0.05 \n",
      "[CV]  activation=tanh, hidden_layer_sizes=(10, 50), learning_rate_init=0.05, score=0.796800 -   0.8s\n",
      "[CV] activation=tanh, hidden_layer_sizes=(10, 50), learning_rate_init=0.01 \n",
      "[CV]  activation=tanh, hidden_layer_sizes=(10, 50), learning_rate_init=0.01, score=0.824000 -   0.7s\n",
      "[CV] activation=tanh, hidden_layer_sizes=(10, 50), learning_rate_init=0.01 \n",
      "[CV]  activation=tanh, hidden_layer_sizes=(10, 50), learning_rate_init=0.01, score=0.806800 -   1.8s\n",
      "[CV] activation=tanh, hidden_layer_sizes=(10, 50), learning_rate_init=0.005 \n",
      "[CV]  activation=tanh, hidden_layer_sizes=(10, 50), learning_rate_init=0.005, score=0.830800 -   1.0s\n",
      "[CV] activation=tanh, hidden_layer_sizes=(10, 50), learning_rate_init=0.005 \n",
      "[CV]  activation=tanh, hidden_layer_sizes=(10, 50), learning_rate_init=0.005, score=0.826800 -   0.6s\n",
      "[CV] activation=tanh, hidden_layer_sizes=(10, 50), learning_rate_init=0.001 \n",
      "[CV]  activation=tanh, hidden_layer_sizes=(10, 50), learning_rate_init=0.001, score=0.820400 -   4.2s\n",
      "[CV] activation=tanh, hidden_layer_sizes=(10, 50), learning_rate_init=0.001 \n",
      "[CV]  activation=tanh, hidden_layer_sizes=(10, 50), learning_rate_init=0.001, score=0.820800 -   3.5s\n",
      "[CV] activation=tanh, hidden_layer_sizes=(10, 50, 100), learning_rate_init=0.05 \n",
      "[CV]  activation=tanh, hidden_layer_sizes=(10, 50, 100), learning_rate_init=0.05, score=0.784800 -   1.1s\n",
      "[CV] activation=tanh, hidden_layer_sizes=(10, 50, 100), learning_rate_init=0.05 \n",
      "[CV]  activation=tanh, hidden_layer_sizes=(10, 50, 100), learning_rate_init=0.05, score=0.792800 -   1.2s\n",
      "[CV] activation=tanh, hidden_layer_sizes=(10, 50, 100), learning_rate_init=0.01 \n",
      "[CV]  activation=tanh, hidden_layer_sizes=(10, 50, 100), learning_rate_init=0.01, score=0.806000 -   1.9s\n",
      "[CV] activation=tanh, hidden_layer_sizes=(10, 50, 100), learning_rate_init=0.01 \n",
      "[CV]  activation=tanh, hidden_layer_sizes=(10, 50, 100), learning_rate_init=0.01, score=0.815200 -   1.1s\n",
      "[CV] activation=tanh, hidden_layer_sizes=(10, 50, 100), learning_rate_init=0.005 \n",
      "[CV]  activation=tanh, hidden_layer_sizes=(10, 50, 100), learning_rate_init=0.005, score=0.832400 -   0.9s\n",
      "[CV] activation=tanh, hidden_layer_sizes=(10, 50, 100), learning_rate_init=0.005 \n"
     ]
    },
    {
     "name": "stdout",
     "output_type": "stream",
     "text": [
      "[CV]  activation=tanh, hidden_layer_sizes=(10, 50, 100), learning_rate_init=0.005, score=0.829600 -   1.1s\n",
      "[CV] activation=tanh, hidden_layer_sizes=(10, 50, 100), learning_rate_init=0.001 \n",
      "[CV]  activation=tanh, hidden_layer_sizes=(10, 50, 100), learning_rate_init=0.001, score=0.824400 -   1.9s\n",
      "[CV] activation=tanh, hidden_layer_sizes=(10, 50, 100), learning_rate_init=0.001 \n",
      "[CV]  activation=tanh, hidden_layer_sizes=(10, 50, 100), learning_rate_init=0.001, score=0.823200 -   2.9s\n",
      "[CV] activation=tanh, hidden_layer_sizes=(50, 100), learning_rate_init=0.05 \n",
      "[CV]  activation=tanh, hidden_layer_sizes=(50, 100), learning_rate_init=0.05, score=0.806800 -   2.6s\n",
      "[CV] activation=tanh, hidden_layer_sizes=(50, 100), learning_rate_init=0.05 \n",
      "[CV]  activation=tanh, hidden_layer_sizes=(50, 100), learning_rate_init=0.05, score=0.788400 -   1.9s\n",
      "[CV] activation=tanh, hidden_layer_sizes=(50, 100), learning_rate_init=0.01 \n",
      "[CV]  activation=tanh, hidden_layer_sizes=(50, 100), learning_rate_init=0.01, score=0.795200 -   2.0s\n",
      "[CV] activation=tanh, hidden_layer_sizes=(50, 100), learning_rate_init=0.01 \n",
      "[CV]  activation=tanh, hidden_layer_sizes=(50, 100), learning_rate_init=0.01, score=0.807200 -   2.5s\n",
      "[CV] activation=tanh, hidden_layer_sizes=(50, 100), learning_rate_init=0.005 \n",
      "[CV]  activation=tanh, hidden_layer_sizes=(50, 100), learning_rate_init=0.005, score=0.828400 -   1.4s\n",
      "[CV] activation=tanh, hidden_layer_sizes=(50, 100), learning_rate_init=0.005 \n",
      "[CV]  activation=tanh, hidden_layer_sizes=(50, 100), learning_rate_init=0.005, score=0.832000 -   0.8s\n",
      "[CV] activation=tanh, hidden_layer_sizes=(50, 100), learning_rate_init=0.001 \n",
      "[CV]  activation=tanh, hidden_layer_sizes=(50, 100), learning_rate_init=0.001, score=0.832400 -   2.9s\n",
      "[CV] activation=tanh, hidden_layer_sizes=(50, 100), learning_rate_init=0.001 \n",
      "[CV]  activation=tanh, hidden_layer_sizes=(50, 100), learning_rate_init=0.001, score=0.813200 -   3.3s\n",
      "[CV] activation=tanh, hidden_layer_sizes=(50, 100, 500), learning_rate_init=0.05 \n",
      "[CV]  activation=tanh, hidden_layer_sizes=(50, 100, 500), learning_rate_init=0.05, score=0.822000 -   1.7s\n",
      "[CV] activation=tanh, hidden_layer_sizes=(50, 100, 500), learning_rate_init=0.05 \n",
      "[CV]  activation=tanh, hidden_layer_sizes=(50, 100, 500), learning_rate_init=0.05, score=0.826400 -   0.8s\n",
      "[CV] activation=tanh, hidden_layer_sizes=(50, 100, 500), learning_rate_init=0.01 \n",
      "[CV]  activation=tanh, hidden_layer_sizes=(50, 100, 500), learning_rate_init=0.01, score=0.818800 -   6.5s\n",
      "[CV] activation=tanh, hidden_layer_sizes=(50, 100, 500), learning_rate_init=0.01 \n",
      "[CV]  activation=tanh, hidden_layer_sizes=(50, 100, 500), learning_rate_init=0.01, score=0.816800 -   2.1s\n",
      "[CV] activation=tanh, hidden_layer_sizes=(50, 100, 500), learning_rate_init=0.005 \n",
      "[CV]  activation=tanh, hidden_layer_sizes=(50, 100, 500), learning_rate_init=0.005, score=0.830800 -   3.2s\n",
      "[CV] activation=tanh, hidden_layer_sizes=(50, 100, 500), learning_rate_init=0.005 \n",
      "[CV]  activation=tanh, hidden_layer_sizes=(50, 100, 500), learning_rate_init=0.005, score=0.834400 -   1.5s\n",
      "[CV] activation=tanh, hidden_layer_sizes=(50, 100, 500), learning_rate_init=0.001 \n",
      "[CV]  activation=tanh, hidden_layer_sizes=(50, 100, 500), learning_rate_init=0.001, score=0.821200 -   4.9s\n",
      "[CV] activation=tanh, hidden_layer_sizes=(50, 100, 500), learning_rate_init=0.001 \n",
      "[CV]  activation=tanh, hidden_layer_sizes=(50, 100, 500), learning_rate_init=0.001, score=0.828000 -   3.1s\n",
      "[CV] activation=relu, hidden_layer_sizes=(10,), learning_rate_init=0.05 \n",
      "[CV]  activation=relu, hidden_layer_sizes=(10,), learning_rate_init=0.05, score=0.792800 -   2.6s\n",
      "[CV] activation=relu, hidden_layer_sizes=(10,), learning_rate_init=0.05 \n",
      "[CV]  activation=relu, hidden_layer_sizes=(10,), learning_rate_init=0.05, score=0.804800 -   0.9s\n",
      "[CV] activation=relu, hidden_layer_sizes=(10,), learning_rate_init=0.01 \n",
      "[CV]  activation=relu, hidden_layer_sizes=(10,), learning_rate_init=0.01, score=0.778000 -   5.0s\n",
      "[CV] activation=relu, hidden_layer_sizes=(10,), learning_rate_init=0.01 \n",
      "[CV]  activation=relu, hidden_layer_sizes=(10,), learning_rate_init=0.01, score=0.814000 -   2.3s\n",
      "[CV] activation=relu, hidden_layer_sizes=(10,), learning_rate_init=0.005 \n",
      "[CV]  activation=relu, hidden_layer_sizes=(10,), learning_rate_init=0.005, score=0.796000 -   6.1s\n",
      "[CV] activation=relu, hidden_layer_sizes=(10,), learning_rate_init=0.005 \n",
      "[CV]  activation=relu, hidden_layer_sizes=(10,), learning_rate_init=0.005, score=0.800000 -   3.4s\n",
      "[CV] activation=relu, hidden_layer_sizes=(10,), learning_rate_init=0.001 \n"
     ]
    },
    {
     "name": "stderr",
     "output_type": "stream",
     "text": [
      "C:\\Users\\sofis\\Anaconda3\\lib\\site-packages\\sklearn\\neural_network\\multilayer_perceptron.py:564: ConvergenceWarning: Stochastic Optimizer: Maximum iterations (200) reached and the optimization hasn't converged yet.\n",
      "  % self.max_iter, ConvergenceWarning)\n"
     ]
    },
    {
     "name": "stdout",
     "output_type": "stream",
     "text": [
      "[CV]  activation=relu, hidden_layer_sizes=(10,), learning_rate_init=0.001, score=0.817600 -   6.0s\n",
      "[CV] activation=relu, hidden_layer_sizes=(10,), learning_rate_init=0.001 \n"
     ]
    },
    {
     "name": "stderr",
     "output_type": "stream",
     "text": [
      "C:\\Users\\sofis\\Anaconda3\\lib\\site-packages\\sklearn\\neural_network\\multilayer_perceptron.py:564: ConvergenceWarning: Stochastic Optimizer: Maximum iterations (200) reached and the optimization hasn't converged yet.\n",
      "  % self.max_iter, ConvergenceWarning)\n"
     ]
    },
    {
     "name": "stdout",
     "output_type": "stream",
     "text": [
      "[CV]  activation=relu, hidden_layer_sizes=(10,), learning_rate_init=0.001, score=0.816800 -   6.2s\n",
      "[CV] activation=relu, hidden_layer_sizes=(50,), learning_rate_init=0.05 \n",
      "[CV]  activation=relu, hidden_layer_sizes=(50,), learning_rate_init=0.05, score=0.808800 -   1.0s\n",
      "[CV] activation=relu, hidden_layer_sizes=(50,), learning_rate_init=0.05 \n",
      "[CV]  activation=relu, hidden_layer_sizes=(50,), learning_rate_init=0.05, score=0.773600 -   1.1s\n",
      "[CV] activation=relu, hidden_layer_sizes=(50,), learning_rate_init=0.01 \n",
      "[CV]  activation=relu, hidden_layer_sizes=(50,), learning_rate_init=0.01, score=0.805200 -   3.4s\n",
      "[CV] activation=relu, hidden_layer_sizes=(50,), learning_rate_init=0.01 \n",
      "[CV]  activation=relu, hidden_layer_sizes=(50,), learning_rate_init=0.01, score=0.824400 -   1.9s\n",
      "[CV] activation=relu, hidden_layer_sizes=(50,), learning_rate_init=0.005 \n",
      "[CV]  activation=relu, hidden_layer_sizes=(50,), learning_rate_init=0.005, score=0.800800 -   4.9s\n",
      "[CV] activation=relu, hidden_layer_sizes=(50,), learning_rate_init=0.005 \n",
      "[CV]  activation=relu, hidden_layer_sizes=(50,), learning_rate_init=0.005, score=0.812800 -   3.4s\n",
      "[CV] activation=relu, hidden_layer_sizes=(50,), learning_rate_init=0.001 \n"
     ]
    },
    {
     "name": "stderr",
     "output_type": "stream",
     "text": [
      "C:\\Users\\sofis\\Anaconda3\\lib\\site-packages\\sklearn\\neural_network\\multilayer_perceptron.py:564: ConvergenceWarning: Stochastic Optimizer: Maximum iterations (200) reached and the optimization hasn't converged yet.\n",
      "  % self.max_iter, ConvergenceWarning)\n"
     ]
    },
    {
     "name": "stdout",
     "output_type": "stream",
     "text": [
      "[CV]  activation=relu, hidden_layer_sizes=(50,), learning_rate_init=0.001, score=0.802800 -  10.9s\n",
      "[CV] activation=relu, hidden_layer_sizes=(50,), learning_rate_init=0.001 \n"
     ]
    },
    {
     "name": "stderr",
     "output_type": "stream",
     "text": [
      "C:\\Users\\sofis\\Anaconda3\\lib\\site-packages\\sklearn\\neural_network\\multilayer_perceptron.py:564: ConvergenceWarning: Stochastic Optimizer: Maximum iterations (200) reached and the optimization hasn't converged yet.\n",
      "  % self.max_iter, ConvergenceWarning)\n"
     ]
    },
    {
     "name": "stdout",
     "output_type": "stream",
     "text": [
      "[CV]  activation=relu, hidden_layer_sizes=(50,), learning_rate_init=0.001, score=0.816800 -  10.4s\n",
      "[CV] activation=relu, hidden_layer_sizes=(100,), learning_rate_init=0.05 \n",
      "[CV]  activation=relu, hidden_layer_sizes=(100,), learning_rate_init=0.05, score=0.755600 -   1.0s\n",
      "[CV] activation=relu, hidden_layer_sizes=(100,), learning_rate_init=0.05 \n",
      "[CV]  activation=relu, hidden_layer_sizes=(100,), learning_rate_init=0.05, score=0.790800 -   1.1s\n",
      "[CV] activation=relu, hidden_layer_sizes=(100,), learning_rate_init=0.01 \n",
      "[CV]  activation=relu, hidden_layer_sizes=(100,), learning_rate_init=0.01, score=0.807600 -   3.9s\n",
      "[CV] activation=relu, hidden_layer_sizes=(100,), learning_rate_init=0.01 \n",
      "[CV]  activation=relu, hidden_layer_sizes=(100,), learning_rate_init=0.01, score=0.813600 -   2.4s\n",
      "[CV] activation=relu, hidden_layer_sizes=(100,), learning_rate_init=0.005 \n",
      "[CV]  activation=relu, hidden_layer_sizes=(100,), learning_rate_init=0.005, score=0.808800 -   5.4s\n",
      "[CV] activation=relu, hidden_layer_sizes=(100,), learning_rate_init=0.005 \n",
      "[CV]  activation=relu, hidden_layer_sizes=(100,), learning_rate_init=0.005, score=0.812000 -   4.0s\n",
      "[CV] activation=relu, hidden_layer_sizes=(100,), learning_rate_init=0.001 \n"
     ]
    },
    {
     "name": "stderr",
     "output_type": "stream",
     "text": [
      "C:\\Users\\sofis\\Anaconda3\\lib\\site-packages\\sklearn\\neural_network\\multilayer_perceptron.py:564: ConvergenceWarning: Stochastic Optimizer: Maximum iterations (200) reached and the optimization hasn't converged yet.\n",
      "  % self.max_iter, ConvergenceWarning)\n"
     ]
    },
    {
     "name": "stdout",
     "output_type": "stream",
     "text": [
      "[CV]  activation=relu, hidden_layer_sizes=(100,), learning_rate_init=0.001, score=0.813600 -  16.3s\n",
      "[CV] activation=relu, hidden_layer_sizes=(100,), learning_rate_init=0.001 \n",
      "[CV]  activation=relu, hidden_layer_sizes=(100,), learning_rate_init=0.001, score=0.821200 -  12.6s\n",
      "[CV] activation=relu, hidden_layer_sizes=(500,), learning_rate_init=0.05 \n",
      "[CV]  activation=relu, hidden_layer_sizes=(500,), learning_rate_init=0.05, score=0.802000 -   6.9s\n",
      "[CV] activation=relu, hidden_layer_sizes=(500,), learning_rate_init=0.05 \n",
      "[CV]  activation=relu, hidden_layer_sizes=(500,), learning_rate_init=0.05, score=0.794800 -   8.9s\n",
      "[CV] activation=relu, hidden_layer_sizes=(500,), learning_rate_init=0.01 \n",
      "[CV]  activation=relu, hidden_layer_sizes=(500,), learning_rate_init=0.01, score=0.815200 -  15.1s\n",
      "[CV] activation=relu, hidden_layer_sizes=(500,), learning_rate_init=0.01 \n",
      "[CV]  activation=relu, hidden_layer_sizes=(500,), learning_rate_init=0.01, score=0.787200 -  12.1s\n",
      "[CV] activation=relu, hidden_layer_sizes=(500,), learning_rate_init=0.005 \n",
      "[CV]  activation=relu, hidden_layer_sizes=(500,), learning_rate_init=0.005, score=0.821200 -  23.4s\n",
      "[CV] activation=relu, hidden_layer_sizes=(500,), learning_rate_init=0.005 \n",
      "[CV]  activation=relu, hidden_layer_sizes=(500,), learning_rate_init=0.005, score=0.821200 -  14.5s\n",
      "[CV] activation=relu, hidden_layer_sizes=(500,), learning_rate_init=0.001 \n",
      "[CV]  activation=relu, hidden_layer_sizes=(500,), learning_rate_init=0.001, score=0.815200 -  59.2s\n",
      "[CV] activation=relu, hidden_layer_sizes=(500,), learning_rate_init=0.001 \n",
      "[CV]  activation=relu, hidden_layer_sizes=(500,), learning_rate_init=0.001, score=0.814400 -  44.5s\n",
      "[CV] activation=relu, hidden_layer_sizes=(1000,), learning_rate_init=0.05 \n",
      "[CV]  activation=relu, hidden_layer_sizes=(1000,), learning_rate_init=0.05, score=0.794000 -  19.8s\n",
      "[CV] activation=relu, hidden_layer_sizes=(1000,), learning_rate_init=0.05 \n",
      "[CV]  activation=relu, hidden_layer_sizes=(1000,), learning_rate_init=0.05, score=0.782800 -  23.6s\n",
      "[CV] activation=relu, hidden_layer_sizes=(1000,), learning_rate_init=0.01 \n",
      "[CV]  activation=relu, hidden_layer_sizes=(1000,), learning_rate_init=0.01, score=0.816800 -  27.5s\n",
      "[CV] activation=relu, hidden_layer_sizes=(1000,), learning_rate_init=0.01 \n",
      "[CV]  activation=relu, hidden_layer_sizes=(1000,), learning_rate_init=0.01, score=0.813200 -  24.8s\n",
      "[CV] activation=relu, hidden_layer_sizes=(1000,), learning_rate_init=0.005 \n",
      "[CV]  activation=relu, hidden_layer_sizes=(1000,), learning_rate_init=0.005, score=0.815200 -  34.8s\n",
      "[CV] activation=relu, hidden_layer_sizes=(1000,), learning_rate_init=0.005 \n",
      "[CV]  activation=relu, hidden_layer_sizes=(1000,), learning_rate_init=0.005, score=0.806800 -  24.4s\n",
      "[CV] activation=relu, hidden_layer_sizes=(1000,), learning_rate_init=0.001 \n",
      "[CV]  activation=relu, hidden_layer_sizes=(1000,), learning_rate_init=0.001, score=0.822400 - 1.6min\n",
      "[CV] activation=relu, hidden_layer_sizes=(1000,), learning_rate_init=0.001 \n",
      "[CV]  activation=relu, hidden_layer_sizes=(1000,), learning_rate_init=0.001, score=0.822000 - 1.1min\n",
      "[CV] activation=relu, hidden_layer_sizes=(10, 50), learning_rate_init=0.05 \n",
      "[CV]  activation=relu, hidden_layer_sizes=(10, 50), learning_rate_init=0.05, score=0.769600 -   1.4s\n",
      "[CV] activation=relu, hidden_layer_sizes=(10, 50), learning_rate_init=0.05 \n",
      "[CV]  activation=relu, hidden_layer_sizes=(10, 50), learning_rate_init=0.05, score=0.763200 -   2.0s\n",
      "[CV] activation=relu, hidden_layer_sizes=(10, 50), learning_rate_init=0.01 \n",
      "[CV]  activation=relu, hidden_layer_sizes=(10, 50), learning_rate_init=0.01, score=0.781200 -   2.5s\n",
      "[CV] activation=relu, hidden_layer_sizes=(10, 50), learning_rate_init=0.01 \n",
      "[CV]  activation=relu, hidden_layer_sizes=(10, 50), learning_rate_init=0.01, score=0.763200 -   1.8s\n",
      "[CV] activation=relu, hidden_layer_sizes=(10, 50), learning_rate_init=0.005 \n",
      "[CV]  activation=relu, hidden_layer_sizes=(10, 50), learning_rate_init=0.005, score=0.788400 -   3.1s\n",
      "[CV] activation=relu, hidden_layer_sizes=(10, 50), learning_rate_init=0.005 \n",
      "[CV]  activation=relu, hidden_layer_sizes=(10, 50), learning_rate_init=0.005, score=0.792800 -   3.2s\n",
      "[CV] activation=relu, hidden_layer_sizes=(10, 50), learning_rate_init=0.001 \n",
      "[CV]  activation=relu, hidden_layer_sizes=(10, 50), learning_rate_init=0.001, score=0.797600 -   9.5s\n",
      "[CV] activation=relu, hidden_layer_sizes=(10, 50), learning_rate_init=0.001 \n",
      "[CV]  activation=relu, hidden_layer_sizes=(10, 50), learning_rate_init=0.001, score=0.806000 -   5.7s\n",
      "[CV] activation=relu, hidden_layer_sizes=(10, 50, 100), learning_rate_init=0.05 \n",
      "[CV]  activation=relu, hidden_layer_sizes=(10, 50, 100), learning_rate_init=0.05, score=0.770400 -   1.6s\n",
      "[CV] activation=relu, hidden_layer_sizes=(10, 50, 100), learning_rate_init=0.05 \n",
      "[CV]  activation=relu, hidden_layer_sizes=(10, 50, 100), learning_rate_init=0.05, score=0.770400 -   2.0s\n",
      "[CV] activation=relu, hidden_layer_sizes=(10, 50, 100), learning_rate_init=0.01 \n",
      "[CV]  activation=relu, hidden_layer_sizes=(10, 50, 100), learning_rate_init=0.01, score=0.794400 -   1.9s\n",
      "[CV] activation=relu, hidden_layer_sizes=(10, 50, 100), learning_rate_init=0.01 \n",
      "[CV]  activation=relu, hidden_layer_sizes=(10, 50, 100), learning_rate_init=0.01, score=0.782400 -   2.1s\n",
      "[CV] activation=relu, hidden_layer_sizes=(10, 50, 100), learning_rate_init=0.005 \n",
      "[CV]  activation=relu, hidden_layer_sizes=(10, 50, 100), learning_rate_init=0.005, score=0.750000 -   2.8s\n",
      "[CV] activation=relu, hidden_layer_sizes=(10, 50, 100), learning_rate_init=0.005 \n",
      "[CV]  activation=relu, hidden_layer_sizes=(10, 50, 100), learning_rate_init=0.005, score=0.767200 -   3.2s\n",
      "[CV] activation=relu, hidden_layer_sizes=(10, 50, 100), learning_rate_init=0.001 \n",
      "[CV]  activation=relu, hidden_layer_sizes=(10, 50, 100), learning_rate_init=0.001, score=0.797600 -   6.1s\n",
      "[CV] activation=relu, hidden_layer_sizes=(10, 50, 100), learning_rate_init=0.001 \n",
      "[CV]  activation=relu, hidden_layer_sizes=(10, 50, 100), learning_rate_init=0.001, score=0.784800 -   4.8s\n",
      "[CV] activation=relu, hidden_layer_sizes=(50, 100), learning_rate_init=0.05 \n",
      "[CV]  activation=relu, hidden_layer_sizes=(50, 100), learning_rate_init=0.05, score=0.781200 -   1.6s\n",
      "[CV] activation=relu, hidden_layer_sizes=(50, 100), learning_rate_init=0.05 \n",
      "[CV]  activation=relu, hidden_layer_sizes=(50, 100), learning_rate_init=0.05, score=0.782400 -   2.3s\n",
      "[CV] activation=relu, hidden_layer_sizes=(50, 100), learning_rate_init=0.01 \n",
      "[CV]  activation=relu, hidden_layer_sizes=(50, 100), learning_rate_init=0.01, score=0.788400 -   2.0s\n",
      "[CV] activation=relu, hidden_layer_sizes=(50, 100), learning_rate_init=0.01 \n",
      "[CV]  activation=relu, hidden_layer_sizes=(50, 100), learning_rate_init=0.01, score=0.772400 -   3.2s\n",
      "[CV] activation=relu, hidden_layer_sizes=(50, 100), learning_rate_init=0.005 \n",
      "[CV]  activation=relu, hidden_layer_sizes=(50, 100), learning_rate_init=0.005, score=0.806000 -   3.7s\n",
      "[CV] activation=relu, hidden_layer_sizes=(50, 100), learning_rate_init=0.005 \n",
      "[CV]  activation=relu, hidden_layer_sizes=(50, 100), learning_rate_init=0.005, score=0.777600 -   3.1s\n",
      "[CV] activation=relu, hidden_layer_sizes=(50, 100), learning_rate_init=0.001 \n",
      "[CV]  activation=relu, hidden_layer_sizes=(50, 100), learning_rate_init=0.001, score=0.810800 -   6.4s\n",
      "[CV] activation=relu, hidden_layer_sizes=(50, 100), learning_rate_init=0.001 \n",
      "[CV]  activation=relu, hidden_layer_sizes=(50, 100), learning_rate_init=0.001, score=0.818400 -   3.7s\n",
      "[CV] activation=relu, hidden_layer_sizes=(50, 100, 500), learning_rate_init=0.05 \n",
      "[CV]  activation=relu, hidden_layer_sizes=(50, 100, 500), learning_rate_init=0.05, score=0.776800 -   2.2s\n",
      "[CV] activation=relu, hidden_layer_sizes=(50, 100, 500), learning_rate_init=0.05 \n",
      "[CV]  activation=relu, hidden_layer_sizes=(50, 100, 500), learning_rate_init=0.05, score=0.780800 -   4.5s\n",
      "[CV] activation=relu, hidden_layer_sizes=(50, 100, 500), learning_rate_init=0.01 \n",
      "[CV]  activation=relu, hidden_layer_sizes=(50, 100, 500), learning_rate_init=0.01, score=0.783200 -   2.0s\n",
      "[CV] activation=relu, hidden_layer_sizes=(50, 100, 500), learning_rate_init=0.01 \n",
      "[CV]  activation=relu, hidden_layer_sizes=(50, 100, 500), learning_rate_init=0.01, score=0.755600 -   2.8s\n",
      "[CV] activation=relu, hidden_layer_sizes=(50, 100, 500), learning_rate_init=0.005 \n"
     ]
    },
    {
     "name": "stdout",
     "output_type": "stream",
     "text": [
      "[CV]  activation=relu, hidden_layer_sizes=(50, 100, 500), learning_rate_init=0.005, score=0.781600 -   2.0s\n",
      "[CV] activation=relu, hidden_layer_sizes=(50, 100, 500), learning_rate_init=0.005 \n",
      "[CV]  activation=relu, hidden_layer_sizes=(50, 100, 500), learning_rate_init=0.005, score=0.784400 -   3.6s\n",
      "[CV] activation=relu, hidden_layer_sizes=(50, 100, 500), learning_rate_init=0.001 \n",
      "[CV]  activation=relu, hidden_layer_sizes=(50, 100, 500), learning_rate_init=0.001, score=0.802000 -   4.6s\n",
      "[CV] activation=relu, hidden_layer_sizes=(50, 100, 500), learning_rate_init=0.001 \n",
      "[CV]  activation=relu, hidden_layer_sizes=(50, 100, 500), learning_rate_init=0.001, score=0.800400 -   3.4s\n"
     ]
    },
    {
     "name": "stderr",
     "output_type": "stream",
     "text": [
      "[Parallel(n_jobs=1)]: Done 288 out of 288 | elapsed: 38.4min finished\n"
     ]
    },
    {
     "data": {
      "text/plain": [
       "GridSearchCV(cv=2, error_score='raise',\n",
       "       estimator=MLPClassifier(activation='relu', alpha=0.0001, batch_size='auto', beta_1=0.9,\n",
       "       beta_2=0.999, early_stopping=False, epsilon=1e-08,\n",
       "       hidden_layer_sizes=(100,), learning_rate='constant',\n",
       "       learning_rate_init=0.001, max_iter=200, momentum=0.9,\n",
       "       nesterovs_momentum=True, power_t=0.5, random_state=None,\n",
       "       shuffle=True, solver='adam', tol=0.0001, validation_fraction=0.1,\n",
       "       verbose=False, warm_start=False),\n",
       "       fit_params={}, iid=True, n_jobs=1,\n",
       "       param_grid=[{'learning_rate_init': [0.05, 0.01, 0.005, 0.001], 'hidden_layer_sizes': [(10,), (50,), (100,), (500,), (1000,), (10, 50), (10, 50, 100), (50, 100), (50, 100, 500)], 'activation': ['identity']}, {'learning_rate_init': [0.05, 0.01, 0.005, 0.001], 'hidden_layer_sizes': [(10,), (50,), (100,...00,), (500,), (1000,), (10, 50), (10, 50, 100), (50, 100), (50, 100, 500)], 'activation': ['relu']}],\n",
       "       pre_dispatch='2*n_jobs', refit=True, scoring=None, verbose=4)"
      ]
     },
     "execution_count": 25,
     "metadata": {},
     "output_type": "execute_result"
    }
   ],
   "source": [
    "from sklearn.grid_search import GridSearchCV\n",
    "X = x_norm[:5000,:]\n",
    "Y = y[:5000]\n",
    "gs = GridSearchCV(MLPClassifier(), param_grid, verbose = 4, cv = 2)\n",
    "gs.fit(X,Y)"
   ]
  },
  {
   "cell_type": "code",
   "execution_count": 26,
   "metadata": {},
   "outputs": [
    {
     "name": "stdout",
     "output_type": "stream",
     "text": [
      "The best parameters are {'activation': 'logistic', 'hidden_layer_sizes': (500,), 'learning_rate_init': 0.01} with a score of 0.84\n"
     ]
    }
   ],
   "source": [
    "\n",
    "print(\"The best parameters are %s with a score of %0.2f\"\n",
    "      % (gs.best_params_, gs.best_score_))"
   ]
  },
  {
   "cell_type": "code",
   "execution_count": 43,
   "metadata": {},
   "outputs": [
    {
     "ename": "AttributeError",
     "evalue": "'GridSearchCV' object has no attribute 'cv_results_'",
     "output_type": "error",
     "traceback": [
      "\u001b[1;31m---------------------------------------------------------------------------\u001b[0m",
      "\u001b[1;31mAttributeError\u001b[0m                            Traceback (most recent call last)",
      "\u001b[1;32m<ipython-input-43-15dd6a06deaa>\u001b[0m in \u001b[0;36m<module>\u001b[1;34m()\u001b[0m\n\u001b[0;32m      7\u001b[0m \u001b[1;31m# interesting range while not brutally collapsing all the low score values to\u001b[0m\u001b[1;33m\u001b[0m\u001b[1;33m\u001b[0m\u001b[0m\n\u001b[0;32m      8\u001b[0m \u001b[1;31m# the same color.\u001b[0m\u001b[1;33m\u001b[0m\u001b[1;33m\u001b[0m\u001b[0m\n\u001b[1;32m----> 9\u001b[1;33m scores = gs.cv_results_['mean_test_score'].reshape(len(param_grid[0]['learning_rate_init']),\n\u001b[0m\u001b[0;32m     10\u001b[0m                                                      len(param_grid[0]['hidden_layer_sizes']))\n\u001b[0;32m     11\u001b[0m \u001b[1;33m\u001b[0m\u001b[0m\n",
      "\u001b[1;31mAttributeError\u001b[0m: 'GridSearchCV' object has no attribute 'cv_results_'"
     ]
    }
   ],
   "source": [
    "# Draw heatmap of the validation accuracy as a function of gamma and C\n",
    "#\n",
    "# The score are encoded as colors with the hot colormap which varies from dark\n",
    "# red to bright yellow. As the most interesting scores are all located in the\n",
    "# 0.92 to 0.97 range we use a custom normalizer to set the mid-point to 0.92 so\n",
    "# as to make it easier to visualize the small variations of score values in the\n",
    "# interesting range while not brutally collapsing all the low score values to\n",
    "# the same color.\n",
    "scores = gs.cv_results_['mean_test_score'].reshape(len(param_grid[0]['learning_rate_init']),\n",
    "                                                     len(param_grid[0]['hidden_layer_sizes']))\n",
    "\n",
    "plt.figure(figsize=(8, 6))\n",
    "plt.subplots_adjust(left=.2, right=0.95, bottom=0.15, top=0.95)\n",
    "plt.imshow(scores, interpolation='nearest', cmap=plt.cm.hot,\n",
    "           norm=MidpointNormalize(vmin=0.2, midpoint=0.92))\n",
    "plt.xlabel('gamma')\n",
    "plt.ylabel('C')\n",
    "plt.colorbar()\n",
    "plt.xticks(np.arange(len(param_grid[0]['learning_rate_init'])), param_grid[0]['learning_rate_init'], rotation=45)\n",
    "plt.yticks(np.arange(len(param_grid[0]['hidden_layer_sizes'])), param_grid[0]['hidden_layer_sizes'])\n",
    "plt.title('Validation accuracy')\n",
    "plt.show()"
   ]
  },
  {
   "cell_type": "markdown",
   "metadata": {},
   "source": [
    "### Hidden layers size"
   ]
  },
  {
   "cell_type": "code",
   "execution_count": 84,
   "metadata": {},
   "outputs": [
    {
     "name": "stdout",
     "output_type": "stream",
     "text": [
      "\n",
      "Constructed labels: WQXPLZCOMRWO97YFZDEZ1DPI9NNVGRPDJCUVRMEUOOOJD2UFYPOO6J7LDAYEGOA5VHNEHBTXOO1TDOILUEE5NFAEEXAW_K4R3MRU\n",
      "True labels       : WQXPLZCOMRKO97YFZDEZ1DPI9NNVGRQDJCUVRMEUOOOJD2UFYPOO6J7LDGYEGOA5VHNEHBTXOO1TDOILUEE5BFAEEXAW_K4R3MRU\n",
      "Accuracy: 96.0%\n",
      "trained identity in 16.45 s\n",
      "\n",
      "Constructed labels: WQXPLZCIMRWO97YFZDEZ1DPI9NNVGRQDJCUVRMEUOOOJD2UFYPOO6J7LDAYEGOA5VHNEKBTXOO1TDOILUEE5HFAEEXAWRK4R3MRU\n",
      "True labels       : WQXPLZCOMRKO97YFZDEZ1DPI9NNVGRQDJCUVRMEUOOOJD2UFYPOO6J7LDGYEGOA5VHNEHBTXOO1TDOILUEE5BFAEEXAW_K4R3MRU\n",
      "Accuracy: 94.0%\n",
      "trained tanh in 20.22 s\n",
      "\n",
      "Constructed labels: WQXPLZCIMRWO97YFZDEZ1DPI9NNVGRQDJCUVRMEUOOOJD2UFYPOO6J7LDAYEGOA5VHNEHBTXOO1TDOILUEE5HFAEEXAW_K4R3MRU\n",
      "True labels       : WQXPLZCOMRKO97YFZDEZ1DPI9NNVGRQDJCUVRMEUOOOJD2UFYPOO6J7LDGYEGOA5VHNEHBTXOO1TDOILUEE5BFAEEXAW_K4R3MRU\n",
      "Accuracy: 96.0%\n",
      "trained logistic in 52.40 s\n",
      "\n",
      "Constructed labels: WWXPLZFIMREO97YFZDEZ1DPC9NN2GRQDJUOJ4MEUOUOJDPUFYPOO6K7LDAYEGOA5VHNEZBTXO1ZBDOILUEEAHF5FEXAWUK4R3MXU\n",
      "True labels       : WQXPLZCOMRKO97YFZDEZ1DPI9NNVGRQDJCUVRMEUOOOJD2UFYPOO6J7LDGYEGOA5VHNEHBTXOO1TDOILUEE5BFAEEXAW_K4R3MRU\n",
      "Accuracy: 76.0%\n",
      "trained relu in 92.07 s\n"
     ]
    }
   ],
   "source": [
    "x_norm = normalize(x, axis = 1)\n",
    "x_test_norm = normalize(x_test, axis = 1)\n",
    "pred, models = MLP_test(x_norm, y, x_test_norm, list_fcns, (200,))"
   ]
  },
  {
   "cell_type": "code",
   "execution_count": 85,
   "metadata": {
    "scrolled": true
   },
   "outputs": [
    {
     "data": {
      "text/html": [
       "<div>\n",
       "<style scoped>\n",
       "    .dataframe tbody tr th:only-of-type {\n",
       "        vertical-align: middle;\n",
       "    }\n",
       "\n",
       "    .dataframe tbody tr th {\n",
       "        vertical-align: top;\n",
       "    }\n",
       "\n",
       "    .dataframe thead th {\n",
       "        text-align: right;\n",
       "    }\n",
       "</style>\n",
       "<table border=\"1\" class=\"dataframe\">\n",
       "  <thead>\n",
       "    <tr style=\"text-align: right;\">\n",
       "      <th></th>\n",
       "      <th>identity</th>\n",
       "      <th>tanh</th>\n",
       "      <th>logistic</th>\n",
       "      <th>relu</th>\n",
       "    </tr>\n",
       "  </thead>\n",
       "  <tbody>\n",
       "    <tr>\n",
       "      <th>accuracy</th>\n",
       "      <td>0.960000</td>\n",
       "      <td>0.940000</td>\n",
       "      <td>0.960000</td>\n",
       "      <td>0.76000</td>\n",
       "    </tr>\n",
       "    <tr>\n",
       "      <th>time</th>\n",
       "      <td>16.448045</td>\n",
       "      <td>20.220809</td>\n",
       "      <td>52.403316</td>\n",
       "      <td>92.07403</td>\n",
       "    </tr>\n",
       "  </tbody>\n",
       "</table>\n",
       "</div>"
      ],
      "text/plain": [
       "           identity       tanh   logistic      relu\n",
       "accuracy   0.960000   0.940000   0.960000   0.76000\n",
       "time      16.448045  20.220809  52.403316  92.07403"
      ]
     },
     "execution_count": 85,
     "metadata": {},
     "output_type": "execute_result"
    }
   ],
   "source": [
    "df = pd.DataFrame(models)\n",
    "df"
   ]
  },
  {
   "cell_type": "code",
   "execution_count": 86,
   "metadata": {},
   "outputs": [
    {
     "name": "stdout",
     "output_type": "stream",
     "text": [
      "\n",
      "Constructed labels: WQXPLZCIMRWO97YFZDEZ1DPI9NNVGRQDJCUVRMEUOOOJD2UFYPOO6J7LDAYEGOA5VTNEHBTXOO1TDOILUEE5HFAEEXAW_K4R3MRU\n",
      "True labels       : WQXPLZCOMRKO97YFZDEZ1DPI9NNVGRQDJCUVRMEUOOOJD2UFYPOO6J7LDGYEGOA5VHNEHBTXOO1TDOILUEE5BFAEEXAW_K4R3MRU\n",
      "Accuracy: 95.0%\n",
      "trained identity in 9.45 s\n",
      "\n",
      "Constructed labels: WQXPLZCIMRWO97YFZDEZ1DPI9NNVGRPDJCUVRMEUOOOJD2UFYPOO6J7LDAYEGOA5VTNEHBTXOO1TDOILUEE5BFAEEXAW_K4R3MRU\n",
      "True labels       : WQXPLZCOMRKO97YFZDEZ1DPI9NNVGRQDJCUVRMEUOOOJD2UFYPOO6J7LDGYEGOA5VHNEHBTXOO1TDOILUEE5BFAEEXAW_K4R3MRU\n",
      "Accuracy: 95.0%\n",
      "trained tanh in 21.66 s\n",
      "\n",
      "Constructed labels: WQXPLZCIMRWO97YFZDEZ1DPI9NNVGRQDJCUVRMEUOOOJD2UFYPOO6J7LDAYEGOA5VHNEHBTXOO1TDOILUEE5NFAEEXAW_K4R3MRU\n",
      "True labels       : WQXPLZCOMRKO97YFZDEZ1DPI9NNVGRQDJCUVRMEUOOOJD2UFYPOO6J7LDGYEGOA5VHNEHBTXOO1TDOILUEE5BFAEEXAW_K4R3MRU\n",
      "Accuracy: 96.0%\n",
      "trained logistic in 51.22 s\n",
      "\n",
      "Constructed labels: WQXPLZCIM4ECW7YIZDEZ1DQL9NNVGR8DJUIVRMEUOUOJA2UFYPOO687LDGYEGOA5VHNEHATXOO1TDOILUEE5BFAFEXAE_KFR3MXU\n",
      "True labels       : WQXPLZCOMRKO97YFZDEZ1DPI9NNVGRQDJCUVRMEUOOOJD2UFYPOO6J7LDGYEGOA5VHNEHBTXOO1TDOILUEE5BFAEEXAW_K4R3MRU\n",
      "Accuracy: 81.0%\n",
      "trained relu in 64.42 s\n"
     ]
    }
   ],
   "source": [
    "x_norm = normalize(x, axis = 1)\n",
    "x_test_norm = normalize(x_test, axis = 1)\n",
    "pred, models = MLP_test(x_norm, y, x_test_norm, list_fcns, (50,))"
   ]
  },
  {
   "cell_type": "code",
   "execution_count": 87,
   "metadata": {
    "scrolled": true
   },
   "outputs": [
    {
     "data": {
      "text/html": [
       "<div>\n",
       "<style scoped>\n",
       "    .dataframe tbody tr th:only-of-type {\n",
       "        vertical-align: middle;\n",
       "    }\n",
       "\n",
       "    .dataframe tbody tr th {\n",
       "        vertical-align: top;\n",
       "    }\n",
       "\n",
       "    .dataframe thead th {\n",
       "        text-align: right;\n",
       "    }\n",
       "</style>\n",
       "<table border=\"1\" class=\"dataframe\">\n",
       "  <thead>\n",
       "    <tr style=\"text-align: right;\">\n",
       "      <th></th>\n",
       "      <th>identity</th>\n",
       "      <th>tanh</th>\n",
       "      <th>logistic</th>\n",
       "      <th>relu</th>\n",
       "    </tr>\n",
       "  </thead>\n",
       "  <tbody>\n",
       "    <tr>\n",
       "      <th>accuracy</th>\n",
       "      <td>0.950000</td>\n",
       "      <td>0.950000</td>\n",
       "      <td>0.960000</td>\n",
       "      <td>0.810000</td>\n",
       "    </tr>\n",
       "    <tr>\n",
       "      <th>time</th>\n",
       "      <td>9.451202</td>\n",
       "      <td>21.663958</td>\n",
       "      <td>51.218713</td>\n",
       "      <td>64.421723</td>\n",
       "    </tr>\n",
       "  </tbody>\n",
       "</table>\n",
       "</div>"
      ],
      "text/plain": [
       "          identity       tanh   logistic       relu\n",
       "accuracy  0.950000   0.950000   0.960000   0.810000\n",
       "time      9.451202  21.663958  51.218713  64.421723"
      ]
     },
     "execution_count": 87,
     "metadata": {},
     "output_type": "execute_result"
    }
   ],
   "source": [
    "df = pd.DataFrame(models)\n",
    "df"
   ]
  },
  {
   "cell_type": "code",
   "execution_count": 68,
   "metadata": {},
   "outputs": [],
   "source": [
    "x_norm = normalize(x, axis = 1)\n",
    "x_test_norm = normalize(x_test, axis = 1)"
   ]
  },
  {
   "cell_type": "code",
   "execution_count": 88,
   "metadata": {
    "scrolled": true
   },
   "outputs": [
    {
     "name": "stdout",
     "output_type": "stream",
     "text": [
      "\n",
      "Constructed labels: WQXPLZCOMRWO97YFZDEZ1DPI9NNVGRQDJCUVRMEUOOOJD2UFYPOO6J7LDAYEGOA5VHNEHBTXOO1TDOILUEE5NFAEEXAW_K4R3MRU\n",
      "True labels       : WQXPLZCOMRKO97YFZDEZ1DPI9NNVGRQDJCUVRMEUOOOJD2UFYPOO6J7LDGYEGOA5VHNEHBTXOO1TDOILUEE5BFAEEXAW_K4R3MRU\n",
      "Accuracy: 97.0%\n",
      "trained identity in 15.43 s\n",
      "\n",
      "Constructed labels: WQXPLZCIMRWO97YFZDEZ1DPI9NNVGRQDJCUVRMEUOOOJD2UFYPOO6J7LDAYEGOA5VTNEHBTXOO1TDOILUEE5NFAEEXAW_K4R3MRU\n",
      "True labels       : WQXPLZCOMRKO97YFZDEZ1DPI9NNVGRQDJCUVRMEUOOOJD2UFYPOO6J7LDGYEGOA5VHNEHBTXOO1TDOILUEE5BFAEEXAW_K4R3MRU\n",
      "Accuracy: 95.0%\n",
      "trained tanh in 15.06 s\n",
      "\n",
      "Constructed labels: WQXPLZCIMRWO97YFZDEZ1DPI9NNVGRQDJCUVRMEUOOOJD2UFYPOO6J7LDAYEGOA5VHNEHBTXOO1TDOILUEE5HFAEEXAW_K4R3MRU\n",
      "True labels       : WQXPLZCOMRKO97YFZDEZ1DPI9NNVGRQDJCUVRMEUOOOJD2UFYPOO6J7LDGYEGOA5VHNEHBTXOO1TDOILUEE5BFAEEXAW_K4R3MRU\n",
      "Accuracy: 96.0%\n",
      "trained logistic in 34.34 s\n",
      "\n",
      "Constructed labels: WQXPLZELMREO57YFYDEZ1DPL9NNVGR8DHUUVRMEUOOOJJPUFYPOO6J7LDAYE5OA5VHBE6BTXOO1TDOILUEEAMFAEEXAW_K4R3MXU\n",
      "True labels       : WQXPLZCOMRKO97YFZDEZ1DPI9NNVGRQDJCUVRMEUOOOJD2UFYPOO6J7LDGYEGOA5VHNEHBTXOO1TDOILUEE5BFAEEXAW_K4R3MRU\n",
      "Accuracy: 82.0%\n",
      "trained relu in 81.50 s\n"
     ]
    }
   ],
   "source": [
    "pred, models = MLP_test(x_norm, y, x_test_norm, list_fcns, (20,))"
   ]
  },
  {
   "cell_type": "code",
   "execution_count": 89,
   "metadata": {
    "scrolled": true
   },
   "outputs": [
    {
     "name": "stdout",
     "output_type": "stream",
     "text": [
      "\n",
      "Constructed labels: WQXPLZCIMRWO97YFZDEZ1DPI9NNVGRQDJCUVRMEUOOOJD2UFYPOO6J7LDAYEGOA5VHNEHBTXOO1TDOILUEE5BFAEEXAW_K4R3MRU\n",
      "True labels       : WQXPLZCOMRKO97YFZDEZ1DPI9NNVGRQDJCUVRMEUOOOJD2UFYPOO6J7LDGYEGOA5VHNEHBTXOO1TDOILUEE5BFAEEXAW_K4R3MRU\n",
      "Accuracy: 97.0%\n",
      "trained identity in 19.51 s\n",
      "\n",
      "Constructed labels: WQXPLZCIMRWO97YFZDEZ1DPI9NNVGRQDJCUVRMEUOOOJD2UFYPOO6J7LDAYEGOA5VHNEHBTXOO1TDOILUEE5HFAEEXAW_K4R3MRU\n",
      "True labels       : WQXPLZCOMRKO97YFZDEZ1DPI9NNVGRQDJCUVRMEUOOOJD2UFYPOO6J7LDGYEGOA5VHNEHBTXOO1TDOILUEE5BFAEEXAW_K4R3MRU\n",
      "Accuracy: 96.0%\n",
      "trained tanh in 16.00 s\n",
      "\n",
      "Constructed labels: WQXPLZCIMRWO97YFZDEZ1DPI9NNVGRQDJCUVRMEUOOOJD2UFYPOO6J7LDAYEGOA5VHNEHBTXOO1TDOILUEE5HFAEEXAW_K4R3MRU\n",
      "True labels       : WQXPLZCOMRKO97YFZDEZ1DPI9NNVGRQDJCUVRMEUOOOJD2UFYPOO6J7LDGYEGOA5VHNEHBTXOO1TDOILUEE5BFAEEXAW_K4R3MRU\n",
      "Accuracy: 96.0%\n",
      "trained logistic in 43.60 s\n",
      "\n",
      "Constructed labels: WPYPLZDOMREO97YFZ2EZ1DPC9NN2GRPDHUIV_MEUOCOJDPUFYPOO9J7RDGYEGOG5VLNEHBTXOO1TEOHLUEEABF5FEXAW_K4R3MRU\n",
      "True labels       : WQXPLZCOMRKO97YFZDEZ1DPI9NNVGRQDJCUVRMEUOOOJD2UFYPOO6J7LDGYEGOA5VHNEHBTXOO1TDOILUEE5BFAEEXAW_K4R3MRU\n",
      "Accuracy: 77.0%\n",
      "trained relu in 86.10 s\n"
     ]
    }
   ],
   "source": [
    "x_norm = normalize(x, axis = 1)\n",
    "x_test_norm = normalize(x_test, axis = 1)\n",
    "pred, models = MLP_test(x_norm, y, x_test_norm, list_fcns, (10,))"
   ]
  },
  {
   "cell_type": "code",
   "execution_count": 90,
   "metadata": {
    "scrolled": true
   },
   "outputs": [
    {
     "data": {
      "text/html": [
       "<div>\n",
       "<style scoped>\n",
       "    .dataframe tbody tr th:only-of-type {\n",
       "        vertical-align: middle;\n",
       "    }\n",
       "\n",
       "    .dataframe tbody tr th {\n",
       "        vertical-align: top;\n",
       "    }\n",
       "\n",
       "    .dataframe thead th {\n",
       "        text-align: right;\n",
       "    }\n",
       "</style>\n",
       "<table border=\"1\" class=\"dataframe\">\n",
       "  <thead>\n",
       "    <tr style=\"text-align: right;\">\n",
       "      <th></th>\n",
       "      <th>identity</th>\n",
       "      <th>tanh</th>\n",
       "      <th>logistic</th>\n",
       "      <th>relu</th>\n",
       "    </tr>\n",
       "  </thead>\n",
       "  <tbody>\n",
       "    <tr>\n",
       "      <th>accuracy</th>\n",
       "      <td>0.970000</td>\n",
       "      <td>0.960000</td>\n",
       "      <td>0.960000</td>\n",
       "      <td>0.770000</td>\n",
       "    </tr>\n",
       "    <tr>\n",
       "      <th>time</th>\n",
       "      <td>19.509023</td>\n",
       "      <td>16.000125</td>\n",
       "      <td>43.601013</td>\n",
       "      <td>86.100817</td>\n",
       "    </tr>\n",
       "  </tbody>\n",
       "</table>\n",
       "</div>"
      ],
      "text/plain": [
       "           identity       tanh   logistic       relu\n",
       "accuracy   0.970000   0.960000   0.960000   0.770000\n",
       "time      19.509023  16.000125  43.601013  86.100817"
      ]
     },
     "execution_count": 90,
     "metadata": {},
     "output_type": "execute_result"
    }
   ],
   "source": [
    "df = pd.DataFrame(models)\n",
    "df"
   ]
  },
  {
   "cell_type": "code",
   "execution_count": 91,
   "metadata": {
    "scrolled": true
   },
   "outputs": [
    {
     "name": "stdout",
     "output_type": "stream",
     "text": [
      "\n",
      "Constructed labels: WQXPLZCIMRWO97YFZDEZ1DPI9NNVGRQDJCUVRMEUOOOJD2UFYPOO6J7LDAYEGOA5VTNEHBTXOO1TDOILUEE5NFAEEXAWRK4R3MRU\n",
      "True labels       : WQXPLZCOMRKO97YFZDEZ1DPI9NNVGRQDJCUVRMEUOOOJD2UFYPOO6J7LDGYEGOA5VHNEHBTXOO1TDOILUEE5BFAEEXAW_K4R3MRU\n",
      "Accuracy: 94.0%\n",
      "trained identity in 12.43 s\n",
      "\n",
      "Constructed labels: WQXPLZCIMRWO97YFZDEZ1DPI9NNVGRPDJCUVRMEUOOOJD2UFYPOO6J7LDAYEGOA5VHNEHBTXOO1TDOILUEE5NFAEEXAW_K4R3MRU\n",
      "True labels       : WQXPLZCOMRKO97YFZDEZ1DPI9NNVGRQDJCUVRMEUOOOJD2UFYPOO6J7LDGYEGOA5VHNEHBTXOO1TDOILUEE5BFAEEXAW_K4R3MRU\n",
      "Accuracy: 95.0%\n",
      "trained tanh in 17.66 s\n",
      "\n",
      "Constructed labels: WQXPLZCIMRWO97YFZDEZ1DPI9NNVGRQDJCUVRMEUOOOJD2UFYPOO6J7LDAYEGOA5VHNEHBTXOO1TDOILUEE5HFAEEXAW_K4R3MRU\n",
      "True labels       : WQXPLZCOMRKO97YFZDEZ1DPI9NNVGRQDJCUVRMEUOOOJD2UFYPOO6J7LDGYEGOA5VHNEHBTXOO1TDOILUEE5BFAEEXAW_K4R3MRU\n",
      "Accuracy: 96.0%\n",
      "trained logistic in 37.09 s\n",
      "\n",
      "Constructed labels: WPXPLZCIM4EO97YDZDEZ1DPC9NNVGR8DJC5VLMEUOUOJDPUFYPOO6J7LDAYEGOA5VHNEBBTXUO1TDOHLUEE5BFAEEXEW7K4R3MRU\n",
      "True labels       : WQXPLZCOMRKO97YFZDEZ1DPI9NNVGRQDJCUVRMEUOOOJD2UFYPOO6J7LDGYEGOA5VHNEHBTXOO1TDOILUEE5BFAEEXAW_K4R3MRU\n",
      "Accuracy: 83.0%\n",
      "trained relu in 79.46 s\n"
     ]
    }
   ],
   "source": [
    "x_norm = normalize(x, axis = 1)\n",
    "x_test_norm = normalize(x_test, axis = 1)\n",
    "pred, models = MLP_test(x_norm, y, x_test_norm, list_fcns, (5,))"
   ]
  },
  {
   "cell_type": "markdown",
   "metadata": {},
   "source": [
    "### Tomar una parte del training set para validar"
   ]
  },
  {
   "cell_type": "markdown",
   "metadata": {},
   "source": [
    "Training set: tomo 70% para entrenar y 30% para validar."
   ]
  },
  {
   "cell_type": "code",
   "execution_count": 228,
   "metadata": {},
   "outputs": [],
   "source": [
    "x_train = fv_train.data\n",
    "y_train = fv_train.axes[0]"
   ]
  },
  {
   "cell_type": "code",
   "execution_count": 230,
   "metadata": {
    "scrolled": false
   },
   "outputs": [
    {
     "name": "stdout",
     "output_type": "stream",
     "text": [
      "\n",
      "Constructed labels: W9X8LZOFMREA9OYFZDEZ1CP69NR2GRHDJCOJRMEUOUOJBPTFYP7QNE7RDGYESOH5VUTEBBU_UO1TDOILUEE5NFB9DXAE9K4R3MLU\n",
      "True labels       : WQXPLZCOMRKO97YFZDEZ1DPI9NNVGRQDJCUVRMEUOOOJD2UFYPOO6J7LDGYEGOA5VHNEHBTXOO1TDOILUEE5BFAEEXAW_K4R3MRU\n",
      "Accuracy: 62.0%\n",
      "trained identity in 3.43 s\n",
      "\n",
      "Constructed labels: WQXVLZC1M4KC_7YLYDEZ1DPC9NQ8HRKDHUXJMMEUCOCJDPUFMP7O6K7LDAYEGOG5VTNEFAVXOO1TDOILUEEANFADAXFWLKYR3MRU\n",
      "True labels       : WQXPLZCOMRKO97YFZDEZ1DPI9NNVGRQDJCUVRMEUOOOJD2UFYPOO6J7LDGYEGOA5VHNEHBTXOO1TDOILUEE5BFAEEXAW_K4R3MRU\n",
      "Accuracy: 64.0%\n",
      "trained tanh in 5.72 s\n",
      "\n",
      "Constructed labels: WQXVLHCIM_WO97YDBDEZ1DPI9NNVG4QDJCOXRMEVOUCJD2UFYPOO9W7FDAYEGOG5VZNEHBH_OO1TDOILUEE5MF5DEXAWRK3R9MXU\n",
      "True labels       : WQXPLZCOMRKO97YFZDEZ1DPI9NNVGRQDJCUVRMEUOOOJD2UFYPOO6J7LDGYEGOA5VHNEHBTXOO1TDOILUEE5BFAEEXAW_K4R3MRU\n",
      "Accuracy: 72.0%\n",
      "trained logistic in 6.81 s\n",
      "\n",
      "Constructed labels: WKX7L6L1N_ROW7YFWDEZ1BQH9MN3G4PVJUXHRPETUUOJN2U_YMIOJHIGDGYKGO65VVNEJFUUO13BFOZKUED5BF5_FXATOK4RYQR1\n",
      "True labels       : WQXPLZCOMRKO97YFZDEZ1DPI9NNVGRQDJCUVRMEUOOOJD2UFYPOO6J7LDGYEGOA5VHNEHBTXOO1TDOILUEE5BFAEEXAW_K4R3MRU\n",
      "Accuracy: 45.0%\n",
      "trained relu in 1.36 s\n"
     ]
    }
   ],
   "source": [
    "pred, models = MLP_test(x, y, x_test, list_fcns, valid = True)"
   ]
  },
  {
   "cell_type": "code",
   "execution_count": 231,
   "metadata": {
    "scrolled": true
   },
   "outputs": [
    {
     "data": {
      "text/html": [
       "<div>\n",
       "<style scoped>\n",
       "    .dataframe tbody tr th:only-of-type {\n",
       "        vertical-align: middle;\n",
       "    }\n",
       "\n",
       "    .dataframe tbody tr th {\n",
       "        vertical-align: top;\n",
       "    }\n",
       "\n",
       "    .dataframe thead th {\n",
       "        text-align: right;\n",
       "    }\n",
       "</style>\n",
       "<table border=\"1\" class=\"dataframe\">\n",
       "  <thead>\n",
       "    <tr style=\"text-align: right;\">\n",
       "      <th></th>\n",
       "      <th>identity</th>\n",
       "      <th>tanh</th>\n",
       "      <th>logistic</th>\n",
       "      <th>relu</th>\n",
       "    </tr>\n",
       "  </thead>\n",
       "  <tbody>\n",
       "    <tr>\n",
       "      <th>Accuracy [%]</th>\n",
       "      <td>62.000000</td>\n",
       "      <td>64.000000</td>\n",
       "      <td>72.000000</td>\n",
       "      <td>45.000000</td>\n",
       "    </tr>\n",
       "    <tr>\n",
       "      <th>Time [s]</th>\n",
       "      <td>3.434876</td>\n",
       "      <td>5.716495</td>\n",
       "      <td>6.814153</td>\n",
       "      <td>1.360296</td>\n",
       "    </tr>\n",
       "    <tr>\n",
       "      <th>Train score</th>\n",
       "      <td>0.827544</td>\n",
       "      <td>0.913966</td>\n",
       "      <td>0.969893</td>\n",
       "      <td>0.951279</td>\n",
       "    </tr>\n",
       "    <tr>\n",
       "      <th>Validation score</th>\n",
       "      <td>0.797603</td>\n",
       "      <td>0.802365</td>\n",
       "      <td>0.823477</td>\n",
       "      <td>0.774460</td>\n",
       "    </tr>\n",
       "  </tbody>\n",
       "</table>\n",
       "</div>"
      ],
      "text/plain": [
       "                   identity       tanh   logistic       relu\n",
       "Accuracy [%]      62.000000  64.000000  72.000000  45.000000\n",
       "Time [s]           3.434876   5.716495   6.814153   1.360296\n",
       "Train score        0.827544   0.913966   0.969893   0.951279\n",
       "Validation score   0.797603   0.802365   0.823477   0.774460"
      ]
     },
     "execution_count": 231,
     "metadata": {},
     "output_type": "execute_result"
    }
   ],
   "source": [
    "df = pd.DataFrame(models)\n",
    "df"
   ]
  },
  {
   "cell_type": "code",
   "execution_count": 232,
   "metadata": {
    "scrolled": true
   },
   "outputs": [
    {
     "name": "stdout",
     "output_type": "stream",
     "text": [
      "\n",
      "Constructed labels: WQXPLZCOMRWO97YFZDEZ1DPI9NNVGRQDJCUVRMEUOOOJD2UFYPOO6J7LDGYEGOA5VZNEHBTXOO1TDOILUEE5NFAQEXAW7K4R3MRU\n",
      "True labels       : WQXPLZCOMRKO97YFZDEZ1DPI9NNVGRQDJCUVRMEUOOOJD2UFYPOO6J7LDGYEGOA5VHNEHBTXOO1TDOILUEE5BFAEEXAW_K4R3MRU\n",
      "Accuracy: 95.0%\n",
      "trained identity in 8.66 s\n",
      "\n",
      "Constructed labels: WQXPLZCIM_KO97YFYDEZ1DPI9NNVGRQDJCUVRMEUOUOJD2UFYPOO6J7LDAYEGOA5VZNEHBTXOO1TDOILUEE5NFAEEXAWOK4R3MXU\n",
      "True labels       : WQXPLZCOMRKO97YFZDEZ1DPI9NNVGRQDJCUVRMEUOOOJD2UFYPOO6J7LDGYEGOA5VHNEHBTXOO1TDOILUEE5BFAEEXAW_K4R3MRU\n",
      "Accuracy: 91.0%\n",
      "trained tanh in 7.18 s\n"
     ]
    },
    {
     "name": "stderr",
     "output_type": "stream",
     "text": [
      "C:\\Users\\sofis\\Anaconda3\\lib\\site-packages\\sklearn\\neural_network\\multilayer_perceptron.py:564: ConvergenceWarning: Stochastic Optimizer: Maximum iterations (200) reached and the optimization hasn't converged yet.\n",
      "  % self.max_iter, ConvergenceWarning)\n"
     ]
    },
    {
     "name": "stdout",
     "output_type": "stream",
     "text": [
      "\n",
      "Constructed labels: WQXPLZCIMRQO97YFZDEZ1DPI9NNVGRQDJCUJRMEUOOOJD2UFYPOO6H7LDGYEGOA5VZNEHBTXOO1TDOILUEE5NFAEEXAWOK4R3MXU\n",
      "True labels       : WQXPLZCOMRKO97YFZDEZ1DPI9NNVGRQDJCUVRMEUOOOJD2UFYPOO6J7LDGYEGOA5VHNEHBTXOO1TDOILUEE5BFAEEXAW_K4R3MRU\n",
      "Accuracy: 92.0%\n",
      "trained logistic in 15.51 s\n",
      "\n",
      "Constructed labels: WWXPLNCIM_NUS7YFYDEZ1DQ69NN2GRDDJC1HRMEU1UOJD2UFYP7O6H1LDAYEGOB5VZNEFBUIOO1TDOHRUEE5BF54DXAB7K4R3MXU\n",
      "True labels       : WQXPLZCOMRKO97YFZDEZ1DPI9NNVGRQDJCUVRMEUOOOJD2UFYPOO6J7LDGYEGOA5VHNEHBTXOO1TDOILUEE5BFAEEXAW_K4R3MRU\n",
      "Accuracy: 67.0%\n",
      "trained relu in 11.48 s\n"
     ]
    }
   ],
   "source": [
    "pred, models = MLP_test(x_norm, y, x_test_norm, list_fcns,(50,), valid = True)"
   ]
  },
  {
   "cell_type": "markdown",
   "metadata": {},
   "source": [
    "## Comparación tamaños de capas ocultas"
   ]
  },
  {
   "cell_type": "code",
   "execution_count": 49,
   "metadata": {},
   "outputs": [],
   "source": [
    "h_sizes = [10, 20, 50, 100, 200, 300]"
   ]
  },
  {
   "cell_type": "code",
   "execution_count": 74,
   "metadata": {
    "scrolled": true
   },
   "outputs": [],
   "source": [
    "model = []\n",
    "for h in h_sizes:\n",
    "    model.append(MLP_test2(x_norm, y, list_fcns,(h,), valid = True, verbose = False))\n",
    "    \n",
    "    "
   ]
  },
  {
   "cell_type": "code",
   "execution_count": 78,
   "metadata": {},
   "outputs": [],
   "source": [
    "times_dict = {}\n",
    "for fcn in list_fcns:\n",
    "    t = []\n",
    "    for i in range(len(h_sizes)):\n",
    "        t.append(model[i][1][fcn]['Time [s]'])\n",
    "    times_dict[fcn] = t\n",
    "acc_dict = {}\n",
    "# for fcn in list_fcns:\n",
    "#     a = []\n",
    "#     for i in range(len(h_sizes)):\n",
    "#         a.append(model[i][1][fcn]['Accuracy [%]'])\n",
    "#     acc_dict[fcn] = a\n",
    "\n",
    "valscore_dict = {}\n",
    "for fcn in list_fcns:\n",
    "    a = []\n",
    "    for i in range(len(h_sizes)):\n",
    "        a.append(model[i][1][fcn]['Validation score'])\n",
    "    valscore_dict[fcn] = a\n",
    "\n",
    "trainscore_dict = {}\n",
    "for fcn in list_fcns:\n",
    "    a = []\n",
    "    for i in range(len(h_sizes)):\n",
    "        a.append(model[i][1][fcn]['Train score'])\n",
    "    trainscore_dict[fcn] = a    \n",
    "        "
   ]
  },
  {
   "cell_type": "code",
   "execution_count": 82,
   "metadata": {},
   "outputs": [],
   "source": [
    "from matplotlib import legend"
   ]
  },
  {
   "cell_type": "code",
   "execution_count": 131,
   "metadata": {
    "scrolled": false
   },
   "outputs": [
    {
     "data": {
      "image/png": "[encoded data removed]",
      "text/plain": [
       "<Figure size 1440x864 with 3 Axes>"
      ]
     },
     "metadata": {},
     "output_type": "display_data"
    }
   ],
   "source": [
    "fig = plt.figure(figsize = (20,12))\n",
    "\n",
    "plt.subplot(221)\n",
    "plt.plot(h_sizes, times_dict[list_fcns[0]], label = list_fcns[0].upper())\n",
    "plt.plot(h_sizes, times_dict[list_fcns[1]], label = list_fcns[1].upper())\n",
    "plt.plot(h_sizes, times_dict[list_fcns[2]], label = list_fcns[2].upper())\n",
    "plt.plot(h_sizes, times_dict[list_fcns[3]], label = list_fcns[3].upper())\n",
    "\n",
    "\n",
    "plt.xlabel('Tamaño de la capa oculta', fontsize = 15)\n",
    "plt.ylabel('Tiempo [s]', fontsize = 15)\n",
    "#plt.title('Tiempo vs Tamaño de la capa oculta', fontsize = 20)\n",
    "plt.legend(bbox_to_anchor=(1.5, 1), ncol=1, fontsize='xx-large')\n",
    "\n",
    "# plt.xlabel('Hidden layer sizes', fontsize = 15)\n",
    "# plt.ylabel('Time [s]', fontsize = 15)\n",
    "# plt.title('Time vs hidden layer sizes', fontsize = 20)\n",
    "# plt.legend(bbox_to_anchor=(1.5, 1), ncol=1, fontsize='xx-large')\n",
    "\n",
    "# plt.subplot(222)\n",
    "# plt.plot(h_sizes, acc_dict[list_fcns[0]], label = list_fcns[0].upper())\n",
    "# plt.plot(h_sizes, acc_dict[list_fcns[1]], label = list_fcns[1].upper())\n",
    "# plt.plot(h_sizes, acc_dict[list_fcns[2]], label = list_fcns[2].upper())\n",
    "# plt.plot(h_sizes, acc_dict[list_fcns[3]], label = list_fcns[3].upper())\n",
    "# plt.legend(fontsize='xx-large')\n",
    "# plt.xlabel('Hidden layer sizes', fontsize = 15)\n",
    "# plt.ylabel('Accuracy [%]', fontsize = 15)\n",
    "# plt.title('Accuracy vs hidden layer sizes', fontsize = 20)\n",
    "\n",
    "plt.subplot(223)\n",
    "plt.plot(h_sizes, trainscore_dict[list_fcns[0]], label = list_fcns[0].upper())\n",
    "plt.plot(h_sizes, trainscore_dict[list_fcns[1]], label = list_fcns[1].upper())\n",
    "plt.plot(h_sizes, trainscore_dict[list_fcns[2]], label = list_fcns[2].upper())\n",
    "plt.plot(h_sizes, trainscore_dict[list_fcns[3]], label = list_fcns[3].upper())\n",
    "#plt.legend(fontsize='xx-large')\n",
    "\n",
    "plt.xlabel('Tamaño de la capa oculta', fontsize = 15)\n",
    "plt.ylabel('Puntaje de entrenamiento', fontsize = 15)\n",
    "#plt.title('Puntaje de entrenamiento vs Tamaño de la capa oculta', fontsize = 20)\n",
    "#plt.xlabel('Hidden layer sizes', fontsize = 15)\n",
    "# plt.ylabel('Train score', fontsize = 15)\n",
    "# plt.title('Train score vs hidden layer sizes', fontsize = 20)\n",
    "plt.subplot(224)\n",
    "plt.plot(h_sizes, valscore_dict[list_fcns[0]], label = list_fcns[0].upper())\n",
    "plt.plot(h_sizes, valscore_dict[list_fcns[1]], label = list_fcns[1].upper())\n",
    "plt.plot(h_sizes, valscore_dict[list_fcns[2]], label = list_fcns[2].upper())\n",
    "plt.plot(h_sizes, valscore_dict[list_fcns[3]], label = list_fcns[3].upper())\n",
    "#plt.legend(fontsize='xx-large')\n",
    "\n",
    "plt.xlabel('Tamaño de la capa cculta', fontsize = 15)\n",
    "plt.ylabel('Puntaje de validación', fontsize = 15)\n",
    "#plt.title('Puntaje de validación vs Puntaje de la capa oculta', fontsize = 20)\n",
    "\n",
    "# plt.xlabel('Hidden layer sizes', fontsize = 15)\n",
    "# plt.ylabel('Validation score', fontsize = 15)\n",
    "# plt.title('Validation score vs hidden layer sizes', fontsize = 20)\n",
    "\n",
    "#plt.tight_layout(h_pad=1.5)\n",
    "plt.show()\n"
   ]
  },
  {
   "cell_type": "code",
   "execution_count": 237,
   "metadata": {},
   "outputs": [
    {
     "name": "stderr",
     "output_type": "stream",
     "text": [
      "C:\\Users\\sofis\\Anaconda3\\lib\\site-packages\\sklearn\\neural_network\\multilayer_perceptron.py:564: ConvergenceWarning: Stochastic Optimizer: Maximum iterations (200) reached and the optimization hasn't converged yet.\n",
      "  % self.max_iter, ConvergenceWarning)\n"
     ]
    }
   ],
   "source": [
    "h_sizes = [(5, 10),  (5, 10, 20), (10, 20, 30), (20, 50, 100)]\n",
    "model2 = []\n",
    "for h in h_sizes:\n",
    "    model2.append(MLP_test(x_norm, y, x_test_norm, list_fcns, h, valid = True, verbose = False))"
   ]
  },
  {
   "cell_type": "code",
   "execution_count": 246,
   "metadata": {},
   "outputs": [],
   "source": [
    "times_dict2 = {}\n",
    "for fcn in list_fcns:\n",
    "    t = []\n",
    "    for i in range(len(h_sizes)):\n",
    "        t.append(model2[i][1][fcn]['Time [s]'])\n",
    "    times_dict2[fcn] = t\n",
    "acc_dict2 = {}\n",
    "for fcn in list_fcns:\n",
    "    a = []\n",
    "    for i in range(len(h_sizes)):\n",
    "        a.append(model2[i][1][fcn]['Accuracy [%]'])\n",
    "    acc_dict2[fcn] = a\n",
    "\n",
    "valscore_dict2 = {}\n",
    "for fcn in list_fcns:\n",
    "    a = []\n",
    "    for i in range(len(h_sizes)):\n",
    "        a.append(model2[i][1][fcn]['Validation score'])\n",
    "    valscore_dict2[fcn] = a\n",
    "\n",
    "trainscore_dict2 = {}\n",
    "for fcn in list_fcns:\n",
    "    a = []\n",
    "    for i in range(len(h_sizes)):\n",
    "        a.append(model2[i][1][fcn]['Train score'])\n",
    "    trainscore_dict2[fcn] = a    \n",
    "        "
   ]
  },
  {
   "cell_type": "code",
   "execution_count": 247,
   "metadata": {},
   "outputs": [
    {
     "data": {
      "image/png": "[encoded data removed]",
      "text/plain": [
       "<Figure size 1440x864 with 4 Axes>"
      ]
     },
     "metadata": {},
     "output_type": "display_data"
    }
   ],
   "source": [
    "h = [str(h) for h in h_sizes]\n",
    "fig = plt.figure(figsize = (20,12))\n",
    "\n",
    "plt.subplot(221)\n",
    "plt.plot(h, times_dict2[list_fcns[0]], label = list_fcns[0].upper())\n",
    "plt.plot(h, times_dict2[list_fcns[1]], label = list_fcns[1].upper())\n",
    "plt.plot(h, times_dict2[list_fcns[2]], label = list_fcns[2].upper())\n",
    "plt.plot(h, times_dict2[list_fcns[3]], label = list_fcns[3].upper())\n",
    "plt.legend(fontsize='xx-large')\n",
    "plt.xlabel('Hidden layer sizes', fontsize = 15)\n",
    "plt.ylabel('Time [s]', fontsize = 15)\n",
    "plt.title('Time vs hidden layer sizes', fontsize = 20)\n",
    "\n",
    "plt.subplot(222)\n",
    "plt.plot(h, acc_dict2[list_fcns[0]], label = list_fcns[0].upper())\n",
    "plt.plot(h, acc_dict2[list_fcns[1]], label = list_fcns[1].upper())\n",
    "plt.plot(h, acc_dict2[list_fcns[2]], label = list_fcns[2].upper())\n",
    "plt.plot(h, acc_dict2[list_fcns[3]], label = list_fcns[3].upper())\n",
    "plt.legend(fontsize='xx-large')\n",
    "plt.xlabel('Hidden layer sizes', fontsize = 15)\n",
    "plt.ylabel('Accuracy [%]', fontsize = 15)\n",
    "plt.title('Accuracy vs hidden layer sizes', fontsize = 20)\n",
    "\n",
    "plt.subplot(223)\n",
    "plt.plot(h, trainscore_dict2[list_fcns[0]], label = list_fcns[0].upper())\n",
    "plt.plot(h, trainscore_dict2[list_fcns[1]], label = list_fcns[1].upper())\n",
    "plt.plot(h, trainscore_dict2[list_fcns[2]], label = list_fcns[2].upper())\n",
    "plt.plot(h, trainscore_dict2[list_fcns[3]], label = list_fcns[3].upper())\n",
    "plt.legend(fontsize='xx-large')\n",
    "plt.xlabel('Hidden layer sizes', fontsize = 15)\n",
    "plt.ylabel('Train score', fontsize = 15)\n",
    "plt.title('Train score vs hidden layer sizes', fontsize = 20)\n",
    "\n",
    "plt.subplot(224)\n",
    "plt.plot(h, valscore_dict2[list_fcns[0]], label = list_fcns[0].upper())\n",
    "plt.plot(h, valscore_dict2[list_fcns[1]], label = list_fcns[1].upper())\n",
    "plt.plot(h, valscore_dict2[list_fcns[2]], label = list_fcns[2].upper())\n",
    "plt.plot(h, valscore_dict2[list_fcns[3]], label = list_fcns[3].upper())\n",
    "plt.legend(fontsize='xx-large')\n",
    "plt.xlabel('Hidden layer sizes', fontsize = 15)\n",
    "plt.ylabel('Validation score', fontsize = 15)\n",
    "plt.title('Validation score vs hidden layer sizes', fontsize = 20)\n",
    "plt.show()\n"
   ]
  },
  {
   "cell_type": "markdown",
   "metadata": {},
   "source": [
    "### How much trainig data is needed"
   ]
  },
  {
   "cell_type": "code",
   "execution_count": 197,
   "metadata": {},
   "outputs": [],
   "source": [
    "X_TRAIN = []  #traininig samples\n",
    "Y_TRAIN = []  #class labels\n",
    "x_norm = normalize(fv_train.data, axis = 1)\n",
    "for i in range(0,fv_train.data.shape[0],1620):\n",
    "    if(i+1620 <= fv_train.data.shape[0]):\n",
    "        X_TRAIN.append(x_norm.data[0:(i+1620),:])\n",
    "        Y_TRAIN.append(fv_train.axes[0][0:(i+1620)]) \n",
    "    else:\n",
    "        X_TRAIN.append(x_norm.data)\n",
    "        Y_TRAIN.append(fv_train.axes[0])\n",
    "        \n",
    "X_TRAIN = np.asarray(X_TRAIN)\n",
    "Y_TRAIN = np.asarray(Y_TRAIN)"
   ]
  },
  {
   "cell_type": "code",
   "execution_count": null,
   "metadata": {},
   "outputs": [],
   "source": []
  },
  {
   "cell_type": "code",
   "execution_count": 225,
   "metadata": {},
   "outputs": [],
   "source": [
    "scores = []\n",
    "\n",
    "for i in range(X_TRAIN.size):\n",
    "    pred, models = MLP_test(X_TRAIN[i], Y_TRAIN[i], x_test_norm, list_fcns,(50,), valid = True, verbose = False)\n",
    "    scores.append(models)\n",
    "    "
   ]
  },
  {
   "cell_type": "code",
   "execution_count": 226,
   "metadata": {},
   "outputs": [],
   "source": [
    "t = [round(X_TRAIN[i].shape[0]/1620 * 5) for i in range(X_TRAIN.size)]\n"
   ]
  },
  {
   "cell_type": "code",
   "execution_count": 227,
   "metadata": {},
   "outputs": [
    {
     "data": {
      "image/png": "[encoded data removed]",
      "text/plain": [
       "<Figure size 1440x432 with 2 Axes>"
      ]
     },
     "metadata": {},
     "output_type": "display_data"
    }
   ],
   "source": [
    "fig = plt.figure(figsize = (20,6))\n",
    "plt.subplot(122)\n",
    "plt.plot(t, acc_dict[list_fcns[0]], label = list_fcns[0].upper())\n",
    "plt.plot(t, acc_dict[list_fcns[1]], label = list_fcns[1].upper())\n",
    "plt.plot(t, acc_dict[list_fcns[2]], label = list_fcns[2].upper())\n",
    "plt.plot(t, acc_dict[list_fcns[3]], label = list_fcns[3].upper())\n",
    "plt.legend(fontsize='xx-large')\n",
    "plt.xlabel('Training time [min]', fontsize = 15)\n",
    "plt.ylabel('Accuracy [%]', fontsize = 15)\n",
    "\n",
    "plt.subplot(121)\n",
    "plt.plot(t, valscore_dict[list_fcns[0]], label = list_fcns[0].upper())\n",
    "plt.plot(t, valscore_dict[list_fcns[1]], label = list_fcns[1].upper())\n",
    "plt.plot(t, valscore_dict[list_fcns[2]], label = list_fcns[2].upper())\n",
    "plt.plot(t, valscore_dict[list_fcns[3]], label = list_fcns[3].upper())\n",
    "plt.legend(fontsize='xx-large')\n",
    "plt.xlabel('Training time [min]', fontsize = 15)\n",
    "plt.ylabel('Validation score', fontsize = 15)\n",
    "plt.show()\n"
   ]
  },
  {
   "cell_type": "code",
   "execution_count": 218,
   "metadata": {},
   "outputs": [],
   "source": [
    "\n",
    "times_dict = {}\n",
    "for fcn in list_fcns:\n",
    "    t = []\n",
    "    for i in range(len(scores)):\n",
    "        t.append(scores[i][fcn]['Time [s]'])\n",
    "    times_dict[fcn] = t\n",
    "acc_dict = {}\n",
    "for fcn in list_fcns:\n",
    "    a = []\n",
    "    for i in range(len(scores)):\n",
    "        a.append(scores[i][fcn]['Accuracy [%]'])\n",
    "    acc_dict[fcn] = a\n",
    "\n",
    "valscore_dict = {}\n",
    "for fcn in list_fcns:\n",
    "    a = []\n",
    "    for i in range(len(scores)):\n",
    "        a.append(scores[i][fcn]['Validation score'])\n",
    "    valscore_dict[fcn] = a\n",
    "\n",
    "trainscore_dict = {}\n",
    "for fcn in list_fcns:\n",
    "    a = []\n",
    "    for i in range(len(scores)):\n",
    "        a.append(scores[i][fcn]['Train score'])\n",
    "    trainscore_dict[fcn] = a  \n"
   ]
  },
  {
   "cell_type": "code",
   "execution_count": null,
   "metadata": {},
   "outputs": [],
   "source": []
  }
 ],
 "metadata": {
  "kernelspec": {
   "display_name": "Python 3",
   "language": "python",
   "name": "python3"
  },
  "language_info": {
   "codemirror_mode": {
    "name": "ipython",
    "version": 3
   },
   "file_extension": ".py",
   "mimetype": "text/x-python",
   "name": "python",
   "nbconvert_exporter": "python",
   "pygments_lexer": "ipython3",
   "version": "3.6.5"
  }
 },
 "nbformat": 4,
 "nbformat_minor": 2
}
